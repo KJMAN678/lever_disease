{
 "cells": [
  {
   "cell_type": "code",
   "execution_count": 1,
   "metadata": {},
   "outputs": [],
   "source": [
    "import pandas as pd\n",
    "import os\n",
    "import gc\n",
    "import numpy as np\n",
    "import matplotlib.pyplot as plt\n",
    "import seaborn as sns\n",
    "\n",
    "from sklearn import preprocessing\n",
    "\n",
    "from sklearn.model_selection import train_test_split\n",
    "\n",
    "import optuna.integration.lightgbm as lgb\n",
    "\n",
    "from IPython.display import display\n",
    "\n",
    "# 正解率\n",
    "from sklearn.metrics import accuracy_score\n",
    "\n",
    "# 適合率\n",
    "from sklearn.metrics import precision_score\n",
    "\n",
    "# 再現率\n",
    "from sklearn.metrics import recall_score\n",
    "\n",
    "# f1_score\n",
    "from sklearn.metrics import f1_score\n",
    "\n",
    "import warnings\n",
    "warnings.filterwarnings('ignore')\n",
    "\n",
    "# DataFrameの表示数を変更\n",
    "pd.set_option('max_columns', 500)\n",
    "pd.set_option('max_rows', 500)\n",
    "\n",
    "from sklearn.decomposition import PCA"
   ]
  },
  {
   "cell_type": "code",
   "execution_count": 2,
   "metadata": {},
   "outputs": [],
   "source": [
    "train = pd.read_csv('train.csv')\n",
    "test = pd.read_csv('test.csv')"
   ]
  },
  {
   "cell_type": "code",
   "execution_count": 3,
   "metadata": {},
   "outputs": [
    {
     "data": {
      "text/html": [
       "<div>\n",
       "<style scoped>\n",
       "    .dataframe tbody tr th:only-of-type {\n",
       "        vertical-align: middle;\n",
       "    }\n",
       "\n",
       "    .dataframe tbody tr th {\n",
       "        vertical-align: top;\n",
       "    }\n",
       "\n",
       "    .dataframe thead th {\n",
       "        text-align: right;\n",
       "    }\n",
       "</style>\n",
       "<table border=\"1\" class=\"dataframe\">\n",
       "  <thead>\n",
       "    <tr style=\"text-align: right;\">\n",
       "      <th></th>\n",
       "      <th>Age</th>\n",
       "      <th>Gender</th>\n",
       "      <th>T_Bil</th>\n",
       "      <th>D_Bil</th>\n",
       "      <th>ALP</th>\n",
       "      <th>ALT_GPT</th>\n",
       "      <th>AST_GOT</th>\n",
       "      <th>TP</th>\n",
       "      <th>Alb</th>\n",
       "      <th>AG_ratio</th>\n",
       "      <th>disease</th>\n",
       "    </tr>\n",
       "  </thead>\n",
       "  <tbody>\n",
       "    <tr>\n",
       "      <th>0</th>\n",
       "      <td>59</td>\n",
       "      <td>Male</td>\n",
       "      <td>0.786886</td>\n",
       "      <td>0.150498</td>\n",
       "      <td>220.178691</td>\n",
       "      <td>13.467617</td>\n",
       "      <td>21.729246</td>\n",
       "      <td>6.815731</td>\n",
       "      <td>3.112276</td>\n",
       "      <td>1.006802</td>\n",
       "      <td>0</td>\n",
       "    </tr>\n",
       "    <tr>\n",
       "      <th>1</th>\n",
       "      <td>69</td>\n",
       "      <td>Male</td>\n",
       "      <td>1.003987</td>\n",
       "      <td>0.195625</td>\n",
       "      <td>221.218413</td>\n",
       "      <td>51.033462</td>\n",
       "      <td>64.752323</td>\n",
       "      <td>6.889608</td>\n",
       "      <td>3.051521</td>\n",
       "      <td>0.751346</td>\n",
       "      <td>1</td>\n",
       "    </tr>\n",
       "    <tr>\n",
       "      <th>2</th>\n",
       "      <td>65</td>\n",
       "      <td>Male</td>\n",
       "      <td>0.657140</td>\n",
       "      <td>0.081287</td>\n",
       "      <td>320.770533</td>\n",
       "      <td>12.625011</td>\n",
       "      <td>30.613180</td>\n",
       "      <td>5.947767</td>\n",
       "      <td>2.489167</td>\n",
       "      <td>0.774952</td>\n",
       "      <td>0</td>\n",
       "    </tr>\n",
       "  </tbody>\n",
       "</table>\n",
       "</div>"
      ],
      "text/plain": [
       "   Age Gender     T_Bil     D_Bil         ALP    ALT_GPT    AST_GOT        TP  \\\n",
       "0   59   Male  0.786886  0.150498  220.178691  13.467617  21.729246  6.815731   \n",
       "1   69   Male  1.003987  0.195625  221.218413  51.033462  64.752323  6.889608   \n",
       "2   65   Male  0.657140  0.081287  320.770533  12.625011  30.613180  5.947767   \n",
       "\n",
       "        Alb  AG_ratio  disease  \n",
       "0  3.112276  1.006802        0  \n",
       "1  3.051521  0.751346        1  \n",
       "2  2.489167  0.774952        0  "
      ]
     },
     "metadata": {},
     "output_type": "display_data"
    },
    {
     "data": {
      "text/html": [
       "<div>\n",
       "<style scoped>\n",
       "    .dataframe tbody tr th:only-of-type {\n",
       "        vertical-align: middle;\n",
       "    }\n",
       "\n",
       "    .dataframe tbody tr th {\n",
       "        vertical-align: top;\n",
       "    }\n",
       "\n",
       "    .dataframe thead th {\n",
       "        text-align: right;\n",
       "    }\n",
       "</style>\n",
       "<table border=\"1\" class=\"dataframe\">\n",
       "  <thead>\n",
       "    <tr style=\"text-align: right;\">\n",
       "      <th></th>\n",
       "      <th>Age</th>\n",
       "      <th>Gender</th>\n",
       "      <th>T_Bil</th>\n",
       "      <th>D_Bil</th>\n",
       "      <th>ALP</th>\n",
       "      <th>ALT_GPT</th>\n",
       "      <th>AST_GOT</th>\n",
       "      <th>TP</th>\n",
       "      <th>Alb</th>\n",
       "      <th>AG_ratio</th>\n",
       "      <th>disease</th>\n",
       "    </tr>\n",
       "  </thead>\n",
       "  <tbody>\n",
       "    <tr>\n",
       "      <th>847</th>\n",
       "      <td>50</td>\n",
       "      <td>Male</td>\n",
       "      <td>0.826785</td>\n",
       "      <td>0.138898</td>\n",
       "      <td>230.340081</td>\n",
       "      <td>40.495102</td>\n",
       "      <td>49.620857</td>\n",
       "      <td>7.529840</td>\n",
       "      <td>3.724408</td>\n",
       "      <td>0.987033</td>\n",
       "      <td>1</td>\n",
       "    </tr>\n",
       "    <tr>\n",
       "      <th>848</th>\n",
       "      <td>32</td>\n",
       "      <td>Female</td>\n",
       "      <td>0.761972</td>\n",
       "      <td>0.137969</td>\n",
       "      <td>214.170393</td>\n",
       "      <td>18.048321</td>\n",
       "      <td>54.447774</td>\n",
       "      <td>5.944855</td>\n",
       "      <td>3.150978</td>\n",
       "      <td>1.220787</td>\n",
       "      <td>0</td>\n",
       "    </tr>\n",
       "    <tr>\n",
       "      <th>849</th>\n",
       "      <td>64</td>\n",
       "      <td>Male</td>\n",
       "      <td>0.762713</td>\n",
       "      <td>0.218435</td>\n",
       "      <td>214.720510</td>\n",
       "      <td>15.885571</td>\n",
       "      <td>24.789606</td>\n",
       "      <td>6.768439</td>\n",
       "      <td>3.686097</td>\n",
       "      <td>1.309895</td>\n",
       "      <td>0</td>\n",
       "    </tr>\n",
       "  </tbody>\n",
       "</table>\n",
       "</div>"
      ],
      "text/plain": [
       "     Age  Gender     T_Bil     D_Bil         ALP    ALT_GPT    AST_GOT  \\\n",
       "847   50    Male  0.826785  0.138898  230.340081  40.495102  49.620857   \n",
       "848   32  Female  0.761972  0.137969  214.170393  18.048321  54.447774   \n",
       "849   64    Male  0.762713  0.218435  214.720510  15.885571  24.789606   \n",
       "\n",
       "           TP       Alb  AG_ratio  disease  \n",
       "847  7.529840  3.724408  0.987033        1  \n",
       "848  5.944855  3.150978  1.220787        0  \n",
       "849  6.768439  3.686097  1.309895        0  "
      ]
     },
     "metadata": {},
     "output_type": "display_data"
    },
    {
     "data": {
      "text/plain": [
       "(850, 11)"
      ]
     },
     "metadata": {},
     "output_type": "display_data"
    },
    {
     "data": {
      "text/plain": [
       "Age           int64\n",
       "Gender       object\n",
       "T_Bil       float64\n",
       "D_Bil       float64\n",
       "ALP         float64\n",
       "ALT_GPT     float64\n",
       "AST_GOT     float64\n",
       "TP          float64\n",
       "Alb         float64\n",
       "AG_ratio    float64\n",
       "disease       int64\n",
       "dtype: object"
      ]
     },
     "metadata": {},
     "output_type": "display_data"
    }
   ],
   "source": [
    "display(train.head(3))\n",
    "display(train.tail(3))\n",
    "display(train.shape)\n",
    "display(train.dtypes)"
   ]
  },
  {
   "cell_type": "code",
   "execution_count": 4,
   "metadata": {},
   "outputs": [
    {
     "data": {
      "text/html": [
       "<div>\n",
       "<style scoped>\n",
       "    .dataframe tbody tr th:only-of-type {\n",
       "        vertical-align: middle;\n",
       "    }\n",
       "\n",
       "    .dataframe tbody tr th {\n",
       "        vertical-align: top;\n",
       "    }\n",
       "\n",
       "    .dataframe thead th {\n",
       "        text-align: right;\n",
       "    }\n",
       "</style>\n",
       "<table border=\"1\" class=\"dataframe\">\n",
       "  <thead>\n",
       "    <tr style=\"text-align: right;\">\n",
       "      <th></th>\n",
       "      <th>Age</th>\n",
       "      <th>Gender</th>\n",
       "      <th>T_Bil</th>\n",
       "      <th>D_Bil</th>\n",
       "      <th>ALP</th>\n",
       "      <th>ALT_GPT</th>\n",
       "      <th>AST_GOT</th>\n",
       "      <th>TP</th>\n",
       "      <th>Alb</th>\n",
       "      <th>AG_ratio</th>\n",
       "    </tr>\n",
       "  </thead>\n",
       "  <tbody>\n",
       "    <tr>\n",
       "      <th>0</th>\n",
       "      <td>25</td>\n",
       "      <td>Male</td>\n",
       "      <td>0.801797</td>\n",
       "      <td>0.186800</td>\n",
       "      <td>214.448679</td>\n",
       "      <td>15.260516</td>\n",
       "      <td>19.496649</td>\n",
       "      <td>6.817903</td>\n",
       "      <td>3.600752</td>\n",
       "      <td>1.288006</td>\n",
       "    </tr>\n",
       "    <tr>\n",
       "      <th>1</th>\n",
       "      <td>26</td>\n",
       "      <td>Female</td>\n",
       "      <td>0.834857</td>\n",
       "      <td>0.116426</td>\n",
       "      <td>234.136816</td>\n",
       "      <td>10.509159</td>\n",
       "      <td>16.733312</td>\n",
       "      <td>6.795433</td>\n",
       "      <td>3.111043</td>\n",
       "      <td>1.030562</td>\n",
       "    </tr>\n",
       "    <tr>\n",
       "      <th>2</th>\n",
       "      <td>64</td>\n",
       "      <td>Male</td>\n",
       "      <td>0.791830</td>\n",
       "      <td>0.197940</td>\n",
       "      <td>216.039909</td>\n",
       "      <td>14.578304</td>\n",
       "      <td>20.695866</td>\n",
       "      <td>7.524030</td>\n",
       "      <td>3.627621</td>\n",
       "      <td>1.278579</td>\n",
       "    </tr>\n",
       "  </tbody>\n",
       "</table>\n",
       "</div>"
      ],
      "text/plain": [
       "   Age  Gender     T_Bil     D_Bil         ALP    ALT_GPT    AST_GOT  \\\n",
       "0   25    Male  0.801797  0.186800  214.448679  15.260516  19.496649   \n",
       "1   26  Female  0.834857  0.116426  234.136816  10.509159  16.733312   \n",
       "2   64    Male  0.791830  0.197940  216.039909  14.578304  20.695866   \n",
       "\n",
       "         TP       Alb  AG_ratio  \n",
       "0  6.817903  3.600752  1.288006  \n",
       "1  6.795433  3.111043  1.030562  \n",
       "2  7.524030  3.627621  1.278579  "
      ]
     },
     "metadata": {},
     "output_type": "display_data"
    },
    {
     "data": {
      "text/html": [
       "<div>\n",
       "<style scoped>\n",
       "    .dataframe tbody tr th:only-of-type {\n",
       "        vertical-align: middle;\n",
       "    }\n",
       "\n",
       "    .dataframe tbody tr th {\n",
       "        vertical-align: top;\n",
       "    }\n",
       "\n",
       "    .dataframe thead th {\n",
       "        text-align: right;\n",
       "    }\n",
       "</style>\n",
       "<table border=\"1\" class=\"dataframe\">\n",
       "  <thead>\n",
       "    <tr style=\"text-align: right;\">\n",
       "      <th></th>\n",
       "      <th>Age</th>\n",
       "      <th>Gender</th>\n",
       "      <th>T_Bil</th>\n",
       "      <th>D_Bil</th>\n",
       "      <th>ALP</th>\n",
       "      <th>ALT_GPT</th>\n",
       "      <th>AST_GOT</th>\n",
       "      <th>TP</th>\n",
       "      <th>Alb</th>\n",
       "      <th>AG_ratio</th>\n",
       "    </tr>\n",
       "  </thead>\n",
       "  <tbody>\n",
       "    <tr>\n",
       "      <th>347</th>\n",
       "      <td>25</td>\n",
       "      <td>Male</td>\n",
       "      <td>0.787054</td>\n",
       "      <td>0.186129</td>\n",
       "      <td>214.167523</td>\n",
       "      <td>14.936585</td>\n",
       "      <td>20.589993</td>\n",
       "      <td>7.505128</td>\n",
       "      <td>3.619033</td>\n",
       "      <td>1.287256</td>\n",
       "    </tr>\n",
       "    <tr>\n",
       "      <th>348</th>\n",
       "      <td>64</td>\n",
       "      <td>Male</td>\n",
       "      <td>0.725194</td>\n",
       "      <td>0.191307</td>\n",
       "      <td>220.272862</td>\n",
       "      <td>17.532595</td>\n",
       "      <td>48.115014</td>\n",
       "      <td>7.559414</td>\n",
       "      <td>3.635871</td>\n",
       "      <td>1.263348</td>\n",
       "    </tr>\n",
       "    <tr>\n",
       "      <th>349</th>\n",
       "      <td>57</td>\n",
       "      <td>Male</td>\n",
       "      <td>0.869632</td>\n",
       "      <td>0.236444</td>\n",
       "      <td>367.364415</td>\n",
       "      <td>23.534291</td>\n",
       "      <td>48.729618</td>\n",
       "      <td>7.537565</td>\n",
       "      <td>3.629533</td>\n",
       "      <td>1.285716</td>\n",
       "    </tr>\n",
       "  </tbody>\n",
       "</table>\n",
       "</div>"
      ],
      "text/plain": [
       "     Age Gender     T_Bil     D_Bil         ALP    ALT_GPT    AST_GOT  \\\n",
       "347   25   Male  0.787054  0.186129  214.167523  14.936585  20.589993   \n",
       "348   64   Male  0.725194  0.191307  220.272862  17.532595  48.115014   \n",
       "349   57   Male  0.869632  0.236444  367.364415  23.534291  48.729618   \n",
       "\n",
       "           TP       Alb  AG_ratio  \n",
       "347  7.505128  3.619033  1.287256  \n",
       "348  7.559414  3.635871  1.263348  \n",
       "349  7.537565  3.629533  1.285716  "
      ]
     },
     "metadata": {},
     "output_type": "display_data"
    },
    {
     "data": {
      "text/plain": [
       "(350, 10)"
      ]
     },
     "metadata": {},
     "output_type": "display_data"
    },
    {
     "data": {
      "text/plain": [
       "Age           int64\n",
       "Gender       object\n",
       "T_Bil       float64\n",
       "D_Bil       float64\n",
       "ALP         float64\n",
       "ALT_GPT     float64\n",
       "AST_GOT     float64\n",
       "TP          float64\n",
       "Alb         float64\n",
       "AG_ratio    float64\n",
       "dtype: object"
      ]
     },
     "metadata": {},
     "output_type": "display_data"
    }
   ],
   "source": [
    "display(test.head(3))\n",
    "display(test.tail(3))\n",
    "display(test.shape)\n",
    "display(test.dtypes)"
   ]
  },
  {
   "cell_type": "markdown",
   "metadata": {},
   "source": [
    "0\tid\tint\tインデックスとして使用  \n",
    "1\tAge\tint\t年齢  \n",
    "2\tGender\tchar\t性別  \n",
    "3\tT_Bil\tfloat\t検査項目1： 総ビリルビン (Total Bilirubin)  \n",
    "4\tD_Bil\tfloat\t検査項目2： 直接ビリルビン (Direct Bilirubin)  \n",
    "5\tALP\tfloat\t検査項目3： アルカリフォスファター ゼ (Alkaline Phosphotase)  \n",
    "6\tALT_GPT\tfloat\t検査項目4： アラニンアミノトランスフェラーゼ (Alanine Transaminase)  \n",
    "7\tAST_GOT\tfloat\t検査項目5： アスパラギン酸アミノトランスフェラーゼ (Aspartate Aminotransferase)  \n",
    "8\tTP\tfloat\t検査項目6： 総タンパク (Total Protiens)  \n",
    "9\tAlb\tfloat\t検査項目7： アルブミン (Albumin)  \n",
    "10\tAG_ratio\tfloat\t検査項目8： アルブミン/グロブリン比  \n",
    "11\tdisease\tint\t肝疾患の有無（0:無, 1:有）  "
   ]
  },
  {
   "cell_type": "code",
   "execution_count": 5,
   "metadata": {},
   "outputs": [
    {
     "data": {
      "text/html": [
       "<div>\n",
       "<style scoped>\n",
       "    .dataframe tbody tr th:only-of-type {\n",
       "        vertical-align: middle;\n",
       "    }\n",
       "\n",
       "    .dataframe tbody tr th {\n",
       "        vertical-align: top;\n",
       "    }\n",
       "\n",
       "    .dataframe thead th {\n",
       "        text-align: right;\n",
       "    }\n",
       "</style>\n",
       "<table border=\"1\" class=\"dataframe\">\n",
       "  <thead>\n",
       "    <tr style=\"text-align: right;\">\n",
       "      <th></th>\n",
       "      <th>Age</th>\n",
       "      <th>T_Bil</th>\n",
       "      <th>D_Bil</th>\n",
       "      <th>ALP</th>\n",
       "      <th>ALT_GPT</th>\n",
       "      <th>AST_GOT</th>\n",
       "      <th>TP</th>\n",
       "      <th>Alb</th>\n",
       "      <th>AG_ratio</th>\n",
       "      <th>disease</th>\n",
       "    </tr>\n",
       "  </thead>\n",
       "  <tbody>\n",
       "    <tr>\n",
       "      <th>Age</th>\n",
       "      <td>1.000000</td>\n",
       "      <td>-0.001248</td>\n",
       "      <td>-0.014136</td>\n",
       "      <td>-0.023907</td>\n",
       "      <td>-0.037906</td>\n",
       "      <td>-0.008589</td>\n",
       "      <td>-0.037754</td>\n",
       "      <td>-0.087120</td>\n",
       "      <td>-0.033220</td>\n",
       "      <td>0.024216</td>\n",
       "    </tr>\n",
       "    <tr>\n",
       "      <th>T_Bil</th>\n",
       "      <td>-0.001248</td>\n",
       "      <td>1.000000</td>\n",
       "      <td>0.753227</td>\n",
       "      <td>0.148064</td>\n",
       "      <td>0.219784</td>\n",
       "      <td>0.248709</td>\n",
       "      <td>-0.060230</td>\n",
       "      <td>-0.162017</td>\n",
       "      <td>-0.206122</td>\n",
       "      <td>0.357653</td>\n",
       "    </tr>\n",
       "    <tr>\n",
       "      <th>D_Bil</th>\n",
       "      <td>-0.014136</td>\n",
       "      <td>0.753227</td>\n",
       "      <td>1.000000</td>\n",
       "      <td>0.091924</td>\n",
       "      <td>0.184403</td>\n",
       "      <td>0.201485</td>\n",
       "      <td>0.017750</td>\n",
       "      <td>-0.089132</td>\n",
       "      <td>-0.121481</td>\n",
       "      <td>0.282316</td>\n",
       "    </tr>\n",
       "    <tr>\n",
       "      <th>ALP</th>\n",
       "      <td>-0.023907</td>\n",
       "      <td>0.148064</td>\n",
       "      <td>0.091924</td>\n",
       "      <td>1.000000</td>\n",
       "      <td>-0.021187</td>\n",
       "      <td>0.019047</td>\n",
       "      <td>0.025728</td>\n",
       "      <td>-0.023041</td>\n",
       "      <td>-0.159614</td>\n",
       "      <td>0.211950</td>\n",
       "    </tr>\n",
       "    <tr>\n",
       "      <th>ALT_GPT</th>\n",
       "      <td>-0.037906</td>\n",
       "      <td>0.219784</td>\n",
       "      <td>0.184403</td>\n",
       "      <td>-0.021187</td>\n",
       "      <td>1.000000</td>\n",
       "      <td>0.655518</td>\n",
       "      <td>-0.100572</td>\n",
       "      <td>-0.087652</td>\n",
       "      <td>0.005806</td>\n",
       "      <td>0.199239</td>\n",
       "    </tr>\n",
       "    <tr>\n",
       "      <th>AST_GOT</th>\n",
       "      <td>-0.008589</td>\n",
       "      <td>0.248709</td>\n",
       "      <td>0.201485</td>\n",
       "      <td>0.019047</td>\n",
       "      <td>0.655518</td>\n",
       "      <td>1.000000</td>\n",
       "      <td>-0.071592</td>\n",
       "      <td>-0.086669</td>\n",
       "      <td>-0.022277</td>\n",
       "      <td>0.316456</td>\n",
       "    </tr>\n",
       "    <tr>\n",
       "      <th>TP</th>\n",
       "      <td>-0.037754</td>\n",
       "      <td>-0.060230</td>\n",
       "      <td>0.017750</td>\n",
       "      <td>0.025728</td>\n",
       "      <td>-0.100572</td>\n",
       "      <td>-0.071592</td>\n",
       "      <td>1.000000</td>\n",
       "      <td>0.727319</td>\n",
       "      <td>0.270246</td>\n",
       "      <td>-0.073766</td>\n",
       "    </tr>\n",
       "    <tr>\n",
       "      <th>Alb</th>\n",
       "      <td>-0.087120</td>\n",
       "      <td>-0.162017</td>\n",
       "      <td>-0.089132</td>\n",
       "      <td>-0.023041</td>\n",
       "      <td>-0.087652</td>\n",
       "      <td>-0.086669</td>\n",
       "      <td>0.727319</td>\n",
       "      <td>1.000000</td>\n",
       "      <td>0.607400</td>\n",
       "      <td>-0.176602</td>\n",
       "    </tr>\n",
       "    <tr>\n",
       "      <th>AG_ratio</th>\n",
       "      <td>-0.033220</td>\n",
       "      <td>-0.206122</td>\n",
       "      <td>-0.121481</td>\n",
       "      <td>-0.159614</td>\n",
       "      <td>0.005806</td>\n",
       "      <td>-0.022277</td>\n",
       "      <td>0.270246</td>\n",
       "      <td>0.607400</td>\n",
       "      <td>1.000000</td>\n",
       "      <td>-0.307895</td>\n",
       "    </tr>\n",
       "    <tr>\n",
       "      <th>disease</th>\n",
       "      <td>0.024216</td>\n",
       "      <td>0.357653</td>\n",
       "      <td>0.282316</td>\n",
       "      <td>0.211950</td>\n",
       "      <td>0.199239</td>\n",
       "      <td>0.316456</td>\n",
       "      <td>-0.073766</td>\n",
       "      <td>-0.176602</td>\n",
       "      <td>-0.307895</td>\n",
       "      <td>1.000000</td>\n",
       "    </tr>\n",
       "  </tbody>\n",
       "</table>\n",
       "</div>"
      ],
      "text/plain": [
       "               Age     T_Bil     D_Bil       ALP   ALT_GPT   AST_GOT  \\\n",
       "Age       1.000000 -0.001248 -0.014136 -0.023907 -0.037906 -0.008589   \n",
       "T_Bil    -0.001248  1.000000  0.753227  0.148064  0.219784  0.248709   \n",
       "D_Bil    -0.014136  0.753227  1.000000  0.091924  0.184403  0.201485   \n",
       "ALP      -0.023907  0.148064  0.091924  1.000000 -0.021187  0.019047   \n",
       "ALT_GPT  -0.037906  0.219784  0.184403 -0.021187  1.000000  0.655518   \n",
       "AST_GOT  -0.008589  0.248709  0.201485  0.019047  0.655518  1.000000   \n",
       "TP       -0.037754 -0.060230  0.017750  0.025728 -0.100572 -0.071592   \n",
       "Alb      -0.087120 -0.162017 -0.089132 -0.023041 -0.087652 -0.086669   \n",
       "AG_ratio -0.033220 -0.206122 -0.121481 -0.159614  0.005806 -0.022277   \n",
       "disease   0.024216  0.357653  0.282316  0.211950  0.199239  0.316456   \n",
       "\n",
       "                TP       Alb  AG_ratio   disease  \n",
       "Age      -0.037754 -0.087120 -0.033220  0.024216  \n",
       "T_Bil    -0.060230 -0.162017 -0.206122  0.357653  \n",
       "D_Bil     0.017750 -0.089132 -0.121481  0.282316  \n",
       "ALP       0.025728 -0.023041 -0.159614  0.211950  \n",
       "ALT_GPT  -0.100572 -0.087652  0.005806  0.199239  \n",
       "AST_GOT  -0.071592 -0.086669 -0.022277  0.316456  \n",
       "TP        1.000000  0.727319  0.270246 -0.073766  \n",
       "Alb       0.727319  1.000000  0.607400 -0.176602  \n",
       "AG_ratio  0.270246  0.607400  1.000000 -0.307895  \n",
       "disease  -0.073766 -0.176602 -0.307895  1.000000  "
      ]
     },
     "execution_count": 5,
     "metadata": {},
     "output_type": "execute_result"
    }
   ],
   "source": [
    "# 相関係数\n",
    "train.corr()"
   ]
  },
  {
   "cell_type": "code",
   "execution_count": 6,
   "metadata": {},
   "outputs": [
    {
     "data": {
      "text/plain": [
       "<AxesSubplot:>"
      ]
     },
     "execution_count": 6,
     "metadata": {},
     "output_type": "execute_result"
    },
    {
     "data": {
      "image/png": "[encoded data removed]",
      "text/plain": [
       "<Figure size 432x288 with 2 Axes>"
      ]
     },
     "metadata": {
      "needs_background": "light"
     },
     "output_type": "display_data"
    }
   ],
   "source": [
    "sns.heatmap(train.corr())"
   ]
  },
  {
   "cell_type": "code",
   "execution_count": 7,
   "metadata": {},
   "outputs": [
    {
     "data": {
      "image/png": "[encoded data removed]",
      "text/plain": [
       "<Figure size 432x288 with 1 Axes>"
      ]
     },
     "metadata": {
      "needs_background": "light"
     },
     "output_type": "display_data"
    }
   ],
   "source": [
    "train['Age'].hist()\n",
    "plt.show()"
   ]
  },
  {
   "cell_type": "code",
   "execution_count": 8,
   "metadata": {},
   "outputs": [
    {
     "data": {
      "image/png": "[encoded data removed]",
      "text/plain": [
       "<Figure size 432x288 with 2 Axes>"
      ]
     },
     "metadata": {
      "needs_background": "light"
     },
     "output_type": "display_data"
    }
   ],
   "source": [
    "train['Age'].hist(by=train['disease'])\n",
    "plt.show()"
   ]
  },
  {
   "cell_type": "code",
   "execution_count": 9,
   "metadata": {},
   "outputs": [
    {
     "ename": "ValueError",
     "evalue": "Bin labels must be one fewer than the number of bin edges",
     "output_type": "error",
     "traceback": [
      "\u001b[1;31m---------------------------------------------------------------------------\u001b[0m",
      "\u001b[1;31mValueError\u001b[0m                                Traceback (most recent call last)",
      "\u001b[1;32m<ipython-input-9-932bf67b04b2>\u001b[0m in \u001b[0;36m<module>\u001b[1;34m\u001b[0m\n\u001b[0;32m      1\u001b[0m \u001b[0mtrain\u001b[0m\u001b[1;33m[\u001b[0m\u001b[1;34m\"Age_cls\"\u001b[0m\u001b[1;33m]\u001b[0m \u001b[1;33m=\u001b[0m \u001b[0mpd\u001b[0m\u001b[1;33m.\u001b[0m\u001b[0mcut\u001b[0m\u001b[1;33m(\u001b[0m\u001b[0mtrain\u001b[0m\u001b[1;33m[\u001b[0m\u001b[1;34m'Age'\u001b[0m\u001b[1;33m]\u001b[0m\u001b[1;33m,\u001b[0m \u001b[1;33m[\u001b[0m\u001b[1;36m0\u001b[0m\u001b[1;33m,\u001b[0m \u001b[1;36m30\u001b[0m\u001b[1;33m,\u001b[0m \u001b[1;36m45\u001b[0m\u001b[1;33m,\u001b[0m \u001b[1;36m60\u001b[0m\u001b[1;33m,\u001b[0m \u001b[1;36m100\u001b[0m\u001b[1;33m]\u001b[0m\u001b[1;33m,\u001b[0m \u001b[0mlabels\u001b[0m\u001b[1;33m=\u001b[0m\u001b[1;33m[\u001b[0m\u001b[1;34m'0_30'\u001b[0m\u001b[1;33m,\u001b[0m \u001b[1;34m'30_45'\u001b[0m\u001b[1;33m,\u001b[0m \u001b[1;34m'45_60'\u001b[0m\u001b[1;33m,\u001b[0m \u001b[1;34m'60_100'\u001b[0m\u001b[1;33m]\u001b[0m\u001b[1;33m)\u001b[0m\u001b[1;33m\u001b[0m\u001b[1;33m\u001b[0m\u001b[0m\n\u001b[1;32m----> 2\u001b[1;33m \u001b[0mtest\u001b[0m\u001b[1;33m[\u001b[0m\u001b[1;34m\"Age_cls\"\u001b[0m\u001b[1;33m]\u001b[0m \u001b[1;33m=\u001b[0m \u001b[0mpd\u001b[0m\u001b[1;33m.\u001b[0m\u001b[0mcut\u001b[0m\u001b[1;33m(\u001b[0m\u001b[0mtest\u001b[0m\u001b[1;33m[\u001b[0m\u001b[1;34m'Age'\u001b[0m\u001b[1;33m]\u001b[0m\u001b[1;33m,\u001b[0m \u001b[1;33m[\u001b[0m\u001b[1;36m0\u001b[0m\u001b[1;33m,\u001b[0m \u001b[1;36m40\u001b[0m\u001b[1;33m,\u001b[0m \u001b[1;36m60\u001b[0m\u001b[1;33m,\u001b[0m \u001b[1;36m100\u001b[0m\u001b[1;33m]\u001b[0m\u001b[1;33m,\u001b[0m \u001b[0mlabels\u001b[0m\u001b[1;33m=\u001b[0m\u001b[1;33m[\u001b[0m\u001b[1;34m'0_30'\u001b[0m\u001b[1;33m,\u001b[0m \u001b[1;34m'30_45'\u001b[0m\u001b[1;33m,\u001b[0m \u001b[1;34m'45_60'\u001b[0m\u001b[1;33m,\u001b[0m \u001b[1;34m'60_100'\u001b[0m\u001b[1;33m]\u001b[0m\u001b[1;33m)\u001b[0m\u001b[1;33m\u001b[0m\u001b[1;33m\u001b[0m\u001b[0m\n\u001b[0m",
      "\u001b[1;32m~\\anaconda3\\envs\\Pip ML\\lib\\site-packages\\pandas\\core\\reshape\\tile.py\u001b[0m in \u001b[0;36mcut\u001b[1;34m(x, bins, right, labels, retbins, precision, include_lowest, duplicates, ordered)\u001b[0m\n\u001b[0;32m    282\u001b[0m         \u001b[0mdtype\u001b[0m\u001b[1;33m=\u001b[0m\u001b[0mdtype\u001b[0m\u001b[1;33m,\u001b[0m\u001b[1;33m\u001b[0m\u001b[1;33m\u001b[0m\u001b[0m\n\u001b[0;32m    283\u001b[0m         \u001b[0mduplicates\u001b[0m\u001b[1;33m=\u001b[0m\u001b[0mduplicates\u001b[0m\u001b[1;33m,\u001b[0m\u001b[1;33m\u001b[0m\u001b[1;33m\u001b[0m\u001b[0m\n\u001b[1;32m--> 284\u001b[1;33m         \u001b[0mordered\u001b[0m\u001b[1;33m=\u001b[0m\u001b[0mordered\u001b[0m\u001b[1;33m,\u001b[0m\u001b[1;33m\u001b[0m\u001b[1;33m\u001b[0m\u001b[0m\n\u001b[0m\u001b[0;32m    285\u001b[0m     )\n\u001b[0;32m    286\u001b[0m \u001b[1;33m\u001b[0m\u001b[0m\n",
      "\u001b[1;32m~\\anaconda3\\envs\\Pip ML\\lib\\site-packages\\pandas\\core\\reshape\\tile.py\u001b[0m in \u001b[0;36m_bins_to_cuts\u001b[1;34m(x, bins, right, labels, precision, include_lowest, dtype, duplicates, ordered)\u001b[0m\n\u001b[0;32m    433\u001b[0m             \u001b[1;32mif\u001b[0m \u001b[0mlen\u001b[0m\u001b[1;33m(\u001b[0m\u001b[0mlabels\u001b[0m\u001b[1;33m)\u001b[0m \u001b[1;33m!=\u001b[0m \u001b[0mlen\u001b[0m\u001b[1;33m(\u001b[0m\u001b[0mbins\u001b[0m\u001b[1;33m)\u001b[0m \u001b[1;33m-\u001b[0m \u001b[1;36m1\u001b[0m\u001b[1;33m:\u001b[0m\u001b[1;33m\u001b[0m\u001b[1;33m\u001b[0m\u001b[0m\n\u001b[0;32m    434\u001b[0m                 raise ValueError(\n\u001b[1;32m--> 435\u001b[1;33m                     \u001b[1;34m\"Bin labels must be one fewer than the number of bin edges\"\u001b[0m\u001b[1;33m\u001b[0m\u001b[1;33m\u001b[0m\u001b[0m\n\u001b[0m\u001b[0;32m    436\u001b[0m                 )\n\u001b[0;32m    437\u001b[0m         \u001b[1;32mif\u001b[0m \u001b[1;32mnot\u001b[0m \u001b[0mis_categorical_dtype\u001b[0m\u001b[1;33m(\u001b[0m\u001b[0mlabels\u001b[0m\u001b[1;33m)\u001b[0m\u001b[1;33m:\u001b[0m\u001b[1;33m\u001b[0m\u001b[1;33m\u001b[0m\u001b[0m\n",
      "\u001b[1;31mValueError\u001b[0m: Bin labels must be one fewer than the number of bin edges"
     ]
    }
   ],
   "source": [
    "train[\"Age_cls\"] = pd.cut(train['Age'], [0, 30, 45, 60, 100], labels=['0_30', '30_45', '45_60', '60_100'])\n",
    "test[\"Age_cls\"] = pd.cut(test['Age'], [0, 30, 45, 60, 100], labels=['0_30', '30_45', '45_60', '60_100'])"
   ]
  },
  {
   "cell_type": "markdown",
   "metadata": {},
   "source": [
    "### 外れ値処理"
   ]
  },
  {
   "cell_type": "code",
   "execution_count": null,
   "metadata": {},
   "outputs": [],
   "source": [
    "num_list = list(test.select_dtypes(exclude=object).columns)\n",
    "num_list"
   ]
  },
  {
   "cell_type": "code",
   "execution_count": null,
   "metadata": {},
   "outputs": [],
   "source": [
    "# diseaseごとの各カラムの散布図を見て外れ値を探す\n",
    "\n",
    "fig = plt.figure(figsize=(10,30))\n",
    "\n",
    "for i in range(len(num_list)):\n",
    "    plt.subplot(9, 1, i+1)\n",
    "    plt.title(num_list[i])\n",
    "    plt.scatter(train['disease'], train[num_list[i]])\n",
    "\n",
    "plt.tight_layout()"
   ]
  },
  {
   "cell_type": "code",
   "execution_count": null,
   "metadata": {},
   "outputs": [],
   "source": [
    "# Age 削除対象\n",
    "display(train[(train['Age']>75) & (train['disease']==0)])\n",
    "display(train[(train['Age']<12) & (train['disease']==0)])\n",
    "\n",
    "train = train.drop(train[(train['Age']>75) & (train['disease']==0)].index)\n",
    "train = train.drop(train[(train['Age']<12) & (train['disease']==0)].index)"
   ]
  },
  {
   "cell_type": "code",
   "execution_count": null,
   "metadata": {},
   "outputs": [],
   "source": [
    "# T-Bil 削除対象\n",
    "display(train[train['T_Bil']>15])\n",
    "\n",
    "# 削除\n",
    "train = train.drop(train[train['T_Bil']>15].index)"
   ]
  },
  {
   "cell_type": "code",
   "execution_count": null,
   "metadata": {},
   "outputs": [],
   "source": [
    "# D-Bil 削除対象\n",
    "display(train[train['D_Bil']>10])\n",
    "\n",
    "train = train.drop(train[train['D_Bil']>10].index)"
   ]
  },
  {
   "cell_type": "code",
   "execution_count": null,
   "metadata": {},
   "outputs": [],
   "source": [
    "# AST-GOT 削除対象\n",
    "display(train[(train['AST_GOT']>400) & (train['disease']==0)])\n",
    "\n",
    "train = train.drop(train[(train['AST_GOT']>400) & (train['disease']==0)].index)"
   ]
  },
  {
   "cell_type": "markdown",
   "metadata": {},
   "source": [
    "### カテゴリデータの可視化"
   ]
  },
  {
   "cell_type": "code",
   "execution_count": null,
   "metadata": {},
   "outputs": [],
   "source": [
    "train.groupby(\"Gender\")[\"Gender\"].count().sort_values(ascending=False).plot(kind=\"bar\", title=\"train Gender\")"
   ]
  },
  {
   "cell_type": "code",
   "execution_count": null,
   "metadata": {},
   "outputs": [],
   "source": [
    "test.groupby(\"Gender\")[\"Gender\"].count().sort_values(ascending=False).plot(kind=\"bar\", title=\"test Gender\")"
   ]
  },
  {
   "cell_type": "markdown",
   "metadata": {},
   "source": [
    "### 欠損値処理"
   ]
  },
  {
   "cell_type": "code",
   "execution_count": null,
   "metadata": {},
   "outputs": [],
   "source": [
    "display(train.isnull().sum())\n",
    "display(test.isnull().sum())"
   ]
  },
  {
   "cell_type": "markdown",
   "metadata": {},
   "source": [
    "### ラベルエンコーディング"
   ]
  },
  {
   "cell_type": "code",
   "execution_count": null,
   "metadata": {},
   "outputs": [],
   "source": [
    "lbl = preprocessing.LabelEncoder()"
   ]
  },
  {
   "cell_type": "code",
   "execution_count": null,
   "metadata": {},
   "outputs": [],
   "source": [
    "train[\"Gender\"] = lbl.fit_transform(train[\"Gender\"])\n",
    "test[\"Gender\"] = lbl.fit_transform(test[\"Gender\"])"
   ]
  },
  {
   "cell_type": "markdown",
   "metadata": {},
   "source": [
    "### 特徴量選択"
   ]
  },
  {
   "cell_type": "code",
   "execution_count": null,
   "metadata": {},
   "outputs": [],
   "source": [
    "features = ['Age', 'Gender', 'T_Bil', 'D_Bil', 'ALP', 'ALT_GPT', 'AST_GOT', 'TP', 'Alb', 'AG_ratio']"
   ]
  },
  {
   "cell_type": "markdown",
   "metadata": {},
   "source": [
    "### Filter Method"
   ]
  },
  {
   "cell_type": "code",
   "execution_count": null,
   "metadata": {},
   "outputs": [],
   "source": [
    "train.corr()[\"disease\"]"
   ]
  },
  {
   "cell_type": "code",
   "execution_count": null,
   "metadata": {},
   "outputs": [],
   "source": [
    "# D_Bil\tT_Bil 0.930493\n",
    "\n",
    "# disease T_Bil 0.390951\n",
    "# disease D_Bil 0.384931 -> こちらを削除\n",
    "train.corr()[abs(train.corr()) > 0.8]"
   ]
  },
  {
   "cell_type": "code",
   "execution_count": null,
   "metadata": {},
   "outputs": [],
   "source": [
    "features = ['Age', 'Gender', 'T_Bil', 'ALP', 'ALT_GPT', 'AST_GOT', 'TP', 'Alb', 'AG_ratio']"
   ]
  },
  {
   "cell_type": "markdown",
   "metadata": {},
   "source": [
    "### データの分割"
   ]
  },
  {
   "cell_type": "code",
   "execution_count": null,
   "metadata": {},
   "outputs": [],
   "source": [
    "# testデータに復元用のNo.を振る\n",
    "serial_num = pd.RangeIndex(start=1, stop=test.shape[0]+1, step=1)\n",
    "test['No'] = serial_num"
   ]
  },
  {
   "cell_type": "code",
   "execution_count": null,
   "metadata": {},
   "outputs": [],
   "source": [
    "test[\"Age_cls\"].unique()"
   ]
  },
  {
   "cell_type": "code",
   "execution_count": null,
   "metadata": {},
   "outputs": [],
   "source": [
    "# 0_30歳代\n",
    "train_0_30 = train[train[\"Age_cls\"] == \"0_30\"]\n",
    "test_0_30 = test[test[\"Age_cls\"] == \"0_30\"]"
   ]
  },
  {
   "cell_type": "code",
   "execution_count": null,
   "metadata": {},
   "outputs": [],
   "source": [
    "# 30_45歳代\n",
    "train_30_45 = train[train[\"Age_cls\"] == \"30_45\"]\n",
    "test_30_45 = test[test[\"Age_cls\"] == \"30_45\"]"
   ]
  },
  {
   "cell_type": "code",
   "execution_count": null,
   "metadata": {},
   "outputs": [],
   "source": [
    "# 45_60歳代\n",
    "train_45_60 = train[train[\"Age_cls\"] == \"45_60\"]\n",
    "test_45_60 = test[test[\"Age_cls\"] == \"45_60\"]"
   ]
  },
  {
   "cell_type": "code",
   "execution_count": null,
   "metadata": {},
   "outputs": [],
   "source": [
    "# 60_100歳代\n",
    "train_60_100 = train[train[\"Age_cls\"] == \"60_100\"]\n",
    "test_60_100 = test[test[\"Age_cls\"] == \"60_100\"]"
   ]
  },
  {
   "cell_type": "markdown",
   "metadata": {},
   "source": [
    "### ホールドアウト法"
   ]
  },
  {
   "cell_type": "code",
   "execution_count": null,
   "metadata": {},
   "outputs": [],
   "source": [
    "# 0_30歳代データ\n",
    "X_train_0_30, X_test_0_30, y_train_0_30, y_test_0_30 = train_test_split(train_0_30[features], \n",
    "                                                                        train_0_30[\"disease\"], test_size=0.3, random_state=42)"
   ]
  },
  {
   "cell_type": "code",
   "execution_count": null,
   "metadata": {},
   "outputs": [],
   "source": [
    "# 30_45歳代データ\n",
    "X_train_30_45, X_test_30_45, y_train_30_45, y_test_30_45 = train_test_split(train_30_45[features], \n",
    "                                                    train_30_45[\"disease\"], test_size=0.3, random_state=42)"
   ]
  },
  {
   "cell_type": "code",
   "execution_count": null,
   "metadata": {},
   "outputs": [],
   "source": [
    "# 45_60歳代データ\n",
    "X_train_45_60, X_test_45_60, y_train_45_60, y_test_45_60 = train_test_split(train_45_60[features], \n",
    "                                                    train_45_60[\"disease\"], test_size=0.3, random_state=42)"
   ]
  },
  {
   "cell_type": "code",
   "execution_count": null,
   "metadata": {},
   "outputs": [],
   "source": [
    "# 60_100歳代データ\n",
    "X_train_60_100, X_test_60_100, y_train_60_100, y_test_60_100 = train_test_split(train_60_100[features], \n",
    "                                                    train_60_100[\"disease\"], test_size=0.3, random_state=42)"
   ]
  },
  {
   "cell_type": "markdown",
   "metadata": {},
   "source": [
    "### 学習"
   ]
  },
  {
   "cell_type": "markdown",
   "metadata": {},
   "source": [
    "#### lightGBM"
   ]
  },
  {
   "cell_type": "code",
   "execution_count": null,
   "metadata": {},
   "outputs": [],
   "source": [
    "# 0_30歳代データ\n",
    "train_set_0_30 = lgb.Dataset(X_train_0_30, y_train_0_30)\n",
    "val_set_0_30 = lgb.Dataset(X_test_0_30, y_test_0_30, reference=train_set_0_30)"
   ]
  },
  {
   "cell_type": "code",
   "execution_count": null,
   "metadata": {},
   "outputs": [],
   "source": [
    "# 30_45歳代データ\n",
    "train_set_30_45 = lgb.Dataset(X_train_30_45, y_train_30_45)\n",
    "val_set_30_45 = lgb.Dataset(X_test_30_45, y_test_30_45, reference=train_set_30_45)"
   ]
  },
  {
   "cell_type": "code",
   "execution_count": null,
   "metadata": {},
   "outputs": [],
   "source": [
    "# 45_60歳代データ\n",
    "train_set_45_60 = lgb.Dataset(X_train_45_60, y_train_45_60)\n",
    "val_set_45_60 = lgb.Dataset(X_test_45_60, y_test_45_60, reference=train_set_45_60)"
   ]
  },
  {
   "cell_type": "code",
   "execution_count": null,
   "metadata": {},
   "outputs": [],
   "source": [
    "# 60_100歳代データ\n",
    "train_set_60_100 = lgb.Dataset(X_train_60_100, y_train_60_100)\n",
    "val_set_60_100 = lgb.Dataset(X_test_60_100, y_test_60_100, reference=train_set_60_100)"
   ]
  },
  {
   "cell_type": "code",
   "execution_count": null,
   "metadata": {},
   "outputs": [],
   "source": [
    "params = {\n",
    "    'boosting_type': 'gbdt',\n",
    "    'metric': 'auc',\n",
    "    'objective': 'binary',\n",
    "    'verbosity': -1,\n",
    "    'seed': 42,\n",
    "    'learning_rate': 0.1,\n",
    "    'bagging_fraction': 0.75,\n",
    "    'bagging_freq': 10, \n",
    "    'colsample_bytree': 0.75,\n",
    "}"
   ]
  },
  {
   "cell_type": "code",
   "execution_count": null,
   "metadata": {},
   "outputs": [],
   "source": [
    "# 0_30歳代データ\n",
    "model_lgb_0_30 = lgb.train(params, train_set_0_30, valid_sets=val_set_0_30,\n",
    "                  verbose_eval=50,  # 50イテレーション毎に学習結果出力\n",
    "                  num_boost_round=1000,  # 最大イテレーション回数指定\n",
    "                  early_stopping_rounds=100\n",
    "                 )"
   ]
  },
  {
   "cell_type": "code",
   "execution_count": null,
   "metadata": {},
   "outputs": [],
   "source": [
    "# 30_45歳代データ\n",
    "model_lgb_30_45 = lgb.train(params, train_set_30_45, valid_sets=val_set_30_45,\n",
    "                  verbose_eval=50,  # 50イテレーション毎に学習結果出力\n",
    "                  num_boost_round=1000,  # 最大イテレーション回数指定\n",
    "                  early_stopping_rounds=100\n",
    "                 )"
   ]
  },
  {
   "cell_type": "code",
   "execution_count": null,
   "metadata": {},
   "outputs": [],
   "source": [
    "# 45_60歳代データ\n",
    "model_lgb_45_60 = lgb.train(params, train_set_45_60, valid_sets=val_set_45_60,\n",
    "                  verbose_eval=50,  # 50イテレーション毎に学習結果出力\n",
    "                  num_boost_round=1000,  # 最大イテレーション回数指定\n",
    "                  early_stopping_rounds=100\n",
    "                 )"
   ]
  },
  {
   "cell_type": "code",
   "execution_count": null,
   "metadata": {},
   "outputs": [],
   "source": [
    "# 60_100歳代データ\n",
    "model_lgb_60_100 = lgb.train(params, train_set_60_100, valid_sets=val_set_60_100,\n",
    "                  verbose_eval=50,  # 50イテレーション毎に学習結果出力\n",
    "                  num_boost_round=1000,  # 最大イテレーション回数指定\n",
    "                  early_stopping_rounds=100\n",
    "                 )"
   ]
  },
  {
   "cell_type": "code",
   "execution_count": null,
   "metadata": {},
   "outputs": [],
   "source": [
    "# 0_30歳代データ\n",
    "val_prob_0_30 = model_lgb_0_30.predict(X_test_0_30, num_iteration=model_lgb_0_30.best_iteration)\n",
    "val_pred_0_30 = np.round(val_prob_0_30)"
   ]
  },
  {
   "cell_type": "code",
   "execution_count": null,
   "metadata": {},
   "outputs": [],
   "source": [
    "# 誤差\n",
    "print(f\"正解率: {accuracy_score(y_test_0_30, val_pred_0_30)}\")\n",
    "print(f\"適合率: {precision_score(y_test_0_30, val_pred_0_30)}\")\n",
    "print(f\"再現率: {recall_score(y_test_0_30, val_pred_0_30)}\")\n",
    "print(f\"f1_score: {f1_score(y_test_0_30, val_pred_0_30)}\")"
   ]
  },
  {
   "cell_type": "code",
   "execution_count": null,
   "metadata": {},
   "outputs": [],
   "source": [
    "# 30_45歳代データ\n",
    "val_prob_30_45 = model_lgb_30_45.predict(X_test_30_45, num_iteration=model_lgb_30_45.best_iteration)\n",
    "val_pred_30_45 = np.round(val_prob_30_45)"
   ]
  },
  {
   "cell_type": "code",
   "execution_count": null,
   "metadata": {},
   "outputs": [],
   "source": [
    "# 誤差\n",
    "print(f\"正解率: {accuracy_score(y_test_30_45, val_pred_30_45)}\")\n",
    "print(f\"適合率: {precision_score(y_test_30_45, val_pred_30_45)}\")\n",
    "print(f\"再現率: {recall_score(y_test_30_45, val_pred_30_45)}\")\n",
    "print(f\"f1_score: {f1_score(y_test_30_45, val_pred_30_45)}\")"
   ]
  },
  {
   "cell_type": "code",
   "execution_count": null,
   "metadata": {},
   "outputs": [],
   "source": [
    "# 45_60歳代データ\n",
    "val_prob_45_60 = model_lgb_45_60.predict(X_test_45_60, num_iteration=model_lgb_45_60.best_iteration)\n",
    "val_pred_45_60 = np.round(val_prob_45_60)"
   ]
  },
  {
   "cell_type": "code",
   "execution_count": null,
   "metadata": {},
   "outputs": [],
   "source": [
    "# 誤差\n",
    "print(f\"正解率: {accuracy_score(y_test_45_60, val_pred_45_60)}\")\n",
    "print(f\"適合率: {precision_score(y_test_45_60, val_pred_45_60)}\")\n",
    "print(f\"再現率: {recall_score(y_test_45_60, val_pred_45_60)}\")\n",
    "print(f\"f1_score: {f1_score(y_test_45_60, val_pred_45_60)}\")"
   ]
  },
  {
   "cell_type": "code",
   "execution_count": null,
   "metadata": {},
   "outputs": [],
   "source": [
    "# 60_100歳代データ\n",
    "val_prob_60_100 = model_lgb_60_100.predict(X_test_60_100, num_iteration=model_lgb_60_100.best_iteration)\n",
    "val_pred_60_100 = np.round(val_prob_60_100)"
   ]
  },
  {
   "cell_type": "code",
   "execution_count": null,
   "metadata": {},
   "outputs": [],
   "source": [
    "# 誤差\n",
    "print(f\"正解率: {accuracy_score(y_test_60_100, val_pred_60_100)}\")\n",
    "print(f\"適合率: {precision_score(y_test_60_100, val_pred_60_100)}\")\n",
    "print(f\"再現率: {recall_score(y_test_60_100, val_pred_60_100)}\")\n",
    "print(f\"f1_score: {f1_score(y_test_60_100, val_pred_60_100)}\")"
   ]
  },
  {
   "cell_type": "code",
   "execution_count": null,
   "metadata": {},
   "outputs": [],
   "source": [
    "# 0_30歳代データ\n",
    "y_prob_0_30 = model_lgb_0_30.predict(test_0_30[features], num_iteration=model_lgb_0_30.best_iteration)\n",
    "y_pred_0_30 = np.round(y_prob_0_30)"
   ]
  },
  {
   "cell_type": "code",
   "execution_count": null,
   "metadata": {},
   "outputs": [],
   "source": [
    "# 30_45歳代データ\n",
    "y_prob_30_45 = model_lgb_30_45.predict(test_30_45[features], num_iteration=model_lgb_30_45.best_iteration)\n",
    "y_pred_30_45 = np.round(y_prob_30_45)"
   ]
  },
  {
   "cell_type": "code",
   "execution_count": null,
   "metadata": {},
   "outputs": [],
   "source": [
    "# 45_60歳代データ\n",
    "y_prob_45_60 = model_lgb_45_60.predict(test_45_60[features], num_iteration=model_lgb_45_60.best_iteration)\n",
    "y_pred_45_60 = np.round(y_prob_45_60)"
   ]
  },
  {
   "cell_type": "code",
   "execution_count": null,
   "metadata": {},
   "outputs": [],
   "source": [
    "# 60_100歳代データ\n",
    "y_prob_60_100 = model_lgb_60_100.predict(test_60_100[features], num_iteration=model_lgb_60_100.best_iteration)\n",
    "y_pred_60_100 = np.round(y_prob_60_100)"
   ]
  },
  {
   "cell_type": "code",
   "execution_count": null,
   "metadata": {},
   "outputs": [],
   "source": [
    "# 統合\n",
    "test_0_30[\"disease\"] = y_pred_0_30\n",
    "test_30_45[\"disease\"] = y_pred_30_45\n",
    "test_45_60[\"disease\"] = y_pred_45_60\n",
    "test_60_100[\"disease\"] = y_pred_60_100"
   ]
  },
  {
   "cell_type": "code",
   "execution_count": null,
   "metadata": {},
   "outputs": [],
   "source": [
    "test_pred = pd.concat([test_0_30, test_30_45 ,test_45_60 ,test_60_100]).sort_values('No')"
   ]
  },
  {
   "cell_type": "code",
   "execution_count": null,
   "metadata": {},
   "outputs": [],
   "source": [
    "y_pred = test_pred[\"disease\"]"
   ]
  },
  {
   "cell_type": "markdown",
   "metadata": {},
   "source": [
    "### データ出力"
   ]
  },
  {
   "cell_type": "code",
   "execution_count": null,
   "metadata": {},
   "outputs": [],
   "source": [
    "ss = pd.read_csv('sample_submit.csv', header=None)"
   ]
  },
  {
   "cell_type": "code",
   "execution_count": null,
   "metadata": {},
   "outputs": [],
   "source": [
    "ss[1] = y_pred\n",
    "ss.to_csv(\"lgb_submission.csv\", index=0, header=None)"
   ]
  }
 ],
 "metadata": {
  "kernelspec": {
   "display_name": "Python 3",
   "language": "python",
   "name": "python3"
  },
  "language_info": {
   "codemirror_mode": {
    "name": "ipython",
    "version": 3
   },
   "file_extension": ".py",
   "mimetype": "text/x-python",
   "name": "python",
   "nbconvert_exporter": "python",
   "pygments_lexer": "ipython3",
   "version": "3.7.7"
  }
 },
 "nbformat": 4,
 "nbformat_minor": 4
}
