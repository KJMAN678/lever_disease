{
 "cells": [
  {
   "cell_type": "code",
   "execution_count": 1,
   "metadata": {},
   "outputs": [],
   "source": [
    "import pandas as pd\n",
    "import os\n",
    "import gc\n",
    "import numpy as np\n",
    "import matplotlib.pyplot as plt\n",
    "import seaborn as sns\n",
    "\n",
    "from sklearn import preprocessing\n",
    "\n",
    "from sklearn.model_selection import train_test_split\n",
    "\n",
    "import optuna.integration.lightgbm as lgb\n",
    "\n",
    "from IPython.display import display\n",
    "\n",
    "# 正解率\n",
    "from sklearn.metrics import accuracy_score\n",
    "\n",
    "# 適合率\n",
    "from sklearn.metrics import precision_score\n",
    "\n",
    "# 再現率\n",
    "from sklearn.metrics import recall_score\n",
    "\n",
    "# f1_score\n",
    "from sklearn.metrics import f1_score\n",
    "\n",
    "import warnings\n",
    "warnings.filterwarnings('ignore')\n",
    "\n",
    "# DataFrameの表示数を変更\n",
    "pd.set_option('max_columns', 500)\n",
    "pd.set_option('max_rows', 500)\n",
    "\n",
    "from sklearn.decomposition import PCA"
   ]
  },
  {
   "cell_type": "code",
   "execution_count": 2,
   "metadata": {},
   "outputs": [],
   "source": [
    "train = pd.read_csv('train.csv')\n",
    "test = pd.read_csv('test.csv')"
   ]
  },
  {
   "cell_type": "code",
   "execution_count": 3,
   "metadata": {},
   "outputs": [
    {
     "data": {
      "text/html": [
       "<div>\n",
       "<style scoped>\n",
       "    .dataframe tbody tr th:only-of-type {\n",
       "        vertical-align: middle;\n",
       "    }\n",
       "\n",
       "    .dataframe tbody tr th {\n",
       "        vertical-align: top;\n",
       "    }\n",
       "\n",
       "    .dataframe thead th {\n",
       "        text-align: right;\n",
       "    }\n",
       "</style>\n",
       "<table border=\"1\" class=\"dataframe\">\n",
       "  <thead>\n",
       "    <tr style=\"text-align: right;\">\n",
       "      <th></th>\n",
       "      <th>Age</th>\n",
       "      <th>Gender</th>\n",
       "      <th>T_Bil</th>\n",
       "      <th>D_Bil</th>\n",
       "      <th>ALP</th>\n",
       "      <th>ALT_GPT</th>\n",
       "      <th>AST_GOT</th>\n",
       "      <th>TP</th>\n",
       "      <th>Alb</th>\n",
       "      <th>AG_ratio</th>\n",
       "      <th>disease</th>\n",
       "    </tr>\n",
       "  </thead>\n",
       "  <tbody>\n",
       "    <tr>\n",
       "      <th>0</th>\n",
       "      <td>59</td>\n",
       "      <td>Male</td>\n",
       "      <td>0.786886</td>\n",
       "      <td>0.150498</td>\n",
       "      <td>220.178691</td>\n",
       "      <td>13.467617</td>\n",
       "      <td>21.729246</td>\n",
       "      <td>6.815731</td>\n",
       "      <td>3.112276</td>\n",
       "      <td>1.006802</td>\n",
       "      <td>0</td>\n",
       "    </tr>\n",
       "    <tr>\n",
       "      <th>1</th>\n",
       "      <td>69</td>\n",
       "      <td>Male</td>\n",
       "      <td>1.003987</td>\n",
       "      <td>0.195625</td>\n",
       "      <td>221.218413</td>\n",
       "      <td>51.033462</td>\n",
       "      <td>64.752323</td>\n",
       "      <td>6.889608</td>\n",
       "      <td>3.051521</td>\n",
       "      <td>0.751346</td>\n",
       "      <td>1</td>\n",
       "    </tr>\n",
       "    <tr>\n",
       "      <th>2</th>\n",
       "      <td>65</td>\n",
       "      <td>Male</td>\n",
       "      <td>0.657140</td>\n",
       "      <td>0.081287</td>\n",
       "      <td>320.770533</td>\n",
       "      <td>12.625011</td>\n",
       "      <td>30.613180</td>\n",
       "      <td>5.947767</td>\n",
       "      <td>2.489167</td>\n",
       "      <td>0.774952</td>\n",
       "      <td>0</td>\n",
       "    </tr>\n",
       "  </tbody>\n",
       "</table>\n",
       "</div>"
      ],
      "text/plain": [
       "   Age Gender     T_Bil     D_Bil         ALP    ALT_GPT    AST_GOT        TP  \\\n",
       "0   59   Male  0.786886  0.150498  220.178691  13.467617  21.729246  6.815731   \n",
       "1   69   Male  1.003987  0.195625  221.218413  51.033462  64.752323  6.889608   \n",
       "2   65   Male  0.657140  0.081287  320.770533  12.625011  30.613180  5.947767   \n",
       "\n",
       "        Alb  AG_ratio  disease  \n",
       "0  3.112276  1.006802        0  \n",
       "1  3.051521  0.751346        1  \n",
       "2  2.489167  0.774952        0  "
      ]
     },
     "metadata": {},
     "output_type": "display_data"
    },
    {
     "data": {
      "text/html": [
       "<div>\n",
       "<style scoped>\n",
       "    .dataframe tbody tr th:only-of-type {\n",
       "        vertical-align: middle;\n",
       "    }\n",
       "\n",
       "    .dataframe tbody tr th {\n",
       "        vertical-align: top;\n",
       "    }\n",
       "\n",
       "    .dataframe thead th {\n",
       "        text-align: right;\n",
       "    }\n",
       "</style>\n",
       "<table border=\"1\" class=\"dataframe\">\n",
       "  <thead>\n",
       "    <tr style=\"text-align: right;\">\n",
       "      <th></th>\n",
       "      <th>Age</th>\n",
       "      <th>Gender</th>\n",
       "      <th>T_Bil</th>\n",
       "      <th>D_Bil</th>\n",
       "      <th>ALP</th>\n",
       "      <th>ALT_GPT</th>\n",
       "      <th>AST_GOT</th>\n",
       "      <th>TP</th>\n",
       "      <th>Alb</th>\n",
       "      <th>AG_ratio</th>\n",
       "      <th>disease</th>\n",
       "    </tr>\n",
       "  </thead>\n",
       "  <tbody>\n",
       "    <tr>\n",
       "      <th>847</th>\n",
       "      <td>50</td>\n",
       "      <td>Male</td>\n",
       "      <td>0.826785</td>\n",
       "      <td>0.138898</td>\n",
       "      <td>230.340081</td>\n",
       "      <td>40.495102</td>\n",
       "      <td>49.620857</td>\n",
       "      <td>7.529840</td>\n",
       "      <td>3.724408</td>\n",
       "      <td>0.987033</td>\n",
       "      <td>1</td>\n",
       "    </tr>\n",
       "    <tr>\n",
       "      <th>848</th>\n",
       "      <td>32</td>\n",
       "      <td>Female</td>\n",
       "      <td>0.761972</td>\n",
       "      <td>0.137969</td>\n",
       "      <td>214.170393</td>\n",
       "      <td>18.048321</td>\n",
       "      <td>54.447774</td>\n",
       "      <td>5.944855</td>\n",
       "      <td>3.150978</td>\n",
       "      <td>1.220787</td>\n",
       "      <td>0</td>\n",
       "    </tr>\n",
       "    <tr>\n",
       "      <th>849</th>\n",
       "      <td>64</td>\n",
       "      <td>Male</td>\n",
       "      <td>0.762713</td>\n",
       "      <td>0.218435</td>\n",
       "      <td>214.720510</td>\n",
       "      <td>15.885571</td>\n",
       "      <td>24.789606</td>\n",
       "      <td>6.768439</td>\n",
       "      <td>3.686097</td>\n",
       "      <td>1.309895</td>\n",
       "      <td>0</td>\n",
       "    </tr>\n",
       "  </tbody>\n",
       "</table>\n",
       "</div>"
      ],
      "text/plain": [
       "     Age  Gender     T_Bil     D_Bil         ALP    ALT_GPT    AST_GOT  \\\n",
       "847   50    Male  0.826785  0.138898  230.340081  40.495102  49.620857   \n",
       "848   32  Female  0.761972  0.137969  214.170393  18.048321  54.447774   \n",
       "849   64    Male  0.762713  0.218435  214.720510  15.885571  24.789606   \n",
       "\n",
       "           TP       Alb  AG_ratio  disease  \n",
       "847  7.529840  3.724408  0.987033        1  \n",
       "848  5.944855  3.150978  1.220787        0  \n",
       "849  6.768439  3.686097  1.309895        0  "
      ]
     },
     "metadata": {},
     "output_type": "display_data"
    },
    {
     "data": {
      "text/plain": [
       "(850, 11)"
      ]
     },
     "metadata": {},
     "output_type": "display_data"
    },
    {
     "data": {
      "text/plain": [
       "Age           int64\n",
       "Gender       object\n",
       "T_Bil       float64\n",
       "D_Bil       float64\n",
       "ALP         float64\n",
       "ALT_GPT     float64\n",
       "AST_GOT     float64\n",
       "TP          float64\n",
       "Alb         float64\n",
       "AG_ratio    float64\n",
       "disease       int64\n",
       "dtype: object"
      ]
     },
     "metadata": {},
     "output_type": "display_data"
    }
   ],
   "source": [
    "display(train.head(3))\n",
    "display(train.tail(3))\n",
    "display(train.shape)\n",
    "display(train.dtypes)"
   ]
  },
  {
   "cell_type": "code",
   "execution_count": 4,
   "metadata": {},
   "outputs": [
    {
     "data": {
      "text/html": [
       "<div>\n",
       "<style scoped>\n",
       "    .dataframe tbody tr th:only-of-type {\n",
       "        vertical-align: middle;\n",
       "    }\n",
       "\n",
       "    .dataframe tbody tr th {\n",
       "        vertical-align: top;\n",
       "    }\n",
       "\n",
       "    .dataframe thead th {\n",
       "        text-align: right;\n",
       "    }\n",
       "</style>\n",
       "<table border=\"1\" class=\"dataframe\">\n",
       "  <thead>\n",
       "    <tr style=\"text-align: right;\">\n",
       "      <th></th>\n",
       "      <th>Age</th>\n",
       "      <th>Gender</th>\n",
       "      <th>T_Bil</th>\n",
       "      <th>D_Bil</th>\n",
       "      <th>ALP</th>\n",
       "      <th>ALT_GPT</th>\n",
       "      <th>AST_GOT</th>\n",
       "      <th>TP</th>\n",
       "      <th>Alb</th>\n",
       "      <th>AG_ratio</th>\n",
       "    </tr>\n",
       "  </thead>\n",
       "  <tbody>\n",
       "    <tr>\n",
       "      <th>0</th>\n",
       "      <td>25</td>\n",
       "      <td>Male</td>\n",
       "      <td>0.801797</td>\n",
       "      <td>0.186800</td>\n",
       "      <td>214.448679</td>\n",
       "      <td>15.260516</td>\n",
       "      <td>19.496649</td>\n",
       "      <td>6.817903</td>\n",
       "      <td>3.600752</td>\n",
       "      <td>1.288006</td>\n",
       "    </tr>\n",
       "    <tr>\n",
       "      <th>1</th>\n",
       "      <td>26</td>\n",
       "      <td>Female</td>\n",
       "      <td>0.834857</td>\n",
       "      <td>0.116426</td>\n",
       "      <td>234.136816</td>\n",
       "      <td>10.509159</td>\n",
       "      <td>16.733312</td>\n",
       "      <td>6.795433</td>\n",
       "      <td>3.111043</td>\n",
       "      <td>1.030562</td>\n",
       "    </tr>\n",
       "    <tr>\n",
       "      <th>2</th>\n",
       "      <td>64</td>\n",
       "      <td>Male</td>\n",
       "      <td>0.791830</td>\n",
       "      <td>0.197940</td>\n",
       "      <td>216.039909</td>\n",
       "      <td>14.578304</td>\n",
       "      <td>20.695866</td>\n",
       "      <td>7.524030</td>\n",
       "      <td>3.627621</td>\n",
       "      <td>1.278579</td>\n",
       "    </tr>\n",
       "  </tbody>\n",
       "</table>\n",
       "</div>"
      ],
      "text/plain": [
       "   Age  Gender     T_Bil     D_Bil         ALP    ALT_GPT    AST_GOT  \\\n",
       "0   25    Male  0.801797  0.186800  214.448679  15.260516  19.496649   \n",
       "1   26  Female  0.834857  0.116426  234.136816  10.509159  16.733312   \n",
       "2   64    Male  0.791830  0.197940  216.039909  14.578304  20.695866   \n",
       "\n",
       "         TP       Alb  AG_ratio  \n",
       "0  6.817903  3.600752  1.288006  \n",
       "1  6.795433  3.111043  1.030562  \n",
       "2  7.524030  3.627621  1.278579  "
      ]
     },
     "metadata": {},
     "output_type": "display_data"
    },
    {
     "data": {
      "text/html": [
       "<div>\n",
       "<style scoped>\n",
       "    .dataframe tbody tr th:only-of-type {\n",
       "        vertical-align: middle;\n",
       "    }\n",
       "\n",
       "    .dataframe tbody tr th {\n",
       "        vertical-align: top;\n",
       "    }\n",
       "\n",
       "    .dataframe thead th {\n",
       "        text-align: right;\n",
       "    }\n",
       "</style>\n",
       "<table border=\"1\" class=\"dataframe\">\n",
       "  <thead>\n",
       "    <tr style=\"text-align: right;\">\n",
       "      <th></th>\n",
       "      <th>Age</th>\n",
       "      <th>Gender</th>\n",
       "      <th>T_Bil</th>\n",
       "      <th>D_Bil</th>\n",
       "      <th>ALP</th>\n",
       "      <th>ALT_GPT</th>\n",
       "      <th>AST_GOT</th>\n",
       "      <th>TP</th>\n",
       "      <th>Alb</th>\n",
       "      <th>AG_ratio</th>\n",
       "    </tr>\n",
       "  </thead>\n",
       "  <tbody>\n",
       "    <tr>\n",
       "      <th>347</th>\n",
       "      <td>25</td>\n",
       "      <td>Male</td>\n",
       "      <td>0.787054</td>\n",
       "      <td>0.186129</td>\n",
       "      <td>214.167523</td>\n",
       "      <td>14.936585</td>\n",
       "      <td>20.589993</td>\n",
       "      <td>7.505128</td>\n",
       "      <td>3.619033</td>\n",
       "      <td>1.287256</td>\n",
       "    </tr>\n",
       "    <tr>\n",
       "      <th>348</th>\n",
       "      <td>64</td>\n",
       "      <td>Male</td>\n",
       "      <td>0.725194</td>\n",
       "      <td>0.191307</td>\n",
       "      <td>220.272862</td>\n",
       "      <td>17.532595</td>\n",
       "      <td>48.115014</td>\n",
       "      <td>7.559414</td>\n",
       "      <td>3.635871</td>\n",
       "      <td>1.263348</td>\n",
       "    </tr>\n",
       "    <tr>\n",
       "      <th>349</th>\n",
       "      <td>57</td>\n",
       "      <td>Male</td>\n",
       "      <td>0.869632</td>\n",
       "      <td>0.236444</td>\n",
       "      <td>367.364415</td>\n",
       "      <td>23.534291</td>\n",
       "      <td>48.729618</td>\n",
       "      <td>7.537565</td>\n",
       "      <td>3.629533</td>\n",
       "      <td>1.285716</td>\n",
       "    </tr>\n",
       "  </tbody>\n",
       "</table>\n",
       "</div>"
      ],
      "text/plain": [
       "     Age Gender     T_Bil     D_Bil         ALP    ALT_GPT    AST_GOT  \\\n",
       "347   25   Male  0.787054  0.186129  214.167523  14.936585  20.589993   \n",
       "348   64   Male  0.725194  0.191307  220.272862  17.532595  48.115014   \n",
       "349   57   Male  0.869632  0.236444  367.364415  23.534291  48.729618   \n",
       "\n",
       "           TP       Alb  AG_ratio  \n",
       "347  7.505128  3.619033  1.287256  \n",
       "348  7.559414  3.635871  1.263348  \n",
       "349  7.537565  3.629533  1.285716  "
      ]
     },
     "metadata": {},
     "output_type": "display_data"
    },
    {
     "data": {
      "text/plain": [
       "(350, 10)"
      ]
     },
     "metadata": {},
     "output_type": "display_data"
    },
    {
     "data": {
      "text/plain": [
       "Age           int64\n",
       "Gender       object\n",
       "T_Bil       float64\n",
       "D_Bil       float64\n",
       "ALP         float64\n",
       "ALT_GPT     float64\n",
       "AST_GOT     float64\n",
       "TP          float64\n",
       "Alb         float64\n",
       "AG_ratio    float64\n",
       "dtype: object"
      ]
     },
     "metadata": {},
     "output_type": "display_data"
    }
   ],
   "source": [
    "display(test.head(3))\n",
    "display(test.tail(3))\n",
    "display(test.shape)\n",
    "display(test.dtypes)"
   ]
  },
  {
   "cell_type": "markdown",
   "metadata": {},
   "source": [
    "0\tid\tint\tインデックスとして使用  \n",
    "1\tAge\tint\t年齢  \n",
    "2\tGender\tchar\t性別  \n",
    "3\tT_Bil\tfloat\t検査項目1： 総ビリルビン (Total Bilirubin)  \n",
    "4\tD_Bil\tfloat\t検査項目2： 直接ビリルビン (Direct Bilirubin)  \n",
    "5\tALP\tfloat\t検査項目3： アルカリフォスファター ゼ (Alkaline Phosphotase)  \n",
    "6\tALT_GPT\tfloat\t検査項目4： アラニンアミノトランスフェラーゼ (Alanine Transaminase)  \n",
    "7\tAST_GOT\tfloat\t検査項目5： アスパラギン酸アミノトランスフェラーゼ (Aspartate Aminotransferase)  \n",
    "8\tTP\tfloat\t検査項目6： 総タンパク (Total Protiens)  \n",
    "9\tAlb\tfloat\t検査項目7： アルブミン (Albumin)  \n",
    "10\tAG_ratio\tfloat\t検査項目8： アルブミン/グロブリン比  \n",
    "11\tdisease\tint\t肝疾患の有無（0:無, 1:有）  "
   ]
  },
  {
   "cell_type": "code",
   "execution_count": 5,
   "metadata": {},
   "outputs": [
    {
     "data": {
      "text/html": [
       "<div>\n",
       "<style scoped>\n",
       "    .dataframe tbody tr th:only-of-type {\n",
       "        vertical-align: middle;\n",
       "    }\n",
       "\n",
       "    .dataframe tbody tr th {\n",
       "        vertical-align: top;\n",
       "    }\n",
       "\n",
       "    .dataframe thead th {\n",
       "        text-align: right;\n",
       "    }\n",
       "</style>\n",
       "<table border=\"1\" class=\"dataframe\">\n",
       "  <thead>\n",
       "    <tr style=\"text-align: right;\">\n",
       "      <th></th>\n",
       "      <th>Age</th>\n",
       "      <th>T_Bil</th>\n",
       "      <th>D_Bil</th>\n",
       "      <th>ALP</th>\n",
       "      <th>ALT_GPT</th>\n",
       "      <th>AST_GOT</th>\n",
       "      <th>TP</th>\n",
       "      <th>Alb</th>\n",
       "      <th>AG_ratio</th>\n",
       "      <th>disease</th>\n",
       "    </tr>\n",
       "  </thead>\n",
       "  <tbody>\n",
       "    <tr>\n",
       "      <th>Age</th>\n",
       "      <td>1.000000</td>\n",
       "      <td>-0.001248</td>\n",
       "      <td>-0.014136</td>\n",
       "      <td>-0.023907</td>\n",
       "      <td>-0.037906</td>\n",
       "      <td>-0.008589</td>\n",
       "      <td>-0.037754</td>\n",
       "      <td>-0.087120</td>\n",
       "      <td>-0.033220</td>\n",
       "      <td>0.024216</td>\n",
       "    </tr>\n",
       "    <tr>\n",
       "      <th>T_Bil</th>\n",
       "      <td>-0.001248</td>\n",
       "      <td>1.000000</td>\n",
       "      <td>0.753227</td>\n",
       "      <td>0.148064</td>\n",
       "      <td>0.219784</td>\n",
       "      <td>0.248709</td>\n",
       "      <td>-0.060230</td>\n",
       "      <td>-0.162017</td>\n",
       "      <td>-0.206122</td>\n",
       "      <td>0.357653</td>\n",
       "    </tr>\n",
       "    <tr>\n",
       "      <th>D_Bil</th>\n",
       "      <td>-0.014136</td>\n",
       "      <td>0.753227</td>\n",
       "      <td>1.000000</td>\n",
       "      <td>0.091924</td>\n",
       "      <td>0.184403</td>\n",
       "      <td>0.201485</td>\n",
       "      <td>0.017750</td>\n",
       "      <td>-0.089132</td>\n",
       "      <td>-0.121481</td>\n",
       "      <td>0.282316</td>\n",
       "    </tr>\n",
       "    <tr>\n",
       "      <th>ALP</th>\n",
       "      <td>-0.023907</td>\n",
       "      <td>0.148064</td>\n",
       "      <td>0.091924</td>\n",
       "      <td>1.000000</td>\n",
       "      <td>-0.021187</td>\n",
       "      <td>0.019047</td>\n",
       "      <td>0.025728</td>\n",
       "      <td>-0.023041</td>\n",
       "      <td>-0.159614</td>\n",
       "      <td>0.211950</td>\n",
       "    </tr>\n",
       "    <tr>\n",
       "      <th>ALT_GPT</th>\n",
       "      <td>-0.037906</td>\n",
       "      <td>0.219784</td>\n",
       "      <td>0.184403</td>\n",
       "      <td>-0.021187</td>\n",
       "      <td>1.000000</td>\n",
       "      <td>0.655518</td>\n",
       "      <td>-0.100572</td>\n",
       "      <td>-0.087652</td>\n",
       "      <td>0.005806</td>\n",
       "      <td>0.199239</td>\n",
       "    </tr>\n",
       "    <tr>\n",
       "      <th>AST_GOT</th>\n",
       "      <td>-0.008589</td>\n",
       "      <td>0.248709</td>\n",
       "      <td>0.201485</td>\n",
       "      <td>0.019047</td>\n",
       "      <td>0.655518</td>\n",
       "      <td>1.000000</td>\n",
       "      <td>-0.071592</td>\n",
       "      <td>-0.086669</td>\n",
       "      <td>-0.022277</td>\n",
       "      <td>0.316456</td>\n",
       "    </tr>\n",
       "    <tr>\n",
       "      <th>TP</th>\n",
       "      <td>-0.037754</td>\n",
       "      <td>-0.060230</td>\n",
       "      <td>0.017750</td>\n",
       "      <td>0.025728</td>\n",
       "      <td>-0.100572</td>\n",
       "      <td>-0.071592</td>\n",
       "      <td>1.000000</td>\n",
       "      <td>0.727319</td>\n",
       "      <td>0.270246</td>\n",
       "      <td>-0.073766</td>\n",
       "    </tr>\n",
       "    <tr>\n",
       "      <th>Alb</th>\n",
       "      <td>-0.087120</td>\n",
       "      <td>-0.162017</td>\n",
       "      <td>-0.089132</td>\n",
       "      <td>-0.023041</td>\n",
       "      <td>-0.087652</td>\n",
       "      <td>-0.086669</td>\n",
       "      <td>0.727319</td>\n",
       "      <td>1.000000</td>\n",
       "      <td>0.607400</td>\n",
       "      <td>-0.176602</td>\n",
       "    </tr>\n",
       "    <tr>\n",
       "      <th>AG_ratio</th>\n",
       "      <td>-0.033220</td>\n",
       "      <td>-0.206122</td>\n",
       "      <td>-0.121481</td>\n",
       "      <td>-0.159614</td>\n",
       "      <td>0.005806</td>\n",
       "      <td>-0.022277</td>\n",
       "      <td>0.270246</td>\n",
       "      <td>0.607400</td>\n",
       "      <td>1.000000</td>\n",
       "      <td>-0.307895</td>\n",
       "    </tr>\n",
       "    <tr>\n",
       "      <th>disease</th>\n",
       "      <td>0.024216</td>\n",
       "      <td>0.357653</td>\n",
       "      <td>0.282316</td>\n",
       "      <td>0.211950</td>\n",
       "      <td>0.199239</td>\n",
       "      <td>0.316456</td>\n",
       "      <td>-0.073766</td>\n",
       "      <td>-0.176602</td>\n",
       "      <td>-0.307895</td>\n",
       "      <td>1.000000</td>\n",
       "    </tr>\n",
       "  </tbody>\n",
       "</table>\n",
       "</div>"
      ],
      "text/plain": [
       "               Age     T_Bil     D_Bil       ALP   ALT_GPT   AST_GOT  \\\n",
       "Age       1.000000 -0.001248 -0.014136 -0.023907 -0.037906 -0.008589   \n",
       "T_Bil    -0.001248  1.000000  0.753227  0.148064  0.219784  0.248709   \n",
       "D_Bil    -0.014136  0.753227  1.000000  0.091924  0.184403  0.201485   \n",
       "ALP      -0.023907  0.148064  0.091924  1.000000 -0.021187  0.019047   \n",
       "ALT_GPT  -0.037906  0.219784  0.184403 -0.021187  1.000000  0.655518   \n",
       "AST_GOT  -0.008589  0.248709  0.201485  0.019047  0.655518  1.000000   \n",
       "TP       -0.037754 -0.060230  0.017750  0.025728 -0.100572 -0.071592   \n",
       "Alb      -0.087120 -0.162017 -0.089132 -0.023041 -0.087652 -0.086669   \n",
       "AG_ratio -0.033220 -0.206122 -0.121481 -0.159614  0.005806 -0.022277   \n",
       "disease   0.024216  0.357653  0.282316  0.211950  0.199239  0.316456   \n",
       "\n",
       "                TP       Alb  AG_ratio   disease  \n",
       "Age      -0.037754 -0.087120 -0.033220  0.024216  \n",
       "T_Bil    -0.060230 -0.162017 -0.206122  0.357653  \n",
       "D_Bil     0.017750 -0.089132 -0.121481  0.282316  \n",
       "ALP       0.025728 -0.023041 -0.159614  0.211950  \n",
       "ALT_GPT  -0.100572 -0.087652  0.005806  0.199239  \n",
       "AST_GOT  -0.071592 -0.086669 -0.022277  0.316456  \n",
       "TP        1.000000  0.727319  0.270246 -0.073766  \n",
       "Alb       0.727319  1.000000  0.607400 -0.176602  \n",
       "AG_ratio  0.270246  0.607400  1.000000 -0.307895  \n",
       "disease  -0.073766 -0.176602 -0.307895  1.000000  "
      ]
     },
     "execution_count": 5,
     "metadata": {},
     "output_type": "execute_result"
    }
   ],
   "source": [
    "# 相関係数\n",
    "train.corr()"
   ]
  },
  {
   "cell_type": "code",
   "execution_count": 6,
   "metadata": {},
   "outputs": [
    {
     "data": {
      "text/plain": [
       "<AxesSubplot:>"
      ]
     },
     "execution_count": 6,
     "metadata": {},
     "output_type": "execute_result"
    },
    {
     "data": {
      "image/png": "[encoded data removed]",
      "text/plain": [
       "<Figure size 432x288 with 2 Axes>"
      ]
     },
     "metadata": {
      "needs_background": "light"
     },
     "output_type": "display_data"
    }
   ],
   "source": [
    "sns.heatmap(train.corr())"
   ]
  },
  {
   "cell_type": "code",
   "execution_count": 7,
   "metadata": {},
   "outputs": [
    {
     "data": {
      "image/png": "[encoded data removed]",
      "text/plain": [
       "<Figure size 432x288 with 1 Axes>"
      ]
     },
     "metadata": {
      "needs_background": "light"
     },
     "output_type": "display_data"
    }
   ],
   "source": [
    "train['Age'].hist()\n",
    "plt.show()"
   ]
  },
  {
   "cell_type": "code",
   "execution_count": 8,
   "metadata": {},
   "outputs": [
    {
     "data": {
      "image/png": "[encoded data removed]",
      "text/plain": [
       "<Figure size 432x288 with 2 Axes>"
      ]
     },
     "metadata": {
      "needs_background": "light"
     },
     "output_type": "display_data"
    }
   ],
   "source": [
    "train['Age'].hist(by=train['disease'])\n",
    "plt.show()"
   ]
  },
  {
   "cell_type": "code",
   "execution_count": 9,
   "metadata": {},
   "outputs": [],
   "source": [
    "train[\"Age_cls\"] = pd.cut(train['Age'], [0, 30, 45, 60, 100], labels=['0_30', '30_45', '45_60', '60_100'])\n",
    "test[\"Age_cls\"] = pd.cut(test['Age'], [0, 30, 45, 60, 100], labels=['0_30', '30_45', '45_60', '60_100'])"
   ]
  },
  {
   "cell_type": "markdown",
   "metadata": {},
   "source": [
    "### 外れ値処理"
   ]
  },
  {
   "cell_type": "code",
   "execution_count": 10,
   "metadata": {},
   "outputs": [
    {
     "data": {
      "text/plain": [
       "['Age', 'T_Bil', 'D_Bil', 'ALP', 'ALT_GPT', 'AST_GOT', 'TP', 'Alb', 'AG_ratio']"
      ]
     },
     "execution_count": 10,
     "metadata": {},
     "output_type": "execute_result"
    }
   ],
   "source": [
    "num_list = list(test.select_dtypes(exclude=object).columns[:9])\n",
    "num_list"
   ]
  },
  {
   "cell_type": "code",
   "execution_count": 11,
   "metadata": {},
   "outputs": [
    {
     "data": {
      "image/png": "[encoded data removed]",
      "text/plain": [
       "<Figure size 720x2160 with 9 Axes>"
      ]
     },
     "metadata": {
      "needs_background": "light"
     },
     "output_type": "display_data"
    }
   ],
   "source": [
    "# diseaseごとの各カラムの散布図を見て外れ値を探す\n",
    "\n",
    "fig = plt.figure(figsize=(10,30))\n",
    "\n",
    "for i in range(len(num_list)):\n",
    "    plt.subplot(9, 1, i+1)\n",
    "    plt.title(num_list[i])\n",
    "    plt.scatter(train['disease'], train[num_list[i]])\n",
    "\n",
    "plt.tight_layout()"
   ]
  },
  {
   "cell_type": "code",
   "execution_count": 12,
   "metadata": {},
   "outputs": [
    {
     "data": {
      "text/html": [
       "<div>\n",
       "<style scoped>\n",
       "    .dataframe tbody tr th:only-of-type {\n",
       "        vertical-align: middle;\n",
       "    }\n",
       "\n",
       "    .dataframe tbody tr th {\n",
       "        vertical-align: top;\n",
       "    }\n",
       "\n",
       "    .dataframe thead th {\n",
       "        text-align: right;\n",
       "    }\n",
       "</style>\n",
       "<table border=\"1\" class=\"dataframe\">\n",
       "  <thead>\n",
       "    <tr style=\"text-align: right;\">\n",
       "      <th></th>\n",
       "      <th>Age</th>\n",
       "      <th>Gender</th>\n",
       "      <th>T_Bil</th>\n",
       "      <th>D_Bil</th>\n",
       "      <th>ALP</th>\n",
       "      <th>ALT_GPT</th>\n",
       "      <th>AST_GOT</th>\n",
       "      <th>TP</th>\n",
       "      <th>Alb</th>\n",
       "      <th>AG_ratio</th>\n",
       "      <th>disease</th>\n",
       "      <th>Age_cls</th>\n",
       "    </tr>\n",
       "  </thead>\n",
       "  <tbody>\n",
       "    <tr>\n",
       "      <th>268</th>\n",
       "      <td>78</td>\n",
       "      <td>Male</td>\n",
       "      <td>0.810486</td>\n",
       "      <td>0.197167</td>\n",
       "      <td>213.961347</td>\n",
       "      <td>15.247348</td>\n",
       "      <td>20.931720</td>\n",
       "      <td>7.530853</td>\n",
       "      <td>3.634814</td>\n",
       "      <td>1.285051</td>\n",
       "      <td>0</td>\n",
       "      <td>60_100</td>\n",
       "    </tr>\n",
       "    <tr>\n",
       "      <th>475</th>\n",
       "      <td>78</td>\n",
       "      <td>Male</td>\n",
       "      <td>0.717658</td>\n",
       "      <td>0.164531</td>\n",
       "      <td>207.302298</td>\n",
       "      <td>9.473956</td>\n",
       "      <td>21.145924</td>\n",
       "      <td>6.864853</td>\n",
       "      <td>3.600574</td>\n",
       "      <td>1.311394</td>\n",
       "      <td>0</td>\n",
       "      <td>60_100</td>\n",
       "    </tr>\n",
       "  </tbody>\n",
       "</table>\n",
       "</div>"
      ],
      "text/plain": [
       "     Age Gender     T_Bil     D_Bil         ALP    ALT_GPT    AST_GOT  \\\n",
       "268   78   Male  0.810486  0.197167  213.961347  15.247348  20.931720   \n",
       "475   78   Male  0.717658  0.164531  207.302298   9.473956  21.145924   \n",
       "\n",
       "           TP       Alb  AG_ratio  disease Age_cls  \n",
       "268  7.530853  3.634814  1.285051        0  60_100  \n",
       "475  6.864853  3.600574  1.311394        0  60_100  "
      ]
     },
     "metadata": {},
     "output_type": "display_data"
    },
    {
     "data": {
      "text/html": [
       "<div>\n",
       "<style scoped>\n",
       "    .dataframe tbody tr th:only-of-type {\n",
       "        vertical-align: middle;\n",
       "    }\n",
       "\n",
       "    .dataframe tbody tr th {\n",
       "        vertical-align: top;\n",
       "    }\n",
       "\n",
       "    .dataframe thead th {\n",
       "        text-align: right;\n",
       "    }\n",
       "</style>\n",
       "<table border=\"1\" class=\"dataframe\">\n",
       "  <thead>\n",
       "    <tr style=\"text-align: right;\">\n",
       "      <th></th>\n",
       "      <th>Age</th>\n",
       "      <th>Gender</th>\n",
       "      <th>T_Bil</th>\n",
       "      <th>D_Bil</th>\n",
       "      <th>ALP</th>\n",
       "      <th>ALT_GPT</th>\n",
       "      <th>AST_GOT</th>\n",
       "      <th>TP</th>\n",
       "      <th>Alb</th>\n",
       "      <th>AG_ratio</th>\n",
       "      <th>disease</th>\n",
       "      <th>Age_cls</th>\n",
       "    </tr>\n",
       "  </thead>\n",
       "  <tbody>\n",
       "    <tr>\n",
       "      <th>402</th>\n",
       "      <td>10</td>\n",
       "      <td>Male</td>\n",
       "      <td>0.767137</td>\n",
       "      <td>0.173513</td>\n",
       "      <td>214.651243</td>\n",
       "      <td>13.132598</td>\n",
       "      <td>20.931029</td>\n",
       "      <td>7.536683</td>\n",
       "      <td>4.212869</td>\n",
       "      <td>1.288729</td>\n",
       "      <td>0</td>\n",
       "      <td>0_30</td>\n",
       "    </tr>\n",
       "  </tbody>\n",
       "</table>\n",
       "</div>"
      ],
      "text/plain": [
       "     Age Gender     T_Bil     D_Bil         ALP    ALT_GPT    AST_GOT  \\\n",
       "402   10   Male  0.767137  0.173513  214.651243  13.132598  20.931029   \n",
       "\n",
       "           TP       Alb  AG_ratio  disease Age_cls  \n",
       "402  7.536683  4.212869  1.288729        0    0_30  "
      ]
     },
     "metadata": {},
     "output_type": "display_data"
    }
   ],
   "source": [
    "# Age 削除対象\n",
    "display(train[(train['Age']>75) & (train['disease']==0)])\n",
    "display(train[(train['Age']<12) & (train['disease']==0)])\n",
    "\n",
    "train = train.drop(train[(train['Age']>75) & (train['disease']==0)].index)\n",
    "train = train.drop(train[(train['Age']<12) & (train['disease']==0)].index)"
   ]
  },
  {
   "cell_type": "code",
   "execution_count": 13,
   "metadata": {},
   "outputs": [
    {
     "data": {
      "text/html": [
       "<div>\n",
       "<style scoped>\n",
       "    .dataframe tbody tr th:only-of-type {\n",
       "        vertical-align: middle;\n",
       "    }\n",
       "\n",
       "    .dataframe tbody tr th {\n",
       "        vertical-align: top;\n",
       "    }\n",
       "\n",
       "    .dataframe thead th {\n",
       "        text-align: right;\n",
       "    }\n",
       "</style>\n",
       "<table border=\"1\" class=\"dataframe\">\n",
       "  <thead>\n",
       "    <tr style=\"text-align: right;\">\n",
       "      <th></th>\n",
       "      <th>Age</th>\n",
       "      <th>Gender</th>\n",
       "      <th>T_Bil</th>\n",
       "      <th>D_Bil</th>\n",
       "      <th>ALP</th>\n",
       "      <th>ALT_GPT</th>\n",
       "      <th>AST_GOT</th>\n",
       "      <th>TP</th>\n",
       "      <th>Alb</th>\n",
       "      <th>AG_ratio</th>\n",
       "      <th>disease</th>\n",
       "      <th>Age_cls</th>\n",
       "    </tr>\n",
       "  </thead>\n",
       "  <tbody>\n",
       "    <tr>\n",
       "      <th>69</th>\n",
       "      <td>26</td>\n",
       "      <td>Male</td>\n",
       "      <td>23.017027</td>\n",
       "      <td>11.992452</td>\n",
       "      <td>214.777736</td>\n",
       "      <td>12.921732</td>\n",
       "      <td>98.892019</td>\n",
       "      <td>7.595521</td>\n",
       "      <td>3.585702</td>\n",
       "      <td>0.987575</td>\n",
       "      <td>1</td>\n",
       "      <td>0_30</td>\n",
       "    </tr>\n",
       "    <tr>\n",
       "      <th>240</th>\n",
       "      <td>50</td>\n",
       "      <td>Female</td>\n",
       "      <td>21.184706</td>\n",
       "      <td>17.264120</td>\n",
       "      <td>214.413921</td>\n",
       "      <td>16.616958</td>\n",
       "      <td>28.436753</td>\n",
       "      <td>8.639342</td>\n",
       "      <td>3.089583</td>\n",
       "      <td>1.225404</td>\n",
       "      <td>1</td>\n",
       "      <td>45_60</td>\n",
       "    </tr>\n",
       "    <tr>\n",
       "      <th>297</th>\n",
       "      <td>32</td>\n",
       "      <td>Male</td>\n",
       "      <td>23.013928</td>\n",
       "      <td>17.692164</td>\n",
       "      <td>206.635298</td>\n",
       "      <td>10.197751</td>\n",
       "      <td>22.378512</td>\n",
       "      <td>5.844967</td>\n",
       "      <td>3.136777</td>\n",
       "      <td>1.184554</td>\n",
       "      <td>1</td>\n",
       "      <td>30_45</td>\n",
       "    </tr>\n",
       "    <tr>\n",
       "      <th>468</th>\n",
       "      <td>32</td>\n",
       "      <td>Male</td>\n",
       "      <td>23.002653</td>\n",
       "      <td>11.978404</td>\n",
       "      <td>1861.148040</td>\n",
       "      <td>23.111268</td>\n",
       "      <td>62.911839</td>\n",
       "      <td>6.882093</td>\n",
       "      <td>3.203098</td>\n",
       "      <td>0.913798</td>\n",
       "      <td>1</td>\n",
       "      <td>30_45</td>\n",
       "    </tr>\n",
       "  </tbody>\n",
       "</table>\n",
       "</div>"
      ],
      "text/plain": [
       "     Age  Gender      T_Bil      D_Bil          ALP    ALT_GPT    AST_GOT  \\\n",
       "69    26    Male  23.017027  11.992452   214.777736  12.921732  98.892019   \n",
       "240   50  Female  21.184706  17.264120   214.413921  16.616958  28.436753   \n",
       "297   32    Male  23.013928  17.692164   206.635298  10.197751  22.378512   \n",
       "468   32    Male  23.002653  11.978404  1861.148040  23.111268  62.911839   \n",
       "\n",
       "           TP       Alb  AG_ratio  disease Age_cls  \n",
       "69   7.595521  3.585702  0.987575        1    0_30  \n",
       "240  8.639342  3.089583  1.225404        1   45_60  \n",
       "297  5.844967  3.136777  1.184554        1   30_45  \n",
       "468  6.882093  3.203098  0.913798        1   30_45  "
      ]
     },
     "metadata": {},
     "output_type": "display_data"
    }
   ],
   "source": [
    "# T-Bil 削除対象\n",
    "display(train[train['T_Bil']>15])\n",
    "\n",
    "# 削除\n",
    "train = train.drop(train[train['T_Bil']>15].index)"
   ]
  },
  {
   "cell_type": "code",
   "execution_count": 14,
   "metadata": {},
   "outputs": [
    {
     "data": {
      "text/html": [
       "<div>\n",
       "<style scoped>\n",
       "    .dataframe tbody tr th:only-of-type {\n",
       "        vertical-align: middle;\n",
       "    }\n",
       "\n",
       "    .dataframe tbody tr th {\n",
       "        vertical-align: top;\n",
       "    }\n",
       "\n",
       "    .dataframe thead th {\n",
       "        text-align: right;\n",
       "    }\n",
       "</style>\n",
       "<table border=\"1\" class=\"dataframe\">\n",
       "  <thead>\n",
       "    <tr style=\"text-align: right;\">\n",
       "      <th></th>\n",
       "      <th>Age</th>\n",
       "      <th>Gender</th>\n",
       "      <th>T_Bil</th>\n",
       "      <th>D_Bil</th>\n",
       "      <th>ALP</th>\n",
       "      <th>ALT_GPT</th>\n",
       "      <th>AST_GOT</th>\n",
       "      <th>TP</th>\n",
       "      <th>Alb</th>\n",
       "      <th>AG_ratio</th>\n",
       "      <th>disease</th>\n",
       "      <th>Age_cls</th>\n",
       "    </tr>\n",
       "  </thead>\n",
       "  <tbody>\n",
       "    <tr>\n",
       "      <th>119</th>\n",
       "      <td>47</td>\n",
       "      <td>Male</td>\n",
       "      <td>0.874862</td>\n",
       "      <td>12.140346</td>\n",
       "      <td>212.041216</td>\n",
       "      <td>44.877908</td>\n",
       "      <td>104.234557</td>\n",
       "      <td>8.612374</td>\n",
       "      <td>3.520750</td>\n",
       "      <td>1.215675</td>\n",
       "      <td>1</td>\n",
       "      <td>45_60</td>\n",
       "    </tr>\n",
       "    <tr>\n",
       "      <th>130</th>\n",
       "      <td>42</td>\n",
       "      <td>Male</td>\n",
       "      <td>0.930668</td>\n",
       "      <td>11.935322</td>\n",
       "      <td>197.000997</td>\n",
       "      <td>10.514899</td>\n",
       "      <td>14.825766</td>\n",
       "      <td>7.581402</td>\n",
       "      <td>3.659571</td>\n",
       "      <td>1.024392</td>\n",
       "      <td>0</td>\n",
       "      <td>30_45</td>\n",
       "    </tr>\n",
       "    <tr>\n",
       "      <th>363</th>\n",
       "      <td>59</td>\n",
       "      <td>Male</td>\n",
       "      <td>0.972024</td>\n",
       "      <td>11.908908</td>\n",
       "      <td>217.020581</td>\n",
       "      <td>13.980081</td>\n",
       "      <td>59.748856</td>\n",
       "      <td>8.661666</td>\n",
       "      <td>3.663260</td>\n",
       "      <td>1.289892</td>\n",
       "      <td>1</td>\n",
       "      <td>45_60</td>\n",
       "    </tr>\n",
       "    <tr>\n",
       "      <th>766</th>\n",
       "      <td>65</td>\n",
       "      <td>Male</td>\n",
       "      <td>0.858532</td>\n",
       "      <td>12.033170</td>\n",
       "      <td>220.387128</td>\n",
       "      <td>17.155909</td>\n",
       "      <td>80.863658</td>\n",
       "      <td>7.629307</td>\n",
       "      <td>4.123316</td>\n",
       "      <td>1.184591</td>\n",
       "      <td>1</td>\n",
       "      <td>60_100</td>\n",
       "    </tr>\n",
       "    <tr>\n",
       "      <th>826</th>\n",
       "      <td>32</td>\n",
       "      <td>Male</td>\n",
       "      <td>0.983627</td>\n",
       "      <td>12.201824</td>\n",
       "      <td>218.317890</td>\n",
       "      <td>10.606974</td>\n",
       "      <td>75.159134</td>\n",
       "      <td>7.602828</td>\n",
       "      <td>3.685454</td>\n",
       "      <td>0.987741</td>\n",
       "      <td>1</td>\n",
       "      <td>30_45</td>\n",
       "    </tr>\n",
       "  </tbody>\n",
       "</table>\n",
       "</div>"
      ],
      "text/plain": [
       "     Age Gender     T_Bil      D_Bil         ALP    ALT_GPT     AST_GOT  \\\n",
       "119   47   Male  0.874862  12.140346  212.041216  44.877908  104.234557   \n",
       "130   42   Male  0.930668  11.935322  197.000997  10.514899   14.825766   \n",
       "363   59   Male  0.972024  11.908908  217.020581  13.980081   59.748856   \n",
       "766   65   Male  0.858532  12.033170  220.387128  17.155909   80.863658   \n",
       "826   32   Male  0.983627  12.201824  218.317890  10.606974   75.159134   \n",
       "\n",
       "           TP       Alb  AG_ratio  disease Age_cls  \n",
       "119  8.612374  3.520750  1.215675        1   45_60  \n",
       "130  7.581402  3.659571  1.024392        0   30_45  \n",
       "363  8.661666  3.663260  1.289892        1   45_60  \n",
       "766  7.629307  4.123316  1.184591        1  60_100  \n",
       "826  7.602828  3.685454  0.987741        1   30_45  "
      ]
     },
     "metadata": {},
     "output_type": "display_data"
    }
   ],
   "source": [
    "# D-Bil 削除対象\n",
    "display(train[train['D_Bil']>10])\n",
    "\n",
    "train = train.drop(train[train['D_Bil']>10].index)"
   ]
  },
  {
   "cell_type": "code",
   "execution_count": 15,
   "metadata": {},
   "outputs": [
    {
     "data": {
      "text/html": [
       "<div>\n",
       "<style scoped>\n",
       "    .dataframe tbody tr th:only-of-type {\n",
       "        vertical-align: middle;\n",
       "    }\n",
       "\n",
       "    .dataframe tbody tr th {\n",
       "        vertical-align: top;\n",
       "    }\n",
       "\n",
       "    .dataframe thead th {\n",
       "        text-align: right;\n",
       "    }\n",
       "</style>\n",
       "<table border=\"1\" class=\"dataframe\">\n",
       "  <thead>\n",
       "    <tr style=\"text-align: right;\">\n",
       "      <th></th>\n",
       "      <th>Age</th>\n",
       "      <th>Gender</th>\n",
       "      <th>T_Bil</th>\n",
       "      <th>D_Bil</th>\n",
       "      <th>ALP</th>\n",
       "      <th>ALT_GPT</th>\n",
       "      <th>AST_GOT</th>\n",
       "      <th>TP</th>\n",
       "      <th>Alb</th>\n",
       "      <th>AG_ratio</th>\n",
       "      <th>disease</th>\n",
       "      <th>Age_cls</th>\n",
       "    </tr>\n",
       "  </thead>\n",
       "  <tbody>\n",
       "    <tr>\n",
       "      <th>662</th>\n",
       "      <td>75</td>\n",
       "      <td>Male</td>\n",
       "      <td>1.465158</td>\n",
       "      <td>0.767795</td>\n",
       "      <td>366.834104</td>\n",
       "      <td>116.407037</td>\n",
       "      <td>481.935324</td>\n",
       "      <td>8.631458</td>\n",
       "      <td>4.337368</td>\n",
       "      <td>1.262153</td>\n",
       "      <td>0</td>\n",
       "      <td>60_100</td>\n",
       "    </tr>\n",
       "  </tbody>\n",
       "</table>\n",
       "</div>"
      ],
      "text/plain": [
       "     Age Gender     T_Bil     D_Bil         ALP     ALT_GPT     AST_GOT  \\\n",
       "662   75   Male  1.465158  0.767795  366.834104  116.407037  481.935324   \n",
       "\n",
       "           TP       Alb  AG_ratio  disease Age_cls  \n",
       "662  8.631458  4.337368  1.262153        0  60_100  "
      ]
     },
     "metadata": {},
     "output_type": "display_data"
    }
   ],
   "source": [
    "# AST-GOT 削除対象\n",
    "display(train[(train['AST_GOT']>400) & (train['disease']==0)])\n",
    "\n",
    "train = train.drop(train[(train['AST_GOT']>400) & (train['disease']==0)].index)"
   ]
  },
  {
   "cell_type": "markdown",
   "metadata": {},
   "source": [
    "### カテゴリデータの可視化"
   ]
  },
  {
   "cell_type": "code",
   "execution_count": 16,
   "metadata": {},
   "outputs": [
    {
     "data": {
      "text/plain": [
       "<AxesSubplot:title={'center':'train Gender'}, xlabel='Gender'>"
      ]
     },
     "execution_count": 16,
     "metadata": {},
     "output_type": "execute_result"
    },
    {
     "data": {
      "image/png": "[encoded data removed]",
      "text/plain": [
       "<Figure size 432x288 with 1 Axes>"
      ]
     },
     "metadata": {
      "needs_background": "light"
     },
     "output_type": "display_data"
    }
   ],
   "source": [
    "train.groupby(\"Gender\")[\"Gender\"].count().sort_values(ascending=False).plot(kind=\"bar\", title=\"train Gender\")"
   ]
  },
  {
   "cell_type": "code",
   "execution_count": 17,
   "metadata": {},
   "outputs": [
    {
     "data": {
      "text/plain": [
       "<AxesSubplot:title={'center':'test Gender'}, xlabel='Gender'>"
      ]
     },
     "execution_count": 17,
     "metadata": {},
     "output_type": "execute_result"
    },
    {
     "data": {
      "image/png": "[encoded data removed]",
      "text/plain": [
       "<Figure size 432x288 with 1 Axes>"
      ]
     },
     "metadata": {
      "needs_background": "light"
     },
     "output_type": "display_data"
    }
   ],
   "source": [
    "test.groupby(\"Gender\")[\"Gender\"].count().sort_values(ascending=False).plot(kind=\"bar\", title=\"test Gender\")"
   ]
  },
  {
   "cell_type": "markdown",
   "metadata": {},
   "source": [
    "### 欠損値処理"
   ]
  },
  {
   "cell_type": "code",
   "execution_count": 18,
   "metadata": {},
   "outputs": [
    {
     "data": {
      "text/plain": [
       "Age         0\n",
       "Gender      0\n",
       "T_Bil       0\n",
       "D_Bil       0\n",
       "ALP         0\n",
       "ALT_GPT     0\n",
       "AST_GOT     0\n",
       "TP          0\n",
       "Alb         0\n",
       "AG_ratio    0\n",
       "disease     0\n",
       "Age_cls     0\n",
       "dtype: int64"
      ]
     },
     "metadata": {},
     "output_type": "display_data"
    },
    {
     "data": {
      "text/plain": [
       "Age         0\n",
       "Gender      0\n",
       "T_Bil       0\n",
       "D_Bil       0\n",
       "ALP         0\n",
       "ALT_GPT     0\n",
       "AST_GOT     0\n",
       "TP          0\n",
       "Alb         0\n",
       "AG_ratio    0\n",
       "Age_cls     0\n",
       "dtype: int64"
      ]
     },
     "metadata": {},
     "output_type": "display_data"
    }
   ],
   "source": [
    "display(train.isnull().sum())\n",
    "display(test.isnull().sum())"
   ]
  },
  {
   "cell_type": "markdown",
   "metadata": {},
   "source": [
    "### ラベルエンコーディング"
   ]
  },
  {
   "cell_type": "code",
   "execution_count": 19,
   "metadata": {},
   "outputs": [],
   "source": [
    "lbl = preprocessing.LabelEncoder()"
   ]
  },
  {
   "cell_type": "code",
   "execution_count": 20,
   "metadata": {},
   "outputs": [],
   "source": [
    "train[\"Gender\"] = lbl.fit_transform(train[\"Gender\"])\n",
    "test[\"Gender\"] = lbl.fit_transform(test[\"Gender\"])"
   ]
  },
  {
   "cell_type": "markdown",
   "metadata": {},
   "source": [
    "### 特徴量選択"
   ]
  },
  {
   "cell_type": "code",
   "execution_count": 21,
   "metadata": {},
   "outputs": [],
   "source": [
    "features = ['Age', 'Gender', 'T_Bil', 'D_Bil', 'ALP', 'ALT_GPT', 'AST_GOT', 'TP', 'Alb', 'AG_ratio']"
   ]
  },
  {
   "cell_type": "markdown",
   "metadata": {},
   "source": [
    "### Filter Method"
   ]
  },
  {
   "cell_type": "code",
   "execution_count": 22,
   "metadata": {},
   "outputs": [
    {
     "data": {
      "text/plain": [
       "Age         0.030424\n",
       "Gender      0.107368\n",
       "T_Bil       0.390404\n",
       "D_Bil       0.384449\n",
       "ALP         0.213185\n",
       "ALT_GPT     0.202359\n",
       "AST_GOT     0.324016\n",
       "TP         -0.079806\n",
       "Alb        -0.174934\n",
       "AG_ratio   -0.308226\n",
       "disease     1.000000\n",
       "Name: disease, dtype: float64"
      ]
     },
     "execution_count": 22,
     "metadata": {},
     "output_type": "execute_result"
    }
   ],
   "source": [
    "train.corr()[\"disease\"]"
   ]
  },
  {
   "cell_type": "code",
   "execution_count": 23,
   "metadata": {},
   "outputs": [
    {
     "data": {
      "text/html": [
       "<div>\n",
       "<style scoped>\n",
       "    .dataframe tbody tr th:only-of-type {\n",
       "        vertical-align: middle;\n",
       "    }\n",
       "\n",
       "    .dataframe tbody tr th {\n",
       "        vertical-align: top;\n",
       "    }\n",
       "\n",
       "    .dataframe thead th {\n",
       "        text-align: right;\n",
       "    }\n",
       "</style>\n",
       "<table border=\"1\" class=\"dataframe\">\n",
       "  <thead>\n",
       "    <tr style=\"text-align: right;\">\n",
       "      <th></th>\n",
       "      <th>Age</th>\n",
       "      <th>Gender</th>\n",
       "      <th>T_Bil</th>\n",
       "      <th>D_Bil</th>\n",
       "      <th>ALP</th>\n",
       "      <th>ALT_GPT</th>\n",
       "      <th>AST_GOT</th>\n",
       "      <th>TP</th>\n",
       "      <th>Alb</th>\n",
       "      <th>AG_ratio</th>\n",
       "      <th>disease</th>\n",
       "    </tr>\n",
       "  </thead>\n",
       "  <tbody>\n",
       "    <tr>\n",
       "      <th>Age</th>\n",
       "      <td>1.0</td>\n",
       "      <td>NaN</td>\n",
       "      <td>NaN</td>\n",
       "      <td>NaN</td>\n",
       "      <td>NaN</td>\n",
       "      <td>NaN</td>\n",
       "      <td>NaN</td>\n",
       "      <td>NaN</td>\n",
       "      <td>NaN</td>\n",
       "      <td>NaN</td>\n",
       "      <td>NaN</td>\n",
       "    </tr>\n",
       "    <tr>\n",
       "      <th>Gender</th>\n",
       "      <td>NaN</td>\n",
       "      <td>1.0</td>\n",
       "      <td>NaN</td>\n",
       "      <td>NaN</td>\n",
       "      <td>NaN</td>\n",
       "      <td>NaN</td>\n",
       "      <td>NaN</td>\n",
       "      <td>NaN</td>\n",
       "      <td>NaN</td>\n",
       "      <td>NaN</td>\n",
       "      <td>NaN</td>\n",
       "    </tr>\n",
       "    <tr>\n",
       "      <th>T_Bil</th>\n",
       "      <td>NaN</td>\n",
       "      <td>NaN</td>\n",
       "      <td>1.000000</td>\n",
       "      <td>0.930462</td>\n",
       "      <td>NaN</td>\n",
       "      <td>NaN</td>\n",
       "      <td>NaN</td>\n",
       "      <td>NaN</td>\n",
       "      <td>NaN</td>\n",
       "      <td>NaN</td>\n",
       "      <td>NaN</td>\n",
       "    </tr>\n",
       "    <tr>\n",
       "      <th>D_Bil</th>\n",
       "      <td>NaN</td>\n",
       "      <td>NaN</td>\n",
       "      <td>0.930462</td>\n",
       "      <td>1.000000</td>\n",
       "      <td>NaN</td>\n",
       "      <td>NaN</td>\n",
       "      <td>NaN</td>\n",
       "      <td>NaN</td>\n",
       "      <td>NaN</td>\n",
       "      <td>NaN</td>\n",
       "      <td>NaN</td>\n",
       "    </tr>\n",
       "    <tr>\n",
       "      <th>ALP</th>\n",
       "      <td>NaN</td>\n",
       "      <td>NaN</td>\n",
       "      <td>NaN</td>\n",
       "      <td>NaN</td>\n",
       "      <td>1.0</td>\n",
       "      <td>NaN</td>\n",
       "      <td>NaN</td>\n",
       "      <td>NaN</td>\n",
       "      <td>NaN</td>\n",
       "      <td>NaN</td>\n",
       "      <td>NaN</td>\n",
       "    </tr>\n",
       "    <tr>\n",
       "      <th>ALT_GPT</th>\n",
       "      <td>NaN</td>\n",
       "      <td>NaN</td>\n",
       "      <td>NaN</td>\n",
       "      <td>NaN</td>\n",
       "      <td>NaN</td>\n",
       "      <td>1.0</td>\n",
       "      <td>NaN</td>\n",
       "      <td>NaN</td>\n",
       "      <td>NaN</td>\n",
       "      <td>NaN</td>\n",
       "      <td>NaN</td>\n",
       "    </tr>\n",
       "    <tr>\n",
       "      <th>AST_GOT</th>\n",
       "      <td>NaN</td>\n",
       "      <td>NaN</td>\n",
       "      <td>NaN</td>\n",
       "      <td>NaN</td>\n",
       "      <td>NaN</td>\n",
       "      <td>NaN</td>\n",
       "      <td>1.0</td>\n",
       "      <td>NaN</td>\n",
       "      <td>NaN</td>\n",
       "      <td>NaN</td>\n",
       "      <td>NaN</td>\n",
       "    </tr>\n",
       "    <tr>\n",
       "      <th>TP</th>\n",
       "      <td>NaN</td>\n",
       "      <td>NaN</td>\n",
       "      <td>NaN</td>\n",
       "      <td>NaN</td>\n",
       "      <td>NaN</td>\n",
       "      <td>NaN</td>\n",
       "      <td>NaN</td>\n",
       "      <td>1.0</td>\n",
       "      <td>NaN</td>\n",
       "      <td>NaN</td>\n",
       "      <td>NaN</td>\n",
       "    </tr>\n",
       "    <tr>\n",
       "      <th>Alb</th>\n",
       "      <td>NaN</td>\n",
       "      <td>NaN</td>\n",
       "      <td>NaN</td>\n",
       "      <td>NaN</td>\n",
       "      <td>NaN</td>\n",
       "      <td>NaN</td>\n",
       "      <td>NaN</td>\n",
       "      <td>NaN</td>\n",
       "      <td>1.0</td>\n",
       "      <td>NaN</td>\n",
       "      <td>NaN</td>\n",
       "    </tr>\n",
       "    <tr>\n",
       "      <th>AG_ratio</th>\n",
       "      <td>NaN</td>\n",
       "      <td>NaN</td>\n",
       "      <td>NaN</td>\n",
       "      <td>NaN</td>\n",
       "      <td>NaN</td>\n",
       "      <td>NaN</td>\n",
       "      <td>NaN</td>\n",
       "      <td>NaN</td>\n",
       "      <td>NaN</td>\n",
       "      <td>1.0</td>\n",
       "      <td>NaN</td>\n",
       "    </tr>\n",
       "    <tr>\n",
       "      <th>disease</th>\n",
       "      <td>NaN</td>\n",
       "      <td>NaN</td>\n",
       "      <td>NaN</td>\n",
       "      <td>NaN</td>\n",
       "      <td>NaN</td>\n",
       "      <td>NaN</td>\n",
       "      <td>NaN</td>\n",
       "      <td>NaN</td>\n",
       "      <td>NaN</td>\n",
       "      <td>NaN</td>\n",
       "      <td>1.0</td>\n",
       "    </tr>\n",
       "  </tbody>\n",
       "</table>\n",
       "</div>"
      ],
      "text/plain": [
       "          Age  Gender     T_Bil     D_Bil  ALP  ALT_GPT  AST_GOT   TP  Alb  \\\n",
       "Age       1.0     NaN       NaN       NaN  NaN      NaN      NaN  NaN  NaN   \n",
       "Gender    NaN     1.0       NaN       NaN  NaN      NaN      NaN  NaN  NaN   \n",
       "T_Bil     NaN     NaN  1.000000  0.930462  NaN      NaN      NaN  NaN  NaN   \n",
       "D_Bil     NaN     NaN  0.930462  1.000000  NaN      NaN      NaN  NaN  NaN   \n",
       "ALP       NaN     NaN       NaN       NaN  1.0      NaN      NaN  NaN  NaN   \n",
       "ALT_GPT   NaN     NaN       NaN       NaN  NaN      1.0      NaN  NaN  NaN   \n",
       "AST_GOT   NaN     NaN       NaN       NaN  NaN      NaN      1.0  NaN  NaN   \n",
       "TP        NaN     NaN       NaN       NaN  NaN      NaN      NaN  1.0  NaN   \n",
       "Alb       NaN     NaN       NaN       NaN  NaN      NaN      NaN  NaN  1.0   \n",
       "AG_ratio  NaN     NaN       NaN       NaN  NaN      NaN      NaN  NaN  NaN   \n",
       "disease   NaN     NaN       NaN       NaN  NaN      NaN      NaN  NaN  NaN   \n",
       "\n",
       "          AG_ratio  disease  \n",
       "Age            NaN      NaN  \n",
       "Gender         NaN      NaN  \n",
       "T_Bil          NaN      NaN  \n",
       "D_Bil          NaN      NaN  \n",
       "ALP            NaN      NaN  \n",
       "ALT_GPT        NaN      NaN  \n",
       "AST_GOT        NaN      NaN  \n",
       "TP             NaN      NaN  \n",
       "Alb            NaN      NaN  \n",
       "AG_ratio       1.0      NaN  \n",
       "disease        NaN      1.0  "
      ]
     },
     "execution_count": 23,
     "metadata": {},
     "output_type": "execute_result"
    }
   ],
   "source": [
    "# D_Bil\tT_Bil 0.930493\n",
    "\n",
    "# disease T_Bil 0.390951\n",
    "# disease D_Bil 0.384931 -> こちらを削除\n",
    "train.corr()[abs(train.corr()) > 0.8]"
   ]
  },
  {
   "cell_type": "code",
   "execution_count": 24,
   "metadata": {},
   "outputs": [],
   "source": [
    "features = ['Age', 'Gender', 'T_Bil', 'ALP', 'ALT_GPT', 'AST_GOT', 'TP', 'Alb', 'AG_ratio']"
   ]
  },
  {
   "cell_type": "markdown",
   "metadata": {},
   "source": [
    "### データの分割"
   ]
  },
  {
   "cell_type": "code",
   "execution_count": 25,
   "metadata": {},
   "outputs": [],
   "source": [
    "# testデータに復元用のNo.を振る\n",
    "serial_num = pd.RangeIndex(start=1, stop=test.shape[0]+1, step=1)\n",
    "test['No'] = serial_num"
   ]
  },
  {
   "cell_type": "code",
   "execution_count": 26,
   "metadata": {},
   "outputs": [
    {
     "data": {
      "text/plain": [
       "['0_30', '60_100', '30_45', '45_60']\n",
       "Categories (4, object): ['0_30' < '30_45' < '45_60' < '60_100']"
      ]
     },
     "execution_count": 26,
     "metadata": {},
     "output_type": "execute_result"
    }
   ],
   "source": [
    "test[\"Age_cls\"].unique()"
   ]
  },
  {
   "cell_type": "code",
   "execution_count": 27,
   "metadata": {},
   "outputs": [],
   "source": [
    "# 0_30歳代\n",
    "train_0_30 = train[train[\"Age_cls\"] == \"0_30\"]\n",
    "test_0_30 = test[test[\"Age_cls\"] == \"0_30\"]"
   ]
  },
  {
   "cell_type": "code",
   "execution_count": 28,
   "metadata": {},
   "outputs": [],
   "source": [
    "# 30_45歳代\n",
    "train_30_45 = train[train[\"Age_cls\"] == \"30_45\"]\n",
    "test_30_45 = test[test[\"Age_cls\"] == \"30_45\"]"
   ]
  },
  {
   "cell_type": "code",
   "execution_count": 29,
   "metadata": {},
   "outputs": [],
   "source": [
    "# 45_60歳代\n",
    "train_45_60 = train[train[\"Age_cls\"] == \"45_60\"]\n",
    "test_45_60 = test[test[\"Age_cls\"] == \"45_60\"]"
   ]
  },
  {
   "cell_type": "code",
   "execution_count": 30,
   "metadata": {},
   "outputs": [],
   "source": [
    "# 60_100歳代\n",
    "train_60_100 = train[train[\"Age_cls\"] == \"60_100\"]\n",
    "test_60_100 = test[test[\"Age_cls\"] == \"60_100\"]"
   ]
  },
  {
   "cell_type": "markdown",
   "metadata": {},
   "source": [
    "### ホールドアウト法"
   ]
  },
  {
   "cell_type": "code",
   "execution_count": 31,
   "metadata": {},
   "outputs": [],
   "source": [
    "# 0_30歳代データ\n",
    "X_train_0_30, X_test_0_30, y_train_0_30, y_test_0_30 = train_test_split(train_0_30[features], \n",
    "                                                                        train_0_30[\"disease\"], test_size=0.3, random_state=42)"
   ]
  },
  {
   "cell_type": "code",
   "execution_count": 32,
   "metadata": {},
   "outputs": [],
   "source": [
    "# 30_45歳代データ\n",
    "X_train_30_45, X_test_30_45, y_train_30_45, y_test_30_45 = train_test_split(train_30_45[features], \n",
    "                                                    train_30_45[\"disease\"], test_size=0.3, random_state=42)"
   ]
  },
  {
   "cell_type": "code",
   "execution_count": 33,
   "metadata": {},
   "outputs": [],
   "source": [
    "# 45_60歳代データ\n",
    "X_train_45_60, X_test_45_60, y_train_45_60, y_test_45_60 = train_test_split(train_45_60[features], \n",
    "                                                    train_45_60[\"disease\"], test_size=0.3, random_state=42)"
   ]
  },
  {
   "cell_type": "code",
   "execution_count": 34,
   "metadata": {},
   "outputs": [],
   "source": [
    "# 60_100歳代データ\n",
    "X_train_60_100, X_test_60_100, y_train_60_100, y_test_60_100 = train_test_split(train_60_100[features], \n",
    "                                                    train_60_100[\"disease\"], test_size=0.3, random_state=42)"
   ]
  },
  {
   "cell_type": "markdown",
   "metadata": {},
   "source": [
    "### 学習"
   ]
  },
  {
   "cell_type": "markdown",
   "metadata": {},
   "source": [
    "#### lightGBM"
   ]
  },
  {
   "cell_type": "code",
   "execution_count": 35,
   "metadata": {},
   "outputs": [],
   "source": [
    "# 0_30歳代データ\n",
    "train_set_0_30 = lgb.Dataset(X_train_0_30, y_train_0_30)\n",
    "val_set_0_30 = lgb.Dataset(X_test_0_30, y_test_0_30, reference=train_set_0_30)"
   ]
  },
  {
   "cell_type": "code",
   "execution_count": 36,
   "metadata": {},
   "outputs": [],
   "source": [
    "# 30_45歳代データ\n",
    "train_set_30_45 = lgb.Dataset(X_train_30_45, y_train_30_45)\n",
    "val_set_30_45 = lgb.Dataset(X_test_30_45, y_test_30_45, reference=train_set_30_45)"
   ]
  },
  {
   "cell_type": "code",
   "execution_count": 37,
   "metadata": {},
   "outputs": [],
   "source": [
    "# 45_60歳代データ\n",
    "train_set_45_60 = lgb.Dataset(X_train_45_60, y_train_45_60)\n",
    "val_set_45_60 = lgb.Dataset(X_test_45_60, y_test_45_60, reference=train_set_45_60)"
   ]
  },
  {
   "cell_type": "code",
   "execution_count": 38,
   "metadata": {},
   "outputs": [],
   "source": [
    "# 60_100歳代データ\n",
    "train_set_60_100 = lgb.Dataset(X_train_60_100, y_train_60_100)\n",
    "val_set_60_100 = lgb.Dataset(X_test_60_100, y_test_60_100, reference=train_set_60_100)"
   ]
  },
  {
   "cell_type": "code",
   "execution_count": 39,
   "metadata": {},
   "outputs": [],
   "source": [
    "params = {\n",
    "    'boosting_type': 'gbdt',\n",
    "    'metric': 'auc',\n",
    "    'objective': 'binary',\n",
    "    'verbosity': -1,\n",
    "    'seed': 42,\n",
    "    'learning_rate': 0.1,\n",
    "    'bagging_fraction': 0.75,\n",
    "    'bagging_freq': 10, \n",
    "    'colsample_bytree': 0.75,\n",
    "}"
   ]
  },
  {
   "cell_type": "code",
   "execution_count": 40,
   "metadata": {
    "collapsed": true,
    "jupyter": {
     "outputs_hidden": true
    }
   },
   "outputs": [
    {
     "name": "stderr",
     "output_type": "stream",
     "text": [
      "feature_fraction, val_score: -inf:   0%|          | 0/7 [00:00<?, ?it/s]"
     ]
    },
    {
     "name": "stdout",
     "output_type": "stream",
     "text": [
      "Training until validation scores don't improve for 100 rounds\n",
      "[50]\tvalid_0's auc: 0.880805\n",
      "[100]\tvalid_0's auc: 0.886997\n",
      "Early stopping, best iteration is:\n",
      "[37]\tvalid_0's auc: 0.891641\n"
     ]
    },
    {
     "name": "stderr",
     "output_type": "stream",
     "text": [
      "feature_fraction, val_score: 0.891641:   0%|          | 0/7 [00:00<?, ?it/s][I 2020-09-26 21:00:07,336] Finished trial#0 with value: 0.891640866873065 with parameters: {'feature_fraction': 0.8999999999999999}. Best is trial#0 with value: 0.891640866873065.\n",
      "feature_fraction, val_score: 0.891641:  14%|#4        | 1/7 [00:00<00:00,  6.85it/s]"
     ]
    },
    {
     "name": "stdout",
     "output_type": "stream",
     "text": [
      "Training until validation scores don't improve for 100 rounds\n",
      "[50]\tvalid_0's auc: 0.891641\n",
      "[100]\tvalid_0's auc: 0.888545\n",
      "[150]\tvalid_0's auc: 0.897833\n",
      "[200]\tvalid_0's auc: 0.894737\n",
      "[250]\tvalid_0's auc: 0.890093\n",
      "Early stopping, best iteration is:\n",
      "[159]\tvalid_0's auc: 0.902477\n"
     ]
    },
    {
     "name": "stderr",
     "output_type": "stream",
     "text": [
      "feature_fraction, val_score: 0.902477:  29%|##8       | 2/7 [00:00<00:00,  8.85it/s][I 2020-09-26 21:00:07,510] Finished trial#1 with value: 0.9024767801857585 with parameters: {'feature_fraction': 0.8}. Best is trial#1 with value: 0.9024767801857585.\n",
      "feature_fraction, val_score: 0.902477:  29%|##8       | 2/7 [00:00<00:00,  8.85it/s]"
     ]
    },
    {
     "name": "stdout",
     "output_type": "stream",
     "text": [
      "Training until validation scores don't improve for 100 rounds\n",
      "[50]\tvalid_0's auc: 0.886997\n",
      "[100]\tvalid_0's auc: 0.880805\n",
      "Early stopping, best iteration is:\n",
      "[35]\tvalid_0's auc: 0.896285\n"
     ]
    },
    {
     "name": "stderr",
     "output_type": "stream",
     "text": [
      "feature_fraction, val_score: 0.902477:  43%|####2     | 3/7 [00:00<00:00,  8.18it/s][I 2020-09-26 21:00:07,662] Finished trial#2 with value: 0.8962848297213623 with parameters: {'feature_fraction': 1.0}. Best is trial#1 with value: 0.9024767801857585.\n",
      "feature_fraction, val_score: 0.902477:  43%|####2     | 3/7 [00:00<00:00,  8.18it/s]"
     ]
    },
    {
     "name": "stdout",
     "output_type": "stream",
     "text": [
      "Training until validation scores don't improve for 100 rounds\n",
      "[50]\tvalid_0's auc: 0.896285\n",
      "[100]\tvalid_0's auc: 0.896285\n",
      "Early stopping, best iteration is:\n",
      "[45]\tvalid_0's auc: 0.904025\n"
     ]
    },
    {
     "name": "stderr",
     "output_type": "stream",
     "text": [
      "feature_fraction, val_score: 0.904025:  57%|#####7    | 4/7 [00:00<00:00,  7.67it/s][I 2020-09-26 21:00:07,797] Finished trial#3 with value: 0.9040247678018576 with parameters: {'feature_fraction': 0.5}. Best is trial#3 with value: 0.9040247678018576.\n",
      "feature_fraction, val_score: 0.904025:  57%|#####7    | 4/7 [00:00<00:00,  7.67it/s]"
     ]
    },
    {
     "name": "stdout",
     "output_type": "stream",
     "text": [
      "Training until validation scores don't improve for 100 rounds\n",
      "[50]\tvalid_0's auc: 0.890093\n",
      "[100]\tvalid_0's auc: 0.894737\n",
      "[150]\tvalid_0's auc: 0.894737\n",
      "[200]\tvalid_0's auc: 0.893189\n",
      "[250]\tvalid_0's auc: 0.890093\n",
      "Early stopping, best iteration is:\n",
      "[160]\tvalid_0's auc: 0.902477\n"
     ]
    },
    {
     "name": "stderr",
     "output_type": "stream",
     "text": [
      "feature_fraction, val_score: 0.904025:  71%|#######1  | 5/7 [00:00<00:00,  7.00it/s][I 2020-09-26 21:00:07,976] Finished trial#4 with value: 0.9024767801857585 with parameters: {'feature_fraction': 0.6}. Best is trial#3 with value: 0.9040247678018576.\n",
      "feature_fraction, val_score: 0.904025:  71%|#######1  | 5/7 [00:00<00:00,  7.00it/s]"
     ]
    },
    {
     "name": "stdout",
     "output_type": "stream",
     "text": [
      "Training until validation scores don't improve for 100 rounds\n",
      "[50]\tvalid_0's auc: 0.899381\n",
      "[100]\tvalid_0's auc: 0.899381\n",
      "Early stopping, best iteration is:\n",
      "[41]\tvalid_0's auc: 0.902477\n"
     ]
    },
    {
     "name": "stderr",
     "output_type": "stream",
     "text": [
      "feature_fraction, val_score: 0.904025:  86%|########5 | 6/7 [00:00<00:00,  6.96it/s][I 2020-09-26 21:00:08,111] Finished trial#5 with value: 0.9024767801857585 with parameters: {'feature_fraction': 0.4}. Best is trial#3 with value: 0.9040247678018576.\n",
      "feature_fraction, val_score: 0.904025:  86%|########5 | 6/7 [00:00<00:00,  6.96it/s]"
     ]
    },
    {
     "name": "stdout",
     "output_type": "stream",
     "text": [
      "Training until validation scores don't improve for 100 rounds\n",
      "[50]\tvalid_0's auc: 0.891641\n",
      "[100]\tvalid_0's auc: 0.888545\n",
      "[150]\tvalid_0's auc: 0.897833\n",
      "[200]\tvalid_0's auc: 0.894737\n",
      "[250]\tvalid_0's auc: 0.890093\n",
      "Early stopping, best iteration is:\n",
      "[159]\tvalid_0's auc: 0.902477\n"
     ]
    },
    {
     "name": "stderr",
     "output_type": "stream",
     "text": [
      "feature_fraction, val_score: 0.904025: 100%|##########| 7/7 [00:00<00:00,  6.70it/s][I 2020-09-26 21:00:08,272] Finished trial#6 with value: 0.9024767801857585 with parameters: {'feature_fraction': 0.7}. Best is trial#3 with value: 0.9040247678018576.\n",
      "feature_fraction, val_score: 0.904025: 100%|##########| 7/7 [00:01<00:00,  6.47it/s]\n",
      "num_leaves, val_score: 0.904025:   0%|          | 0/20 [00:00<?, ?it/s]"
     ]
    },
    {
     "name": "stdout",
     "output_type": "stream",
     "text": [
      "Training until validation scores don't improve for 100 rounds\n",
      "[50]\tvalid_0's auc: 0.896285\n",
      "[100]\tvalid_0's auc: 0.896285\n",
      "Early stopping, best iteration is:\n",
      "[45]\tvalid_0's auc: 0.904025\n"
     ]
    },
    {
     "name": "stderr",
     "output_type": "stream",
     "text": [
      "num_leaves, val_score: 0.904025:   0%|          | 0/20 [00:00<?, ?it/s][I 2020-09-26 21:00:08,420] Finished trial#7 with value: 0.9040247678018576 with parameters: {'num_leaves': 20}. Best is trial#7 with value: 0.9040247678018576.\n",
      "num_leaves, val_score: 0.904025:   5%|5         | 1/20 [00:00<00:02,  7.14it/s]"
     ]
    },
    {
     "name": "stdout",
     "output_type": "stream",
     "text": [
      "Training until validation scores don't improve for 100 rounds\n",
      "[50]\tvalid_0's auc: 0.896285\n",
      "[100]\tvalid_0's auc: 0.896285\n",
      "Early stopping, best iteration is:\n",
      "[45]\tvalid_0's auc: 0.904025\n"
     ]
    },
    {
     "name": "stderr",
     "output_type": "stream",
     "text": [
      "num_leaves, val_score: 0.904025:  10%|#         | 2/20 [00:00<00:01, 10.20it/s][I 2020-09-26 21:00:08,575] Finished trial#8 with value: 0.9040247678018576 with parameters: {'num_leaves': 173}. Best is trial#7 with value: 0.9040247678018576.\n",
      "num_leaves, val_score: 0.904025:  10%|#         | 2/20 [00:00<00:01, 10.20it/s]"
     ]
    },
    {
     "name": "stdout",
     "output_type": "stream",
     "text": [
      "Training until validation scores don't improve for 100 rounds\n",
      "[50]\tvalid_0's auc: 0.896285\n",
      "[100]\tvalid_0's auc: 0.896285\n",
      "Early stopping, best iteration is:\n",
      "[45]\tvalid_0's auc: 0.904025\n"
     ]
    },
    {
     "name": "stderr",
     "output_type": "stream",
     "text": [
      "num_leaves, val_score: 0.904025:  15%|#5        | 3/20 [00:00<00:01,  8.83it/s][I 2020-09-26 21:00:08,714] Finished trial#9 with value: 0.9040247678018576 with parameters: {'num_leaves': 87}. Best is trial#7 with value: 0.9040247678018576.\n",
      "num_leaves, val_score: 0.904025:  15%|#5        | 3/20 [00:00<00:01,  8.83it/s]"
     ]
    },
    {
     "name": "stdout",
     "output_type": "stream",
     "text": [
      "Training until validation scores don't improve for 100 rounds\n",
      "[50]\tvalid_0's auc: 0.896285\n",
      "[100]\tvalid_0's auc: 0.896285\n",
      "Early stopping, best iteration is:\n",
      "[45]\tvalid_0's auc: 0.904025\n"
     ]
    },
    {
     "name": "stderr",
     "output_type": "stream",
     "text": [
      "num_leaves, val_score: 0.904025:  20%|##        | 4/20 [00:00<00:01,  8.16it/s][I 2020-09-26 21:00:08,868] Finished trial#10 with value: 0.9040247678018576 with parameters: {'num_leaves': 114}. Best is trial#7 with value: 0.9040247678018576.\n",
      "num_leaves, val_score: 0.904025:  20%|##        | 4/20 [00:00<00:01,  8.16it/s]"
     ]
    },
    {
     "name": "stdout",
     "output_type": "stream",
     "text": [
      "Training until validation scores don't improve for 100 rounds\n",
      "[50]\tvalid_0's auc: 0.891641\n",
      "[100]\tvalid_0's auc: 0.890093\n",
      "Early stopping, best iteration is:\n",
      "[40]\tvalid_0's auc: 0.904799\n"
     ]
    },
    {
     "name": "stderr",
     "output_type": "stream",
     "text": [
      "num_leaves, val_score: 0.904799:  25%|##5       | 5/20 [00:00<00:01,  7.85it/s][I 2020-09-26 21:00:08,994] Finished trial#11 with value: 0.9047987616099071 with parameters: {'num_leaves': 3}. Best is trial#11 with value: 0.9047987616099071.\n",
      "num_leaves, val_score: 0.904799:  25%|##5       | 5/20 [00:00<00:01,  7.85it/s]"
     ]
    },
    {
     "name": "stdout",
     "output_type": "stream",
     "text": [
      "Training until validation scores don't improve for 100 rounds\n",
      "[50]\tvalid_0's auc: 0.896285\n",
      "[100]\tvalid_0's auc: 0.896285\n",
      "Early stopping, best iteration is:\n",
      "[45]\tvalid_0's auc: 0.904025\n"
     ]
    },
    {
     "name": "stderr",
     "output_type": "stream",
     "text": [
      "num_leaves, val_score: 0.904799:  30%|###       | 6/20 [00:00<00:01,  7.50it/s][I 2020-09-26 21:00:09,147] Finished trial#12 with value: 0.9040247678018576 with parameters: {'num_leaves': 204}. Best is trial#11 with value: 0.9047987616099071.\n",
      "num_leaves, val_score: 0.904799:  30%|###       | 6/20 [00:00<00:01,  7.50it/s]"
     ]
    },
    {
     "name": "stdout",
     "output_type": "stream",
     "text": [
      "Training until validation scores don't improve for 100 rounds\n",
      "[50]\tvalid_0's auc: 0.896285\n",
      "[100]\tvalid_0's auc: 0.896285\n",
      "Early stopping, best iteration is:\n",
      "[45]\tvalid_0's auc: 0.904025\n"
     ]
    },
    {
     "name": "stderr",
     "output_type": "stream",
     "text": [
      "num_leaves, val_score: 0.904799:  35%|###5      | 7/20 [00:00<00:01,  7.20it/s][I 2020-09-26 21:00:09,295] Finished trial#13 with value: 0.9040247678018576 with parameters: {'num_leaves': 158}. Best is trial#11 with value: 0.9047987616099071.\n",
      "num_leaves, val_score: 0.904799:  35%|###5      | 7/20 [00:01<00:01,  7.20it/s]"
     ]
    },
    {
     "name": "stdout",
     "output_type": "stream",
     "text": [
      "Training until validation scores don't improve for 100 rounds\n",
      "[50]\tvalid_0's auc: 0.896285\n",
      "[100]\tvalid_0's auc: 0.896285\n",
      "Early stopping, best iteration is:\n",
      "[45]\tvalid_0's auc: 0.904025\n"
     ]
    },
    {
     "name": "stderr",
     "output_type": "stream",
     "text": [
      "num_leaves, val_score: 0.904799:  40%|####      | 8/20 [00:01<00:01,  7.21it/s][I 2020-09-26 21:00:09,444] Finished trial#14 with value: 0.9040247678018576 with parameters: {'num_leaves': 78}. Best is trial#11 with value: 0.9047987616099071.\n",
      "num_leaves, val_score: 0.904799:  40%|####      | 8/20 [00:01<00:01,  7.21it/s]"
     ]
    },
    {
     "name": "stdout",
     "output_type": "stream",
     "text": [
      "Training until validation scores don't improve for 100 rounds\n",
      "[50]\tvalid_0's auc: 0.896285\n",
      "[100]\tvalid_0's auc: 0.896285\n",
      "Early stopping, best iteration is:\n",
      "[45]\tvalid_0's auc: 0.904025\n"
     ]
    },
    {
     "name": "stderr",
     "output_type": "stream",
     "text": [
      "num_leaves, val_score: 0.904799:  45%|####5     | 9/20 [00:01<00:01,  7.07it/s][I 2020-09-26 21:00:09,590] Finished trial#15 with value: 0.9040247678018576 with parameters: {'num_leaves': 45}. Best is trial#11 with value: 0.9047987616099071.\n",
      "num_leaves, val_score: 0.904799:  45%|####5     | 9/20 [00:01<00:01,  7.07it/s]"
     ]
    },
    {
     "name": "stdout",
     "output_type": "stream",
     "text": [
      "Training until validation scores don't improve for 100 rounds\n",
      "[50]\tvalid_0's auc: 0.896285\n",
      "[100]\tvalid_0's auc: 0.896285\n",
      "Early stopping, best iteration is:\n",
      "[45]\tvalid_0's auc: 0.904025\n"
     ]
    },
    {
     "name": "stderr",
     "output_type": "stream",
     "text": [
      "num_leaves, val_score: 0.904799:  50%|#####     | 10/20 [00:01<00:01,  7.05it/s][I 2020-09-26 21:00:09,756] Finished trial#16 with value: 0.9040247678018576 with parameters: {'num_leaves': 83}. Best is trial#11 with value: 0.9047987616099071.\n",
      "num_leaves, val_score: 0.904799:  50%|#####     | 10/20 [00:01<00:01,  7.05it/s]"
     ]
    },
    {
     "name": "stdout",
     "output_type": "stream",
     "text": [
      "Training until validation scores don't improve for 100 rounds\n",
      "[50]\tvalid_0's auc: 0.896285\n",
      "[100]\tvalid_0's auc: 0.896285\n",
      "Early stopping, best iteration is:\n",
      "[45]\tvalid_0's auc: 0.904025\n"
     ]
    },
    {
     "name": "stderr",
     "output_type": "stream",
     "text": [
      "num_leaves, val_score: 0.904799:  55%|#####5    | 11/20 [00:01<00:01,  6.25it/s][I 2020-09-26 21:00:09,925] Finished trial#17 with value: 0.9040247678018576 with parameters: {'num_leaves': 13}. Best is trial#11 with value: 0.9047987616099071.\n",
      "num_leaves, val_score: 0.904799:  55%|#####5    | 11/20 [00:01<00:01,  6.25it/s]"
     ]
    },
    {
     "name": "stdout",
     "output_type": "stream",
     "text": [
      "Training until validation scores don't improve for 100 rounds\n",
      "[50]\tvalid_0's auc: 0.896285\n",
      "[100]\tvalid_0's auc: 0.896285\n",
      "Early stopping, best iteration is:\n",
      "[45]\tvalid_0's auc: 0.904025\n"
     ]
    },
    {
     "name": "stderr",
     "output_type": "stream",
     "text": [
      "num_leaves, val_score: 0.904799:  60%|######    | 12/20 [00:01<00:01,  6.41it/s][I 2020-09-26 21:00:10,076] Finished trial#18 with value: 0.9040247678018576 with parameters: {'num_leaves': 14}. Best is trial#11 with value: 0.9047987616099071.\n",
      "num_leaves, val_score: 0.904799:  60%|######    | 12/20 [00:01<00:01,  6.41it/s]"
     ]
    },
    {
     "name": "stdout",
     "output_type": "stream",
     "text": [
      "Training until validation scores don't improve for 100 rounds\n",
      "[50]\tvalid_0's auc: 0.881579\n",
      "[100]\tvalid_0's auc: 0.876161\n",
      "[150]\tvalid_0's auc: 0.891641\n",
      "[200]\tvalid_0's auc: 0.888545\n",
      "[250]\tvalid_0's auc: 0.890093\n",
      "Early stopping, best iteration is:\n",
      "[156]\tvalid_0's auc: 0.897833\n"
     ]
    },
    {
     "name": "stderr",
     "output_type": "stream",
     "text": [
      "num_leaves, val_score: 0.904799:  65%|######5   | 13/20 [00:01<00:01,  6.19it/s][I 2020-09-26 21:00:10,245] Finished trial#19 with value: 0.8978328173374613 with parameters: {'num_leaves': 2}. Best is trial#11 with value: 0.9047987616099071.\n",
      "num_leaves, val_score: 0.904799:  65%|######5   | 13/20 [00:01<00:01,  6.19it/s]"
     ]
    },
    {
     "name": "stdout",
     "output_type": "stream",
     "text": [
      "Training until validation scores don't improve for 100 rounds\n",
      "[50]\tvalid_0's auc: 0.896285\n",
      "[100]\tvalid_0's auc: 0.896285\n",
      "Early stopping, best iteration is:\n",
      "[45]\tvalid_0's auc: 0.904025\n"
     ]
    },
    {
     "name": "stderr",
     "output_type": "stream",
     "text": [
      "num_leaves, val_score: 0.904799:  70%|#######   | 14/20 [00:02<00:00,  6.43it/s][I 2020-09-26 21:00:10,401] Finished trial#20 with value: 0.9040247678018576 with parameters: {'num_leaves': 44}. Best is trial#11 with value: 0.9047987616099071.\n",
      "num_leaves, val_score: 0.904799:  70%|#######   | 14/20 [00:02<00:00,  6.43it/s]"
     ]
    },
    {
     "name": "stdout",
     "output_type": "stream",
     "text": [
      "Training until validation scores don't improve for 100 rounds\n",
      "[50]\tvalid_0's auc: 0.896285\n",
      "[100]\tvalid_0's auc: 0.896285\n",
      "Early stopping, best iteration is:\n",
      "[45]\tvalid_0's auc: 0.904025\n"
     ]
    },
    {
     "name": "stderr",
     "output_type": "stream",
     "text": [
      "num_leaves, val_score: 0.904799:  75%|#######5  | 15/20 [00:02<00:00,  6.46it/s][I 2020-09-26 21:00:10,540] Finished trial#21 with value: 0.9040247678018576 with parameters: {'num_leaves': 36}. Best is trial#11 with value: 0.9047987616099071.\n",
      "num_leaves, val_score: 0.904799:  75%|#######5  | 15/20 [00:02<00:00,  6.46it/s]"
     ]
    },
    {
     "name": "stdout",
     "output_type": "stream",
     "text": [
      "Training until validation scores don't improve for 100 rounds\n",
      "[50]\tvalid_0's auc: 0.896285\n",
      "[100]\tvalid_0's auc: 0.896285\n",
      "Early stopping, best iteration is:\n",
      "[45]\tvalid_0's auc: 0.904025\n"
     ]
    },
    {
     "name": "stderr",
     "output_type": "stream",
     "text": [
      "num_leaves, val_score: 0.904799:  80%|########  | 16/20 [00:02<00:00,  6.51it/s][I 2020-09-26 21:00:10,690] Finished trial#22 with value: 0.9040247678018576 with parameters: {'num_leaves': 246}. Best is trial#11 with value: 0.9047987616099071.\n",
      "num_leaves, val_score: 0.904799:  80%|########  | 16/20 [00:02<00:00,  6.51it/s]"
     ]
    },
    {
     "name": "stdout",
     "output_type": "stream",
     "text": [
      "Training until validation scores don't improve for 100 rounds\n",
      "[50]\tvalid_0's auc: 0.896285\n",
      "[100]\tvalid_0's auc: 0.896285\n",
      "Early stopping, best iteration is:\n",
      "[45]\tvalid_0's auc: 0.904025\n"
     ]
    },
    {
     "name": "stderr",
     "output_type": "stream",
     "text": [
      "num_leaves, val_score: 0.904799:  85%|########5 | 17/20 [00:02<00:00,  6.65it/s][I 2020-09-26 21:00:10,830] Finished trial#23 with value: 0.9040247678018576 with parameters: {'num_leaves': 59}. Best is trial#11 with value: 0.9047987616099071.\n",
      "num_leaves, val_score: 0.904799:  85%|########5 | 17/20 [00:02<00:00,  6.65it/s]"
     ]
    },
    {
     "name": "stdout",
     "output_type": "stream",
     "text": [
      "Training until validation scores don't improve for 100 rounds\n",
      "[50]\tvalid_0's auc: 0.896285\n",
      "[100]\tvalid_0's auc: 0.896285\n",
      "Early stopping, best iteration is:\n",
      "[45]\tvalid_0's auc: 0.904025\n"
     ]
    },
    {
     "name": "stderr",
     "output_type": "stream",
     "text": [
      "num_leaves, val_score: 0.904799:  90%|######### | 18/20 [00:02<00:00,  6.72it/s][I 2020-09-26 21:00:10,989] Finished trial#24 with value: 0.9040247678018576 with parameters: {'num_leaves': 131}. Best is trial#11 with value: 0.9047987616099071.\n",
      "num_leaves, val_score: 0.904799:  90%|######### | 18/20 [00:02<00:00,  6.72it/s]"
     ]
    },
    {
     "name": "stdout",
     "output_type": "stream",
     "text": [
      "Training until validation scores don't improve for 100 rounds\n",
      "[50]\tvalid_0's auc: 0.896285\n",
      "[100]\tvalid_0's auc: 0.896285\n",
      "Early stopping, best iteration is:\n",
      "[45]\tvalid_0's auc: 0.904025\n"
     ]
    },
    {
     "name": "stderr",
     "output_type": "stream",
     "text": [
      "num_leaves, val_score: 0.904799:  95%|#########5| 19/20 [00:02<00:00,  6.55it/s][I 2020-09-26 21:00:11,152] Finished trial#25 with value: 0.9040247678018576 with parameters: {'num_leaves': 18}. Best is trial#11 with value: 0.9047987616099071.\n",
      "num_leaves, val_score: 0.904799:  95%|#########5| 19/20 [00:02<00:00,  6.55it/s]"
     ]
    },
    {
     "name": "stdout",
     "output_type": "stream",
     "text": [
      "Training until validation scores don't improve for 100 rounds\n",
      "[50]\tvalid_0's auc: 0.891641\n",
      "[100]\tvalid_0's auc: 0.890093\n",
      "Early stopping, best iteration is:\n",
      "[40]\tvalid_0's auc: 0.904799\n"
     ]
    },
    {
     "name": "stderr",
     "output_type": "stream",
     "text": [
      "num_leaves, val_score: 0.904799: 100%|##########| 20/20 [00:02<00:00,  6.53it/s][I 2020-09-26 21:00:11,298] Finished trial#26 with value: 0.9047987616099071 with parameters: {'num_leaves': 3}. Best is trial#11 with value: 0.9047987616099071.\n",
      "num_leaves, val_score: 0.904799: 100%|##########| 20/20 [00:03<00:00,  6.61it/s]\n",
      "bagging, val_score: 0.904799:   0%|          | 0/10 [00:00<?, ?it/s]"
     ]
    },
    {
     "name": "stdout",
     "output_type": "stream",
     "text": [
      "Training until validation scores don't improve for 100 rounds\n",
      "[50]\tvalid_0's auc: 0.885449\n",
      "[100]\tvalid_0's auc: 0.883901\n",
      "[150]\tvalid_0's auc: 0.880805\n",
      "Early stopping, best iteration is:\n",
      "[52]\tvalid_0's auc: 0.893189\n"
     ]
    },
    {
     "name": "stderr",
     "output_type": "stream",
     "text": [
      "bagging, val_score: 0.904799:   0%|          | 0/10 [00:00<?, ?it/s][I 2020-09-26 21:00:11,467] Finished trial#27 with value: 0.8931888544891641 with parameters: {'bagging_fraction': 0.5098140892594127, 'bagging_freq': 1}. Best is trial#27 with value: 0.8931888544891641.\n",
      "bagging, val_score: 0.904799:  10%|#         | 1/10 [00:00<00:01,  6.49it/s]"
     ]
    },
    {
     "name": "stdout",
     "output_type": "stream",
     "text": [
      "Training until validation scores don't improve for 100 rounds\n",
      "[50]\tvalid_0's auc: 0.896285\n",
      "[100]\tvalid_0's auc: 0.887771\n",
      "[150]\tvalid_0's auc: 0.882353\n",
      "Early stopping, best iteration is:\n",
      "[50]\tvalid_0's auc: 0.896285\n"
     ]
    },
    {
     "name": "stderr",
     "output_type": "stream",
     "text": [
      "bagging, val_score: 0.904799:  20%|##        | 2/10 [00:00<00:00,  9.90it/s][I 2020-09-26 21:00:11,608] Finished trial#28 with value: 0.8962848297213623 with parameters: {'bagging_fraction': 0.4361798049286124, 'bagging_freq': 4}. Best is trial#28 with value: 0.8962848297213623.\n",
      "bagging, val_score: 0.904799:  20%|##        | 2/10 [00:00<00:00,  9.90it/s]"
     ]
    },
    {
     "name": "stdout",
     "output_type": "stream",
     "text": [
      "Training until validation scores don't improve for 100 rounds\n",
      "[50]\tvalid_0's auc: 0.883901\n",
      "[100]\tvalid_0's auc: 0.888545\n",
      "Early stopping, best iteration is:\n",
      "[39]\tvalid_0's auc: 0.893189\n"
     ]
    },
    {
     "name": "stderr",
     "output_type": "stream",
     "text": [
      "bagging, val_score: 0.904799:  30%|###       | 3/10 [00:00<00:00,  8.83it/s][I 2020-09-26 21:00:11,748] Finished trial#29 with value: 0.8931888544891641 with parameters: {'bagging_fraction': 0.5755379578647046, 'bagging_freq': 3}. Best is trial#28 with value: 0.8962848297213623.\n",
      "bagging, val_score: 0.904799:  30%|###       | 3/10 [00:00<00:00,  8.83it/s]"
     ]
    },
    {
     "name": "stdout",
     "output_type": "stream",
     "text": [
      "Training until validation scores don't improve for 100 rounds\n",
      "[50]\tvalid_0's auc: 0.883901\n",
      "[100]\tvalid_0's auc: 0.869969\n",
      "Early stopping, best iteration is:\n",
      "[47]\tvalid_0's auc: 0.886997\n"
     ]
    },
    {
     "name": "stderr",
     "output_type": "stream",
     "text": [
      "bagging, val_score: 0.904799:  40%|####      | 4/10 [00:00<00:00,  8.43it/s][I 2020-09-26 21:00:11,886] Finished trial#30 with value: 0.8869969040247678 with parameters: {'bagging_fraction': 0.4086391572140592, 'bagging_freq': 4}. Best is trial#28 with value: 0.8962848297213623.\n",
      "bagging, val_score: 0.904799:  40%|####      | 4/10 [00:00<00:00,  8.43it/s]"
     ]
    },
    {
     "name": "stdout",
     "output_type": "stream",
     "text": [
      "Training until validation scores don't improve for 100 rounds\n",
      "[50]\tvalid_0's auc: 0.882353\n",
      "[100]\tvalid_0's auc: 0.891641\n",
      "Early stopping, best iteration is:\n",
      "[13]\tvalid_0's auc: 0.897059\n"
     ]
    },
    {
     "name": "stderr",
     "output_type": "stream",
     "text": [
      "bagging, val_score: 0.904799:  50%|#####     | 5/10 [00:00<00:00,  8.04it/s][I 2020-09-26 21:00:12,021] Finished trial#31 with value: 0.8970588235294118 with parameters: {'bagging_fraction': 0.8877802432450388, 'bagging_freq': 2}. Best is trial#31 with value: 0.8970588235294118.\n",
      "bagging, val_score: 0.904799:  50%|#####     | 5/10 [00:00<00:00,  8.04it/s]"
     ]
    },
    {
     "name": "stdout",
     "output_type": "stream",
     "text": [
      "Training until validation scores don't improve for 100 rounds\n",
      "[50]\tvalid_0's auc: 0.881579\n",
      "[100]\tvalid_0's auc: 0.886997\n",
      "[150]\tvalid_0's auc: 0.885449\n",
      "Early stopping, best iteration is:\n",
      "[83]\tvalid_0's auc: 0.894737\n"
     ]
    },
    {
     "name": "stderr",
     "output_type": "stream",
     "text": [
      "bagging, val_score: 0.904799:  60%|######    | 6/10 [00:00<00:00,  7.64it/s][I 2020-09-26 21:00:12,168] Finished trial#32 with value: 0.8947368421052632 with parameters: {'bagging_fraction': 0.5534412517491883, 'bagging_freq': 6}. Best is trial#31 with value: 0.8970588235294118.\n",
      "bagging, val_score: 0.904799:  60%|######    | 6/10 [00:00<00:00,  7.64it/s]"
     ]
    },
    {
     "name": "stdout",
     "output_type": "stream",
     "text": [
      "Training until validation scores don't improve for 100 rounds\n",
      "[50]\tvalid_0's auc: 0.888545\n",
      "[100]\tvalid_0's auc: 0.893189\n",
      "Early stopping, best iteration is:\n",
      "[4]\tvalid_0's auc: 0.900155\n"
     ]
    },
    {
     "name": "stderr",
     "output_type": "stream",
     "text": [
      "bagging, val_score: 0.904799:  70%|#######   | 7/10 [00:00<00:00,  7.50it/s][I 2020-09-26 21:00:12,301] Finished trial#33 with value: 0.9001547987616099 with parameters: {'bagging_fraction': 0.6464683943471936, 'bagging_freq': 2}. Best is trial#33 with value: 0.9001547987616099.\n",
      "bagging, val_score: 0.904799:  70%|#######   | 7/10 [00:00<00:00,  7.50it/s]"
     ]
    },
    {
     "name": "stdout",
     "output_type": "stream",
     "text": [
      "Training until validation scores don't improve for 100 rounds\n",
      "[50]\tvalid_0's auc: 0.890093\n",
      "[100]\tvalid_0's auc: 0.888545\n",
      "Early stopping, best iteration is:\n",
      "[7]\tvalid_0's auc: 0.907121\n"
     ]
    },
    {
     "name": "stderr",
     "output_type": "stream",
     "text": [
      "bagging, val_score: 0.907121:  80%|########  | 8/10 [00:01<00:00,  7.46it/s][I 2020-09-26 21:00:12,443] Finished trial#34 with value: 0.9071207430340558 with parameters: {'bagging_fraction': 0.9078623175698695, 'bagging_freq': 2}. Best is trial#34 with value: 0.9071207430340558.\n",
      "bagging, val_score: 0.907121:  80%|########  | 8/10 [00:01<00:00,  7.46it/s]"
     ]
    },
    {
     "name": "stdout",
     "output_type": "stream",
     "text": [
      "Training until validation scores don't improve for 100 rounds\n",
      "[50]\tvalid_0's auc: 0.886997\n",
      "[100]\tvalid_0's auc: 0.886997\n",
      "[150]\tvalid_0's auc: 0.880805\n",
      "Early stopping, best iteration is:\n",
      "[75]\tvalid_0's auc: 0.894737\n"
     ]
    },
    {
     "name": "stderr",
     "output_type": "stream",
     "text": [
      "bagging, val_score: 0.907121:  90%|######### | 9/10 [00:01<00:00,  7.03it/s][I 2020-09-26 21:00:12,605] Finished trial#35 with value: 0.8947368421052632 with parameters: {'bagging_fraction': 0.8860204051025846, 'bagging_freq': 4}. Best is trial#34 with value: 0.9071207430340558.\n",
      "bagging, val_score: 0.907121:  90%|######### | 9/10 [00:01<00:00,  7.03it/s]"
     ]
    },
    {
     "name": "stdout",
     "output_type": "stream",
     "text": [
      "Training until validation scores don't improve for 100 rounds\n",
      "[50]\tvalid_0's auc: 0.896285\n",
      "[100]\tvalid_0's auc: 0.891641\n",
      "Early stopping, best iteration is:\n",
      "[12]\tvalid_0's auc: 0.906347\n"
     ]
    },
    {
     "name": "stderr",
     "output_type": "stream",
     "text": [
      "bagging, val_score: 0.907121: 100%|##########| 10/10 [00:01<00:00,  7.08it/s][I 2020-09-26 21:00:12,738] Finished trial#36 with value: 0.9063467492260062 with parameters: {'bagging_fraction': 0.746218342053062, 'bagging_freq': 6}. Best is trial#34 with value: 0.9071207430340558.\n",
      "bagging, val_score: 0.907121: 100%|##########| 10/10 [00:01<00:00,  7.03it/s]\n",
      "feature_fraction_stage2, val_score: 0.907121:   0%|          | 0/6 [00:00<?, ?it/s]"
     ]
    },
    {
     "name": "stdout",
     "output_type": "stream",
     "text": [
      "Training until validation scores don't improve for 100 rounds\n",
      "[50]\tvalid_0's auc: 0.890093\n",
      "[100]\tvalid_0's auc: 0.888545\n",
      "Early stopping, best iteration is:\n",
      "[7]\tvalid_0's auc: 0.907121\n"
     ]
    },
    {
     "name": "stderr",
     "output_type": "stream",
     "text": [
      "feature_fraction_stage2, val_score: 0.907121:   0%|          | 0/6 [00:00<?, ?it/s][I 2020-09-26 21:00:12,898] Finished trial#37 with value: 0.9071207430340558 with parameters: {'feature_fraction': 0.484}. Best is trial#37 with value: 0.9071207430340558.\n",
      "feature_fraction_stage2, val_score: 0.907121:  17%|#6        | 1/6 [00:00<00:00,  6.33it/s]"
     ]
    },
    {
     "name": "stdout",
     "output_type": "stream",
     "text": [
      "Training until validation scores don't improve for 100 rounds\n",
      "[50]\tvalid_0's auc: 0.890093\n",
      "[100]\tvalid_0's auc: 0.888545\n",
      "Early stopping, best iteration is:\n",
      "[7]\tvalid_0's auc: 0.907121\n"
     ]
    },
    {
     "name": "stderr",
     "output_type": "stream",
     "text": [
      "feature_fraction_stage2, val_score: 0.907121:  33%|###3      | 2/6 [00:00<00:00, 10.05it/s][I 2020-09-26 21:00:13,033] Finished trial#38 with value: 0.9071207430340558 with parameters: {'feature_fraction': 0.516}. Best is trial#37 with value: 0.9071207430340558.\n",
      "feature_fraction_stage2, val_score: 0.907121:  33%|###3      | 2/6 [00:00<00:00, 10.05it/s]"
     ]
    },
    {
     "name": "stdout",
     "output_type": "stream",
     "text": [
      "Training until validation scores don't improve for 100 rounds\n",
      "[50]\tvalid_0's auc: 0.890093\n",
      "[100]\tvalid_0's auc: 0.888545\n",
      "Early stopping, best iteration is:\n",
      "[7]\tvalid_0's auc: 0.907121\n"
     ]
    },
    {
     "name": "stderr",
     "output_type": "stream",
     "text": [
      "feature_fraction_stage2, val_score: 0.907121:  50%|#####     | 3/6 [00:00<00:00,  8.84it/s][I 2020-09-26 21:00:13,177] Finished trial#39 with value: 0.9071207430340558 with parameters: {'feature_fraction': 0.5479999999999999}. Best is trial#37 with value: 0.9071207430340558.\n",
      "feature_fraction_stage2, val_score: 0.907121:  50%|#####     | 3/6 [00:00<00:00,  8.84it/s]"
     ]
    },
    {
     "name": "stdout",
     "output_type": "stream",
     "text": [
      "Training until validation scores don't improve for 100 rounds\n",
      "[50]\tvalid_0's auc: 0.894737\n",
      "[100]\tvalid_0's auc: 0.900929\n",
      "Early stopping, best iteration is:\n",
      "[31]\tvalid_0's auc: 0.902477\n"
     ]
    },
    {
     "name": "stderr",
     "output_type": "stream",
     "text": [
      "feature_fraction_stage2, val_score: 0.907121:  67%|######6   | 4/6 [00:00<00:00,  8.27it/s][I 2020-09-26 21:00:13,315] Finished trial#40 with value: 0.9024767801857585 with parameters: {'feature_fraction': 0.42}. Best is trial#37 with value: 0.9071207430340558.\n",
      "feature_fraction_stage2, val_score: 0.907121:  67%|######6   | 4/6 [00:00<00:00,  8.27it/s]"
     ]
    },
    {
     "name": "stdout",
     "output_type": "stream",
     "text": [
      "Training until validation scores don't improve for 100 rounds\n",
      "[50]\tvalid_0's auc: 0.890093\n",
      "[100]\tvalid_0's auc: 0.888545\n",
      "Early stopping, best iteration is:\n",
      "[7]\tvalid_0's auc: 0.907121\n"
     ]
    },
    {
     "name": "stderr",
     "output_type": "stream",
     "text": [
      "feature_fraction_stage2, val_score: 0.907121:  83%|########3 | 5/6 [00:00<00:00,  7.97it/s][I 2020-09-26 21:00:13,454] Finished trial#41 with value: 0.9071207430340558 with parameters: {'feature_fraction': 0.45199999999999996}. Best is trial#37 with value: 0.9071207430340558.\n",
      "feature_fraction_stage2, val_score: 0.907121:  83%|########3 | 5/6 [00:00<00:00,  7.97it/s]"
     ]
    },
    {
     "name": "stdout",
     "output_type": "stream",
     "text": [
      "Training until validation scores don't improve for 100 rounds\n",
      "[50]\tvalid_0's auc: 0.894737\n",
      "[100]\tvalid_0's auc: 0.902477\n",
      "Early stopping, best iteration is:\n",
      "[11]\tvalid_0's auc: 0.906347\n"
     ]
    },
    {
     "name": "stderr",
     "output_type": "stream",
     "text": [
      "feature_fraction_stage2, val_score: 0.907121: 100%|##########| 6/6 [00:00<00:00,  7.78it/s][I 2020-09-26 21:00:13,584] Finished trial#42 with value: 0.9063467492260062 with parameters: {'feature_fraction': 0.58}. Best is trial#37 with value: 0.9071207430340558.\n",
      "feature_fraction_stage2, val_score: 0.907121: 100%|##########| 6/6 [00:00<00:00,  7.15it/s]\n",
      "regularization_factors, val_score: 0.907121:   0%|          | 0/20 [00:00<?, ?it/s]"
     ]
    },
    {
     "name": "stdout",
     "output_type": "stream",
     "text": [
      "Training until validation scores don't improve for 100 rounds\n",
      "[50]\tvalid_0's auc: 0.885449\n",
      "[100]\tvalid_0's auc: 0.888545\n",
      "Early stopping, best iteration is:\n",
      "[7]\tvalid_0's auc: 0.905573\n"
     ]
    },
    {
     "name": "stderr",
     "output_type": "stream",
     "text": [
      "regularization_factors, val_score: 0.907121:   0%|          | 0/20 [00:00<?, ?it/s][I 2020-09-26 21:00:13,726] Finished trial#43 with value: 0.9055727554179567 with parameters: {'lambda_l1': 0.6291505468375236, 'lambda_l2': 1.177922516150532e-07}. Best is trial#43 with value: 0.9055727554179567.\n",
      "regularization_factors, val_score: 0.907121:   5%|5         | 1/20 [00:00<00:02,  7.30it/s]"
     ]
    },
    {
     "name": "stdout",
     "output_type": "stream",
     "text": [
      "Training until validation scores don't improve for 100 rounds\n",
      "[50]\tvalid_0's auc: 0.890093\n",
      "[100]\tvalid_0's auc: 0.890093\n",
      "Early stopping, best iteration is:\n",
      "[7]\tvalid_0's auc: 0.907121\n"
     ]
    },
    {
     "name": "stderr",
     "output_type": "stream",
     "text": [
      "regularization_factors, val_score: 0.907121:  10%|#         | 2/20 [00:00<00:01, 10.53it/s][I 2020-09-26 21:00:13,873] Finished trial#44 with value: 0.9071207430340558 with parameters: {'lambda_l1': 0.012416002316563542, 'lambda_l2': 1.6913217016114827e-06}. Best is trial#44 with value: 0.9071207430340558.\n",
      "regularization_factors, val_score: 0.907121:  10%|#         | 2/20 [00:00<00:01, 10.53it/s]"
     ]
    },
    {
     "name": "stdout",
     "output_type": "stream",
     "text": [
      "Training until validation scores don't improve for 100 rounds\n",
      "[50]\tvalid_0's auc: 0.890093\n",
      "[100]\tvalid_0's auc: 0.888545\n",
      "Early stopping, best iteration is:\n",
      "[7]\tvalid_0's auc: 0.907121\n"
     ]
    },
    {
     "name": "stderr",
     "output_type": "stream",
     "text": [
      "regularization_factors, val_score: 0.907121:  15%|#5        | 3/20 [00:00<00:01,  9.02it/s][I 2020-09-26 21:00:14,027] Finished trial#45 with value: 0.9071207430340558 with parameters: {'lambda_l1': 7.050824737372409e-06, 'lambda_l2': 0.0006930513836756207}. Best is trial#44 with value: 0.9071207430340558.\n",
      "regularization_factors, val_score: 0.907121:  15%|#5        | 3/20 [00:00<00:01,  9.02it/s]"
     ]
    },
    {
     "name": "stdout",
     "output_type": "stream",
     "text": [
      "Training until validation scores don't improve for 100 rounds\n",
      "[50]\tvalid_0's auc: 0.886997\n",
      "[100]\tvalid_0's auc: 0.885449\n",
      "Early stopping, best iteration is:\n",
      "[7]\tvalid_0's auc: 0.905573\n"
     ]
    },
    {
     "name": "stderr",
     "output_type": "stream",
     "text": [
      "regularization_factors, val_score: 0.907121:  20%|##        | 4/20 [00:00<00:01,  8.28it/s][I 2020-09-26 21:00:14,176] Finished trial#46 with value: 0.9055727554179567 with parameters: {'lambda_l1': 0.3327032137940815, 'lambda_l2': 0.024714749734083462}. Best is trial#44 with value: 0.9071207430340558.\n",
      "regularization_factors, val_score: 0.907121:  20%|##        | 4/20 [00:00<00:01,  8.28it/s]"
     ]
    },
    {
     "name": "stdout",
     "output_type": "stream",
     "text": [
      "Training until validation scores don't improve for 100 rounds\n",
      "[50]\tvalid_0's auc: 0.884675\n",
      "[100]\tvalid_0's auc: 0.888545\n",
      "Early stopping, best iteration is:\n",
      "[32]\tvalid_0's auc: 0.890093\n"
     ]
    },
    {
     "name": "stderr",
     "output_type": "stream",
     "text": [
      "regularization_factors, val_score: 0.907121:  25%|##5       | 5/20 [00:00<00:01,  7.51it/s][I 2020-09-26 21:00:14,343] Finished trial#47 with value: 0.8900928792569659 with parameters: {'lambda_l1': 3.30594211261302, 'lambda_l2': 0.001620218144518297}. Best is trial#44 with value: 0.9071207430340558.\n",
      "regularization_factors, val_score: 0.907121:  25%|##5       | 5/20 [00:00<00:01,  7.51it/s]"
     ]
    },
    {
     "name": "stdout",
     "output_type": "stream",
     "text": [
      "Training until validation scores don't improve for 100 rounds\n",
      "[50]\tvalid_0's auc: 0.888545\n",
      "[100]\tvalid_0's auc: 0.886997\n",
      "Early stopping, best iteration is:\n",
      "[7]\tvalid_0's auc: 0.907121\n"
     ]
    },
    {
     "name": "stderr",
     "output_type": "stream",
     "text": [
      "regularization_factors, val_score: 0.907121:  30%|###       | 6/20 [00:00<00:01,  7.16it/s][I 2020-09-26 21:00:14,484] Finished trial#48 with value: 0.9071207430340558 with parameters: {'lambda_l1': 0.045173067978865555, 'lambda_l2': 7.4597599160713295e-06}. Best is trial#44 with value: 0.9071207430340558.\n",
      "regularization_factors, val_score: 0.907121:  30%|###       | 6/20 [00:00<00:01,  7.16it/s]"
     ]
    },
    {
     "name": "stdout",
     "output_type": "stream",
     "text": [
      "Training until validation scores don't improve for 100 rounds\n",
      "[50]\tvalid_0's auc: 0.888545\n",
      "[100]\tvalid_0's auc: 0.888545\n",
      "Early stopping, best iteration is:\n",
      "[7]\tvalid_0's auc: 0.905573\n"
     ]
    },
    {
     "name": "stderr",
     "output_type": "stream",
     "text": [
      "regularization_factors, val_score: 0.907121:  35%|###5      | 7/20 [00:00<00:01,  7.17it/s][I 2020-09-26 21:00:14,624] Finished trial#49 with value: 0.9055727554179567 with parameters: {'lambda_l1': 2.156709484818476e-08, 'lambda_l2': 0.20497529293912614}. Best is trial#44 with value: 0.9071207430340558.\n",
      "regularization_factors, val_score: 0.907121:  35%|###5      | 7/20 [00:01<00:01,  7.17it/s]"
     ]
    },
    {
     "name": "stdout",
     "output_type": "stream",
     "text": [
      "Training until validation scores don't improve for 100 rounds\n",
      "[50]\tvalid_0's auc: 0.883901\n",
      "[100]\tvalid_0's auc: 0.885449\n",
      "Early stopping, best iteration is:\n",
      "[7]\tvalid_0's auc: 0.906347\n"
     ]
    },
    {
     "name": "stderr",
     "output_type": "stream",
     "text": [
      "regularization_factors, val_score: 0.907121:  40%|####      | 8/20 [00:01<00:01,  7.19it/s][I 2020-09-26 21:00:14,752] Finished trial#50 with value: 0.9063467492260062 with parameters: {'lambda_l1': 1.4571746669945413, 'lambda_l2': 5.243155089914341e-07}. Best is trial#44 with value: 0.9071207430340558.\n",
      "regularization_factors, val_score: 0.907121:  40%|####      | 8/20 [00:01<00:01,  7.19it/s]"
     ]
    },
    {
     "name": "stdout",
     "output_type": "stream",
     "text": [
      "Training until validation scores don't improve for 100 rounds\n",
      "[50]\tvalid_0's auc: 0.890093\n",
      "[100]\tvalid_0's auc: 0.888545\n",
      "Early stopping, best iteration is:\n",
      "[7]\tvalid_0's auc: 0.907121\n"
     ]
    },
    {
     "name": "stderr",
     "output_type": "stream",
     "text": [
      "regularization_factors, val_score: 0.907121:  45%|####5     | 9/20 [00:01<00:01,  7.45it/s][I 2020-09-26 21:00:14,878] Finished trial#51 with value: 0.9071207430340558 with parameters: {'lambda_l1': 0.00021460642727242585, 'lambda_l2': 3.1646213996981347e-06}. Best is trial#44 with value: 0.9071207430340558.\n",
      "regularization_factors, val_score: 0.907121:  45%|####5     | 9/20 [00:01<00:01,  7.45it/s]"
     ]
    },
    {
     "name": "stdout",
     "output_type": "stream",
     "text": [
      "Training until validation scores don't improve for 100 rounds\n",
      "[50]\tvalid_0's auc: 0.884675\n",
      "[100]\tvalid_0's auc: 0.887771\n",
      "Early stopping, best iteration is:\n",
      "[22]\tvalid_0's auc: 0.889319\n"
     ]
    },
    {
     "name": "stderr",
     "output_type": "stream",
     "text": [
      "regularization_factors, val_score: 0.907121:  50%|#####     | 10/20 [00:01<00:01,  7.44it/s][I 2020-09-26 21:00:15,018] Finished trial#52 with value: 0.8893188854489165 with parameters: {'lambda_l1': 3.104108699312717, 'lambda_l2': 0.013057139355521484}. Best is trial#44 with value: 0.9071207430340558.\n",
      "regularization_factors, val_score: 0.907121:  50%|#####     | 10/20 [00:01<00:01,  7.44it/s]"
     ]
    },
    {
     "name": "stdout",
     "output_type": "stream",
     "text": [
      "Training until validation scores don't improve for 100 rounds\n",
      "[50]\tvalid_0's auc: 0.890093\n",
      "[100]\tvalid_0's auc: 0.888545\n",
      "Early stopping, best iteration is:\n",
      "[7]\tvalid_0's auc: 0.907121\n"
     ]
    },
    {
     "name": "stderr",
     "output_type": "stream",
     "text": [
      "regularization_factors, val_score: 0.907121:  55%|#####5    | 11/20 [00:01<00:01,  7.31it/s][I 2020-09-26 21:00:15,156] Finished trial#53 with value: 0.9071207430340558 with parameters: {'lambda_l1': 0.0025075882786633596, 'lambda_l2': 1.3827807017023186e-08}. Best is trial#44 with value: 0.9071207430340558.\n",
      "regularization_factors, val_score: 0.907121:  55%|#####5    | 11/20 [00:01<00:01,  7.31it/s]"
     ]
    },
    {
     "name": "stdout",
     "output_type": "stream",
     "text": [
      "Training until validation scores don't improve for 100 rounds\n",
      "[50]\tvalid_0's auc: 0.890093\n",
      "[100]\tvalid_0's auc: 0.888545\n",
      "Early stopping, best iteration is:\n",
      "[7]\tvalid_0's auc: 0.907121\n"
     ]
    },
    {
     "name": "stderr",
     "output_type": "stream",
     "text": [
      "regularization_factors, val_score: 0.907121:  60%|######    | 12/20 [00:01<00:01,  7.29it/s][I 2020-09-26 21:00:15,290] Finished trial#54 with value: 0.9071207430340558 with parameters: {'lambda_l1': 1.4443540110669482e-06, 'lambda_l2': 8.88709392887402e-05}. Best is trial#44 with value: 0.9071207430340558.\n",
      "regularization_factors, val_score: 0.907121:  60%|######    | 12/20 [00:01<00:01,  7.29it/s]"
     ]
    },
    {
     "name": "stdout",
     "output_type": "stream",
     "text": [
      "Training until validation scores don't improve for 100 rounds\n",
      "[50]\tvalid_0's auc: 0.890093\n",
      "[100]\tvalid_0's auc: 0.888545\n",
      "Early stopping, best iteration is:\n",
      "[7]\tvalid_0's auc: 0.907121\n"
     ]
    },
    {
     "name": "stderr",
     "output_type": "stream",
     "text": [
      "regularization_factors, val_score: 0.907121:  65%|######5   | 13/20 [00:01<00:00,  7.38it/s][I 2020-09-26 21:00:15,422] Finished trial#55 with value: 0.9071207430340558 with parameters: {'lambda_l1': 8.94362884869574e-06, 'lambda_l2': 0.00011514749012328079}. Best is trial#44 with value: 0.9071207430340558.\n",
      "regularization_factors, val_score: 0.907121:  65%|######5   | 13/20 [00:01<00:00,  7.38it/s]"
     ]
    },
    {
     "name": "stdout",
     "output_type": "stream",
     "text": [
      "Training until validation scores don't improve for 100 rounds\n",
      "[50]\tvalid_0's auc: 0.888545\n",
      "[100]\tvalid_0's auc: 0.883901\n",
      "Early stopping, best iteration is:\n",
      "[7]\tvalid_0's auc: 0.906347\n"
     ]
    },
    {
     "name": "stderr",
     "output_type": "stream",
     "text": [
      "regularization_factors, val_score: 0.907121:  70%|#######   | 14/20 [00:01<00:00,  7.50it/s][I 2020-09-26 21:00:15,551] Finished trial#56 with value: 0.9063467492260062 with parameters: {'lambda_l1': 0.00013792406152067017, 'lambda_l2': 2.218867213727026}. Best is trial#44 with value: 0.9071207430340558.\n",
      "regularization_factors, val_score: 0.907121:  70%|#######   | 14/20 [00:01<00:00,  7.50it/s]"
     ]
    },
    {
     "name": "stdout",
     "output_type": "stream",
     "text": [
      "Training until validation scores don't improve for 100 rounds\n",
      "[50]\tvalid_0's auc: 0.890093\n",
      "[100]\tvalid_0's auc: 0.888545\n",
      "Early stopping, best iteration is:\n",
      "[7]\tvalid_0's auc: 0.907121\n"
     ]
    },
    {
     "name": "stderr",
     "output_type": "stream",
     "text": [
      "regularization_factors, val_score: 0.907121:  75%|#######5  | 15/20 [00:02<00:00,  7.58it/s][I 2020-09-26 21:00:15,681] Finished trial#57 with value: 0.9071207430340558 with parameters: {'lambda_l1': 1.5162872146811314e-07, 'lambda_l2': 2.2264281744384742e-05}. Best is trial#44 with value: 0.9071207430340558.\n",
      "regularization_factors, val_score: 0.907121:  75%|#######5  | 15/20 [00:02<00:00,  7.58it/s]"
     ]
    },
    {
     "name": "stdout",
     "output_type": "stream",
     "text": [
      "Training until validation scores don't improve for 100 rounds\n",
      "[50]\tvalid_0's auc: 0.890093\n",
      "[100]\tvalid_0's auc: 0.888545\n",
      "Early stopping, best iteration is:\n",
      "[7]\tvalid_0's auc: 0.907121\n"
     ]
    },
    {
     "name": "stderr",
     "output_type": "stream",
     "text": [
      "regularization_factors, val_score: 0.907121:  80%|########  | 16/20 [00:02<00:00,  7.54it/s][I 2020-09-26 21:00:15,820] Finished trial#58 with value: 0.9071207430340558 with parameters: {'lambda_l1': 0.005566721284385628, 'lambda_l2': 0.0013013598075988424}. Best is trial#44 with value: 0.9071207430340558.\n",
      "regularization_factors, val_score: 0.907121:  80%|########  | 16/20 [00:02<00:00,  7.54it/s]"
     ]
    },
    {
     "name": "stdout",
     "output_type": "stream",
     "text": [
      "Training until validation scores don't improve for 100 rounds\n",
      "[50]\tvalid_0's auc: 0.890093\n",
      "[100]\tvalid_0's auc: 0.888545\n",
      "Early stopping, best iteration is:\n",
      "[7]\tvalid_0's auc: 0.907121\n"
     ]
    },
    {
     "name": "stderr",
     "output_type": "stream",
     "text": [
      "regularization_factors, val_score: 0.907121:  85%|########5 | 17/20 [00:02<00:00,  7.38it/s][I 2020-09-26 21:00:15,967] Finished trial#59 with value: 0.9071207430340558 with parameters: {'lambda_l1': 8.510910244471655e-06, 'lambda_l2': 5.424054819210577e-08}. Best is trial#44 with value: 0.9071207430340558.\n",
      "regularization_factors, val_score: 0.907121:  85%|########5 | 17/20 [00:02<00:00,  7.38it/s]"
     ]
    },
    {
     "name": "stdout",
     "output_type": "stream",
     "text": [
      "Training until validation scores don't improve for 100 rounds\n",
      "[50]\tvalid_0's auc: 0.890093\n",
      "[100]\tvalid_0's auc: 0.888545\n",
      "Early stopping, best iteration is:\n",
      "[7]\tvalid_0's auc: 0.907121\n"
     ]
    },
    {
     "name": "stderr",
     "output_type": "stream",
     "text": [
      "regularization_factors, val_score: 0.907121:  90%|######### | 18/20 [00:02<00:00,  7.17it/s][I 2020-09-26 21:00:16,106] Finished trial#60 with value: 0.9071207430340558 with parameters: {'lambda_l1': 1.6373885593772263e-07, 'lambda_l2': 1.1109092372159007e-05}. Best is trial#44 with value: 0.9071207430340558.\n",
      "regularization_factors, val_score: 0.907121:  90%|######### | 18/20 [00:02<00:00,  7.17it/s]"
     ]
    },
    {
     "name": "stdout",
     "output_type": "stream",
     "text": [
      "Training until validation scores don't improve for 100 rounds\n",
      "[50]\tvalid_0's auc: 0.890093\n",
      "[100]\tvalid_0's auc: 0.888545\n",
      "Early stopping, best iteration is:\n",
      "[7]\tvalid_0's auc: 0.907121\n"
     ]
    },
    {
     "name": "stderr",
     "output_type": "stream",
     "text": [
      "regularization_factors, val_score: 0.907121:  95%|#########5| 19/20 [00:02<00:00,  7.22it/s][I 2020-09-26 21:00:16,250] Finished trial#61 with value: 0.9071207430340558 with parameters: {'lambda_l1': 0.00011917325519769232, 'lambda_l2': 0.004135957259400773}. Best is trial#44 with value: 0.9071207430340558.\n",
      "regularization_factors, val_score: 0.907121:  95%|#########5| 19/20 [00:02<00:00,  7.22it/s]"
     ]
    },
    {
     "name": "stdout",
     "output_type": "stream",
     "text": [
      "Training until validation scores don't improve for 100 rounds\n",
      "[50]\tvalid_0's auc: 0.886997\n",
      "[100]\tvalid_0's auc: 0.888545\n",
      "Early stopping, best iteration is:\n",
      "[38]\tvalid_0's auc: 0.891641\n"
     ]
    },
    {
     "name": "stderr",
     "output_type": "stream",
     "text": [
      "regularization_factors, val_score: 0.907121: 100%|##########| 20/20 [00:02<00:00,  6.87it/s][I 2020-09-26 21:00:16,406] Finished trial#62 with value: 0.891640866873065 with parameters: {'lambda_l1': 0.0021556473064638978, 'lambda_l2': 8.944393687684151}. Best is trial#44 with value: 0.9071207430340558.\n",
      "regularization_factors, val_score: 0.907121: 100%|##########| 20/20 [00:02<00:00,  7.09it/s]\n",
      "min_data_in_leaf, val_score: 0.907121:   0%|          | 0/5 [00:00<?, ?it/s]"
     ]
    },
    {
     "name": "stdout",
     "output_type": "stream",
     "text": [
      "Training until validation scores don't improve for 100 rounds\n",
      "[50]\tvalid_0's auc: 0.5\n",
      "[100]\tvalid_0's auc: 0.5\n",
      "Early stopping, best iteration is:\n",
      "[1]\tvalid_0's auc: 0.5\n"
     ]
    },
    {
     "name": "stderr",
     "output_type": "stream",
     "text": [
      "min_data_in_leaf, val_score: 0.907121:   0%|          | 0/5 [00:00<?, ?it/s][I 2020-09-26 21:00:16,543] Finished trial#63 with value: 0.5 with parameters: {'min_child_samples': 100}. Best is trial#63 with value: 0.5.\n",
      "min_data_in_leaf, val_score: 0.907121:  20%|##        | 1/5 [00:00<00:00,  7.46it/s]"
     ]
    },
    {
     "name": "stdout",
     "output_type": "stream",
     "text": [
      "Training until validation scores don't improve for 100 rounds\n",
      "[50]\tvalid_0's auc: 0.886997\n",
      "[100]\tvalid_0's auc: 0.883901\n",
      "Early stopping, best iteration is:\n",
      "[6]\tvalid_0's auc: 0.901703\n"
     ]
    },
    {
     "name": "stderr",
     "output_type": "stream",
     "text": [
      "min_data_in_leaf, val_score: 0.907121:  40%|####      | 2/5 [00:00<00:00, 11.70it/s][I 2020-09-26 21:00:16,684] Finished trial#64 with value: 0.901702786377709 with parameters: {'min_child_samples': 25}. Best is trial#64 with value: 0.901702786377709.\n",
      "min_data_in_leaf, val_score: 0.907121:  40%|####      | 2/5 [00:00<00:00, 11.70it/s]"
     ]
    },
    {
     "name": "stdout",
     "output_type": "stream",
     "text": [
      "Training until validation scores don't improve for 100 rounds\n",
      "[50]\tvalid_0's auc: 0.886997\n",
      "[100]\tvalid_0's auc: 0.886997\n",
      "Early stopping, best iteration is:\n",
      "[4]\tvalid_0's auc: 0.905573\n"
     ]
    },
    {
     "name": "stderr",
     "output_type": "stream",
     "text": [
      "min_data_in_leaf, val_score: 0.907121:  60%|######    | 3/5 [00:00<00:00,  9.82it/s][I 2020-09-26 21:00:16,816] Finished trial#65 with value: 0.9055727554179567 with parameters: {'min_child_samples': 10}. Best is trial#65 with value: 0.9055727554179567.\n",
      "min_data_in_leaf, val_score: 0.907121:  60%|######    | 3/5 [00:00<00:00,  9.82it/s]"
     ]
    },
    {
     "name": "stdout",
     "output_type": "stream",
     "text": [
      "Training until validation scores don't improve for 100 rounds\n",
      "[50]\tvalid_0's auc: 0.894737\n",
      "[100]\tvalid_0's auc: 0.880031\n",
      "Early stopping, best iteration is:\n",
      "[29]\tvalid_0's auc: 0.900155\n"
     ]
    },
    {
     "name": "stderr",
     "output_type": "stream",
     "text": [
      "min_data_in_leaf, val_score: 0.907121:  80%|########  | 4/5 [00:00<00:00,  8.90it/s][I 2020-09-26 21:00:16,956] Finished trial#66 with value: 0.9001547987616099 with parameters: {'min_child_samples': 50}. Best is trial#65 with value: 0.9055727554179567.\n",
      "min_data_in_leaf, val_score: 0.907121:  80%|########  | 4/5 [00:00<00:00,  8.90it/s]"
     ]
    },
    {
     "name": "stdout",
     "output_type": "stream",
     "text": [
      "Training until validation scores don't improve for 100 rounds\n",
      "[50]\tvalid_0's auc: 0.896285\n",
      "[100]\tvalid_0's auc: 0.891641\n",
      "Early stopping, best iteration is:\n",
      "[47]\tvalid_0's auc: 0.897833\n"
     ]
    },
    {
     "name": "stderr",
     "output_type": "stream",
     "text": [
      "min_data_in_leaf, val_score: 0.907121: 100%|##########| 5/5 [00:00<00:00,  8.07it/s][I 2020-09-26 21:00:17,108] Finished trial#67 with value: 0.8978328173374613 with parameters: {'min_child_samples': 5}. Best is trial#65 with value: 0.9055727554179567.\n",
      "min_data_in_leaf, val_score: 0.907121: 100%|##########| 5/5 [00:00<00:00,  7.26it/s]\n"
     ]
    }
   ],
   "source": [
    "# 0_30歳代データ\n",
    "model_lgb_0_30 = lgb.train(params, train_set_0_30, valid_sets=val_set_0_30,\n",
    "                  verbose_eval=50,  # 50イテレーション毎に学習結果出力\n",
    "                  num_boost_round=1000,  # 最大イテレーション回数指定\n",
    "                  early_stopping_rounds=100\n",
    "                 )"
   ]
  },
  {
   "cell_type": "code",
   "execution_count": 41,
   "metadata": {
    "collapsed": true,
    "jupyter": {
     "outputs_hidden": true
    }
   },
   "outputs": [
    {
     "name": "stderr",
     "output_type": "stream",
     "text": [
      "feature_fraction, val_score: -inf:   0%|          | 0/7 [00:00<?, ?it/s]"
     ]
    },
    {
     "name": "stdout",
     "output_type": "stream",
     "text": [
      "Training until validation scores don't improve for 100 rounds\n",
      "[50]\tvalid_0's auc: 0.784744\n",
      "[100]\tvalid_0's auc: 0.770115\n",
      "Early stopping, best iteration is:\n",
      "[11]\tvalid_0's auc: 0.797806\n"
     ]
    },
    {
     "name": "stderr",
     "output_type": "stream",
     "text": [
      "feature_fraction, val_score: 0.797806:   0%|          | 0/7 [00:00<?, ?it/s][I 2020-09-26 21:00:17,270] Finished trial#0 with value: 0.7978056426332288 with parameters: {'feature_fraction': 0.4}. Best is trial#0 with value: 0.7978056426332288.\n",
      "feature_fraction, val_score: 0.797806:  14%|#4        | 1/7 [00:00<00:00,  6.76it/s]"
     ]
    },
    {
     "name": "stdout",
     "output_type": "stream",
     "text": [
      "Training until validation scores don't improve for 100 rounds\n",
      "[50]\tvalid_0's auc: 0.772205\n",
      "[100]\tvalid_0's auc: 0.751306\n",
      "Early stopping, best iteration is:\n",
      "[27]\tvalid_0's auc: 0.783699\n"
     ]
    },
    {
     "name": "stderr",
     "output_type": "stream",
     "text": [
      "feature_fraction, val_score: 0.797806:  29%|##8       | 2/7 [00:00<00:00, 10.10it/s][I 2020-09-26 21:00:17,410] Finished trial#1 with value: 0.7836990595611285 with parameters: {'feature_fraction': 0.8999999999999999}. Best is trial#0 with value: 0.7978056426332288.\n",
      "feature_fraction, val_score: 0.797806:  29%|##8       | 2/7 [00:00<00:00, 10.10it/s]"
     ]
    },
    {
     "name": "stdout",
     "output_type": "stream",
     "text": [
      "Training until validation scores don't improve for 100 rounds\n",
      "[50]\tvalid_0's auc: 0.76698\n",
      "[100]\tvalid_0's auc: 0.774295\n",
      "Early stopping, best iteration is:\n",
      "[6]\tvalid_0's auc: 0.799896\n"
     ]
    },
    {
     "name": "stderr",
     "output_type": "stream",
     "text": [
      "feature_fraction, val_score: 0.799896:  43%|####2     | 3/7 [00:00<00:00,  9.13it/s][I 2020-09-26 21:00:17,550] Finished trial#2 with value: 0.7998955067920586 with parameters: {'feature_fraction': 0.6}. Best is trial#2 with value: 0.7998955067920586.\n",
      "feature_fraction, val_score: 0.799896:  43%|####2     | 3/7 [00:00<00:00,  9.13it/s]"
     ]
    },
    {
     "name": "stdout",
     "output_type": "stream",
     "text": [
      "Training until validation scores don't improve for 100 rounds\n",
      "[50]\tvalid_0's auc: 0.778474\n",
      "[100]\tvalid_0's auc: 0.761755\n",
      "[150]\tvalid_0's auc: 0.772205\n",
      "Early stopping, best iteration is:\n",
      "[58]\tvalid_0's auc: 0.781609\n"
     ]
    },
    {
     "name": "stderr",
     "output_type": "stream",
     "text": [
      "feature_fraction, val_score: 0.799896:  57%|#####7    | 4/7 [00:00<00:00,  7.96it/s][I 2020-09-26 21:00:17,709] Finished trial#3 with value: 0.7816091954022989 with parameters: {'feature_fraction': 1.0}. Best is trial#2 with value: 0.7998955067920586.\n",
      "feature_fraction, val_score: 0.799896:  57%|#####7    | 4/7 [00:00<00:00,  7.96it/s]"
     ]
    },
    {
     "name": "stdout",
     "output_type": "stream",
     "text": [
      "Training until validation scores don't improve for 100 rounds\n",
      "[50]\tvalid_0's auc: 0.77116\n",
      "[100]\tvalid_0's auc: 0.765935\n",
      "Early stopping, best iteration is:\n",
      "[4]\tvalid_0's auc: 0.777429\n"
     ]
    },
    {
     "name": "stderr",
     "output_type": "stream",
     "text": [
      "feature_fraction, val_score: 0.799896:  71%|#######1  | 5/7 [00:00<00:00,  7.83it/s][I 2020-09-26 21:00:17,841] Finished trial#4 with value: 0.7774294670846394 with parameters: {'feature_fraction': 0.8}. Best is trial#2 with value: 0.7998955067920586.\n",
      "feature_fraction, val_score: 0.799896:  71%|#######1  | 5/7 [00:00<00:00,  7.83it/s]"
     ]
    },
    {
     "name": "stdout",
     "output_type": "stream",
     "text": [
      "Training until validation scores don't improve for 100 rounds\n",
      "[50]\tvalid_0's auc: 0.778474\n",
      "[100]\tvalid_0's auc: 0.77534\n",
      "Early stopping, best iteration is:\n",
      "[6]\tvalid_0's auc: 0.779519\n"
     ]
    },
    {
     "name": "stderr",
     "output_type": "stream",
     "text": [
      "feature_fraction, val_score: 0.799896:  86%|########5 | 6/7 [00:00<00:00,  7.77it/s][I 2020-09-26 21:00:17,971] Finished trial#5 with value: 0.7795193312434692 with parameters: {'feature_fraction': 0.7}. Best is trial#2 with value: 0.7998955067920586.\n",
      "feature_fraction, val_score: 0.799896:  86%|########5 | 6/7 [00:00<00:00,  7.77it/s]"
     ]
    },
    {
     "name": "stdout",
     "output_type": "stream",
     "text": [
      "Training until validation scores don't improve for 100 rounds\n",
      "[50]\tvalid_0's auc: 0.76698\n",
      "[100]\tvalid_0's auc: 0.774295\n",
      "Early stopping, best iteration is:\n",
      "[6]\tvalid_0's auc: 0.799896\n"
     ]
    },
    {
     "name": "stderr",
     "output_type": "stream",
     "text": [
      "feature_fraction, val_score: 0.799896: 100%|##########| 7/7 [00:00<00:00,  7.48it/s][I 2020-09-26 21:00:18,118] Finished trial#6 with value: 0.7998955067920586 with parameters: {'feature_fraction': 0.5}. Best is trial#2 with value: 0.7998955067920586.\n",
      "feature_fraction, val_score: 0.799896: 100%|##########| 7/7 [00:00<00:00,  7.02it/s]\n",
      "num_leaves, val_score: 0.799896:   0%|          | 0/20 [00:00<?, ?it/s]"
     ]
    },
    {
     "name": "stdout",
     "output_type": "stream",
     "text": [
      "Training until validation scores don't improve for 100 rounds\n",
      "[50]\tvalid_0's auc: 0.76698\n",
      "[100]\tvalid_0's auc: 0.774295\n",
      "Early stopping, best iteration is:\n",
      "[6]\tvalid_0's auc: 0.799896\n"
     ]
    },
    {
     "name": "stderr",
     "output_type": "stream",
     "text": [
      "num_leaves, val_score: 0.799896:   0%|          | 0/20 [00:00<?, ?it/s][I 2020-09-26 21:00:18,267] Finished trial#7 with value: 0.7998955067920586 with parameters: {'num_leaves': 237}. Best is trial#7 with value: 0.7998955067920586.\n",
      "num_leaves, val_score: 0.799896:   5%|5         | 1/20 [00:00<00:02,  6.94it/s]"
     ]
    },
    {
     "name": "stdout",
     "output_type": "stream",
     "text": [
      "Training until validation scores don't improve for 100 rounds\n",
      "[50]\tvalid_0's auc: 0.76698\n",
      "[100]\tvalid_0's auc: 0.774295\n",
      "Early stopping, best iteration is:\n",
      "[6]\tvalid_0's auc: 0.799896\n"
     ]
    },
    {
     "name": "stderr",
     "output_type": "stream",
     "text": [
      "num_leaves, val_score: 0.799896:  10%|#         | 2/20 [00:00<00:01, 10.58it/s][I 2020-09-26 21:00:18,401] Finished trial#8 with value: 0.7998955067920586 with parameters: {'num_leaves': 164}. Best is trial#7 with value: 0.7998955067920586.\n",
      "num_leaves, val_score: 0.799896:  10%|#         | 2/20 [00:00<00:01, 10.58it/s]"
     ]
    },
    {
     "name": "stdout",
     "output_type": "stream",
     "text": [
      "Training until validation scores don't improve for 100 rounds\n",
      "[50]\tvalid_0's auc: 0.76698\n",
      "[100]\tvalid_0's auc: 0.774295\n",
      "Early stopping, best iteration is:\n",
      "[6]\tvalid_0's auc: 0.799896\n"
     ]
    },
    {
     "name": "stderr",
     "output_type": "stream",
     "text": [
      "num_leaves, val_score: 0.799896:  15%|#5        | 3/20 [00:00<00:01,  9.27it/s][I 2020-09-26 21:00:18,553] Finished trial#9 with value: 0.7998955067920586 with parameters: {'num_leaves': 185}. Best is trial#7 with value: 0.7998955067920586.\n",
      "num_leaves, val_score: 0.799896:  15%|#5        | 3/20 [00:00<00:01,  9.27it/s]"
     ]
    },
    {
     "name": "stdout",
     "output_type": "stream",
     "text": [
      "Training until validation scores don't improve for 100 rounds\n",
      "[50]\tvalid_0's auc: 0.76698\n",
      "[100]\tvalid_0's auc: 0.774295\n",
      "Early stopping, best iteration is:\n",
      "[6]\tvalid_0's auc: 0.799896\n"
     ]
    },
    {
     "name": "stderr",
     "output_type": "stream",
     "text": [
      "num_leaves, val_score: 0.799896:  20%|##        | 4/20 [00:00<00:01,  8.16it/s][I 2020-09-26 21:00:18,708] Finished trial#10 with value: 0.7998955067920586 with parameters: {'num_leaves': 27}. Best is trial#7 with value: 0.7998955067920586.\n",
      "num_leaves, val_score: 0.799896:  20%|##        | 4/20 [00:00<00:01,  8.16it/s]"
     ]
    },
    {
     "name": "stdout",
     "output_type": "stream",
     "text": [
      "Training until validation scores don't improve for 100 rounds\n",
      "[50]\tvalid_0's auc: 0.76698\n",
      "[100]\tvalid_0's auc: 0.774295\n",
      "Early stopping, best iteration is:\n",
      "[6]\tvalid_0's auc: 0.799896\n"
     ]
    },
    {
     "name": "stderr",
     "output_type": "stream",
     "text": [
      "num_leaves, val_score: 0.799896:  25%|##5       | 5/20 [00:00<00:02,  7.47it/s][I 2020-09-26 21:00:18,867] Finished trial#11 with value: 0.7998955067920586 with parameters: {'num_leaves': 167}. Best is trial#7 with value: 0.7998955067920586.\n",
      "num_leaves, val_score: 0.799896:  25%|##5       | 5/20 [00:00<00:02,  7.47it/s]"
     ]
    },
    {
     "name": "stdout",
     "output_type": "stream",
     "text": [
      "Training until validation scores don't improve for 100 rounds\n",
      "[50]\tvalid_0's auc: 0.76698\n",
      "[100]\tvalid_0's auc: 0.774295\n",
      "Early stopping, best iteration is:\n",
      "[6]\tvalid_0's auc: 0.799896\n"
     ]
    },
    {
     "name": "stderr",
     "output_type": "stream",
     "text": [
      "num_leaves, val_score: 0.799896:  30%|###       | 6/20 [00:00<00:01,  7.35it/s][I 2020-09-26 21:00:19,004] Finished trial#12 with value: 0.7998955067920586 with parameters: {'num_leaves': 76}. Best is trial#7 with value: 0.7998955067920586.\n",
      "num_leaves, val_score: 0.799896:  30%|###       | 6/20 [00:00<00:01,  7.35it/s]"
     ]
    },
    {
     "name": "stdout",
     "output_type": "stream",
     "text": [
      "Training until validation scores don't improve for 100 rounds\n",
      "[50]\tvalid_0's auc: 0.76698\n",
      "[100]\tvalid_0's auc: 0.774295\n",
      "Early stopping, best iteration is:\n",
      "[6]\tvalid_0's auc: 0.799896\n"
     ]
    },
    {
     "name": "stderr",
     "output_type": "stream",
     "text": [
      "num_leaves, val_score: 0.799896:  35%|###5      | 7/20 [00:00<00:01,  7.27it/s][I 2020-09-26 21:00:19,136] Finished trial#13 with value: 0.7998955067920586 with parameters: {'num_leaves': 233}. Best is trial#7 with value: 0.7998955067920586.\n",
      "num_leaves, val_score: 0.799896:  35%|###5      | 7/20 [00:01<00:01,  7.27it/s]"
     ]
    },
    {
     "name": "stdout",
     "output_type": "stream",
     "text": [
      "Training until validation scores don't improve for 100 rounds\n",
      "[50]\tvalid_0's auc: 0.76698\n",
      "[100]\tvalid_0's auc: 0.774295\n",
      "Early stopping, best iteration is:\n",
      "[6]\tvalid_0's auc: 0.799896\n"
     ]
    },
    {
     "name": "stderr",
     "output_type": "stream",
     "text": [
      "num_leaves, val_score: 0.799896:  40%|####      | 8/20 [00:01<00:01,  7.48it/s][I 2020-09-26 21:00:19,269] Finished trial#14 with value: 0.7998955067920586 with parameters: {'num_leaves': 40}. Best is trial#7 with value: 0.7998955067920586.\n",
      "num_leaves, val_score: 0.799896:  40%|####      | 8/20 [00:01<00:01,  7.48it/s]"
     ]
    },
    {
     "name": "stdout",
     "output_type": "stream",
     "text": [
      "Training until validation scores don't improve for 100 rounds\n",
      "[50]\tvalid_0's auc: 0.76698\n",
      "[100]\tvalid_0's auc: 0.774295\n",
      "Early stopping, best iteration is:\n",
      "[6]\tvalid_0's auc: 0.799896\n"
     ]
    },
    {
     "name": "stderr",
     "output_type": "stream",
     "text": [
      "num_leaves, val_score: 0.799896:  45%|####5     | 9/20 [00:01<00:01,  7.46it/s][I 2020-09-26 21:00:19,395] Finished trial#15 with value: 0.7998955067920586 with parameters: {'num_leaves': 190}. Best is trial#7 with value: 0.7998955067920586.\n",
      "num_leaves, val_score: 0.799896:  45%|####5     | 9/20 [00:01<00:01,  7.46it/s]"
     ]
    },
    {
     "name": "stdout",
     "output_type": "stream",
     "text": [
      "Training until validation scores don't improve for 100 rounds\n",
      "[50]\tvalid_0's auc: 0.76698\n",
      "[100]\tvalid_0's auc: 0.774295\n",
      "Early stopping, best iteration is:\n",
      "[6]\tvalid_0's auc: 0.799896\n"
     ]
    },
    {
     "name": "stderr",
     "output_type": "stream",
     "text": [
      "num_leaves, val_score: 0.799896:  50%|#####     | 10/20 [00:01<00:01,  7.61it/s][I 2020-09-26 21:00:19,527] Finished trial#16 with value: 0.7998955067920586 with parameters: {'num_leaves': 79}. Best is trial#7 with value: 0.7998955067920586.\n",
      "num_leaves, val_score: 0.799896:  50%|#####     | 10/20 [00:01<00:01,  7.61it/s]"
     ]
    },
    {
     "name": "stdout",
     "output_type": "stream",
     "text": [
      "Training until validation scores don't improve for 100 rounds\n",
      "[50]\tvalid_0's auc: 0.76698\n",
      "[100]\tvalid_0's auc: 0.774295\n",
      "Early stopping, best iteration is:\n",
      "[6]\tvalid_0's auc: 0.799896\n"
     ]
    },
    {
     "name": "stderr",
     "output_type": "stream",
     "text": [
      "num_leaves, val_score: 0.799896:  55%|#####5    | 11/20 [00:01<00:01,  7.51it/s][I 2020-09-26 21:00:19,657] Finished trial#17 with value: 0.7998955067920586 with parameters: {'num_leaves': 242}. Best is trial#7 with value: 0.7998955067920586.\n",
      "num_leaves, val_score: 0.799896:  55%|#####5    | 11/20 [00:01<00:01,  7.51it/s]"
     ]
    },
    {
     "name": "stdout",
     "output_type": "stream",
     "text": [
      "Training until validation scores don't improve for 100 rounds\n",
      "[50]\tvalid_0's auc: 0.76698\n",
      "[100]\tvalid_0's auc: 0.774295\n",
      "Early stopping, best iteration is:\n",
      "[6]\tvalid_0's auc: 0.799896\n"
     ]
    },
    {
     "name": "stderr",
     "output_type": "stream",
     "text": [
      "num_leaves, val_score: 0.799896:  60%|######    | 12/20 [00:01<00:01,  7.47it/s][I 2020-09-26 21:00:19,796] Finished trial#18 with value: 0.7998955067920586 with parameters: {'num_leaves': 131}. Best is trial#7 with value: 0.7998955067920586.\n",
      "num_leaves, val_score: 0.799896:  60%|######    | 12/20 [00:01<00:01,  7.47it/s]"
     ]
    },
    {
     "name": "stdout",
     "output_type": "stream",
     "text": [
      "Training until validation scores don't improve for 100 rounds\n",
      "[50]\tvalid_0's auc: 0.76698\n",
      "[100]\tvalid_0's auc: 0.774295\n",
      "Early stopping, best iteration is:\n",
      "[6]\tvalid_0's auc: 0.799896\n"
     ]
    },
    {
     "name": "stderr",
     "output_type": "stream",
     "text": [
      "num_leaves, val_score: 0.799896:  65%|######5   | 13/20 [00:01<00:00,  7.38it/s][I 2020-09-26 21:00:19,938] Finished trial#19 with value: 0.7998955067920586 with parameters: {'num_leaves': 256}. Best is trial#7 with value: 0.7998955067920586.\n",
      "num_leaves, val_score: 0.799896:  65%|######5   | 13/20 [00:01<00:00,  7.38it/s]"
     ]
    },
    {
     "name": "stdout",
     "output_type": "stream",
     "text": [
      "Training until validation scores don't improve for 100 rounds\n",
      "[50]\tvalid_0's auc: 0.76698\n",
      "[100]\tvalid_0's auc: 0.774295\n",
      "Early stopping, best iteration is:\n",
      "[6]\tvalid_0's auc: 0.799896\n"
     ]
    },
    {
     "name": "stderr",
     "output_type": "stream",
     "text": [
      "num_leaves, val_score: 0.799896:  70%|#######   | 14/20 [00:01<00:00,  7.26it/s][I 2020-09-26 21:00:20,080] Finished trial#20 with value: 0.7998955067920586 with parameters: {'num_leaves': 146}. Best is trial#7 with value: 0.7998955067920586.\n",
      "num_leaves, val_score: 0.799896:  70%|#######   | 14/20 [00:01<00:00,  7.26it/s]"
     ]
    },
    {
     "name": "stdout",
     "output_type": "stream",
     "text": [
      "Training until validation scores don't improve for 100 rounds\n",
      "[50]\tvalid_0's auc: 0.76698\n",
      "[100]\tvalid_0's auc: 0.774295\n",
      "Early stopping, best iteration is:\n",
      "[6]\tvalid_0's auc: 0.799896\n"
     ]
    },
    {
     "name": "stderr",
     "output_type": "stream",
     "text": [
      "num_leaves, val_score: 0.799896:  75%|#######5  | 15/20 [00:02<00:00,  7.32it/s][I 2020-09-26 21:00:20,211] Finished trial#21 with value: 0.7998955067920586 with parameters: {'num_leaves': 214}. Best is trial#7 with value: 0.7998955067920586.\n",
      "num_leaves, val_score: 0.799896:  75%|#######5  | 15/20 [00:02<00:00,  7.32it/s]"
     ]
    },
    {
     "name": "stdout",
     "output_type": "stream",
     "text": [
      "Training until validation scores don't improve for 100 rounds\n",
      "[50]\tvalid_0's auc: 0.76698\n",
      "[100]\tvalid_0's auc: 0.774295\n",
      "Early stopping, best iteration is:\n",
      "[6]\tvalid_0's auc: 0.799896\n"
     ]
    },
    {
     "name": "stderr",
     "output_type": "stream",
     "text": [
      "num_leaves, val_score: 0.799896:  80%|########  | 16/20 [00:02<00:00,  7.43it/s][I 2020-09-26 21:00:20,339] Finished trial#22 with value: 0.7998955067920586 with parameters: {'num_leaves': 96}. Best is trial#7 with value: 0.7998955067920586.\n",
      "num_leaves, val_score: 0.799896:  80%|########  | 16/20 [00:02<00:00,  7.43it/s]"
     ]
    },
    {
     "name": "stdout",
     "output_type": "stream",
     "text": [
      "Training until validation scores don't improve for 100 rounds\n",
      "[50]\tvalid_0's auc: 0.76698\n",
      "[100]\tvalid_0's auc: 0.774295\n",
      "Early stopping, best iteration is:\n",
      "[6]\tvalid_0's auc: 0.799896\n"
     ]
    },
    {
     "name": "stderr",
     "output_type": "stream",
     "text": [
      "num_leaves, val_score: 0.799896:  85%|########5 | 17/20 [00:02<00:00,  7.51it/s][I 2020-09-26 21:00:20,474] Finished trial#23 with value: 0.7998955067920586 with parameters: {'num_leaves': 210}. Best is trial#7 with value: 0.7998955067920586.\n",
      "num_leaves, val_score: 0.799896:  85%|########5 | 17/20 [00:02<00:00,  7.51it/s]"
     ]
    },
    {
     "name": "stdout",
     "output_type": "stream",
     "text": [
      "Training until validation scores don't improve for 100 rounds\n",
      "[50]\tvalid_0's auc: 0.76698\n",
      "[100]\tvalid_0's auc: 0.774295\n",
      "Early stopping, best iteration is:\n",
      "[6]\tvalid_0's auc: 0.799896\n"
     ]
    },
    {
     "name": "stderr",
     "output_type": "stream",
     "text": [
      "num_leaves, val_score: 0.799896:  90%|######### | 18/20 [00:02<00:00,  7.49it/s][I 2020-09-26 21:00:20,607] Finished trial#24 with value: 0.7998955067920586 with parameters: {'num_leaves': 215}. Best is trial#7 with value: 0.7998955067920586.\n",
      "num_leaves, val_score: 0.799896:  90%|######### | 18/20 [00:02<00:00,  7.49it/s]"
     ]
    },
    {
     "name": "stdout",
     "output_type": "stream",
     "text": [
      "Training until validation scores don't improve for 100 rounds\n",
      "[50]\tvalid_0's auc: 0.76698\n",
      "[100]\tvalid_0's auc: 0.774295\n",
      "Early stopping, best iteration is:\n",
      "[6]\tvalid_0's auc: 0.799896\n"
     ]
    },
    {
     "name": "stderr",
     "output_type": "stream",
     "text": [
      "num_leaves, val_score: 0.799896:  95%|#########5| 19/20 [00:02<00:00,  7.48it/s][I 2020-09-26 21:00:20,746] Finished trial#25 with value: 0.7998955067920586 with parameters: {'num_leaves': 100}. Best is trial#7 with value: 0.7998955067920586.\n",
      "num_leaves, val_score: 0.799896:  95%|#########5| 19/20 [00:02<00:00,  7.48it/s]"
     ]
    },
    {
     "name": "stdout",
     "output_type": "stream",
     "text": [
      "Training until validation scores don't improve for 100 rounds\n",
      "[50]\tvalid_0's auc: 0.76698\n",
      "[100]\tvalid_0's auc: 0.774295\n",
      "Early stopping, best iteration is:\n",
      "[6]\tvalid_0's auc: 0.799896\n"
     ]
    },
    {
     "name": "stderr",
     "output_type": "stream",
     "text": [
      "num_leaves, val_score: 0.799896: 100%|##########| 20/20 [00:02<00:00,  7.43it/s][I 2020-09-26 21:00:20,881] Finished trial#26 with value: 0.7998955067920586 with parameters: {'num_leaves': 213}. Best is trial#7 with value: 0.7998955067920586.\n",
      "num_leaves, val_score: 0.799896: 100%|##########| 20/20 [00:02<00:00,  7.25it/s]\n",
      "bagging, val_score: 0.799896:   0%|          | 0/10 [00:00<?, ?it/s]"
     ]
    },
    {
     "name": "stdout",
     "output_type": "stream",
     "text": [
      "Training until validation scores don't improve for 100 rounds\n",
      "[50]\tvalid_0's auc: 0.779519\n",
      "[100]\tvalid_0's auc: 0.756531\n",
      "Early stopping, best iteration is:\n",
      "[2]\tvalid_0's auc: 0.829154\n"
     ]
    },
    {
     "name": "stderr",
     "output_type": "stream",
     "text": [
      "bagging, val_score: 0.829154:   0%|          | 0/10 [00:00<?, ?it/s][I 2020-09-26 21:00:21,018] Finished trial#27 with value: 0.829153605015674 with parameters: {'bagging_fraction': 0.6831975720375488, 'bagging_freq': 7}. Best is trial#27 with value: 0.829153605015674.\n",
      "bagging, val_score: 0.829154:  10%|#         | 1/10 [00:00<00:01,  7.63it/s]"
     ]
    },
    {
     "name": "stdout",
     "output_type": "stream",
     "text": [
      "Training until validation scores don't improve for 100 rounds\n",
      "[50]\tvalid_0's auc: 0.801463\n",
      "[100]\tvalid_0's auc: 0.781609\n",
      "Early stopping, best iteration is:\n",
      "[4]\tvalid_0's auc: 0.810345\n"
     ]
    },
    {
     "name": "stderr",
     "output_type": "stream",
     "text": [
      "bagging, val_score: 0.829154:  20%|##        | 2/10 [00:00<00:00, 11.36it/s][I 2020-09-26 21:00:21,145] Finished trial#28 with value: 0.8103448275862069 with parameters: {'bagging_fraction': 0.9947885549066936, 'bagging_freq': 4}. Best is trial#27 with value: 0.829153605015674.\n",
      "bagging, val_score: 0.829154:  20%|##        | 2/10 [00:00<00:00, 11.36it/s]"
     ]
    },
    {
     "name": "stdout",
     "output_type": "stream",
     "text": [
      "Training until validation scores don't improve for 100 rounds\n",
      "[50]\tvalid_0's auc: 0.798328\n",
      "[100]\tvalid_0's auc: 0.795193\n",
      "[150]\tvalid_0's auc: 0.796238\n",
      "Early stopping, best iteration is:\n",
      "[54]\tvalid_0's auc: 0.808777\n"
     ]
    },
    {
     "name": "stderr",
     "output_type": "stream",
     "text": [
      "bagging, val_score: 0.829154:  30%|###       | 3/10 [00:00<00:00,  9.30it/s][I 2020-09-26 21:00:21,306] Finished trial#29 with value: 0.8087774294670846 with parameters: {'bagging_fraction': 0.8860838288068345, 'bagging_freq': 6}. Best is trial#27 with value: 0.829153605015674.\n",
      "bagging, val_score: 0.829154:  30%|###       | 3/10 [00:00<00:00,  9.30it/s]"
     ]
    },
    {
     "name": "stdout",
     "output_type": "stream",
     "text": [
      "Training until validation scores don't improve for 100 rounds\n",
      "[50]\tvalid_0's auc: 0.770637\n",
      "[100]\tvalid_0's auc: 0.76698\n",
      "[150]\tvalid_0's auc: 0.755486\n",
      "Early stopping, best iteration is:\n",
      "[64]\tvalid_0's auc: 0.789446\n"
     ]
    },
    {
     "name": "stderr",
     "output_type": "stream",
     "text": [
      "bagging, val_score: 0.829154:  40%|####      | 4/10 [00:00<00:00,  8.27it/s][I 2020-09-26 21:00:21,467] Finished trial#30 with value: 0.7894461859979102 with parameters: {'bagging_fraction': 0.42858995650506915, 'bagging_freq': 7}. Best is trial#27 with value: 0.829153605015674.\n",
      "bagging, val_score: 0.829154:  40%|####      | 4/10 [00:00<00:00,  8.27it/s]"
     ]
    },
    {
     "name": "stdout",
     "output_type": "stream",
     "text": [
      "Training until validation scores don't improve for 100 rounds\n",
      "[50]\tvalid_0's auc: 0.772205\n",
      "[100]\tvalid_0's auc: 0.770115\n",
      "Early stopping, best iteration is:\n",
      "[2]\tvalid_0's auc: 0.796761\n"
     ]
    },
    {
     "name": "stderr",
     "output_type": "stream",
     "text": [
      "bagging, val_score: 0.829154:  50%|#####     | 5/10 [00:00<00:00,  7.97it/s][I 2020-09-26 21:00:21,601] Finished trial#31 with value: 0.796760710553814 with parameters: {'bagging_fraction': 0.6298479979476325, 'bagging_freq': 3}. Best is trial#27 with value: 0.829153605015674.\n",
      "bagging, val_score: 0.829154:  50%|#####     | 5/10 [00:00<00:00,  7.97it/s]"
     ]
    },
    {
     "name": "stdout",
     "output_type": "stream",
     "text": [
      "Training until validation scores don't improve for 100 rounds\n",
      "[50]\tvalid_0's auc: 0.746082\n",
      "[100]\tvalid_0's auc: 0.768025\n",
      "Early stopping, best iteration is:\n",
      "[17]\tvalid_0's auc: 0.799896\n"
     ]
    },
    {
     "name": "stderr",
     "output_type": "stream",
     "text": [
      "bagging, val_score: 0.829154:  60%|######    | 6/10 [00:00<00:00,  7.55it/s][I 2020-09-26 21:00:21,739] Finished trial#32 with value: 0.7998955067920586 with parameters: {'bagging_fraction': 0.5723063795288008, 'bagging_freq': 7}. Best is trial#27 with value: 0.829153605015674.\n",
      "bagging, val_score: 0.829154:  60%|######    | 6/10 [00:00<00:00,  7.55it/s]"
     ]
    },
    {
     "name": "stdout",
     "output_type": "stream",
     "text": [
      "Training until validation scores don't improve for 100 rounds\n",
      "[50]\tvalid_0's auc: 0.788924\n",
      "[100]\tvalid_0's auc: 0.784744\n",
      "Early stopping, best iteration is:\n",
      "[5]\tvalid_0's auc: 0.827586\n"
     ]
    },
    {
     "name": "stderr",
     "output_type": "stream",
     "text": [
      "bagging, val_score: 0.829154:  70%|#######   | 7/10 [00:00<00:00,  7.42it/s][I 2020-09-26 21:00:21,887] Finished trial#33 with value: 0.8275862068965517 with parameters: {'bagging_fraction': 0.8161857647019848, 'bagging_freq': 6}. Best is trial#27 with value: 0.829153605015674.\n",
      "bagging, val_score: 0.829154:  70%|#######   | 7/10 [00:00<00:00,  7.42it/s]"
     ]
    },
    {
     "name": "stdout",
     "output_type": "stream",
     "text": [
      "Training until validation scores don't improve for 100 rounds\n",
      "[50]\tvalid_0's auc: 0.809822\n",
      "[100]\tvalid_0's auc: 0.794148\n",
      "Early stopping, best iteration is:\n",
      "[6]\tvalid_0's auc: 0.816092\n"
     ]
    },
    {
     "name": "stderr",
     "output_type": "stream",
     "text": [
      "bagging, val_score: 0.829154:  80%|########  | 8/10 [00:01<00:00,  7.35it/s][I 2020-09-26 21:00:22,023] Finished trial#34 with value: 0.8160919540229885 with parameters: {'bagging_fraction': 0.8563483902187784, 'bagging_freq': 1}. Best is trial#27 with value: 0.829153605015674.\n",
      "bagging, val_score: 0.829154:  80%|########  | 8/10 [00:01<00:00,  7.35it/s]"
     ]
    },
    {
     "name": "stdout",
     "output_type": "stream",
     "text": [
      "Training until validation scores don't improve for 100 rounds\n",
      "[50]\tvalid_0's auc: 0.784744\n",
      "[100]\tvalid_0's auc: 0.798328\n",
      "Early stopping, best iteration is:\n",
      "[7]\tvalid_0's auc: 0.822362\n"
     ]
    },
    {
     "name": "stderr",
     "output_type": "stream",
     "text": [
      "bagging, val_score: 0.829154:  90%|######### | 9/10 [00:01<00:00,  6.60it/s][I 2020-09-26 21:00:22,220] Finished trial#35 with value: 0.8223615464994776 with parameters: {'bagging_fraction': 0.8576014841539186, 'bagging_freq': 5}. Best is trial#27 with value: 0.829153605015674.\n",
      "bagging, val_score: 0.829154:  90%|######### | 9/10 [00:01<00:00,  6.60it/s]"
     ]
    },
    {
     "name": "stdout",
     "output_type": "stream",
     "text": [
      "Training until validation scores don't improve for 100 rounds\n",
      "[50]\tvalid_0's auc: 0.786834\n",
      "[100]\tvalid_0's auc: 0.799373\n",
      "[150]\tvalid_0's auc: 0.783699\n",
      "Early stopping, best iteration is:\n",
      "[93]\tvalid_0's auc: 0.802508\n"
     ]
    },
    {
     "name": "stderr",
     "output_type": "stream",
     "text": [
      "bagging, val_score: 0.829154: 100%|##########| 10/10 [00:01<00:00,  6.18it/s][I 2020-09-26 21:00:22,397] Finished trial#36 with value: 0.8025078369905956 with parameters: {'bagging_fraction': 0.9028671196795911, 'bagging_freq': 4}. Best is trial#27 with value: 0.829153605015674.\n",
      "bagging, val_score: 0.829154: 100%|##########| 10/10 [00:01<00:00,  6.61it/s]\n",
      "feature_fraction_stage2, val_score: 0.829154:   0%|          | 0/6 [00:00<?, ?it/s]"
     ]
    },
    {
     "name": "stdout",
     "output_type": "stream",
     "text": [
      "Training until validation scores don't improve for 100 rounds\n",
      "[50]\tvalid_0's auc: 0.76907\n",
      "[100]\tvalid_0's auc: 0.7628\n",
      "Early stopping, best iteration is:\n",
      "[2]\tvalid_0's auc: 0.829154\n"
     ]
    },
    {
     "name": "stderr",
     "output_type": "stream",
     "text": [
      "feature_fraction_stage2, val_score: 0.829154:   0%|          | 0/6 [00:00<?, ?it/s][I 2020-09-26 21:00:22,555] Finished trial#37 with value: 0.829153605015674 with parameters: {'feature_fraction': 0.616}. Best is trial#37 with value: 0.829153605015674.\n",
      "feature_fraction_stage2, val_score: 0.829154:  17%|#6        | 1/6 [00:00<00:00,  6.49it/s]"
     ]
    },
    {
     "name": "stdout",
     "output_type": "stream",
     "text": [
      "Training until validation scores don't improve for 100 rounds\n",
      "[50]\tvalid_0's auc: 0.76907\n",
      "[100]\tvalid_0's auc: 0.7628\n",
      "Early stopping, best iteration is:\n",
      "[2]\tvalid_0's auc: 0.829154\n"
     ]
    },
    {
     "name": "stderr",
     "output_type": "stream",
     "text": [
      "feature_fraction_stage2, val_score: 0.829154:  33%|###3      | 2/6 [00:00<00:00, 10.15it/s][I 2020-09-26 21:00:22,690] Finished trial#38 with value: 0.829153605015674 with parameters: {'feature_fraction': 0.6799999999999999}. Best is trial#37 with value: 0.829153605015674.\n",
      "feature_fraction_stage2, val_score: 0.829154:  33%|###3      | 2/6 [00:00<00:00, 10.15it/s]"
     ]
    },
    {
     "name": "stdout",
     "output_type": "stream",
     "text": [
      "Training until validation scores don't improve for 100 rounds\n",
      "[50]\tvalid_0's auc: 0.779519\n",
      "[100]\tvalid_0's auc: 0.756531\n",
      "Early stopping, best iteration is:\n",
      "[2]\tvalid_0's auc: 0.829154\n"
     ]
    },
    {
     "name": "stderr",
     "output_type": "stream",
     "text": [
      "feature_fraction_stage2, val_score: 0.829154:  50%|#####     | 3/6 [00:00<00:00,  8.92it/s][I 2020-09-26 21:00:22,846] Finished trial#39 with value: 0.829153605015674 with parameters: {'feature_fraction': 0.52}. Best is trial#37 with value: 0.829153605015674.\n",
      "feature_fraction_stage2, val_score: 0.829154:  50%|#####     | 3/6 [00:00<00:00,  8.92it/s]"
     ]
    },
    {
     "name": "stdout",
     "output_type": "stream",
     "text": [
      "Training until validation scores don't improve for 100 rounds\n",
      "[50]\tvalid_0's auc: 0.779519\n",
      "[100]\tvalid_0's auc: 0.756531\n",
      "Early stopping, best iteration is:\n",
      "[2]\tvalid_0's auc: 0.829154\n"
     ]
    },
    {
     "name": "stderr",
     "output_type": "stream",
     "text": [
      "feature_fraction_stage2, val_score: 0.829154:  67%|######6   | 4/6 [00:00<00:00,  8.14it/s][I 2020-09-26 21:00:22,989] Finished trial#40 with value: 0.829153605015674 with parameters: {'feature_fraction': 0.584}. Best is trial#37 with value: 0.829153605015674.\n",
      "feature_fraction_stage2, val_score: 0.829154:  67%|######6   | 4/6 [00:00<00:00,  8.14it/s]"
     ]
    },
    {
     "name": "stdout",
     "output_type": "stream",
     "text": [
      "Training until validation scores don't improve for 100 rounds\n",
      "[50]\tvalid_0's auc: 0.76907\n",
      "[100]\tvalid_0's auc: 0.7628\n",
      "Early stopping, best iteration is:\n",
      "[2]\tvalid_0's auc: 0.829154\n"
     ]
    },
    {
     "name": "stderr",
     "output_type": "stream",
     "text": [
      "feature_fraction_stage2, val_score: 0.829154:  83%|########3 | 5/6 [00:00<00:00,  7.74it/s][I 2020-09-26 21:00:23,122] Finished trial#41 with value: 0.829153605015674 with parameters: {'feature_fraction': 0.6479999999999999}. Best is trial#37 with value: 0.829153605015674.\n",
      "feature_fraction_stage2, val_score: 0.829154:  83%|########3 | 5/6 [00:00<00:00,  7.74it/s]"
     ]
    },
    {
     "name": "stdout",
     "output_type": "stream",
     "text": [
      "Training until validation scores don't improve for 100 rounds\n",
      "[50]\tvalid_0's auc: 0.779519\n",
      "[100]\tvalid_0's auc: 0.756531\n",
      "Early stopping, best iteration is:\n",
      "[2]\tvalid_0's auc: 0.829154\n"
     ]
    },
    {
     "name": "stderr",
     "output_type": "stream",
     "text": [
      "feature_fraction_stage2, val_score: 0.829154: 100%|##########| 6/6 [00:00<00:00,  7.74it/s][I 2020-09-26 21:00:23,261] Finished trial#42 with value: 0.829153605015674 with parameters: {'feature_fraction': 0.552}. Best is trial#37 with value: 0.829153605015674.\n",
      "feature_fraction_stage2, val_score: 0.829154: 100%|##########| 6/6 [00:00<00:00,  7.00it/s]\n",
      "regularization_factors, val_score: 0.829154:   0%|          | 0/20 [00:00<?, ?it/s]"
     ]
    },
    {
     "name": "stdout",
     "output_type": "stream",
     "text": [
      "Training until validation scores don't improve for 100 rounds\n",
      "[50]\tvalid_0's auc: 0.795193\n",
      "[100]\tvalid_0's auc: 0.786834\n",
      "Early stopping, best iteration is:\n",
      "[6]\tvalid_0's auc: 0.820272\n"
     ]
    },
    {
     "name": "stderr",
     "output_type": "stream",
     "text": [
      "regularization_factors, val_score: 0.829154:   0%|          | 0/20 [00:00<?, ?it/s][I 2020-09-26 21:00:23,398] Finished trial#43 with value: 0.8202716823406478 with parameters: {'lambda_l1': 1.3904657470961247e-08, 'lambda_l2': 2.736293001577421}. Best is trial#43 with value: 0.8202716823406478.\n",
      "regularization_factors, val_score: 0.829154:   5%|5         | 1/20 [00:00<00:02,  7.46it/s]"
     ]
    },
    {
     "name": "stdout",
     "output_type": "stream",
     "text": [
      "Training until validation scores don't improve for 100 rounds\n",
      "[50]\tvalid_0's auc: 0.778474\n",
      "[100]\tvalid_0's auc: 0.768025\n",
      "Early stopping, best iteration is:\n",
      "[2]\tvalid_0's auc: 0.829154\n"
     ]
    },
    {
     "name": "stderr",
     "output_type": "stream",
     "text": [
      "regularization_factors, val_score: 0.829154:  10%|#         | 2/20 [00:00<00:01, 11.70it/s][I 2020-09-26 21:00:23,529] Finished trial#44 with value: 0.829153605015674 with parameters: {'lambda_l1': 7.498021683318992e-06, 'lambda_l2': 0.066497515268519}. Best is trial#44 with value: 0.829153605015674.\n",
      "regularization_factors, val_score: 0.829154:  10%|#         | 2/20 [00:00<00:01, 11.70it/s]"
     ]
    },
    {
     "name": "stdout",
     "output_type": "stream",
     "text": [
      "Training until validation scores don't improve for 100 rounds\n",
      "[50]\tvalid_0's auc: 0.779519\n",
      "[100]\tvalid_0's auc: 0.756531\n",
      "Early stopping, best iteration is:\n",
      "[2]\tvalid_0's auc: 0.829154\n"
     ]
    },
    {
     "name": "stderr",
     "output_type": "stream",
     "text": [
      "regularization_factors, val_score: 0.829154:  15%|#5        | 3/20 [00:00<00:01, 10.09it/s][I 2020-09-26 21:00:23,655] Finished trial#45 with value: 0.829153605015674 with parameters: {'lambda_l1': 0.0020887102992335543, 'lambda_l2': 5.950363416124418e-07}. Best is trial#44 with value: 0.829153605015674.\n",
      "regularization_factors, val_score: 0.829154:  15%|#5        | 3/20 [00:00<00:01, 10.09it/s]"
     ]
    },
    {
     "name": "stdout",
     "output_type": "stream",
     "text": [
      "Training until validation scores don't improve for 100 rounds\n",
      "[50]\tvalid_0's auc: 0.779519\n",
      "[100]\tvalid_0's auc: 0.756531\n",
      "Early stopping, best iteration is:\n",
      "[2]\tvalid_0's auc: 0.829154\n"
     ]
    },
    {
     "name": "stderr",
     "output_type": "stream",
     "text": [
      "regularization_factors, val_score: 0.829154:  20%|##        | 4/20 [00:00<00:01,  9.20it/s][I 2020-09-26 21:00:23,793] Finished trial#46 with value: 0.829153605015674 with parameters: {'lambda_l1': 3.0873532973320773e-06, 'lambda_l2': 0.00010898265230157496}. Best is trial#44 with value: 0.829153605015674.\n",
      "regularization_factors, val_score: 0.829154:  20%|##        | 4/20 [00:00<00:01,  9.20it/s]"
     ]
    },
    {
     "name": "stdout",
     "output_type": "stream",
     "text": [
      "Training until validation scores don't improve for 100 rounds\n",
      "[50]\tvalid_0's auc: 0.779519\n",
      "[100]\tvalid_0's auc: 0.759666\n",
      "Early stopping, best iteration is:\n",
      "[2]\tvalid_0's auc: 0.829154\n"
     ]
    },
    {
     "name": "stderr",
     "output_type": "stream",
     "text": [
      "regularization_factors, val_score: 0.829154:  25%|##5       | 5/20 [00:00<00:01,  8.58it/s][I 2020-09-26 21:00:23,926] Finished trial#47 with value: 0.829153605015674 with parameters: {'lambda_l1': 0.015030196172434312, 'lambda_l2': 1.8040560734357322e-07}. Best is trial#44 with value: 0.829153605015674.\n",
      "regularization_factors, val_score: 0.829154:  25%|##5       | 5/20 [00:00<00:01,  8.58it/s]"
     ]
    },
    {
     "name": "stdout",
     "output_type": "stream",
     "text": [
      "Training until validation scores don't improve for 100 rounds\n",
      "[50]\tvalid_0's auc: 0.779519\n",
      "[100]\tvalid_0's auc: 0.756531\n",
      "Early stopping, best iteration is:\n",
      "[2]\tvalid_0's auc: 0.829154\n"
     ]
    },
    {
     "name": "stderr",
     "output_type": "stream",
     "text": [
      "regularization_factors, val_score: 0.829154:  30%|###       | 6/20 [00:00<00:01,  8.21it/s][I 2020-09-26 21:00:24,055] Finished trial#48 with value: 0.829153605015674 with parameters: {'lambda_l1': 0.0002590102692949889, 'lambda_l2': 0.00012753032801797766}. Best is trial#44 with value: 0.829153605015674.\n",
      "regularization_factors, val_score: 0.829154:  30%|###       | 6/20 [00:00<00:01,  8.21it/s]"
     ]
    },
    {
     "name": "stdout",
     "output_type": "stream",
     "text": [
      "Training until validation scores don't improve for 100 rounds\n",
      "[50]\tvalid_0's auc: 0.778474\n",
      "[100]\tvalid_0's auc: 0.779519\n",
      "Early stopping, best iteration is:\n",
      "[4]\tvalid_0's auc: 0.831243\n"
     ]
    },
    {
     "name": "stderr",
     "output_type": "stream",
     "text": [
      "regularization_factors, val_score: 0.831243:  35%|###5      | 7/20 [00:00<00:01,  8.15it/s][I 2020-09-26 21:00:24,178] Finished trial#49 with value: 0.8312434691745036 with parameters: {'lambda_l1': 3.207368656678382e-07, 'lambda_l2': 6.509822649241506}. Best is trial#49 with value: 0.8312434691745036.\n",
      "regularization_factors, val_score: 0.831243:  35%|###5      | 7/20 [00:00<00:01,  8.15it/s]"
     ]
    },
    {
     "name": "stdout",
     "output_type": "stream",
     "text": [
      "Training until validation scores don't improve for 100 rounds\n",
      "[50]\tvalid_0's auc: 0.779519\n",
      "[100]\tvalid_0's auc: 0.756531\n",
      "Early stopping, best iteration is:\n",
      "[2]\tvalid_0's auc: 0.829154\n"
     ]
    },
    {
     "name": "stderr",
     "output_type": "stream",
     "text": [
      "regularization_factors, val_score: 0.831243:  40%|####      | 8/20 [00:00<00:01,  8.14it/s][I 2020-09-26 21:00:24,301] Finished trial#50 with value: 0.829153605015674 with parameters: {'lambda_l1': 1.9951649292859834e-05, 'lambda_l2': 2.582755838616453e-06}. Best is trial#49 with value: 0.8312434691745036.\n",
      "regularization_factors, val_score: 0.831243:  40%|####      | 8/20 [00:01<00:01,  8.14it/s]"
     ]
    },
    {
     "name": "stdout",
     "output_type": "stream",
     "text": [
      "Training until validation scores don't improve for 100 rounds\n",
      "[50]\tvalid_0's auc: 0.793103\n",
      "[100]\tvalid_0's auc: 0.789969\n",
      "Early stopping, best iteration is:\n",
      "[6]\tvalid_0's auc: 0.815569\n"
     ]
    },
    {
     "name": "stderr",
     "output_type": "stream",
     "text": [
      "regularization_factors, val_score: 0.831243:  45%|####5     | 9/20 [00:01<00:01,  8.10it/s][I 2020-09-26 21:00:24,427] Finished trial#51 with value: 0.8155694879832811 with parameters: {'lambda_l1': 1.6295743084159249, 'lambda_l2': 9.675029689014794e-05}. Best is trial#49 with value: 0.8312434691745036.\n",
      "regularization_factors, val_score: 0.831243:  45%|####5     | 9/20 [00:01<00:01,  8.10it/s]"
     ]
    },
    {
     "name": "stdout",
     "output_type": "stream",
     "text": [
      "Training until validation scores don't improve for 100 rounds\n",
      "[50]\tvalid_0's auc: 0.793103\n",
      "[100]\tvalid_0's auc: 0.760711\n",
      "Early stopping, best iteration is:\n",
      "[2]\tvalid_0's auc: 0.829154\n"
     ]
    },
    {
     "name": "stderr",
     "output_type": "stream",
     "text": [
      "regularization_factors, val_score: 0.831243:  50%|#####     | 10/20 [00:01<00:01,  8.01it/s][I 2020-09-26 21:00:24,555] Finished trial#52 with value: 0.829153605015674 with parameters: {'lambda_l1': 0.3380171468131, 'lambda_l2': 5.600717674063702e-07}. Best is trial#49 with value: 0.8312434691745036.\n",
      "regularization_factors, val_score: 0.831243:  50%|#####     | 10/20 [00:01<00:01,  8.01it/s]"
     ]
    },
    {
     "name": "stdout",
     "output_type": "stream",
     "text": [
      "Training until validation scores don't improve for 100 rounds\n",
      "[50]\tvalid_0's auc: 0.778474\n",
      "[100]\tvalid_0's auc: 0.778474\n",
      "Early stopping, best iteration is:\n",
      "[4]\tvalid_0's auc: 0.831243\n"
     ]
    },
    {
     "name": "stderr",
     "output_type": "stream",
     "text": [
      "regularization_factors, val_score: 0.831243:  55%|#####5    | 11/20 [00:01<00:01,  7.86it/s][I 2020-09-26 21:00:24,689] Finished trial#53 with value: 0.8312434691745036 with parameters: {'lambda_l1': 1.0195726689179872e-08, 'lambda_l2': 6.451914165106003}. Best is trial#49 with value: 0.8312434691745036.\n",
      "regularization_factors, val_score: 0.831243:  55%|#####5    | 11/20 [00:01<00:01,  7.86it/s]"
     ]
    },
    {
     "name": "stdout",
     "output_type": "stream",
     "text": [
      "Training until validation scores don't improve for 100 rounds\n",
      "[50]\tvalid_0's auc: 0.774295\n",
      "[100]\tvalid_0's auc: 0.782654\n",
      "Early stopping, best iteration is:\n",
      "[7]\tvalid_0's auc: 0.816092\n"
     ]
    },
    {
     "name": "stderr",
     "output_type": "stream",
     "text": [
      "regularization_factors, val_score: 0.831243:  60%|######    | 12/20 [00:01<00:01,  7.82it/s][I 2020-09-26 21:00:24,821] Finished trial#54 with value: 0.8160919540229885 with parameters: {'lambda_l1': 1.4032378187672063e-08, 'lambda_l2': 8.274545833397994}. Best is trial#49 with value: 0.8312434691745036.\n",
      "regularization_factors, val_score: 0.831243:  60%|######    | 12/20 [00:01<00:01,  7.82it/s]"
     ]
    },
    {
     "name": "stdout",
     "output_type": "stream",
     "text": [
      "Training until validation scores don't improve for 100 rounds\n",
      "[50]\tvalid_0's auc: 0.779519\n",
      "[100]\tvalid_0's auc: 0.756531\n",
      "Early stopping, best iteration is:\n",
      "[2]\tvalid_0's auc: 0.829154\n"
     ]
    },
    {
     "name": "stderr",
     "output_type": "stream",
     "text": [
      "regularization_factors, val_score: 0.831243:  65%|######5   | 13/20 [00:01<00:00,  7.73it/s][I 2020-09-26 21:00:24,955] Finished trial#55 with value: 0.829153605015674 with parameters: {'lambda_l1': 9.726855325598669e-08, 'lambda_l2': 0.04436512418476324}. Best is trial#49 with value: 0.8312434691745036.\n",
      "regularization_factors, val_score: 0.831243:  65%|######5   | 13/20 [00:01<00:00,  7.73it/s]"
     ]
    },
    {
     "name": "stdout",
     "output_type": "stream",
     "text": [
      "Training until validation scores don't improve for 100 rounds\n",
      "[50]\tvalid_0's auc: 0.778474\n",
      "[100]\tvalid_0's auc: 0.76489\n",
      "Early stopping, best iteration is:\n",
      "[2]\tvalid_0's auc: 0.829154\n"
     ]
    },
    {
     "name": "stderr",
     "output_type": "stream",
     "text": [
      "regularization_factors, val_score: 0.831243:  70%|#######   | 14/20 [00:01<00:00,  7.53it/s][I 2020-09-26 21:00:25,096] Finished trial#56 with value: 0.829153605015674 with parameters: {'lambda_l1': 4.1014677836602164e-07, 'lambda_l2': 0.3973280529323052}. Best is trial#49 with value: 0.8312434691745036.\n",
      "regularization_factors, val_score: 0.831243:  70%|#######   | 14/20 [00:01<00:00,  7.53it/s]"
     ]
    },
    {
     "name": "stdout",
     "output_type": "stream",
     "text": [
      "Training until validation scores don't improve for 100 rounds\n",
      "[50]\tvalid_0's auc: 0.779519\n",
      "[100]\tvalid_0's auc: 0.759666\n",
      "Early stopping, best iteration is:\n",
      "[2]\tvalid_0's auc: 0.829154\n"
     ]
    },
    {
     "name": "stderr",
     "output_type": "stream",
     "text": [
      "regularization_factors, val_score: 0.831243:  75%|#######5  | 15/20 [00:01<00:00,  7.49it/s][I 2020-09-26 21:00:25,229] Finished trial#57 with value: 0.829153605015674 with parameters: {'lambda_l1': 1.0882231924119844e-08, 'lambda_l2': 0.020274087219190415}. Best is trial#49 with value: 0.8312434691745036.\n",
      "regularization_factors, val_score: 0.831243:  75%|#######5  | 15/20 [00:01<00:00,  7.49it/s]"
     ]
    },
    {
     "name": "stdout",
     "output_type": "stream",
     "text": [
      "Training until validation scores don't improve for 100 rounds\n",
      "[50]\tvalid_0's auc: 0.789969\n",
      "[100]\tvalid_0's auc: 0.780564\n",
      "Early stopping, best iteration is:\n",
      "[7]\tvalid_0's auc: 0.823929\n"
     ]
    },
    {
     "name": "stderr",
     "output_type": "stream",
     "text": [
      "regularization_factors, val_score: 0.831243:  80%|########  | 16/20 [00:02<00:00,  7.45it/s][I 2020-09-26 21:00:25,368] Finished trial#58 with value: 0.8239289446185998 with parameters: {'lambda_l1': 3.345238400160117e-07, 'lambda_l2': 4.528426319986232}. Best is trial#49 with value: 0.8312434691745036.\n",
      "regularization_factors, val_score: 0.831243:  80%|########  | 16/20 [00:02<00:00,  7.45it/s]"
     ]
    },
    {
     "name": "stdout",
     "output_type": "stream",
     "text": [
      "Training until validation scores don't improve for 100 rounds\n",
      "[50]\tvalid_0's auc: 0.779519\n",
      "[100]\tvalid_0's auc: 0.758621\n",
      "Early stopping, best iteration is:\n",
      "[2]\tvalid_0's auc: 0.829154\n"
     ]
    },
    {
     "name": "stderr",
     "output_type": "stream",
     "text": [
      "regularization_factors, val_score: 0.831243:  85%|########5 | 17/20 [00:02<00:00,  7.50it/s][I 2020-09-26 21:00:25,502] Finished trial#59 with value: 0.829153605015674 with parameters: {'lambda_l1': 8.876380958627918e-08, 'lambda_l2': 0.003999611203600376}. Best is trial#49 with value: 0.8312434691745036.\n",
      "regularization_factors, val_score: 0.831243:  85%|########5 | 17/20 [00:02<00:00,  7.50it/s]"
     ]
    },
    {
     "name": "stdout",
     "output_type": "stream",
     "text": [
      "Training until validation scores don't improve for 100 rounds\n",
      "[50]\tvalid_0's auc: 0.779519\n",
      "[100]\tvalid_0's auc: 0.756531\n",
      "Early stopping, best iteration is:\n",
      "[2]\tvalid_0's auc: 0.829154\n"
     ]
    },
    {
     "name": "stderr",
     "output_type": "stream",
     "text": [
      "regularization_factors, val_score: 0.831243:  90%|######### | 18/20 [00:02<00:00,  7.42it/s][I 2020-09-26 21:00:25,638] Finished trial#60 with value: 0.829153605015674 with parameters: {'lambda_l1': 2.398731140740714e-05, 'lambda_l2': 1.2132046789398847e-08}. Best is trial#49 with value: 0.8312434691745036.\n",
      "regularization_factors, val_score: 0.831243:  90%|######### | 18/20 [00:02<00:00,  7.42it/s]"
     ]
    },
    {
     "name": "stdout",
     "output_type": "stream",
     "text": [
      "Training until validation scores don't improve for 100 rounds\n",
      "[50]\tvalid_0's auc: 0.788924\n",
      "[100]\tvalid_0's auc: 0.76489\n",
      "Early stopping, best iteration is:\n",
      "[2]\tvalid_0's auc: 0.829154\n"
     ]
    },
    {
     "name": "stderr",
     "output_type": "stream",
     "text": [
      "regularization_factors, val_score: 0.831243:  95%|#########5| 19/20 [00:02<00:00,  7.44it/s][I 2020-09-26 21:00:25,759] Finished trial#61 with value: 0.829153605015674 with parameters: {'lambda_l1': 1.445222516983568e-06, 'lambda_l2': 0.6293045081341098}. Best is trial#49 with value: 0.8312434691745036.\n",
      "regularization_factors, val_score: 0.831243:  95%|#########5| 19/20 [00:02<00:00,  7.44it/s]"
     ]
    },
    {
     "name": "stdout",
     "output_type": "stream",
     "text": [
      "Training until validation scores don't improve for 100 rounds\n",
      "[50]\tvalid_0's auc: 0.777429\n",
      "[100]\tvalid_0's auc: 0.777429\n",
      "Early stopping, best iteration is:\n",
      "[7]\tvalid_0's auc: 0.816092\n"
     ]
    },
    {
     "name": "stderr",
     "output_type": "stream",
     "text": [
      "regularization_factors, val_score: 0.831243: 100%|##########| 20/20 [00:02<00:00,  7.61it/s][I 2020-09-26 21:00:25,894] Finished trial#62 with value: 0.8160919540229885 with parameters: {'lambda_l1': 0.00010494378048074819, 'lambda_l2': 9.717036504537294}. Best is trial#49 with value: 0.8312434691745036.\n",
      "regularization_factors, val_score: 0.831243: 100%|##########| 20/20 [00:02<00:00,  7.61it/s]\n",
      "min_data_in_leaf, val_score: 0.831243:   0%|          | 0/5 [00:00<?, ?it/s]"
     ]
    },
    {
     "name": "stdout",
     "output_type": "stream",
     "text": [
      "Training until validation scores don't improve for 100 rounds\n",
      "[50]\tvalid_0's auc: 0.793103\n",
      "[100]\tvalid_0's auc: 0.795193\n",
      "Early stopping, best iteration is:\n",
      "[6]\tvalid_0's auc: 0.819227\n"
     ]
    },
    {
     "name": "stderr",
     "output_type": "stream",
     "text": [
      "min_data_in_leaf, val_score: 0.831243:   0%|          | 0/5 [00:00<?, ?it/s][I 2020-09-26 21:00:26,035] Finished trial#63 with value: 0.819226750261233 with parameters: {'min_child_samples': 10}. Best is trial#63 with value: 0.819226750261233.\n",
      "min_data_in_leaf, val_score: 0.831243:  20%|##        | 1/5 [00:00<00:00,  6.80it/s]"
     ]
    },
    {
     "name": "stdout",
     "output_type": "stream",
     "text": [
      "Training until validation scores don't improve for 100 rounds\n",
      "[50]\tvalid_0's auc: 0.5\n",
      "[100]\tvalid_0's auc: 0.5\n",
      "Early stopping, best iteration is:\n",
      "[1]\tvalid_0's auc: 0.5\n"
     ]
    },
    {
     "name": "stderr",
     "output_type": "stream",
     "text": [
      "min_data_in_leaf, val_score: 0.831243:  40%|####      | 2/5 [00:00<00:00, 11.43it/s][I 2020-09-26 21:00:26,169] Finished trial#64 with value: 0.5 with parameters: {'min_child_samples': 100}. Best is trial#63 with value: 0.819226750261233.\n",
      "min_data_in_leaf, val_score: 0.831243:  40%|####      | 2/5 [00:00<00:00, 11.43it/s]"
     ]
    },
    {
     "name": "stdout",
     "output_type": "stream",
     "text": [
      "Training until validation scores don't improve for 100 rounds\n",
      "[50]\tvalid_0's auc: 0.77534\n",
      "[100]\tvalid_0's auc: 0.781609\n",
      "Early stopping, best iteration is:\n",
      "[6]\tvalid_0's auc: 0.835423\n"
     ]
    },
    {
     "name": "stderr",
     "output_type": "stream",
     "text": [
      "min_data_in_leaf, val_score: 0.835423:  60%|######    | 3/5 [00:00<00:00,  9.33it/s][I 2020-09-26 21:00:26,315] Finished trial#65 with value: 0.835423197492163 with parameters: {'min_child_samples': 5}. Best is trial#65 with value: 0.835423197492163.\n",
      "min_data_in_leaf, val_score: 0.835423:  60%|######    | 3/5 [00:00<00:00,  9.33it/s]"
     ]
    },
    {
     "name": "stdout",
     "output_type": "stream",
     "text": [
      "Training until validation scores don't improve for 100 rounds\n",
      "[50]\tvalid_0's auc: 0.783699\n",
      "[100]\tvalid_0's auc: 0.781609\n",
      "Early stopping, best iteration is:\n",
      "[7]\tvalid_0's auc: 0.830721\n"
     ]
    },
    {
     "name": "stderr",
     "output_type": "stream",
     "text": [
      "min_data_in_leaf, val_score: 0.835423:  80%|########  | 4/5 [00:00<00:00,  8.68it/s][I 2020-09-26 21:00:26,451] Finished trial#66 with value: 0.8307210031347962 with parameters: {'min_child_samples': 25}. Best is trial#65 with value: 0.835423197492163.\n",
      "min_data_in_leaf, val_score: 0.835423:  80%|########  | 4/5 [00:00<00:00,  8.68it/s]"
     ]
    },
    {
     "name": "stdout",
     "output_type": "stream",
     "text": [
      "Training until validation scores don't improve for 100 rounds\n",
      "[50]\tvalid_0's auc: 0.5\n",
      "[100]\tvalid_0's auc: 0.5\n",
      "Early stopping, best iteration is:\n",
      "[1]\tvalid_0's auc: 0.5\n"
     ]
    },
    {
     "name": "stderr",
     "output_type": "stream",
     "text": [
      "min_data_in_leaf, val_score: 0.835423: 100%|##########| 5/5 [00:00<00:00,  8.40it/s][I 2020-09-26 21:00:26,571] Finished trial#67 with value: 0.5 with parameters: {'min_child_samples': 50}. Best is trial#65 with value: 0.835423197492163.\n",
      "min_data_in_leaf, val_score: 0.835423: 100%|##########| 5/5 [00:00<00:00,  7.44it/s]\n"
     ]
    }
   ],
   "source": [
    "# 30_45歳代データ\n",
    "model_lgb_30_45 = lgb.train(params, train_set_30_45, valid_sets=val_set_30_45,\n",
    "                  verbose_eval=50,  # 50イテレーション毎に学習結果出力\n",
    "                  num_boost_round=1000,  # 最大イテレーション回数指定\n",
    "                  early_stopping_rounds=100\n",
    "                 )"
   ]
  },
  {
   "cell_type": "code",
   "execution_count": 42,
   "metadata": {
    "collapsed": true,
    "jupyter": {
     "outputs_hidden": true
    }
   },
   "outputs": [
    {
     "name": "stderr",
     "output_type": "stream",
     "text": [
      "feature_fraction, val_score: -inf:   0%|          | 0/7 [00:00<?, ?it/s]"
     ]
    },
    {
     "name": "stdout",
     "output_type": "stream",
     "text": [
      "Training until validation scores don't improve for 100 rounds\n",
      "[50]\tvalid_0's auc: 0.940379\n",
      "[100]\tvalid_0's auc: 0.934056\n",
      "[150]\tvalid_0's auc: 0.921409\n",
      "Early stopping, best iteration is:\n",
      "[58]\tvalid_0's auc: 0.953026\n"
     ]
    },
    {
     "name": "stderr",
     "output_type": "stream",
     "text": [
      "feature_fraction, val_score: 0.953026:   0%|          | 0/7 [00:00<?, ?it/s][I 2020-09-26 21:00:26,744] Finished trial#0 with value: 0.953026196928636 with parameters: {'feature_fraction': 0.5}. Best is trial#0 with value: 0.953026196928636.\n",
      "feature_fraction, val_score: 0.953026:  14%|#4        | 1/7 [00:00<00:00,  6.29it/s]"
     ]
    },
    {
     "name": "stdout",
     "output_type": "stream",
     "text": [
      "Training until validation scores don't improve for 100 rounds\n",
      "[50]\tvalid_0's auc: 0.937669\n",
      "[100]\tvalid_0's auc: 0.937669\n",
      "Early stopping, best iteration is:\n",
      "[45]\tvalid_0's auc: 0.943089\n"
     ]
    },
    {
     "name": "stderr",
     "output_type": "stream",
     "text": [
      "feature_fraction, val_score: 0.953026:  29%|##8       | 2/7 [00:00<00:00,  9.43it/s][I 2020-09-26 21:00:26,889] Finished trial#1 with value: 0.943089430894309 with parameters: {'feature_fraction': 0.6}. Best is trial#0 with value: 0.953026196928636.\n",
      "feature_fraction, val_score: 0.953026:  29%|##8       | 2/7 [00:00<00:00,  9.43it/s]"
     ]
    },
    {
     "name": "stdout",
     "output_type": "stream",
     "text": [
      "Training until validation scores don't improve for 100 rounds\n",
      "[50]\tvalid_0's auc: 0.945799\n",
      "[100]\tvalid_0's auc: 0.95122\n",
      "[150]\tvalid_0's auc: 0.941283\n",
      "[200]\tvalid_0's auc: 0.948509\n",
      "Early stopping, best iteration is:\n",
      "[109]\tvalid_0's auc: 0.95664\n"
     ]
    },
    {
     "name": "stderr",
     "output_type": "stream",
     "text": [
      "feature_fraction, val_score: 0.956640:  43%|####2     | 3/7 [00:00<00:00,  8.10it/s][I 2020-09-26 21:00:27,054] Finished trial#2 with value: 0.9566395663956639 with parameters: {'feature_fraction': 0.4}. Best is trial#2 with value: 0.9566395663956639.\n",
      "feature_fraction, val_score: 0.956640:  43%|####2     | 3/7 [00:00<00:00,  8.10it/s]"
     ]
    },
    {
     "name": "stdout",
     "output_type": "stream",
     "text": [
      "Training until validation scores don't improve for 100 rounds\n",
      "[50]\tvalid_0's auc: 0.932249\n",
      "[100]\tvalid_0's auc: 0.930443\n",
      "[150]\tvalid_0's auc: 0.914182\n",
      "Early stopping, best iteration is:\n",
      "[66]\tvalid_0's auc: 0.939476\n"
     ]
    },
    {
     "name": "stderr",
     "output_type": "stream",
     "text": [
      "feature_fraction, val_score: 0.956640:  57%|#####7    | 4/7 [00:00<00:00,  7.54it/s][I 2020-09-26 21:00:27,213] Finished trial#3 with value: 0.9394760614272809 with parameters: {'feature_fraction': 0.7}. Best is trial#2 with value: 0.9566395663956639.\n",
      "feature_fraction, val_score: 0.956640:  57%|#####7    | 4/7 [00:00<00:00,  7.54it/s]"
     ]
    },
    {
     "name": "stdout",
     "output_type": "stream",
     "text": [
      "Training until validation scores don't improve for 100 rounds\n",
      "[50]\tvalid_0's auc: 0.939476\n",
      "[100]\tvalid_0's auc: 0.927733\n",
      "Early stopping, best iteration is:\n",
      "[32]\tvalid_0's auc: 0.940379\n"
     ]
    },
    {
     "name": "stderr",
     "output_type": "stream",
     "text": [
      "feature_fraction, val_score: 0.956640:  71%|#######1  | 5/7 [00:00<00:00,  7.29it/s][I 2020-09-26 21:00:27,348] Finished trial#4 with value: 0.940379403794038 with parameters: {'feature_fraction': 1.0}. Best is trial#2 with value: 0.9566395663956639.\n",
      "feature_fraction, val_score: 0.956640:  71%|#######1  | 5/7 [00:00<00:00,  7.29it/s]"
     ]
    },
    {
     "name": "stdout",
     "output_type": "stream",
     "text": [
      "Training until validation scores don't improve for 100 rounds\n",
      "[50]\tvalid_0's auc: 0.932249\n",
      "[100]\tvalid_0's auc: 0.930443\n",
      "[150]\tvalid_0's auc: 0.914182\n",
      "Early stopping, best iteration is:\n",
      "[66]\tvalid_0's auc: 0.939476\n"
     ]
    },
    {
     "name": "stderr",
     "output_type": "stream",
     "text": [
      "feature_fraction, val_score: 0.956640:  86%|########5 | 6/7 [00:00<00:00,  7.06it/s][I 2020-09-26 21:00:27,501] Finished trial#5 with value: 0.9394760614272809 with parameters: {'feature_fraction': 0.8}. Best is trial#2 with value: 0.9566395663956639.\n",
      "feature_fraction, val_score: 0.956640:  86%|########5 | 6/7 [00:00<00:00,  7.06it/s]"
     ]
    },
    {
     "name": "stdout",
     "output_type": "stream",
     "text": [
      "Training until validation scores don't improve for 100 rounds\n",
      "[50]\tvalid_0's auc: 0.929539\n",
      "[100]\tvalid_0's auc: 0.925023\n",
      "[150]\tvalid_0's auc: 0.915989\n",
      "Early stopping, best iteration is:\n",
      "[67]\tvalid_0's auc: 0.937669\n"
     ]
    },
    {
     "name": "stderr",
     "output_type": "stream",
     "text": [
      "feature_fraction, val_score: 0.956640: 100%|##########| 7/7 [00:00<00:00,  6.94it/s][I 2020-09-26 21:00:27,655] Finished trial#6 with value: 0.9376693766937669 with parameters: {'feature_fraction': 0.8999999999999999}. Best is trial#2 with value: 0.9566395663956639.\n",
      "feature_fraction, val_score: 0.956640: 100%|##########| 7/7 [00:01<00:00,  6.54it/s]\n",
      "num_leaves, val_score: 0.956640:   0%|          | 0/20 [00:00<?, ?it/s]"
     ]
    },
    {
     "name": "stdout",
     "output_type": "stream",
     "text": [
      "Training until validation scores don't improve for 100 rounds\n",
      "[50]\tvalid_0's auc: 0.945799\n",
      "[100]\tvalid_0's auc: 0.95122\n",
      "[150]\tvalid_0's auc: 0.941283\n",
      "[200]\tvalid_0's auc: 0.948509\n",
      "Early stopping, best iteration is:\n",
      "[109]\tvalid_0's auc: 0.95664\n"
     ]
    },
    {
     "name": "stderr",
     "output_type": "stream",
     "text": [
      "num_leaves, val_score: 0.956640:   0%|          | 0/20 [00:00<?, ?it/s][I 2020-09-26 21:00:27,825] Finished trial#7 with value: 0.9566395663956639 with parameters: {'num_leaves': 69}. Best is trial#7 with value: 0.9566395663956639.\n",
      "num_leaves, val_score: 0.956640:   5%|5         | 1/20 [00:00<00:03,  6.02it/s]"
     ]
    },
    {
     "name": "stdout",
     "output_type": "stream",
     "text": [
      "Training until validation scores don't improve for 100 rounds\n",
      "[50]\tvalid_0's auc: 0.945799\n",
      "[100]\tvalid_0's auc: 0.95122\n",
      "[150]\tvalid_0's auc: 0.941283\n",
      "[200]\tvalid_0's auc: 0.948509\n",
      "Early stopping, best iteration is:\n",
      "[109]\tvalid_0's auc: 0.95664\n"
     ]
    },
    {
     "name": "stderr",
     "output_type": "stream",
     "text": [
      "num_leaves, val_score: 0.956640:  10%|#         | 2/20 [00:00<00:02,  8.03it/s][I 2020-09-26 21:00:27,995] Finished trial#8 with value: 0.9566395663956639 with parameters: {'num_leaves': 20}. Best is trial#7 with value: 0.9566395663956639.\n",
      "num_leaves, val_score: 0.956640:  10%|#         | 2/20 [00:00<00:02,  8.03it/s]"
     ]
    },
    {
     "name": "stdout",
     "output_type": "stream",
     "text": [
      "Training until validation scores don't improve for 100 rounds\n",
      "[50]\tvalid_0's auc: 0.945799\n",
      "[100]\tvalid_0's auc: 0.95122\n",
      "[150]\tvalid_0's auc: 0.941283\n",
      "[200]\tvalid_0's auc: 0.948509\n",
      "Early stopping, best iteration is:\n",
      "[109]\tvalid_0's auc: 0.95664\n"
     ]
    },
    {
     "name": "stderr",
     "output_type": "stream",
     "text": [
      "num_leaves, val_score: 0.956640:  15%|#5        | 3/20 [00:00<00:02,  7.37it/s][I 2020-09-26 21:00:28,155] Finished trial#9 with value: 0.9566395663956639 with parameters: {'num_leaves': 29}. Best is trial#7 with value: 0.9566395663956639.\n",
      "num_leaves, val_score: 0.956640:  15%|#5        | 3/20 [00:00<00:02,  7.37it/s]"
     ]
    },
    {
     "name": "stdout",
     "output_type": "stream",
     "text": [
      "Training until validation scores don't improve for 100 rounds\n",
      "[50]\tvalid_0's auc: 0.945799\n",
      "[100]\tvalid_0's auc: 0.95122\n",
      "[150]\tvalid_0's auc: 0.941283\n",
      "[200]\tvalid_0's auc: 0.948509\n",
      "Early stopping, best iteration is:\n",
      "[109]\tvalid_0's auc: 0.95664\n"
     ]
    },
    {
     "name": "stderr",
     "output_type": "stream",
     "text": [
      "num_leaves, val_score: 0.956640:  20%|##        | 4/20 [00:00<00:02,  6.71it/s][I 2020-09-26 21:00:28,338] Finished trial#10 with value: 0.9566395663956639 with parameters: {'num_leaves': 184}. Best is trial#7 with value: 0.9566395663956639.\n",
      "num_leaves, val_score: 0.956640:  20%|##        | 4/20 [00:00<00:02,  6.71it/s]"
     ]
    },
    {
     "name": "stdout",
     "output_type": "stream",
     "text": [
      "Training until validation scores don't improve for 100 rounds\n",
      "[50]\tvalid_0's auc: 0.945799\n",
      "[100]\tvalid_0's auc: 0.95122\n",
      "[150]\tvalid_0's auc: 0.941283\n",
      "[200]\tvalid_0's auc: 0.948509\n",
      "Early stopping, best iteration is:\n",
      "[109]\tvalid_0's auc: 0.95664\n"
     ]
    },
    {
     "name": "stderr",
     "output_type": "stream",
     "text": [
      "num_leaves, val_score: 0.956640:  25%|##5       | 5/20 [00:00<00:02,  6.39it/s][I 2020-09-26 21:00:28,508] Finished trial#11 with value: 0.9566395663956639 with parameters: {'num_leaves': 197}. Best is trial#7 with value: 0.9566395663956639.\n",
      "num_leaves, val_score: 0.956640:  25%|##5       | 5/20 [00:00<00:02,  6.39it/s]"
     ]
    },
    {
     "name": "stdout",
     "output_type": "stream",
     "text": [
      "Training until validation scores don't improve for 100 rounds\n",
      "[50]\tvalid_0's auc: 0.945799\n",
      "[100]\tvalid_0's auc: 0.95122\n",
      "[150]\tvalid_0's auc: 0.941283\n",
      "[200]\tvalid_0's auc: 0.948509\n",
      "Early stopping, best iteration is:\n",
      "[109]\tvalid_0's auc: 0.95664\n"
     ]
    },
    {
     "name": "stderr",
     "output_type": "stream",
     "text": [
      "num_leaves, val_score: 0.956640:  30%|###       | 6/20 [00:00<00:02,  6.26it/s][I 2020-09-26 21:00:28,681] Finished trial#12 with value: 0.9566395663956639 with parameters: {'num_leaves': 195}. Best is trial#7 with value: 0.9566395663956639.\n",
      "num_leaves, val_score: 0.956640:  30%|###       | 6/20 [00:01<00:02,  6.26it/s]"
     ]
    },
    {
     "name": "stdout",
     "output_type": "stream",
     "text": [
      "Training until validation scores don't improve for 100 rounds\n",
      "[50]\tvalid_0's auc: 0.945799\n",
      "[100]\tvalid_0's auc: 0.95122\n",
      "[150]\tvalid_0's auc: 0.941283\n",
      "[200]\tvalid_0's auc: 0.948509\n",
      "Early stopping, best iteration is:\n",
      "[109]\tvalid_0's auc: 0.95664\n"
     ]
    },
    {
     "name": "stderr",
     "output_type": "stream",
     "text": [
      "num_leaves, val_score: 0.956640:  35%|###5      | 7/20 [00:01<00:02,  6.00it/s][I 2020-09-26 21:00:28,873] Finished trial#13 with value: 0.9566395663956639 with parameters: {'num_leaves': 209}. Best is trial#7 with value: 0.9566395663956639.\n",
      "num_leaves, val_score: 0.956640:  35%|###5      | 7/20 [00:01<00:02,  6.00it/s]"
     ]
    },
    {
     "name": "stdout",
     "output_type": "stream",
     "text": [
      "Training until validation scores don't improve for 100 rounds\n",
      "[50]\tvalid_0's auc: 0.945799\n",
      "[100]\tvalid_0's auc: 0.95122\n",
      "[150]\tvalid_0's auc: 0.941283\n",
      "[200]\tvalid_0's auc: 0.948509\n",
      "Early stopping, best iteration is:\n",
      "[109]\tvalid_0's auc: 0.95664\n"
     ]
    },
    {
     "name": "stderr",
     "output_type": "stream",
     "text": [
      "num_leaves, val_score: 0.956640:  40%|####      | 8/20 [00:01<00:02,  5.86it/s][I 2020-09-26 21:00:29,046] Finished trial#14 with value: 0.9566395663956639 with parameters: {'num_leaves': 43}. Best is trial#7 with value: 0.9566395663956639.\n",
      "num_leaves, val_score: 0.956640:  40%|####      | 8/20 [00:01<00:02,  5.86it/s]"
     ]
    },
    {
     "name": "stdout",
     "output_type": "stream",
     "text": [
      "Training until validation scores don't improve for 100 rounds\n",
      "[50]\tvalid_0's auc: 0.945799\n",
      "[100]\tvalid_0's auc: 0.95122\n",
      "[150]\tvalid_0's auc: 0.941283\n",
      "[200]\tvalid_0's auc: 0.948509\n",
      "Early stopping, best iteration is:\n",
      "[109]\tvalid_0's auc: 0.95664\n"
     ]
    },
    {
     "name": "stderr",
     "output_type": "stream",
     "text": [
      "num_leaves, val_score: 0.956640:  45%|####5     | 9/20 [00:01<00:01,  5.78it/s][I 2020-09-26 21:00:29,220] Finished trial#15 with value: 0.9566395663956639 with parameters: {'num_leaves': 27}. Best is trial#7 with value: 0.9566395663956639.\n",
      "num_leaves, val_score: 0.956640:  45%|####5     | 9/20 [00:01<00:01,  5.78it/s]"
     ]
    },
    {
     "name": "stdout",
     "output_type": "stream",
     "text": [
      "Training until validation scores don't improve for 100 rounds\n",
      "[50]\tvalid_0's auc: 0.945799\n",
      "[100]\tvalid_0's auc: 0.95122\n",
      "[150]\tvalid_0's auc: 0.941283\n",
      "[200]\tvalid_0's auc: 0.948509\n",
      "Early stopping, best iteration is:\n",
      "[109]\tvalid_0's auc: 0.95664\n"
     ]
    },
    {
     "name": "stderr",
     "output_type": "stream",
     "text": [
      "num_leaves, val_score: 0.956640:  50%|#####     | 10/20 [00:01<00:01,  5.89it/s][I 2020-09-26 21:00:29,397] Finished trial#16 with value: 0.9566395663956639 with parameters: {'num_leaves': 95}. Best is trial#7 with value: 0.9566395663956639.\n",
      "num_leaves, val_score: 0.956640:  50%|#####     | 10/20 [00:01<00:01,  5.89it/s]"
     ]
    },
    {
     "name": "stdout",
     "output_type": "stream",
     "text": [
      "Training until validation scores don't improve for 100 rounds\n",
      "[50]\tvalid_0's auc: 0.945799\n",
      "[100]\tvalid_0's auc: 0.95122\n",
      "[150]\tvalid_0's auc: 0.941283\n",
      "[200]\tvalid_0's auc: 0.948509\n",
      "Early stopping, best iteration is:\n",
      "[109]\tvalid_0's auc: 0.95664\n"
     ]
    },
    {
     "name": "stderr",
     "output_type": "stream",
     "text": [
      "num_leaves, val_score: 0.956640:  55%|#####5    | 11/20 [00:01<00:01,  5.79it/s][I 2020-09-26 21:00:29,561] Finished trial#17 with value: 0.9566395663956639 with parameters: {'num_leaves': 114}. Best is trial#7 with value: 0.9566395663956639.\n",
      "num_leaves, val_score: 0.956640:  55%|#####5    | 11/20 [00:01<00:01,  5.79it/s]"
     ]
    },
    {
     "name": "stdout",
     "output_type": "stream",
     "text": [
      "Training until validation scores don't improve for 100 rounds\n",
      "[50]\tvalid_0's auc: 0.945799\n",
      "[100]\tvalid_0's auc: 0.95122\n",
      "[150]\tvalid_0's auc: 0.941283\n",
      "[200]\tvalid_0's auc: 0.948509\n",
      "Early stopping, best iteration is:\n",
      "[109]\tvalid_0's auc: 0.95664\n"
     ]
    },
    {
     "name": "stderr",
     "output_type": "stream",
     "text": [
      "num_leaves, val_score: 0.956640:  60%|######    | 12/20 [00:01<00:01,  5.87it/s][I 2020-09-26 21:00:29,723] Finished trial#18 with value: 0.9566395663956639 with parameters: {'num_leaves': 74}. Best is trial#7 with value: 0.9566395663956639.\n",
      "num_leaves, val_score: 0.956640:  60%|######    | 12/20 [00:02<00:01,  5.87it/s]"
     ]
    },
    {
     "name": "stdout",
     "output_type": "stream",
     "text": [
      "Training until validation scores don't improve for 100 rounds\n",
      "[50]\tvalid_0's auc: 0.945799\n",
      "[100]\tvalid_0's auc: 0.95122\n",
      "[150]\tvalid_0's auc: 0.941283\n",
      "[200]\tvalid_0's auc: 0.948509\n",
      "Early stopping, best iteration is:\n",
      "[109]\tvalid_0's auc: 0.95664\n"
     ]
    },
    {
     "name": "stderr",
     "output_type": "stream",
     "text": [
      "num_leaves, val_score: 0.956640:  65%|######5   | 13/20 [00:02<00:01,  5.86it/s][I 2020-09-26 21:00:29,903] Finished trial#19 with value: 0.9566395663956639 with parameters: {'num_leaves': 10}. Best is trial#7 with value: 0.9566395663956639.\n",
      "num_leaves, val_score: 0.956640:  65%|######5   | 13/20 [00:02<00:01,  5.86it/s]"
     ]
    },
    {
     "name": "stdout",
     "output_type": "stream",
     "text": [
      "Training until validation scores don't improve for 100 rounds\n",
      "[50]\tvalid_0's auc: 0.945799\n",
      "[100]\tvalid_0's auc: 0.95122\n",
      "[150]\tvalid_0's auc: 0.941283\n",
      "[200]\tvalid_0's auc: 0.948509\n",
      "Early stopping, best iteration is:\n",
      "[109]\tvalid_0's auc: 0.95664\n"
     ]
    },
    {
     "name": "stderr",
     "output_type": "stream",
     "text": [
      "num_leaves, val_score: 0.956640:  70%|#######   | 14/20 [00:02<00:01,  5.79it/s][I 2020-09-26 21:00:30,084] Finished trial#20 with value: 0.9566395663956639 with parameters: {'num_leaves': 65}. Best is trial#7 with value: 0.9566395663956639.\n",
      "num_leaves, val_score: 0.956640:  70%|#######   | 14/20 [00:02<00:01,  5.79it/s]"
     ]
    },
    {
     "name": "stdout",
     "output_type": "stream",
     "text": [
      "Training until validation scores don't improve for 100 rounds\n",
      "[50]\tvalid_0's auc: 0.945799\n",
      "[100]\tvalid_0's auc: 0.95122\n",
      "[150]\tvalid_0's auc: 0.941283\n",
      "[200]\tvalid_0's auc: 0.948509\n",
      "Early stopping, best iteration is:\n",
      "[109]\tvalid_0's auc: 0.95664\n"
     ]
    },
    {
     "name": "stderr",
     "output_type": "stream",
     "text": [
      "num_leaves, val_score: 0.956640:  75%|#######5  | 15/20 [00:02<00:00,  5.63it/s][I 2020-09-26 21:00:30,265] Finished trial#21 with value: 0.9566395663956639 with parameters: {'num_leaves': 149}. Best is trial#7 with value: 0.9566395663956639.\n",
      "num_leaves, val_score: 0.956640:  75%|#######5  | 15/20 [00:02<00:00,  5.63it/s]"
     ]
    },
    {
     "name": "stdout",
     "output_type": "stream",
     "text": [
      "Training until validation scores don't improve for 100 rounds\n",
      "[50]\tvalid_0's auc: 0.945799\n",
      "[100]\tvalid_0's auc: 0.95122\n",
      "[150]\tvalid_0's auc: 0.941283\n",
      "[200]\tvalid_0's auc: 0.948509\n",
      "Early stopping, best iteration is:\n",
      "[109]\tvalid_0's auc: 0.95664\n"
     ]
    },
    {
     "name": "stderr",
     "output_type": "stream",
     "text": [
      "num_leaves, val_score: 0.956640:  80%|########  | 16/20 [00:02<00:00,  5.74it/s][I 2020-09-26 21:00:30,441] Finished trial#22 with value: 0.9566395663956639 with parameters: {'num_leaves': 6}. Best is trial#7 with value: 0.9566395663956639.\n",
      "num_leaves, val_score: 0.956640:  80%|########  | 16/20 [00:02<00:00,  5.74it/s]"
     ]
    },
    {
     "name": "stdout",
     "output_type": "stream",
     "text": [
      "Training until validation scores don't improve for 100 rounds\n",
      "[50]\tvalid_0's auc: 0.945799\n",
      "[100]\tvalid_0's auc: 0.95122\n",
      "[150]\tvalid_0's auc: 0.941283\n",
      "[200]\tvalid_0's auc: 0.948509\n",
      "Early stopping, best iteration is:\n",
      "[109]\tvalid_0's auc: 0.95664\n"
     ]
    },
    {
     "name": "stderr",
     "output_type": "stream",
     "text": [
      "num_leaves, val_score: 0.956640:  85%|########5 | 17/20 [00:02<00:00,  5.76it/s][I 2020-09-26 21:00:30,604] Finished trial#23 with value: 0.9566395663956639 with parameters: {'num_leaves': 74}. Best is trial#7 with value: 0.9566395663956639.\n",
      "num_leaves, val_score: 0.956640:  85%|########5 | 17/20 [00:02<00:00,  5.76it/s]"
     ]
    },
    {
     "name": "stdout",
     "output_type": "stream",
     "text": [
      "Training until validation scores don't improve for 100 rounds\n",
      "[50]\tvalid_0's auc: 0.945799\n",
      "[100]\tvalid_0's auc: 0.95122\n",
      "[150]\tvalid_0's auc: 0.941283\n",
      "[200]\tvalid_0's auc: 0.948509\n",
      "Early stopping, best iteration is:\n",
      "[109]\tvalid_0's auc: 0.95664\n"
     ]
    },
    {
     "name": "stderr",
     "output_type": "stream",
     "text": [
      "num_leaves, val_score: 0.956640:  90%|######### | 18/20 [00:03<00:00,  5.70it/s][I 2020-09-26 21:00:30,789] Finished trial#24 with value: 0.9566395663956639 with parameters: {'num_leaves': 152}. Best is trial#7 with value: 0.9566395663956639.\n",
      "num_leaves, val_score: 0.956640:  90%|######### | 18/20 [00:03<00:00,  5.70it/s]"
     ]
    },
    {
     "name": "stdout",
     "output_type": "stream",
     "text": [
      "Training until validation scores don't improve for 100 rounds\n",
      "[50]\tvalid_0's auc: 0.953026\n",
      "[100]\tvalid_0's auc: 0.950316\n",
      "[150]\tvalid_0's auc: 0.941283\n",
      "Early stopping, best iteration is:\n",
      "[63]\tvalid_0's auc: 0.960253\n"
     ]
    },
    {
     "name": "stderr",
     "output_type": "stream",
     "text": [
      "num_leaves, val_score: 0.960253:  95%|#########5| 19/20 [00:03<00:00,  5.90it/s][I 2020-09-26 21:00:30,944] Finished trial#25 with value: 0.960252935862692 with parameters: {'num_leaves': 3}. Best is trial#25 with value: 0.960252935862692.\n",
      "num_leaves, val_score: 0.960253:  95%|#########5| 19/20 [00:03<00:00,  5.90it/s]"
     ]
    },
    {
     "name": "stdout",
     "output_type": "stream",
     "text": [
      "Training until validation scores don't improve for 100 rounds\n",
      "[50]\tvalid_0's auc: 0.945799\n",
      "[100]\tvalid_0's auc: 0.95122\n",
      "[150]\tvalid_0's auc: 0.941283\n",
      "[200]\tvalid_0's auc: 0.948509\n",
      "Early stopping, best iteration is:\n",
      "[109]\tvalid_0's auc: 0.95664\n"
     ]
    },
    {
     "name": "stderr",
     "output_type": "stream",
     "text": [
      "num_leaves, val_score: 0.960253: 100%|##########| 20/20 [00:03<00:00,  5.67it/s][I 2020-09-26 21:00:31,136] Finished trial#26 with value: 0.9566395663956639 with parameters: {'num_leaves': 255}. Best is trial#25 with value: 0.960252935862692.\n",
      "num_leaves, val_score: 0.960253: 100%|##########| 20/20 [00:03<00:00,  5.76it/s]\n",
      "bagging, val_score: 0.960253:   0%|          | 0/10 [00:00<?, ?it/s]"
     ]
    },
    {
     "name": "stdout",
     "output_type": "stream",
     "text": [
      "Training until validation scores don't improve for 100 rounds\n",
      "[50]\tvalid_0's auc: 0.949413\n",
      "[100]\tvalid_0's auc: 0.934959\n",
      "[150]\tvalid_0's auc: 0.943993\n",
      "Early stopping, best iteration is:\n",
      "[60]\tvalid_0's auc: 0.953026\n"
     ]
    },
    {
     "name": "stderr",
     "output_type": "stream",
     "text": [
      "bagging, val_score: 0.960253:   0%|          | 0/10 [00:00<?, ?it/s][I 2020-09-26 21:00:31,286] Finished trial#27 with value: 0.953026196928636 with parameters: {'bagging_fraction': 0.4672893222051457, 'bagging_freq': 1}. Best is trial#27 with value: 0.953026196928636.\n",
      "bagging, val_score: 0.960253:  10%|#         | 1/10 [00:00<00:01,  6.94it/s]"
     ]
    },
    {
     "name": "stdout",
     "output_type": "stream",
     "text": [
      "Training until validation scores don't improve for 100 rounds\n",
      "[50]\tvalid_0's auc: 0.950316\n",
      "[100]\tvalid_0's auc: 0.953026\n",
      "[150]\tvalid_0's auc: 0.949413\n",
      "Early stopping, best iteration is:\n",
      "[62]\tvalid_0's auc: 0.95664\n"
     ]
    },
    {
     "name": "stderr",
     "output_type": "stream",
     "text": [
      "bagging, val_score: 0.960253:  20%|##        | 2/10 [00:00<00:00, 10.15it/s][I 2020-09-26 21:00:31,430] Finished trial#28 with value: 0.9566395663956639 with parameters: {'bagging_fraction': 0.8181612513705552, 'bagging_freq': 5}. Best is trial#28 with value: 0.9566395663956639.\n",
      "bagging, val_score: 0.960253:  20%|##        | 2/10 [00:00<00:00, 10.15it/s]"
     ]
    },
    {
     "name": "stdout",
     "output_type": "stream",
     "text": [
      "Training until validation scores don't improve for 100 rounds\n",
      "[50]\tvalid_0's auc: 0.938573\n",
      "[100]\tvalid_0's auc: 0.950316\n",
      "[150]\tvalid_0's auc: 0.944896\n",
      "[200]\tvalid_0's auc: 0.935863\n",
      "Early stopping, best iteration is:\n",
      "[103]\tvalid_0's auc: 0.954833\n"
     ]
    },
    {
     "name": "stderr",
     "output_type": "stream",
     "text": [
      "bagging, val_score: 0.960253:  30%|###       | 3/10 [00:00<00:00,  8.49it/s][I 2020-09-26 21:00:31,599] Finished trial#29 with value: 0.95483288166215 with parameters: {'bagging_fraction': 0.7605402580166358, 'bagging_freq': 6}. Best is trial#28 with value: 0.9566395663956639.\n",
      "bagging, val_score: 0.960253:  30%|###       | 3/10 [00:00<00:00,  8.49it/s]"
     ]
    },
    {
     "name": "stdout",
     "output_type": "stream",
     "text": [
      "Training until validation scores don't improve for 100 rounds\n",
      "[50]\tvalid_0's auc: 0.946703\n",
      "[100]\tvalid_0's auc: 0.931346\n",
      "Early stopping, best iteration is:\n",
      "[33]\tvalid_0's auc: 0.955736\n"
     ]
    },
    {
     "name": "stderr",
     "output_type": "stream",
     "text": [
      "bagging, val_score: 0.960253:  40%|####      | 4/10 [00:00<00:00,  7.99it/s][I 2020-09-26 21:00:31,737] Finished trial#30 with value: 0.955736224028907 with parameters: {'bagging_fraction': 0.5475208089951017, 'bagging_freq': 3}. Best is trial#28 with value: 0.9566395663956639.\n",
      "bagging, val_score: 0.960253:  40%|####      | 4/10 [00:00<00:00,  7.99it/s]"
     ]
    },
    {
     "name": "stdout",
     "output_type": "stream",
     "text": [
      "Training until validation scores don't improve for 100 rounds\n",
      "[50]\tvalid_0's auc: 0.95122\n",
      "[100]\tvalid_0's auc: 0.950316\n",
      "[150]\tvalid_0's auc: 0.947606\n",
      "Early stopping, best iteration is:\n",
      "[57]\tvalid_0's auc: 0.962963\n"
     ]
    },
    {
     "name": "stderr",
     "output_type": "stream",
     "text": [
      "bagging, val_score: 0.962963:  50%|#####     | 5/10 [00:00<00:00,  7.59it/s][I 2020-09-26 21:00:31,881] Finished trial#31 with value: 0.9629629629629629 with parameters: {'bagging_fraction': 0.6308488638809125, 'bagging_freq': 2}. Best is trial#31 with value: 0.9629629629629629.\n",
      "bagging, val_score: 0.962963:  50%|#####     | 5/10 [00:00<00:00,  7.59it/s]"
     ]
    },
    {
     "name": "stdout",
     "output_type": "stream",
     "text": [
      "Training until validation scores don't improve for 100 rounds\n",
      "[50]\tvalid_0's auc: 0.943993\n",
      "[100]\tvalid_0's auc: 0.937669\n",
      "Early stopping, best iteration is:\n",
      "[32]\tvalid_0's auc: 0.946703\n"
     ]
    },
    {
     "name": "stderr",
     "output_type": "stream",
     "text": [
      "bagging, val_score: 0.962963:  60%|######    | 6/10 [00:00<00:00,  7.54it/s][I 2020-09-26 21:00:32,015] Finished trial#32 with value: 0.9467028003613369 with parameters: {'bagging_fraction': 0.8686406868571463, 'bagging_freq': 1}. Best is trial#31 with value: 0.9629629629629629.\n",
      "bagging, val_score: 0.962963:  60%|######    | 6/10 [00:00<00:00,  7.54it/s]"
     ]
    },
    {
     "name": "stdout",
     "output_type": "stream",
     "text": [
      "Training until validation scores don't improve for 100 rounds\n",
      "[50]\tvalid_0's auc: 0.940379\n",
      "[100]\tvalid_0's auc: 0.943089\n",
      "[150]\tvalid_0's auc: 0.948509\n",
      "[200]\tvalid_0's auc: 0.934056\n",
      "Early stopping, best iteration is:\n",
      "[132]\tvalid_0's auc: 0.950316\n"
     ]
    },
    {
     "name": "stderr",
     "output_type": "stream",
     "text": [
      "bagging, val_score: 0.962963:  70%|#######   | 7/10 [00:00<00:00,  7.01it/s][I 2020-09-26 21:00:32,181] Finished trial#33 with value: 0.950316169828365 with parameters: {'bagging_fraction': 0.6456532062620353, 'bagging_freq': 6}. Best is trial#31 with value: 0.9629629629629629.\n",
      "bagging, val_score: 0.962963:  70%|#######   | 7/10 [00:01<00:00,  7.01it/s]"
     ]
    },
    {
     "name": "stdout",
     "output_type": "stream",
     "text": [
      "Training until validation scores don't improve for 100 rounds\n",
      "[50]\tvalid_0's auc: 0.957543\n",
      "[100]\tvalid_0's auc: 0.941283\n",
      "[150]\tvalid_0's auc: 0.95393\n",
      "Early stopping, best iteration is:\n",
      "[50]\tvalid_0's auc: 0.957543\n"
     ]
    },
    {
     "name": "stderr",
     "output_type": "stream",
     "text": [
      "bagging, val_score: 0.962963:  80%|########  | 8/10 [00:01<00:00,  6.96it/s][I 2020-09-26 21:00:32,335] Finished trial#34 with value: 0.957542908762421 with parameters: {'bagging_fraction': 0.44830400811856347, 'bagging_freq': 3}. Best is trial#31 with value: 0.9629629629629629.\n",
      "bagging, val_score: 0.962963:  80%|########  | 8/10 [00:01<00:00,  6.96it/s]"
     ]
    },
    {
     "name": "stdout",
     "output_type": "stream",
     "text": [
      "Training until validation scores don't improve for 100 rounds\n",
      "[50]\tvalid_0's auc: 0.944896\n",
      "[100]\tvalid_0's auc: 0.940379\n",
      "Early stopping, best iteration is:\n",
      "[31]\tvalid_0's auc: 0.952123\n"
     ]
    },
    {
     "name": "stderr",
     "output_type": "stream",
     "text": [
      "bagging, val_score: 0.962963:  90%|######### | 9/10 [00:01<00:00,  6.96it/s][I 2020-09-26 21:00:32,474] Finished trial#35 with value: 0.952122854561879 with parameters: {'bagging_fraction': 0.6009755477331433, 'bagging_freq': 1}. Best is trial#31 with value: 0.9629629629629629.\n",
      "bagging, val_score: 0.962963:  90%|######### | 9/10 [00:01<00:00,  6.96it/s]"
     ]
    },
    {
     "name": "stdout",
     "output_type": "stream",
     "text": [
      "Training until validation scores don't improve for 100 rounds\n",
      "[50]\tvalid_0's auc: 0.947606\n",
      "[100]\tvalid_0's auc: 0.949413\n",
      "[150]\tvalid_0's auc: 0.947606\n",
      "[200]\tvalid_0's auc: 0.945799\n",
      "Early stopping, best iteration is:\n",
      "[129]\tvalid_0's auc: 0.954833\n"
     ]
    },
    {
     "name": "stderr",
     "output_type": "stream",
     "text": [
      "bagging, val_score: 0.962963: 100%|##########| 10/10 [00:01<00:00,  6.62it/s][I 2020-09-26 21:00:32,644] Finished trial#36 with value: 0.95483288166215 with parameters: {'bagging_fraction': 0.9155849693927033, 'bagging_freq': 3}. Best is trial#31 with value: 0.9629629629629629.\n",
      "bagging, val_score: 0.962963: 100%|##########| 10/10 [00:01<00:00,  6.66it/s]\n",
      "feature_fraction_stage2, val_score: 0.962963:   0%|          | 0/3 [00:00<?, ?it/s]"
     ]
    },
    {
     "name": "stdout",
     "output_type": "stream",
     "text": [
      "Training until validation scores don't improve for 100 rounds\n",
      "[50]\tvalid_0's auc: 0.943993\n",
      "[100]\tvalid_0's auc: 0.937669\n",
      "[150]\tvalid_0's auc: 0.942186\n",
      "Early stopping, best iteration is:\n",
      "[62]\tvalid_0's auc: 0.950316\n"
     ]
    },
    {
     "name": "stderr",
     "output_type": "stream",
     "text": [
      "feature_fraction_stage2, val_score: 0.962963:   0%|          | 0/3 [00:00<?, ?it/s][I 2020-09-26 21:00:32,810] Finished trial#37 with value: 0.950316169828365 with parameters: {'feature_fraction': 0.48000000000000004}. Best is trial#37 with value: 0.950316169828365.\n",
      "feature_fraction_stage2, val_score: 0.962963:  33%|###3      | 1/3 [00:00<00:00,  6.10it/s]"
     ]
    },
    {
     "name": "stdout",
     "output_type": "stream",
     "text": [
      "Training until validation scores don't improve for 100 rounds\n",
      "[50]\tvalid_0's auc: 0.943993\n",
      "[100]\tvalid_0's auc: 0.937669\n",
      "[150]\tvalid_0's auc: 0.942186\n",
      "Early stopping, best iteration is:\n",
      "[62]\tvalid_0's auc: 0.950316\n"
     ]
    },
    {
     "name": "stderr",
     "output_type": "stream",
     "text": [
      "feature_fraction_stage2, val_score: 0.962963:  67%|######6   | 2/3 [00:00<00:00,  9.13it/s][I 2020-09-26 21:00:32,955] Finished trial#38 with value: 0.950316169828365 with parameters: {'feature_fraction': 0.44800000000000006}. Best is trial#37 with value: 0.950316169828365.\n",
      "feature_fraction_stage2, val_score: 0.962963:  67%|######6   | 2/3 [00:00<00:00,  9.13it/s]"
     ]
    },
    {
     "name": "stdout",
     "output_type": "stream",
     "text": [
      "Training until validation scores don't improve for 100 rounds\n",
      "[50]\tvalid_0's auc: 0.95122\n",
      "[100]\tvalid_0's auc: 0.950316\n",
      "[150]\tvalid_0's auc: 0.947606\n",
      "Early stopping, best iteration is:\n",
      "[57]\tvalid_0's auc: 0.962963\n"
     ]
    },
    {
     "name": "stderr",
     "output_type": "stream",
     "text": [
      "feature_fraction_stage2, val_score: 0.962963: 100%|##########| 3/3 [00:00<00:00,  8.18it/s][I 2020-09-26 21:00:33,105] Finished trial#39 with value: 0.9629629629629629 with parameters: {'feature_fraction': 0.41600000000000004}. Best is trial#39 with value: 0.9629629629629629.\n",
      "feature_fraction_stage2, val_score: 0.962963: 100%|##########| 3/3 [00:00<00:00,  6.56it/s]\n",
      "regularization_factors, val_score: 0.962963:   0%|          | 0/20 [00:00<?, ?it/s]"
     ]
    },
    {
     "name": "stdout",
     "output_type": "stream",
     "text": [
      "Training until validation scores don't improve for 100 rounds\n",
      "[50]\tvalid_0's auc: 0.950316\n",
      "[100]\tvalid_0's auc: 0.948509\n",
      "[150]\tvalid_0's auc: 0.943993\n",
      "Early stopping, best iteration is:\n",
      "[59]\tvalid_0's auc: 0.96206\n"
     ]
    },
    {
     "name": "stderr",
     "output_type": "stream",
     "text": [
      "regularization_factors, val_score: 0.962963:   0%|          | 0/20 [00:00<?, ?it/s][I 2020-09-26 21:00:33,260] Finished trial#40 with value: 0.962059620596206 with parameters: {'lambda_l1': 9.92469503992659e-05, 'lambda_l2': 0.08745069747833177}. Best is trial#40 with value: 0.962059620596206.\n",
      "regularization_factors, val_score: 0.962963:   5%|5         | 1/20 [00:00<00:02,  6.80it/s]"
     ]
    },
    {
     "name": "stdout",
     "output_type": "stream",
     "text": [
      "Training until validation scores don't improve for 100 rounds\n",
      "[50]\tvalid_0's auc: 0.949413\n",
      "[100]\tvalid_0's auc: 0.949413\n",
      "[150]\tvalid_0's auc: 0.945799\n",
      "Early stopping, best iteration is:\n",
      "[59]\tvalid_0's auc: 0.960253\n"
     ]
    },
    {
     "name": "stderr",
     "output_type": "stream",
     "text": [
      "regularization_factors, val_score: 0.962963:  10%|#         | 2/20 [00:00<00:01,  9.95it/s][I 2020-09-26 21:00:33,400] Finished trial#41 with value: 0.960252935862692 with parameters: {'lambda_l1': 0.0014272163745667177, 'lambda_l2': 0.014066630854723863}. Best is trial#40 with value: 0.962059620596206.\n",
      "regularization_factors, val_score: 0.962963:  10%|#         | 2/20 [00:00<00:01,  9.95it/s]"
     ]
    },
    {
     "name": "stdout",
     "output_type": "stream",
     "text": [
      "Training until validation scores don't improve for 100 rounds\n",
      "[50]\tvalid_0's auc: 0.95122\n",
      "[100]\tvalid_0's auc: 0.950316\n",
      "[150]\tvalid_0's auc: 0.947606\n",
      "Early stopping, best iteration is:\n",
      "[57]\tvalid_0's auc: 0.962963\n"
     ]
    },
    {
     "name": "stderr",
     "output_type": "stream",
     "text": [
      "regularization_factors, val_score: 0.962963:  15%|#5        | 3/20 [00:00<00:01,  8.92it/s][I 2020-09-26 21:00:33,549] Finished trial#42 with value: 0.9629629629629629 with parameters: {'lambda_l1': 6.956793545167343e-05, 'lambda_l2': 6.293352904307827e-05}. Best is trial#42 with value: 0.9629629629629629.\n",
      "regularization_factors, val_score: 0.962963:  15%|#5        | 3/20 [00:00<00:01,  8.92it/s]"
     ]
    },
    {
     "name": "stdout",
     "output_type": "stream",
     "text": [
      "Training until validation scores don't improve for 100 rounds\n",
      "[50]\tvalid_0's auc: 0.95122\n",
      "[100]\tvalid_0's auc: 0.950316\n",
      "[150]\tvalid_0's auc: 0.947606\n",
      "Early stopping, best iteration is:\n",
      "[57]\tvalid_0's auc: 0.962963\n"
     ]
    },
    {
     "name": "stderr",
     "output_type": "stream",
     "text": [
      "regularization_factors, val_score: 0.962963:  20%|##        | 4/20 [00:00<00:01,  8.12it/s][I 2020-09-26 21:00:33,697] Finished trial#43 with value: 0.9629629629629629 with parameters: {'lambda_l1': 0.0005519543423272208, 'lambda_l2': 1.5447820904427493e-05}. Best is trial#42 with value: 0.9629629629629629.\n",
      "regularization_factors, val_score: 0.962963:  20%|##        | 4/20 [00:00<00:01,  8.12it/s]"
     ]
    },
    {
     "name": "stdout",
     "output_type": "stream",
     "text": [
      "Training until validation scores don't improve for 100 rounds\n",
      "[50]\tvalid_0's auc: 0.952123\n",
      "[100]\tvalid_0's auc: 0.942186\n",
      "[150]\tvalid_0's auc: 0.942186\n",
      "Early stopping, best iteration is:\n",
      "[60]\tvalid_0's auc: 0.955736\n"
     ]
    },
    {
     "name": "stderr",
     "output_type": "stream",
     "text": [
      "regularization_factors, val_score: 0.962963:  25%|##5       | 5/20 [00:00<00:02,  7.30it/s][I 2020-09-26 21:00:33,864] Finished trial#44 with value: 0.955736224028907 with parameters: {'lambda_l1': 5.023302745284659e-06, 'lambda_l2': 0.7309014740484288}. Best is trial#42 with value: 0.9629629629629629.\n",
      "regularization_factors, val_score: 0.962963:  25%|##5       | 5/20 [00:00<00:02,  7.30it/s]"
     ]
    },
    {
     "name": "stdout",
     "output_type": "stream",
     "text": [
      "Training until validation scores don't improve for 100 rounds\n",
      "[50]\tvalid_0's auc: 0.936766\n",
      "[100]\tvalid_0's auc: 0.941283\n",
      "[150]\tvalid_0's auc: 0.942186\n",
      "[200]\tvalid_0's auc: 0.942186\n",
      "Early stopping, best iteration is:\n",
      "[118]\tvalid_0's auc: 0.943089\n"
     ]
    },
    {
     "name": "stderr",
     "output_type": "stream",
     "text": [
      "regularization_factors, val_score: 0.962963:  30%|###       | 6/20 [00:00<00:02,  6.78it/s][I 2020-09-26 21:00:34,041] Finished trial#45 with value: 0.943089430894309 with parameters: {'lambda_l1': 6.405655027732906, 'lambda_l2': 3.749350314642715}. Best is trial#42 with value: 0.9629629629629629.\n",
      "regularization_factors, val_score: 0.962963:  30%|###       | 6/20 [00:00<00:02,  6.78it/s]"
     ]
    },
    {
     "name": "stdout",
     "output_type": "stream",
     "text": [
      "Training until validation scores don't improve for 100 rounds\n",
      "[50]\tvalid_0's auc: 0.95122\n",
      "[100]\tvalid_0's auc: 0.953026\n",
      "[150]\tvalid_0's auc: 0.947606\n",
      "Early stopping, best iteration is:\n",
      "[59]\tvalid_0's auc: 0.963866\n"
     ]
    },
    {
     "name": "stderr",
     "output_type": "stream",
     "text": [
      "regularization_factors, val_score: 0.963866:  35%|###5      | 7/20 [00:00<00:01,  6.60it/s][I 2020-09-26 21:00:34,204] Finished trial#46 with value: 0.96386630532972 with parameters: {'lambda_l1': 0.01173136734733374, 'lambda_l2': 3.001410694874008e-06}. Best is trial#46 with value: 0.96386630532972.\n",
      "regularization_factors, val_score: 0.963866:  35%|###5      | 7/20 [00:01<00:01,  6.60it/s]"
     ]
    },
    {
     "name": "stdout",
     "output_type": "stream",
     "text": [
      "Training until validation scores don't improve for 100 rounds\n",
      "[50]\tvalid_0's auc: 0.947606\n",
      "[100]\tvalid_0's auc: 0.950316\n",
      "[150]\tvalid_0's auc: 0.953026\n",
      "[200]\tvalid_0's auc: 0.953026\n",
      "Early stopping, best iteration is:\n",
      "[111]\tvalid_0's auc: 0.953026\n"
     ]
    },
    {
     "name": "stderr",
     "output_type": "stream",
     "text": [
      "regularization_factors, val_score: 0.963866:  40%|####      | 8/20 [00:01<00:01,  6.49it/s][I 2020-09-26 21:00:34,356] Finished trial#47 with value: 0.953026196928636 with parameters: {'lambda_l1': 3.536456398792606, 'lambda_l2': 0.04832651586022688}. Best is trial#46 with value: 0.96386630532972.\n",
      "regularization_factors, val_score: 0.963866:  40%|####      | 8/20 [00:01<00:01,  6.49it/s]"
     ]
    },
    {
     "name": "stdout",
     "output_type": "stream",
     "text": [
      "Training until validation scores don't improve for 100 rounds\n",
      "[50]\tvalid_0's auc: 0.95122\n",
      "[100]\tvalid_0's auc: 0.950316\n",
      "[150]\tvalid_0's auc: 0.947606\n",
      "Early stopping, best iteration is:\n",
      "[57]\tvalid_0's auc: 0.962963\n"
     ]
    },
    {
     "name": "stderr",
     "output_type": "stream",
     "text": [
      "regularization_factors, val_score: 0.963866:  45%|####5     | 9/20 [00:01<00:01,  6.62it/s][I 2020-09-26 21:00:34,506] Finished trial#48 with value: 0.9629629629629629 with parameters: {'lambda_l1': 1.5354237391352817e-05, 'lambda_l2': 0.0021140271051133357}. Best is trial#46 with value: 0.96386630532972.\n",
      "regularization_factors, val_score: 0.963866:  45%|####5     | 9/20 [00:01<00:01,  6.62it/s]"
     ]
    },
    {
     "name": "stdout",
     "output_type": "stream",
     "text": [
      "Training until validation scores don't improve for 100 rounds\n",
      "[50]\tvalid_0's auc: 0.95122\n",
      "[100]\tvalid_0's auc: 0.950316\n",
      "[150]\tvalid_0's auc: 0.947606\n",
      "Early stopping, best iteration is:\n",
      "[57]\tvalid_0's auc: 0.962963\n"
     ]
    },
    {
     "name": "stderr",
     "output_type": "stream",
     "text": [
      "regularization_factors, val_score: 0.963866:  50%|#####     | 10/20 [00:01<00:01,  6.61it/s][I 2020-09-26 21:00:34,653] Finished trial#49 with value: 0.9629629629629629 with parameters: {'lambda_l1': 4.005349137190128e-05, 'lambda_l2': 2.6878835794770283e-05}. Best is trial#46 with value: 0.96386630532972.\n",
      "regularization_factors, val_score: 0.963866:  50%|#####     | 10/20 [00:01<00:01,  6.61it/s]"
     ]
    },
    {
     "name": "stdout",
     "output_type": "stream",
     "text": [
      "Training until validation scores don't improve for 100 rounds\n",
      "[50]\tvalid_0's auc: 0.95122\n",
      "[100]\tvalid_0's auc: 0.950316\n",
      "[150]\tvalid_0's auc: 0.947606\n",
      "Early stopping, best iteration is:\n",
      "[57]\tvalid_0's auc: 0.962963\n"
     ]
    },
    {
     "name": "stderr",
     "output_type": "stream",
     "text": [
      "regularization_factors, val_score: 0.963866:  55%|#####5    | 11/20 [00:01<00:01,  6.63it/s][I 2020-09-26 21:00:34,801] Finished trial#50 with value: 0.9629629629629629 with parameters: {'lambda_l1': 2.373793459891775e-08, 'lambda_l2': 1.8525288405078143e-08}. Best is trial#46 with value: 0.96386630532972.\n",
      "regularization_factors, val_score: 0.963866:  55%|#####5    | 11/20 [00:01<00:01,  6.63it/s]"
     ]
    },
    {
     "name": "stdout",
     "output_type": "stream",
     "text": [
      "Training until validation scores don't improve for 100 rounds\n",
      "[50]\tvalid_0's auc: 0.95393\n",
      "[100]\tvalid_0's auc: 0.950316\n",
      "[150]\tvalid_0's auc: 0.946703\n",
      "Early stopping, best iteration is:\n",
      "[57]\tvalid_0's auc: 0.957543\n"
     ]
    },
    {
     "name": "stderr",
     "output_type": "stream",
     "text": [
      "regularization_factors, val_score: 0.963866:  60%|######    | 12/20 [00:01<00:01,  6.68it/s][I 2020-09-26 21:00:34,950] Finished trial#51 with value: 0.957542908762421 with parameters: {'lambda_l1': 0.12038796070059714, 'lambda_l2': 7.835404216581703e-07}. Best is trial#46 with value: 0.96386630532972.\n",
      "regularization_factors, val_score: 0.963866:  60%|######    | 12/20 [00:01<00:01,  6.68it/s]"
     ]
    },
    {
     "name": "stdout",
     "output_type": "stream",
     "text": [
      "Training until validation scores don't improve for 100 rounds\n",
      "[50]\tvalid_0's auc: 0.949413\n",
      "[100]\tvalid_0's auc: 0.949413\n",
      "[150]\tvalid_0's auc: 0.946703\n",
      "Early stopping, best iteration is:\n",
      "[59]\tvalid_0's auc: 0.960253\n"
     ]
    },
    {
     "name": "stderr",
     "output_type": "stream",
     "text": [
      "regularization_factors, val_score: 0.963866:  65%|######5   | 13/20 [00:01<00:01,  6.62it/s][I 2020-09-26 21:00:35,103] Finished trial#52 with value: 0.960252935862692 with parameters: {'lambda_l1': 0.023156220110086386, 'lambda_l2': 1.2033437920374623e-07}. Best is trial#46 with value: 0.96386630532972.\n",
      "regularization_factors, val_score: 0.963866:  65%|######5   | 13/20 [00:01<00:01,  6.62it/s]"
     ]
    },
    {
     "name": "stdout",
     "output_type": "stream",
     "text": [
      "Training until validation scores don't improve for 100 rounds\n",
      "[50]\tvalid_0's auc: 0.95122\n",
      "[100]\tvalid_0's auc: 0.950316\n",
      "[150]\tvalid_0's auc: 0.947606\n",
      "Early stopping, best iteration is:\n",
      "[57]\tvalid_0's auc: 0.962963\n"
     ]
    },
    {
     "name": "stderr",
     "output_type": "stream",
     "text": [
      "regularization_factors, val_score: 0.963866:  70%|#######   | 14/20 [00:02<00:00,  6.72it/s][I 2020-09-26 21:00:35,242] Finished trial#53 with value: 0.9629629629629629 with parameters: {'lambda_l1': 8.209749137610132e-08, 'lambda_l2': 7.738145058661733e-05}. Best is trial#46 with value: 0.96386630532972.\n",
      "regularization_factors, val_score: 0.963866:  70%|#######   | 14/20 [00:02<00:00,  6.72it/s]"
     ]
    },
    {
     "name": "stdout",
     "output_type": "stream",
     "text": [
      "Training until validation scores don't improve for 100 rounds\n",
      "[50]\tvalid_0's auc: 0.949413\n",
      "[100]\tvalid_0's auc: 0.949413\n",
      "[150]\tvalid_0's auc: 0.944896\n",
      "Early stopping, best iteration is:\n",
      "[59]\tvalid_0's auc: 0.960253\n"
     ]
    },
    {
     "name": "stderr",
     "output_type": "stream",
     "text": [
      "regularization_factors, val_score: 0.963866:  75%|#######5  | 15/20 [00:02<00:00,  6.80it/s][I 2020-09-26 21:00:35,385] Finished trial#54 with value: 0.960252935862692 with parameters: {'lambda_l1': 0.016735049833921625, 'lambda_l2': 1.1741665192196245e-06}. Best is trial#46 with value: 0.96386630532972.\n",
      "regularization_factors, val_score: 0.963866:  75%|#######5  | 15/20 [00:02<00:00,  6.80it/s]"
     ]
    },
    {
     "name": "stdout",
     "output_type": "stream",
     "text": [
      "Training until validation scores don't improve for 100 rounds\n",
      "[50]\tvalid_0's auc: 0.95122\n",
      "[100]\tvalid_0's auc: 0.950316\n",
      "[150]\tvalid_0's auc: 0.947606\n",
      "Early stopping, best iteration is:\n",
      "[57]\tvalid_0's auc: 0.962963\n"
     ]
    },
    {
     "name": "stderr",
     "output_type": "stream",
     "text": [
      "regularization_factors, val_score: 0.963866:  80%|########  | 16/20 [00:02<00:00,  6.87it/s][I 2020-09-26 21:00:35,528] Finished trial#55 with value: 0.9629629629629629 with parameters: {'lambda_l1': 6.315206782879289e-07, 'lambda_l2': 0.0005455180202565491}. Best is trial#46 with value: 0.96386630532972.\n",
      "regularization_factors, val_score: 0.963866:  80%|########  | 16/20 [00:02<00:00,  6.87it/s]"
     ]
    },
    {
     "name": "stdout",
     "output_type": "stream",
     "text": [
      "Training until validation scores don't improve for 100 rounds\n",
      "[50]\tvalid_0's auc: 0.949413\n",
      "[100]\tvalid_0's auc: 0.942186\n",
      "[150]\tvalid_0's auc: 0.944896\n",
      "Early stopping, best iteration is:\n",
      "[59]\tvalid_0's auc: 0.952123\n"
     ]
    },
    {
     "name": "stderr",
     "output_type": "stream",
     "text": [
      "regularization_factors, val_score: 0.963866:  85%|########5 | 17/20 [00:02<00:00,  6.88it/s][I 2020-09-26 21:00:35,682] Finished trial#56 with value: 0.952122854561879 with parameters: {'lambda_l1': 0.4891012155361134, 'lambda_l2': 4.9618370144332526e-06}. Best is trial#46 with value: 0.96386630532972.\n",
      "regularization_factors, val_score: 0.963866:  85%|########5 | 17/20 [00:02<00:00,  6.88it/s]"
     ]
    },
    {
     "name": "stdout",
     "output_type": "stream",
     "text": [
      "Training until validation scores don't improve for 100 rounds\n",
      "[50]\tvalid_0's auc: 0.95122\n",
      "[100]\tvalid_0's auc: 0.953026\n",
      "[150]\tvalid_0's auc: 0.946703\n",
      "Early stopping, best iteration is:\n",
      "[59]\tvalid_0's auc: 0.963866\n"
     ]
    },
    {
     "name": "stderr",
     "output_type": "stream",
     "text": [
      "regularization_factors, val_score: 0.963866:  90%|######### | 18/20 [00:02<00:00,  6.80it/s][I 2020-09-26 21:00:35,834] Finished trial#57 with value: 0.96386630532972 with parameters: {'lambda_l1': 0.00573661183854023, 'lambda_l2': 0.0015605263596260863}. Best is trial#46 with value: 0.96386630532972.\n",
      "regularization_factors, val_score: 0.963866:  90%|######### | 18/20 [00:02<00:00,  6.80it/s]"
     ]
    },
    {
     "name": "stdout",
     "output_type": "stream",
     "text": [
      "Training until validation scores don't improve for 100 rounds\n",
      "[50]\tvalid_0's auc: 0.95122\n",
      "[100]\tvalid_0's auc: 0.946703\n",
      "[150]\tvalid_0's auc: 0.943993\n",
      "Early stopping, best iteration is:\n",
      "[57]\tvalid_0's auc: 0.962963\n"
     ]
    },
    {
     "name": "stderr",
     "output_type": "stream",
     "text": [
      "regularization_factors, val_score: 0.963866:  95%|#########5| 19/20 [00:02<00:00,  6.72it/s][I 2020-09-26 21:00:35,983] Finished trial#58 with value: 0.9629629629629629 with parameters: {'lambda_l1': 0.0034135431484601177, 'lambda_l2': 0.0028920586948484395}. Best is trial#46 with value: 0.96386630532972.\n",
      "regularization_factors, val_score: 0.963866:  95%|#########5| 19/20 [00:02<00:00,  6.72it/s]"
     ]
    },
    {
     "name": "stdout",
     "output_type": "stream",
     "text": [
      "Training until validation scores don't improve for 100 rounds\n",
      "[50]\tvalid_0's auc: 0.952123\n",
      "[100]\tvalid_0's auc: 0.946703\n",
      "[150]\tvalid_0's auc: 0.944896\n",
      "Early stopping, best iteration is:\n",
      "[57]\tvalid_0's auc: 0.958446\n"
     ]
    },
    {
     "name": "stderr",
     "output_type": "stream",
     "text": [
      "regularization_factors, val_score: 0.963866: 100%|##########| 20/20 [00:02<00:00,  6.39it/s][I 2020-09-26 21:00:36,170] Finished trial#59 with value: 0.9584462511291779 with parameters: {'lambda_l1': 0.25977776095229116, 'lambda_l2': 2.0472828890514916e-08}. Best is trial#46 with value: 0.96386630532972.\n",
      "regularization_factors, val_score: 0.963866: 100%|##########| 20/20 [00:03<00:00,  6.55it/s]\n",
      "min_data_in_leaf, val_score: 0.963866:   0%|          | 0/5 [00:00<?, ?it/s]"
     ]
    },
    {
     "name": "stdout",
     "output_type": "stream",
     "text": [
      "Training until validation scores don't improve for 100 rounds\n",
      "[50]\tvalid_0's auc: 0.946703\n",
      "[100]\tvalid_0's auc: 0.947606\n",
      "[150]\tvalid_0's auc: 0.953026\n",
      "[200]\tvalid_0's auc: 0.953026\n",
      "[250]\tvalid_0's auc: 0.948509\n",
      "Early stopping, best iteration is:\n",
      "[162]\tvalid_0's auc: 0.957543\n"
     ]
    },
    {
     "name": "stderr",
     "output_type": "stream",
     "text": [
      "min_data_in_leaf, val_score: 0.963866:   0%|          | 0/5 [00:00<?, ?it/s][I 2020-09-26 21:00:36,354] Finished trial#60 with value: 0.957542908762421 with parameters: {'min_child_samples': 10}. Best is trial#60 with value: 0.957542908762421.\n",
      "min_data_in_leaf, val_score: 0.963866:  20%|##        | 1/5 [00:00<00:00,  5.26it/s]"
     ]
    },
    {
     "name": "stdout",
     "output_type": "stream",
     "text": [
      "Training until validation scores don't improve for 100 rounds\n",
      "[50]\tvalid_0's auc: 0.950316\n",
      "[100]\tvalid_0's auc: 0.937669\n",
      "[150]\tvalid_0's auc: 0.933153\n",
      "Early stopping, best iteration is:\n",
      "[59]\tvalid_0's auc: 0.953026\n"
     ]
    },
    {
     "name": "stderr",
     "output_type": "stream",
     "text": [
      "min_data_in_leaf, val_score: 0.963866:  40%|####      | 2/5 [00:00<00:00,  8.20it/s][I 2020-09-26 21:00:36,513] Finished trial#61 with value: 0.953026196928636 with parameters: {'min_child_samples': 25}. Best is trial#60 with value: 0.957542908762421.\n",
      "min_data_in_leaf, val_score: 0.963866:  40%|####      | 2/5 [00:00<00:00,  8.20it/s]"
     ]
    },
    {
     "name": "stdout",
     "output_type": "stream",
     "text": [
      "Training until validation scores don't improve for 100 rounds\n",
      "[50]\tvalid_0's auc: 0.5\n",
      "[100]\tvalid_0's auc: 0.5\n",
      "Early stopping, best iteration is:\n",
      "[1]\tvalid_0's auc: 0.5\n"
     ]
    },
    {
     "name": "stderr",
     "output_type": "stream",
     "text": [
      "min_data_in_leaf, val_score: 0.963866:  60%|######    | 3/5 [00:00<00:00,  8.04it/s][I 2020-09-26 21:00:36,635] Finished trial#62 with value: 0.5 with parameters: {'min_child_samples': 50}. Best is trial#60 with value: 0.957542908762421.\n",
      "min_data_in_leaf, val_score: 0.963866:  60%|######    | 3/5 [00:00<00:00,  8.04it/s]"
     ]
    },
    {
     "name": "stdout",
     "output_type": "stream",
     "text": [
      "Training until validation scores don't improve for 100 rounds\n",
      "[50]\tvalid_0's auc: 0.5\n",
      "[100]\tvalid_0's auc: 0.5\n",
      "Early stopping, best iteration is:\n",
      "[1]\tvalid_0's auc: 0.5\n"
     ]
    },
    {
     "name": "stderr",
     "output_type": "stream",
     "text": [
      "min_data_in_leaf, val_score: 0.963866:  80%|########  | 4/5 [00:00<00:00,  7.99it/s][I 2020-09-26 21:00:36,766] Finished trial#63 with value: 0.5 with parameters: {'min_child_samples': 100}. Best is trial#60 with value: 0.957542908762421.\n",
      "min_data_in_leaf, val_score: 0.963866:  80%|########  | 4/5 [00:00<00:00,  7.99it/s]"
     ]
    },
    {
     "name": "stdout",
     "output_type": "stream",
     "text": [
      "Training until validation scores don't improve for 100 rounds\n",
      "[50]\tvalid_0's auc: 0.944896\n",
      "[100]\tvalid_0's auc: 0.946703\n",
      "[150]\tvalid_0's auc: 0.95393\n",
      "[200]\tvalid_0's auc: 0.95122\n",
      "[250]\tvalid_0's auc: 0.95122\n",
      "Early stopping, best iteration is:\n",
      "[150]\tvalid_0's auc: 0.95393\n"
     ]
    },
    {
     "name": "stderr",
     "output_type": "stream",
     "text": [
      "min_data_in_leaf, val_score: 0.963866: 100%|##########| 5/5 [00:00<00:00,  7.08it/s][I 2020-09-26 21:00:36,943] Finished trial#64 with value: 0.9539295392953929 with parameters: {'min_child_samples': 5}. Best is trial#60 with value: 0.957542908762421.\n",
      "min_data_in_leaf, val_score: 0.963866: 100%|##########| 5/5 [00:00<00:00,  6.49it/s]\n"
     ]
    }
   ],
   "source": [
    "# 45_60歳代データ\n",
    "model_lgb_45_60 = lgb.train(params, train_set_45_60, valid_sets=val_set_45_60,\n",
    "                  verbose_eval=50,  # 50イテレーション毎に学習結果出力\n",
    "                  num_boost_round=1000,  # 最大イテレーション回数指定\n",
    "                  early_stopping_rounds=100\n",
    "                 )"
   ]
  },
  {
   "cell_type": "code",
   "execution_count": 43,
   "metadata": {
    "collapsed": true,
    "jupyter": {
     "outputs_hidden": true
    }
   },
   "outputs": [
    {
     "name": "stderr",
     "output_type": "stream",
     "text": [
      "feature_fraction, val_score: -inf:   0%|          | 0/7 [00:00<?, ?it/s]"
     ]
    },
    {
     "name": "stdout",
     "output_type": "stream",
     "text": [
      "Training until validation scores don't improve for 100 rounds\n",
      "[50]\tvalid_0's auc: 0.94848\n",
      "[100]\tvalid_0's auc: 0.947635\n",
      "[150]\tvalid_0's auc: 0.956081\n",
      "[200]\tvalid_0's auc: 0.965372\n",
      "[250]\tvalid_0's auc: 0.963682\n",
      "Early stopping, best iteration is:\n",
      "[195]\tvalid_0's auc: 0.967905\n"
     ]
    },
    {
     "name": "stderr",
     "output_type": "stream",
     "text": [
      "feature_fraction, val_score: 0.967905:  14%|#4        | 1/7 [00:00<00:00,  8.33it/s][I 2020-09-26 21:00:37,171] Finished trial#0 with value: 0.9679054054054054 with parameters: {'feature_fraction': 0.8999999999999999}. Best is trial#0 with value: 0.9679054054054054.\n",
      "feature_fraction, val_score: 0.967905:  14%|#4        | 1/7 [00:00<00:00,  8.33it/s]"
     ]
    },
    {
     "name": "stdout",
     "output_type": "stream",
     "text": [
      "Training until validation scores don't improve for 100 rounds\n",
      "[50]\tvalid_0's auc: 0.953547\n",
      "[100]\tvalid_0's auc: 0.953547\n",
      "[150]\tvalid_0's auc: 0.956081\n",
      "Early stopping, best iteration is:\n",
      "[91]\tvalid_0's auc: 0.958615\n"
     ]
    },
    {
     "name": "stderr",
     "output_type": "stream",
     "text": [
      "feature_fraction, val_score: 0.967905:  29%|##8       | 2/7 [00:00<00:00,  7.58it/s][I 2020-09-26 21:00:37,316] Finished trial#1 with value: 0.9586148648648649 with parameters: {'feature_fraction': 0.4}. Best is trial#0 with value: 0.9679054054054054.\n",
      "feature_fraction, val_score: 0.967905:  29%|##8       | 2/7 [00:00<00:00,  7.58it/s]"
     ]
    },
    {
     "name": "stdout",
     "output_type": "stream",
     "text": [
      "Training until validation scores don't improve for 100 rounds\n",
      "[50]\tvalid_0's auc: 0.942568\n",
      "[100]\tvalid_0's auc: 0.939189\n",
      "[150]\tvalid_0's auc: 0.954392\n",
      "[200]\tvalid_0's auc: 0.961993\n",
      "[250]\tvalid_0's auc: 0.961149\n",
      "[300]\tvalid_0's auc: 0.95777\n",
      "Early stopping, best iteration is:\n",
      "[212]\tvalid_0's auc: 0.964527\n"
     ]
    },
    {
     "name": "stderr",
     "output_type": "stream",
     "text": [
      "feature_fraction, val_score: 0.967905:  43%|####2     | 3/7 [00:00<00:00,  6.75it/s][I 2020-09-26 21:00:37,508] Finished trial#2 with value: 0.964527027027027 with parameters: {'feature_fraction': 0.7}. Best is trial#0 with value: 0.9679054054054054.\n",
      "feature_fraction, val_score: 0.967905:  43%|####2     | 3/7 [00:00<00:00,  6.75it/s]"
     ]
    },
    {
     "name": "stdout",
     "output_type": "stream",
     "text": [
      "Training until validation scores don't improve for 100 rounds\n",
      "[50]\tvalid_0's auc: 0.953547\n",
      "[100]\tvalid_0's auc: 0.94848\n",
      "[150]\tvalid_0's auc: 0.958615\n",
      "[200]\tvalid_0's auc: 0.96875\n",
      "[250]\tvalid_0's auc: 0.963682\n",
      "Early stopping, best iteration is:\n",
      "[183]\tvalid_0's auc: 0.970439\n"
     ]
    },
    {
     "name": "stderr",
     "output_type": "stream",
     "text": [
      "feature_fraction, val_score: 0.970439:  57%|#####7    | 4/7 [00:00<00:00,  6.33it/s][I 2020-09-26 21:00:37,685] Finished trial#3 with value: 0.9704391891891891 with parameters: {'feature_fraction': 1.0}. Best is trial#3 with value: 0.9704391891891891.\n",
      "feature_fraction, val_score: 0.970439:  57%|#####7    | 4/7 [00:00<00:00,  6.33it/s]"
     ]
    },
    {
     "name": "stdout",
     "output_type": "stream",
     "text": [
      "Training until validation scores don't improve for 100 rounds\n",
      "[50]\tvalid_0's auc: 0.946791\n",
      "[100]\tvalid_0's auc: 0.944257\n",
      "Early stopping, best iteration is:\n",
      "[16]\tvalid_0's auc: 0.954392\n"
     ]
    },
    {
     "name": "stderr",
     "output_type": "stream",
     "text": [
      "feature_fraction, val_score: 0.970439:  71%|#######1  | 5/7 [00:00<00:00,  6.71it/s][I 2020-09-26 21:00:37,819] Finished trial#4 with value: 0.9543918918918919 with parameters: {'feature_fraction': 0.6}. Best is trial#3 with value: 0.9704391891891891.\n",
      "feature_fraction, val_score: 0.970439:  71%|#######1  | 5/7 [00:00<00:00,  6.71it/s]"
     ]
    },
    {
     "name": "stdout",
     "output_type": "stream",
     "text": [
      "Training until validation scores don't improve for 100 rounds\n",
      "[50]\tvalid_0's auc: 0.942568\n",
      "[100]\tvalid_0's auc: 0.939189\n",
      "[150]\tvalid_0's auc: 0.954392\n",
      "[200]\tvalid_0's auc: 0.961993\n",
      "[250]\tvalid_0's auc: 0.961149\n",
      "[300]\tvalid_0's auc: 0.95777\n",
      "Early stopping, best iteration is:\n",
      "[212]\tvalid_0's auc: 0.964527\n"
     ]
    },
    {
     "name": "stderr",
     "output_type": "stream",
     "text": [
      "feature_fraction, val_score: 0.970439:  86%|########5 | 6/7 [00:00<00:00,  6.02it/s][I 2020-09-26 21:00:38,024] Finished trial#5 with value: 0.964527027027027 with parameters: {'feature_fraction': 0.8}. Best is trial#3 with value: 0.9704391891891891.\n",
      "feature_fraction, val_score: 0.970439:  86%|########5 | 6/7 [00:01<00:00,  6.02it/s]"
     ]
    },
    {
     "name": "stdout",
     "output_type": "stream",
     "text": [
      "Training until validation scores don't improve for 100 rounds\n",
      "[50]\tvalid_0's auc: 0.951858\n",
      "[100]\tvalid_0's auc: 0.949324\n",
      "[150]\tvalid_0's auc: 0.94848\n",
      "Early stopping, best iteration is:\n",
      "[51]\tvalid_0's auc: 0.954392\n"
     ]
    },
    {
     "name": "stderr",
     "output_type": "stream",
     "text": [
      "feature_fraction, val_score: 0.970439: 100%|##########| 7/7 [00:01<00:00,  6.24it/s][I 2020-09-26 21:00:38,172] Finished trial#6 with value: 0.9543918918918919 with parameters: {'feature_fraction': 0.5}. Best is trial#3 with value: 0.9704391891891891.\n",
      "feature_fraction, val_score: 0.970439: 100%|##########| 7/7 [00:01<00:00,  5.75it/s]\n",
      "num_leaves, val_score: 0.970439:   0%|          | 0/20 [00:00<?, ?it/s]"
     ]
    },
    {
     "name": "stdout",
     "output_type": "stream",
     "text": [
      "Training until validation scores don't improve for 100 rounds\n",
      "[50]\tvalid_0's auc: 0.953547\n",
      "[100]\tvalid_0's auc: 0.94848\n",
      "[150]\tvalid_0's auc: 0.958615\n",
      "[200]\tvalid_0's auc: 0.96875\n",
      "[250]\tvalid_0's auc: 0.963682\n",
      "Early stopping, best iteration is:\n",
      "[183]\tvalid_0's auc: 0.970439\n"
     ]
    },
    {
     "name": "stderr",
     "output_type": "stream",
     "text": [
      "num_leaves, val_score: 0.970439:   0%|          | 0/20 [00:00<?, ?it/s][I 2020-09-26 21:00:38,389] Finished trial#7 with value: 0.9704391891891891 with parameters: {'num_leaves': 46}. Best is trial#7 with value: 0.9704391891891891.\n",
      "num_leaves, val_score: 0.970439:   5%|5         | 1/20 [00:00<00:04,  4.72it/s]"
     ]
    },
    {
     "name": "stdout",
     "output_type": "stream",
     "text": [
      "Training until validation scores don't improve for 100 rounds\n",
      "[50]\tvalid_0's auc: 0.953547\n",
      "[100]\tvalid_0's auc: 0.94848\n",
      "[150]\tvalid_0's auc: 0.958615\n",
      "[200]\tvalid_0's auc: 0.96875\n",
      "[250]\tvalid_0's auc: 0.963682\n",
      "Early stopping, best iteration is:\n",
      "[183]\tvalid_0's auc: 0.970439\n"
     ]
    },
    {
     "name": "stderr",
     "output_type": "stream",
     "text": [
      "num_leaves, val_score: 0.970439:  10%|#         | 2/20 [00:00<00:02,  6.47it/s][I 2020-09-26 21:00:38,589] Finished trial#8 with value: 0.9704391891891891 with parameters: {'num_leaves': 8}. Best is trial#7 with value: 0.9704391891891891.\n",
      "num_leaves, val_score: 0.970439:  10%|#         | 2/20 [00:00<00:02,  6.47it/s]"
     ]
    },
    {
     "name": "stdout",
     "output_type": "stream",
     "text": [
      "Training until validation scores don't improve for 100 rounds\n",
      "[50]\tvalid_0's auc: 0.953547\n",
      "[100]\tvalid_0's auc: 0.94848\n",
      "[150]\tvalid_0's auc: 0.958615\n",
      "[200]\tvalid_0's auc: 0.96875\n",
      "[250]\tvalid_0's auc: 0.963682\n",
      "Early stopping, best iteration is:\n",
      "[183]\tvalid_0's auc: 0.970439\n"
     ]
    },
    {
     "name": "stderr",
     "output_type": "stream",
     "text": [
      "num_leaves, val_score: 0.970439:  15%|#5        | 3/20 [00:00<00:02,  5.93it/s][I 2020-09-26 21:00:38,773] Finished trial#9 with value: 0.9704391891891891 with parameters: {'num_leaves': 171}. Best is trial#7 with value: 0.9704391891891891.\n",
      "num_leaves, val_score: 0.970439:  15%|#5        | 3/20 [00:00<00:02,  5.93it/s]"
     ]
    },
    {
     "name": "stdout",
     "output_type": "stream",
     "text": [
      "Training until validation scores don't improve for 100 rounds\n",
      "[50]\tvalid_0's auc: 0.953547\n",
      "[100]\tvalid_0's auc: 0.94848\n",
      "[150]\tvalid_0's auc: 0.958615\n",
      "[200]\tvalid_0's auc: 0.96875\n",
      "[250]\tvalid_0's auc: 0.963682\n",
      "Early stopping, best iteration is:\n",
      "[183]\tvalid_0's auc: 0.970439\n"
     ]
    },
    {
     "name": "stderr",
     "output_type": "stream",
     "text": [
      "num_leaves, val_score: 0.970439:  20%|##        | 4/20 [00:00<00:02,  5.76it/s][I 2020-09-26 21:00:38,969] Finished trial#10 with value: 0.9704391891891891 with parameters: {'num_leaves': 190}. Best is trial#7 with value: 0.9704391891891891.\n",
      "num_leaves, val_score: 0.970439:  20%|##        | 4/20 [00:00<00:02,  5.76it/s]"
     ]
    },
    {
     "name": "stdout",
     "output_type": "stream",
     "text": [
      "Training until validation scores don't improve for 100 rounds\n",
      "[50]\tvalid_0's auc: 0.953547\n",
      "[100]\tvalid_0's auc: 0.94848\n",
      "[150]\tvalid_0's auc: 0.958615\n",
      "[200]\tvalid_0's auc: 0.96875\n",
      "[250]\tvalid_0's auc: 0.963682\n",
      "Early stopping, best iteration is:\n",
      "[183]\tvalid_0's auc: 0.970439\n"
     ]
    },
    {
     "name": "stderr",
     "output_type": "stream",
     "text": [
      "num_leaves, val_score: 0.970439:  25%|##5       | 5/20 [00:00<00:02,  5.06it/s][I 2020-09-26 21:00:39,213] Finished trial#11 with value: 0.9704391891891891 with parameters: {'num_leaves': 183}. Best is trial#7 with value: 0.9704391891891891.\n",
      "num_leaves, val_score: 0.970439:  25%|##5       | 5/20 [00:01<00:02,  5.06it/s]"
     ]
    },
    {
     "name": "stdout",
     "output_type": "stream",
     "text": [
      "Training until validation scores don't improve for 100 rounds\n",
      "[50]\tvalid_0's auc: 0.953547\n",
      "[100]\tvalid_0's auc: 0.94848\n",
      "[150]\tvalid_0's auc: 0.958615\n",
      "[200]\tvalid_0's auc: 0.96875\n",
      "[250]\tvalid_0's auc: 0.963682\n",
      "Early stopping, best iteration is:\n",
      "[183]\tvalid_0's auc: 0.970439\n"
     ]
    },
    {
     "name": "stderr",
     "output_type": "stream",
     "text": [
      "num_leaves, val_score: 0.970439:  30%|###       | 6/20 [00:01<00:02,  5.06it/s][I 2020-09-26 21:00:39,414] Finished trial#12 with value: 0.9704391891891891 with parameters: {'num_leaves': 235}. Best is trial#7 with value: 0.9704391891891891.\n",
      "num_leaves, val_score: 0.970439:  30%|###       | 6/20 [00:01<00:02,  5.06it/s]"
     ]
    },
    {
     "name": "stdout",
     "output_type": "stream",
     "text": [
      "Training until validation scores don't improve for 100 rounds\n",
      "[50]\tvalid_0's auc: 0.953547\n",
      "[100]\tvalid_0's auc: 0.94848\n",
      "[150]\tvalid_0's auc: 0.958615\n",
      "[200]\tvalid_0's auc: 0.96875\n",
      "[250]\tvalid_0's auc: 0.963682\n",
      "Early stopping, best iteration is:\n",
      "[183]\tvalid_0's auc: 0.970439\n"
     ]
    },
    {
     "name": "stderr",
     "output_type": "stream",
     "text": [
      "num_leaves, val_score: 0.970439:  35%|###5      | 7/20 [00:01<00:02,  4.85it/s][I 2020-09-26 21:00:39,646] Finished trial#13 with value: 0.9704391891891891 with parameters: {'num_leaves': 202}. Best is trial#7 with value: 0.9704391891891891.\n",
      "num_leaves, val_score: 0.970439:  35%|###5      | 7/20 [00:01<00:02,  4.85it/s]"
     ]
    },
    {
     "name": "stdout",
     "output_type": "stream",
     "text": [
      "Training until validation scores don't improve for 100 rounds\n",
      "[50]\tvalid_0's auc: 0.953547\n",
      "[100]\tvalid_0's auc: 0.94848\n",
      "[150]\tvalid_0's auc: 0.958615\n",
      "[200]\tvalid_0's auc: 0.96875\n",
      "[250]\tvalid_0's auc: 0.963682\n",
      "Early stopping, best iteration is:\n",
      "[183]\tvalid_0's auc: 0.970439\n"
     ]
    },
    {
     "name": "stderr",
     "output_type": "stream",
     "text": [
      "num_leaves, val_score: 0.970439:  40%|####      | 8/20 [00:01<00:02,  4.93it/s][I 2020-09-26 21:00:39,838] Finished trial#14 with value: 0.9704391891891891 with parameters: {'num_leaves': 115}. Best is trial#7 with value: 0.9704391891891891.\n",
      "num_leaves, val_score: 0.970439:  40%|####      | 8/20 [00:01<00:02,  4.93it/s]"
     ]
    },
    {
     "name": "stdout",
     "output_type": "stream",
     "text": [
      "Training until validation scores don't improve for 100 rounds\n",
      "[50]\tvalid_0's auc: 0.953547\n",
      "[100]\tvalid_0's auc: 0.94848\n",
      "[150]\tvalid_0's auc: 0.958615\n",
      "[200]\tvalid_0's auc: 0.96875\n",
      "[250]\tvalid_0's auc: 0.963682\n",
      "Early stopping, best iteration is:\n",
      "[183]\tvalid_0's auc: 0.970439\n"
     ]
    },
    {
     "name": "stderr",
     "output_type": "stream",
     "text": [
      "num_leaves, val_score: 0.970439:  45%|####5     | 9/20 [00:01<00:02,  5.05it/s][I 2020-09-26 21:00:40,026] Finished trial#15 with value: 0.9704391891891891 with parameters: {'num_leaves': 117}. Best is trial#7 with value: 0.9704391891891891.\n",
      "num_leaves, val_score: 0.970439:  45%|####5     | 9/20 [00:01<00:02,  5.05it/s]"
     ]
    },
    {
     "name": "stdout",
     "output_type": "stream",
     "text": [
      "Training until validation scores don't improve for 100 rounds\n",
      "[50]\tvalid_0's auc: 0.953547\n",
      "[100]\tvalid_0's auc: 0.94848\n",
      "[150]\tvalid_0's auc: 0.958615\n",
      "[200]\tvalid_0's auc: 0.96875\n",
      "[250]\tvalid_0's auc: 0.963682\n",
      "Early stopping, best iteration is:\n",
      "[183]\tvalid_0's auc: 0.970439\n"
     ]
    },
    {
     "name": "stderr",
     "output_type": "stream",
     "text": [
      "num_leaves, val_score: 0.970439:  50%|#####     | 10/20 [00:01<00:01,  5.07it/s][I 2020-09-26 21:00:40,216] Finished trial#16 with value: 0.9704391891891891 with parameters: {'num_leaves': 216}. Best is trial#7 with value: 0.9704391891891891.\n",
      "num_leaves, val_score: 0.970439:  50%|#####     | 10/20 [00:02<00:01,  5.07it/s]"
     ]
    },
    {
     "name": "stdout",
     "output_type": "stream",
     "text": [
      "Training until validation scores don't improve for 100 rounds\n",
      "[50]\tvalid_0's auc: 0.953547\n",
      "[100]\tvalid_0's auc: 0.94848\n",
      "[150]\tvalid_0's auc: 0.958615\n",
      "[200]\tvalid_0's auc: 0.96875\n",
      "[250]\tvalid_0's auc: 0.963682\n",
      "Early stopping, best iteration is:\n",
      "[183]\tvalid_0's auc: 0.970439\n"
     ]
    },
    {
     "name": "stderr",
     "output_type": "stream",
     "text": [
      "num_leaves, val_score: 0.970439:  55%|#####5    | 11/20 [00:02<00:01,  5.18it/s][I 2020-09-26 21:00:40,400] Finished trial#17 with value: 0.9704391891891891 with parameters: {'num_leaves': 20}. Best is trial#7 with value: 0.9704391891891891.\n",
      "num_leaves, val_score: 0.970439:  55%|#####5    | 11/20 [00:02<00:01,  5.18it/s]"
     ]
    },
    {
     "name": "stdout",
     "output_type": "stream",
     "text": [
      "Training until validation scores don't improve for 100 rounds\n",
      "[50]\tvalid_0's auc: 0.933277\n",
      "[100]\tvalid_0's auc: 0.925676\n",
      "Early stopping, best iteration is:\n",
      "[20]\tvalid_0's auc: 0.940878\n"
     ]
    },
    {
     "name": "stderr",
     "output_type": "stream",
     "text": [
      "num_leaves, val_score: 0.970439:  60%|######    | 12/20 [00:02<00:01,  5.80it/s][I 2020-09-26 21:00:40,519] Finished trial#18 with value: 0.9408783783783784 with parameters: {'num_leaves': 2}. Best is trial#7 with value: 0.9704391891891891.\n",
      "num_leaves, val_score: 0.970439:  60%|######    | 12/20 [00:02<00:01,  5.80it/s]"
     ]
    },
    {
     "name": "stdout",
     "output_type": "stream",
     "text": [
      "Training until validation scores don't improve for 100 rounds\n",
      "[50]\tvalid_0's auc: 0.953547\n",
      "[100]\tvalid_0's auc: 0.94848\n",
      "[150]\tvalid_0's auc: 0.958615\n",
      "[200]\tvalid_0's auc: 0.96875\n",
      "[250]\tvalid_0's auc: 0.963682\n",
      "Early stopping, best iteration is:\n",
      "[183]\tvalid_0's auc: 0.970439\n"
     ]
    },
    {
     "name": "stderr",
     "output_type": "stream",
     "text": [
      "num_leaves, val_score: 0.970439:  65%|######5   | 13/20 [00:02<00:01,  5.72it/s][I 2020-09-26 21:00:40,708] Finished trial#19 with value: 0.9704391891891891 with parameters: {'num_leaves': 54}. Best is trial#7 with value: 0.9704391891891891.\n",
      "num_leaves, val_score: 0.970439:  65%|######5   | 13/20 [00:02<00:01,  5.72it/s]"
     ]
    },
    {
     "name": "stdout",
     "output_type": "stream",
     "text": [
      "Training until validation scores don't improve for 100 rounds\n",
      "[50]\tvalid_0's auc: 0.953547\n",
      "[100]\tvalid_0's auc: 0.94848\n",
      "[150]\tvalid_0's auc: 0.958615\n",
      "[200]\tvalid_0's auc: 0.96875\n",
      "[250]\tvalid_0's auc: 0.963682\n",
      "Early stopping, best iteration is:\n",
      "[183]\tvalid_0's auc: 0.970439\n"
     ]
    },
    {
     "name": "stderr",
     "output_type": "stream",
     "text": [
      "num_leaves, val_score: 0.970439:  70%|#######   | 14/20 [00:02<00:01,  5.59it/s][I 2020-09-26 21:00:40,886] Finished trial#20 with value: 0.9704391891891891 with parameters: {'num_leaves': 61}. Best is trial#7 with value: 0.9704391891891891.\n",
      "num_leaves, val_score: 0.970439:  70%|#######   | 14/20 [00:02<00:01,  5.59it/s]"
     ]
    },
    {
     "name": "stdout",
     "output_type": "stream",
     "text": [
      "Training until validation scores don't improve for 100 rounds\n",
      "[50]\tvalid_0's auc: 0.953547\n",
      "[100]\tvalid_0's auc: 0.94848\n",
      "[150]\tvalid_0's auc: 0.958615\n",
      "[200]\tvalid_0's auc: 0.96875\n",
      "[250]\tvalid_0's auc: 0.963682\n",
      "Early stopping, best iteration is:\n",
      "[183]\tvalid_0's auc: 0.970439\n"
     ]
    },
    {
     "name": "stderr",
     "output_type": "stream",
     "text": [
      "num_leaves, val_score: 0.970439:  75%|#######5  | 15/20 [00:02<00:00,  5.61it/s][I 2020-09-26 21:00:41,074] Finished trial#21 with value: 0.9704391891891891 with parameters: {'num_leaves': 49}. Best is trial#7 with value: 0.9704391891891891.\n",
      "num_leaves, val_score: 0.970439:  75%|#######5  | 15/20 [00:02<00:00,  5.61it/s]"
     ]
    },
    {
     "name": "stdout",
     "output_type": "stream",
     "text": [
      "Training until validation scores don't improve for 100 rounds\n",
      "[50]\tvalid_0's auc: 0.953547\n",
      "[100]\tvalid_0's auc: 0.94848\n",
      "[150]\tvalid_0's auc: 0.958615\n",
      "[200]\tvalid_0's auc: 0.96875\n",
      "[250]\tvalid_0's auc: 0.963682\n",
      "Early stopping, best iteration is:\n",
      "[183]\tvalid_0's auc: 0.970439\n"
     ]
    },
    {
     "name": "stderr",
     "output_type": "stream",
     "text": [
      "num_leaves, val_score: 0.970439:  80%|########  | 16/20 [00:02<00:00,  5.51it/s][I 2020-09-26 21:00:41,263] Finished trial#22 with value: 0.9704391891891891 with parameters: {'num_leaves': 79}. Best is trial#7 with value: 0.9704391891891891.\n",
      "num_leaves, val_score: 0.970439:  80%|########  | 16/20 [00:03<00:00,  5.51it/s]"
     ]
    },
    {
     "name": "stdout",
     "output_type": "stream",
     "text": [
      "Training until validation scores don't improve for 100 rounds\n",
      "[50]\tvalid_0's auc: 0.953547\n",
      "[100]\tvalid_0's auc: 0.946791\n",
      "[150]\tvalid_0's auc: 0.956926\n",
      "[200]\tvalid_0's auc: 0.964527\n",
      "[250]\tvalid_0's auc: 0.963682\n",
      "Early stopping, best iteration is:\n",
      "[191]\tvalid_0's auc: 0.970439\n"
     ]
    },
    {
     "name": "stderr",
     "output_type": "stream",
     "text": [
      "num_leaves, val_score: 0.970439:  85%|########5 | 17/20 [00:03<00:00,  5.45it/s][I 2020-09-26 21:00:41,445] Finished trial#23 with value: 0.9704391891891891 with parameters: {'num_leaves': 5}. Best is trial#7 with value: 0.9704391891891891.\n",
      "num_leaves, val_score: 0.970439:  85%|########5 | 17/20 [00:03<00:00,  5.45it/s]"
     ]
    },
    {
     "name": "stdout",
     "output_type": "stream",
     "text": [
      "Training until validation scores don't improve for 100 rounds\n",
      "[50]\tvalid_0's auc: 0.953547\n",
      "[100]\tvalid_0's auc: 0.94848\n",
      "[150]\tvalid_0's auc: 0.958615\n",
      "[200]\tvalid_0's auc: 0.96875\n",
      "[250]\tvalid_0's auc: 0.963682\n",
      "Early stopping, best iteration is:\n",
      "[183]\tvalid_0's auc: 0.970439\n"
     ]
    },
    {
     "name": "stderr",
     "output_type": "stream",
     "text": [
      "num_leaves, val_score: 0.970439:  90%|######### | 18/20 [00:03<00:00,  5.46it/s][I 2020-09-26 21:00:41,629] Finished trial#24 with value: 0.9704391891891891 with parameters: {'num_leaves': 43}. Best is trial#7 with value: 0.9704391891891891.\n",
      "num_leaves, val_score: 0.970439:  90%|######### | 18/20 [00:03<00:00,  5.46it/s]"
     ]
    },
    {
     "name": "stdout",
     "output_type": "stream",
     "text": [
      "Training until validation scores don't improve for 100 rounds\n",
      "[50]\tvalid_0's auc: 0.953547\n",
      "[100]\tvalid_0's auc: 0.94848\n",
      "[150]\tvalid_0's auc: 0.958615\n",
      "[200]\tvalid_0's auc: 0.96875\n",
      "[250]\tvalid_0's auc: 0.963682\n",
      "Early stopping, best iteration is:\n",
      "[183]\tvalid_0's auc: 0.970439\n"
     ]
    },
    {
     "name": "stderr",
     "output_type": "stream",
     "text": [
      "num_leaves, val_score: 0.970439:  95%|#########5| 19/20 [00:03<00:00,  5.43it/s][I 2020-09-26 21:00:41,810] Finished trial#25 with value: 0.9704391891891891 with parameters: {'num_leaves': 87}. Best is trial#7 with value: 0.9704391891891891.\n",
      "num_leaves, val_score: 0.970439:  95%|#########5| 19/20 [00:03<00:00,  5.43it/s]"
     ]
    },
    {
     "name": "stdout",
     "output_type": "stream",
     "text": [
      "Training until validation scores don't improve for 100 rounds\n",
      "[50]\tvalid_0's auc: 0.953547\n",
      "[100]\tvalid_0's auc: 0.94848\n",
      "[150]\tvalid_0's auc: 0.958615\n",
      "[200]\tvalid_0's auc: 0.96875\n",
      "[250]\tvalid_0's auc: 0.963682\n",
      "Early stopping, best iteration is:\n",
      "[183]\tvalid_0's auc: 0.970439\n"
     ]
    },
    {
     "name": "stderr",
     "output_type": "stream",
     "text": [
      "num_leaves, val_score: 0.970439: 100%|##########| 20/20 [00:03<00:00,  5.50it/s][I 2020-09-26 21:00:41,992] Finished trial#26 with value: 0.9704391891891891 with parameters: {'num_leaves': 24}. Best is trial#7 with value: 0.9704391891891891.\n",
      "num_leaves, val_score: 0.970439: 100%|##########| 20/20 [00:03<00:00,  5.24it/s]\n",
      "bagging, val_score: 0.970439:   0%|          | 0/10 [00:00<?, ?it/s]"
     ]
    },
    {
     "name": "stdout",
     "output_type": "stream",
     "text": [
      "Training until validation scores don't improve for 100 rounds\n",
      "[50]\tvalid_0's auc: 0.94848\n",
      "[100]\tvalid_0's auc: 0.955236\n",
      "[150]\tvalid_0's auc: 0.958615\n",
      "[200]\tvalid_0's auc: 0.956081\n",
      "Early stopping, best iteration is:\n",
      "[117]\tvalid_0's auc: 0.965372\n"
     ]
    },
    {
     "name": "stderr",
     "output_type": "stream",
     "text": [
      "bagging, val_score: 0.970439:   0%|          | 0/10 [00:00<?, ?it/s][I 2020-09-26 21:00:42,158] Finished trial#27 with value: 0.9653716216216216 with parameters: {'bagging_fraction': 0.5332608689793055, 'bagging_freq': 3}. Best is trial#27 with value: 0.9653716216216216.\n",
      "bagging, val_score: 0.970439:  10%|#         | 1/10 [00:00<00:01,  6.21it/s]"
     ]
    },
    {
     "name": "stdout",
     "output_type": "stream",
     "text": [
      "Training until validation scores don't improve for 100 rounds\n",
      "[50]\tvalid_0's auc: 0.952703\n",
      "[100]\tvalid_0's auc: 0.967061\n",
      "[150]\tvalid_0's auc: 0.966216\n",
      "Early stopping, best iteration is:\n",
      "[90]\tvalid_0's auc: 0.967905\n"
     ]
    },
    {
     "name": "stderr",
     "output_type": "stream",
     "text": [
      "bagging, val_score: 0.970439:  20%|##        | 2/10 [00:00<00:00,  8.58it/s][I 2020-09-26 21:00:42,312] Finished trial#28 with value: 0.9679054054054054 with parameters: {'bagging_fraction': 0.9348005836647273, 'bagging_freq': 3}. Best is trial#28 with value: 0.9679054054054054.\n",
      "bagging, val_score: 0.970439:  20%|##        | 2/10 [00:00<00:00,  8.58it/s]"
     ]
    },
    {
     "name": "stdout",
     "output_type": "stream",
     "text": [
      "Training until validation scores don't improve for 100 rounds\n",
      "[50]\tvalid_0's auc: 0.947635\n",
      "[100]\tvalid_0's auc: 0.936655\n",
      "Early stopping, best iteration is:\n",
      "[41]\tvalid_0's auc: 0.955236\n"
     ]
    },
    {
     "name": "stderr",
     "output_type": "stream",
     "text": [
      "bagging, val_score: 0.970439:  30%|###       | 3/10 [00:00<00:00,  8.32it/s][I 2020-09-26 21:00:42,450] Finished trial#29 with value: 0.9552364864864865 with parameters: {'bagging_fraction': 0.6610069302788795, 'bagging_freq': 5}. Best is trial#28 with value: 0.9679054054054054.\n",
      "bagging, val_score: 0.970439:  30%|###       | 3/10 [00:00<00:00,  8.32it/s]"
     ]
    },
    {
     "name": "stdout",
     "output_type": "stream",
     "text": [
      "Training until validation scores don't improve for 100 rounds\n",
      "[50]\tvalid_0's auc: 0.946791\n",
      "[100]\tvalid_0's auc: 0.956926\n",
      "[150]\tvalid_0's auc: 0.963682\n",
      "[200]\tvalid_0's auc: 0.962838\n",
      "[250]\tvalid_0's auc: 0.963682\n",
      "Early stopping, best iteration is:\n",
      "[153]\tvalid_0's auc: 0.964527\n"
     ]
    },
    {
     "name": "stderr",
     "output_type": "stream",
     "text": [
      "bagging, val_score: 0.970439:  40%|####      | 4/10 [00:00<00:00,  7.17it/s][I 2020-09-26 21:00:42,624] Finished trial#30 with value: 0.964527027027027 with parameters: {'bagging_fraction': 0.8264856301488794, 'bagging_freq': 7}. Best is trial#28 with value: 0.9679054054054054.\n",
      "bagging, val_score: 0.970439:  40%|####      | 4/10 [00:00<00:00,  7.17it/s]"
     ]
    },
    {
     "name": "stdout",
     "output_type": "stream",
     "text": [
      "Training until validation scores don't improve for 100 rounds\n",
      "[50]\tvalid_0's auc: 0.95777\n",
      "[100]\tvalid_0's auc: 0.955236\n",
      "[150]\tvalid_0's auc: 0.965372\n",
      "[200]\tvalid_0's auc: 0.972128\n",
      "[250]\tvalid_0's auc: 0.972973\n",
      "[300]\tvalid_0's auc: 0.973818\n",
      "Early stopping, best iteration is:\n",
      "[210]\tvalid_0's auc: 0.973818\n"
     ]
    },
    {
     "name": "stderr",
     "output_type": "stream",
     "text": [
      "bagging, val_score: 0.973818:  50%|#####     | 5/10 [00:00<00:00,  6.50it/s][I 2020-09-26 21:00:42,823] Finished trial#31 with value: 0.9738175675675675 with parameters: {'bagging_fraction': 0.7327286105365813, 'bagging_freq': 2}. Best is trial#31 with value: 0.9738175675675675.\n",
      "bagging, val_score: 0.973818:  50%|#####     | 5/10 [00:00<00:00,  6.50it/s]"
     ]
    },
    {
     "name": "stdout",
     "output_type": "stream",
     "text": [
      "Training until validation scores don't improve for 100 rounds\n",
      "[50]\tvalid_0's auc: 0.958615\n",
      "[100]\tvalid_0's auc: 0.965372\n",
      "[150]\tvalid_0's auc: 0.967905\n",
      "[200]\tvalid_0's auc: 0.971284\n",
      "[250]\tvalid_0's auc: 0.973818\n",
      "[300]\tvalid_0's auc: 0.972128\n",
      "Early stopping, best iteration is:\n",
      "[233]\tvalid_0's auc: 0.974662\n"
     ]
    },
    {
     "name": "stderr",
     "output_type": "stream",
     "text": [
      "bagging, val_score: 0.974662:  60%|######    | 6/10 [00:00<00:00,  5.78it/s][I 2020-09-26 21:00:43,034] Finished trial#32 with value: 0.9746621621621622 with parameters: {'bagging_fraction': 0.9719044263710017, 'bagging_freq': 4}. Best is trial#32 with value: 0.9746621621621622.\n",
      "bagging, val_score: 0.974662:  60%|######    | 6/10 [00:01<00:00,  5.78it/s]"
     ]
    },
    {
     "name": "stdout",
     "output_type": "stream",
     "text": [
      "Training until validation scores don't improve for 100 rounds\n",
      "[50]\tvalid_0's auc: 0.945946\n",
      "[100]\tvalid_0's auc: 0.929899\n",
      "Early stopping, best iteration is:\n",
      "[30]\tvalid_0's auc: 0.954392\n"
     ]
    },
    {
     "name": "stderr",
     "output_type": "stream",
     "text": [
      "bagging, val_score: 0.974662:  70%|#######   | 7/10 [00:01<00:00,  6.25it/s][I 2020-09-26 21:00:43,167] Finished trial#33 with value: 0.9543918918918919 with parameters: {'bagging_fraction': 0.5304546874213845, 'bagging_freq': 7}. Best is trial#32 with value: 0.9746621621621622.\n",
      "bagging, val_score: 0.974662:  70%|#######   | 7/10 [00:01<00:00,  6.25it/s]"
     ]
    },
    {
     "name": "stdout",
     "output_type": "stream",
     "text": [
      "Training until validation scores don't improve for 100 rounds\n",
      "[50]\tvalid_0's auc: 0.967905\n",
      "[100]\tvalid_0's auc: 0.970439\n",
      "[150]\tvalid_0's auc: 0.964527\n",
      "Early stopping, best iteration is:\n",
      "[80]\tvalid_0's auc: 0.975507\n"
     ]
    },
    {
     "name": "stderr",
     "output_type": "stream",
     "text": [
      "bagging, val_score: 0.975507:  80%|########  | 8/10 [00:01<00:00,  6.32it/s][I 2020-09-26 21:00:43,321] Finished trial#34 with value: 0.9755067567567568 with parameters: {'bagging_fraction': 0.7626203804298008, 'bagging_freq': 3}. Best is trial#34 with value: 0.9755067567567568.\n",
      "bagging, val_score: 0.975507:  80%|########  | 8/10 [00:01<00:00,  6.32it/s]"
     ]
    },
    {
     "name": "stdout",
     "output_type": "stream",
     "text": [
      "Training until validation scores don't improve for 100 rounds\n",
      "[50]\tvalid_0's auc: 0.958615\n",
      "[100]\tvalid_0's auc: 0.965372\n",
      "[150]\tvalid_0's auc: 0.967905\n",
      "[200]\tvalid_0's auc: 0.971284\n",
      "[250]\tvalid_0's auc: 0.973818\n",
      "[300]\tvalid_0's auc: 0.972128\n",
      "Early stopping, best iteration is:\n",
      "[233]\tvalid_0's auc: 0.974662\n"
     ]
    },
    {
     "name": "stderr",
     "output_type": "stream",
     "text": [
      "bagging, val_score: 0.975507:  90%|######### | 9/10 [00:01<00:00,  5.74it/s][I 2020-09-26 21:00:43,524] Finished trial#35 with value: 0.9746621621621622 with parameters: {'bagging_fraction': 0.9688571706739093, 'bagging_freq': 4}. Best is trial#34 with value: 0.9755067567567568.\n",
      "bagging, val_score: 0.975507:  90%|######### | 9/10 [00:01<00:00,  5.74it/s]"
     ]
    },
    {
     "name": "stdout",
     "output_type": "stream",
     "text": [
      "Training until validation scores don't improve for 100 rounds\n",
      "[50]\tvalid_0's auc: 0.961993\n",
      "[100]\tvalid_0's auc: 0.953547\n",
      "[150]\tvalid_0's auc: 0.967061\n",
      "[200]\tvalid_0's auc: 0.967905\n",
      "[250]\tvalid_0's auc: 0.961149\n",
      "Early stopping, best iteration is:\n",
      "[188]\tvalid_0's auc: 0.967905\n"
     ]
    },
    {
     "name": "stderr",
     "output_type": "stream",
     "text": [
      "bagging, val_score: 0.975507: 100%|##########| 10/10 [00:01<00:00,  5.70it/s][I 2020-09-26 21:00:43,705] Finished trial#36 with value: 0.9679054054054054 with parameters: {'bagging_fraction': 0.7371088174358282, 'bagging_freq': 7}. Best is trial#34 with value: 0.9755067567567568.\n",
      "bagging, val_score: 0.975507: 100%|##########| 10/10 [00:01<00:00,  5.85it/s]\n",
      "feature_fraction_stage2, val_score: 0.975507:   0%|          | 0/3 [00:00<?, ?it/s]"
     ]
    },
    {
     "name": "stdout",
     "output_type": "stream",
     "text": [
      "Training until validation scores don't improve for 100 rounds\n",
      "[50]\tvalid_0's auc: 0.967905\n",
      "[100]\tvalid_0's auc: 0.970439\n",
      "[150]\tvalid_0's auc: 0.964527\n",
      "Early stopping, best iteration is:\n",
      "[80]\tvalid_0's auc: 0.975507\n"
     ]
    },
    {
     "name": "stderr",
     "output_type": "stream",
     "text": [
      "feature_fraction_stage2, val_score: 0.975507:   0%|          | 0/3 [00:00<?, ?it/s][I 2020-09-26 21:00:43,869] Finished trial#37 with value: 0.9755067567567568 with parameters: {'feature_fraction': 0.9840000000000001}. Best is trial#37 with value: 0.9755067567567568.\n",
      "feature_fraction_stage2, val_score: 0.975507:  33%|###3      | 1/3 [00:00<00:00,  6.13it/s]"
     ]
    },
    {
     "name": "stdout",
     "output_type": "stream",
     "text": [
      "Training until validation scores don't improve for 100 rounds\n",
      "[50]\tvalid_0's auc: 0.967905\n",
      "[100]\tvalid_0's auc: 0.970439\n",
      "[150]\tvalid_0's auc: 0.964527\n",
      "Early stopping, best iteration is:\n",
      "[80]\tvalid_0's auc: 0.975507\n"
     ]
    },
    {
     "name": "stderr",
     "output_type": "stream",
     "text": [
      "feature_fraction_stage2, val_score: 0.975507:  67%|######6   | 2/3 [00:00<00:00,  8.70it/s][I 2020-09-26 21:00:44,029] Finished trial#38 with value: 0.9755067567567568 with parameters: {'feature_fraction': 0.9520000000000001}. Best is trial#37 with value: 0.9755067567567568.\n",
      "feature_fraction_stage2, val_score: 0.975507:  67%|######6   | 2/3 [00:00<00:00,  8.70it/s]"
     ]
    },
    {
     "name": "stdout",
     "output_type": "stream",
     "text": [
      "Training until validation scores don't improve for 100 rounds\n",
      "[50]\tvalid_0's auc: 0.965372\n",
      "[100]\tvalid_0's auc: 0.971284\n",
      "[150]\tvalid_0's auc: 0.970439\n",
      "[200]\tvalid_0's auc: 0.974662\n",
      "[250]\tvalid_0's auc: 0.974662\n",
      "[300]\tvalid_0's auc: 0.972973\n",
      "Early stopping, best iteration is:\n",
      "[232]\tvalid_0's auc: 0.976351\n"
     ]
    },
    {
     "name": "stderr",
     "output_type": "stream",
     "text": [
      "feature_fraction_stage2, val_score: 0.976351: 100%|##########| 3/3 [00:00<00:00,  7.01it/s][I 2020-09-26 21:00:44,243] Finished trial#39 with value: 0.9763513513513513 with parameters: {'feature_fraction': 0.92}. Best is trial#39 with value: 0.9763513513513513.\n",
      "feature_fraction_stage2, val_score: 0.976351: 100%|##########| 3/3 [00:00<00:00,  5.64it/s]\n",
      "regularization_factors, val_score: 0.976351:   0%|          | 0/20 [00:00<?, ?it/s]"
     ]
    },
    {
     "name": "stdout",
     "output_type": "stream",
     "text": [
      "Training until validation scores don't improve for 100 rounds\n",
      "[50]\tvalid_0's auc: 0.965372\n",
      "[100]\tvalid_0's auc: 0.971284\n",
      "[150]\tvalid_0's auc: 0.970439\n",
      "[200]\tvalid_0's auc: 0.974662\n",
      "[250]\tvalid_0's auc: 0.974662\n",
      "[300]\tvalid_0's auc: 0.972973\n",
      "Early stopping, best iteration is:\n",
      "[232]\tvalid_0's auc: 0.976351\n"
     ]
    },
    {
     "name": "stderr",
     "output_type": "stream",
     "text": [
      "regularization_factors, val_score: 0.976351:   5%|5         | 1/20 [00:00<00:02,  7.30it/s][I 2020-09-26 21:00:44,482] Finished trial#40 with value: 0.9763513513513513 with parameters: {'lambda_l1': 3.426942138340775e-08, 'lambda_l2': 1.3200344708151544e-08}. Best is trial#40 with value: 0.9763513513513513.\n",
      "regularization_factors, val_score: 0.976351:   5%|5         | 1/20 [00:00<00:02,  7.30it/s]"
     ]
    },
    {
     "name": "stdout",
     "output_type": "stream",
     "text": [
      "Training until validation scores don't improve for 100 rounds\n",
      "[50]\tvalid_0's auc: 0.965372\n",
      "[100]\tvalid_0's auc: 0.967905\n",
      "[150]\tvalid_0's auc: 0.965372\n",
      "Early stopping, best iteration is:\n",
      "[90]\tvalid_0's auc: 0.972128\n"
     ]
    },
    {
     "name": "stderr",
     "output_type": "stream",
     "text": [
      "regularization_factors, val_score: 0.976351:  10%|#         | 2/20 [00:00<00:02,  6.72it/s][I 2020-09-26 21:00:44,651] Finished trial#41 with value: 0.9721283783783784 with parameters: {'lambda_l1': 9.751895190552103e-08, 'lambda_l2': 7.578505561759091e-08}. Best is trial#40 with value: 0.9763513513513513.\n",
      "regularization_factors, val_score: 0.976351:  10%|#         | 2/20 [00:00<00:02,  6.72it/s]"
     ]
    },
    {
     "name": "stdout",
     "output_type": "stream",
     "text": [
      "Training until validation scores don't improve for 100 rounds\n",
      "[50]\tvalid_0's auc: 0.965372\n",
      "[100]\tvalid_0's auc: 0.971284\n",
      "[150]\tvalid_0's auc: 0.970439\n",
      "[200]\tvalid_0's auc: 0.974662\n",
      "[250]\tvalid_0's auc: 0.975507\n",
      "[300]\tvalid_0's auc: 0.972973\n",
      "Early stopping, best iteration is:\n",
      "[232]\tvalid_0's auc: 0.976351\n"
     ]
    },
    {
     "name": "stderr",
     "output_type": "stream",
     "text": [
      "regularization_factors, val_score: 0.976351:  15%|#5        | 3/20 [00:00<00:02,  5.93it/s][I 2020-09-26 21:00:44,859] Finished trial#42 with value: 0.9763513513513513 with parameters: {'lambda_l1': 0.0003700768956247538, 'lambda_l2': 0.0015693514022627987}. Best is trial#40 with value: 0.9763513513513513.\n",
      "regularization_factors, val_score: 0.976351:  15%|#5        | 3/20 [00:00<00:02,  5.93it/s]"
     ]
    },
    {
     "name": "stdout",
     "output_type": "stream",
     "text": [
      "Training until validation scores don't improve for 100 rounds\n",
      "[50]\tvalid_0's auc: 0.961993\n",
      "[100]\tvalid_0's auc: 0.962838\n",
      "[150]\tvalid_0's auc: 0.962838\n",
      "[200]\tvalid_0's auc: 0.973818\n",
      "[250]\tvalid_0's auc: 0.972973\n",
      "Early stopping, best iteration is:\n",
      "[190]\tvalid_0's auc: 0.973818\n"
     ]
    },
    {
     "name": "stderr",
     "output_type": "stream",
     "text": [
      "regularization_factors, val_score: 0.976351:  20%|##        | 4/20 [00:00<00:02,  5.72it/s][I 2020-09-26 21:00:45,058] Finished trial#43 with value: 0.9738175675675675 with parameters: {'lambda_l1': 0.1014054584950486, 'lambda_l2': 0.00038417552887022377}. Best is trial#40 with value: 0.9763513513513513.\n",
      "regularization_factors, val_score: 0.976351:  20%|##        | 4/20 [00:00<00:02,  5.72it/s]"
     ]
    },
    {
     "name": "stdout",
     "output_type": "stream",
     "text": [
      "Training until validation scores don't improve for 100 rounds\n",
      "[50]\tvalid_0's auc: 0.965372\n",
      "[100]\tvalid_0's auc: 0.967905\n",
      "[150]\tvalid_0's auc: 0.965372\n",
      "Early stopping, best iteration is:\n",
      "[90]\tvalid_0's auc: 0.972128\n"
     ]
    },
    {
     "name": "stderr",
     "output_type": "stream",
     "text": [
      "regularization_factors, val_score: 0.976351:  25%|##5       | 5/20 [00:00<00:02,  5.79it/s][I 2020-09-26 21:00:45,218] Finished trial#44 with value: 0.9721283783783784 with parameters: {'lambda_l1': 7.691828609105988e-05, 'lambda_l2': 0.0003570226899326311}. Best is trial#40 with value: 0.9763513513513513.\n",
      "regularization_factors, val_score: 0.976351:  25%|##5       | 5/20 [00:00<00:02,  5.79it/s]"
     ]
    },
    {
     "name": "stdout",
     "output_type": "stream",
     "text": [
      "Training until validation scores don't improve for 100 rounds\n",
      "[50]\tvalid_0's auc: 0.962838\n",
      "[100]\tvalid_0's auc: 0.964527\n",
      "[150]\tvalid_0's auc: 0.964527\n",
      "Early stopping, best iteration is:\n",
      "[81]\tvalid_0's auc: 0.971284\n"
     ]
    },
    {
     "name": "stderr",
     "output_type": "stream",
     "text": [
      "regularization_factors, val_score: 0.976351:  30%|###       | 6/20 [00:01<00:02,  6.04it/s][I 2020-09-26 21:00:45,376] Finished trial#45 with value: 0.9712837837837838 with parameters: {'lambda_l1': 0.7177885118745693, 'lambda_l2': 1.4538409330869056e-07}. Best is trial#40 with value: 0.9763513513513513.\n",
      "regularization_factors, val_score: 0.976351:  30%|###       | 6/20 [00:01<00:02,  6.04it/s]"
     ]
    },
    {
     "name": "stdout",
     "output_type": "stream",
     "text": [
      "Training until validation scores don't improve for 100 rounds\n",
      "[50]\tvalid_0's auc: 0.959459\n",
      "[100]\tvalid_0's auc: 0.962838\n",
      "[150]\tvalid_0's auc: 0.962838\n",
      "Early stopping, best iteration is:\n",
      "[78]\tvalid_0's auc: 0.965372\n"
     ]
    },
    {
     "name": "stderr",
     "output_type": "stream",
     "text": [
      "regularization_factors, val_score: 0.976351:  35%|###5      | 7/20 [00:01<00:02,  6.15it/s][I 2020-09-26 21:00:45,522] Finished trial#46 with value: 0.9653716216216216 with parameters: {'lambda_l1': 1.4584565697628694e-06, 'lambda_l2': 0.35436197598389746}. Best is trial#40 with value: 0.9763513513513513.\n",
      "regularization_factors, val_score: 0.976351:  35%|###5      | 7/20 [00:01<00:02,  6.15it/s]"
     ]
    },
    {
     "name": "stdout",
     "output_type": "stream",
     "text": [
      "Training until validation scores don't improve for 100 rounds\n",
      "[50]\tvalid_0's auc: 0.956081\n",
      "[100]\tvalid_0's auc: 0.959459\n",
      "Early stopping, best iteration is:\n",
      "[10]\tvalid_0's auc: 0.961993\n"
     ]
    },
    {
     "name": "stderr",
     "output_type": "stream",
     "text": [
      "regularization_factors, val_score: 0.976351:  40%|####      | 8/20 [00:01<00:01,  6.52it/s][I 2020-09-26 21:00:45,661] Finished trial#47 with value: 0.9619932432432432 with parameters: {'lambda_l1': 5.945119446194004e-07, 'lambda_l2': 3.749559945333465}. Best is trial#40 with value: 0.9763513513513513.\n",
      "regularization_factors, val_score: 0.976351:  40%|####      | 8/20 [00:01<00:01,  6.52it/s]"
     ]
    },
    {
     "name": "stdout",
     "output_type": "stream",
     "text": [
      "Training until validation scores don't improve for 100 rounds\n",
      "[50]\tvalid_0's auc: 0.965372\n",
      "[100]\tvalid_0's auc: 0.971284\n",
      "[150]\tvalid_0's auc: 0.970439\n",
      "[200]\tvalid_0's auc: 0.974662\n",
      "[250]\tvalid_0's auc: 0.975507\n",
      "[300]\tvalid_0's auc: 0.973818\n",
      "Early stopping, best iteration is:\n",
      "[232]\tvalid_0's auc: 0.976351\n"
     ]
    },
    {
     "name": "stderr",
     "output_type": "stream",
     "text": [
      "regularization_factors, val_score: 0.976351:  45%|####5     | 9/20 [00:01<00:01,  5.73it/s][I 2020-09-26 21:00:45,882] Finished trial#48 with value: 0.9763513513513513 with parameters: {'lambda_l1': 0.0007800277218391794, 'lambda_l2': 7.146831109978619e-05}. Best is trial#40 with value: 0.9763513513513513.\n",
      "regularization_factors, val_score: 0.976351:  45%|####5     | 9/20 [00:01<00:01,  5.73it/s]"
     ]
    },
    {
     "name": "stdout",
     "output_type": "stream",
     "text": [
      "Training until validation scores don't improve for 100 rounds\n",
      "[50]\tvalid_0's auc: 0.956926\n",
      "[100]\tvalid_0's auc: 0.954392\n",
      "Early stopping, best iteration is:\n",
      "[25]\tvalid_0's auc: 0.959459\n"
     ]
    },
    {
     "name": "stderr",
     "output_type": "stream",
     "text": [
      "regularization_factors, val_score: 0.976351:  50%|#####     | 10/20 [00:01<00:01,  6.19it/s][I 2020-09-26 21:00:46,011] Finished trial#49 with value: 0.9594594594594594 with parameters: {'lambda_l1': 3.2056185801870734, 'lambda_l2': 0.00012485911631669532}. Best is trial#40 with value: 0.9763513513513513.\n",
      "regularization_factors, val_score: 0.976351:  50%|#####     | 10/20 [00:01<00:01,  6.19it/s]"
     ]
    },
    {
     "name": "stdout",
     "output_type": "stream",
     "text": [
      "Training until validation scores don't improve for 100 rounds\n",
      "[50]\tvalid_0's auc: 0.965372\n",
      "[100]\tvalid_0's auc: 0.971284\n",
      "[150]\tvalid_0's auc: 0.970439\n",
      "[200]\tvalid_0's auc: 0.974662\n",
      "[250]\tvalid_0's auc: 0.974662\n",
      "[300]\tvalid_0's auc: 0.972973\n",
      "Early stopping, best iteration is:\n",
      "[232]\tvalid_0's auc: 0.976351\n"
     ]
    },
    {
     "name": "stderr",
     "output_type": "stream",
     "text": [
      "regularization_factors, val_score: 0.976351:  55%|#####5    | 11/20 [00:01<00:01,  5.47it/s][I 2020-09-26 21:00:46,248] Finished trial#50 with value: 0.9763513513513513 with parameters: {'lambda_l1': 1.6997794467841756e-08, 'lambda_l2': 1.7103652403767656e-06}. Best is trial#40 with value: 0.9763513513513513.\n",
      "regularization_factors, val_score: 0.976351:  55%|#####5    | 11/20 [00:02<00:01,  5.47it/s]"
     ]
    },
    {
     "name": "stdout",
     "output_type": "stream",
     "text": [
      "Training until validation scores don't improve for 100 rounds\n",
      "[50]\tvalid_0's auc: 0.963682\n",
      "[100]\tvalid_0's auc: 0.964527\n",
      "[150]\tvalid_0's auc: 0.967905\n",
      "[200]\tvalid_0's auc: 0.969595\n",
      "[250]\tvalid_0's auc: 0.973818\n",
      "[300]\tvalid_0's auc: 0.973818\n",
      "Early stopping, best iteration is:\n",
      "[213]\tvalid_0's auc: 0.974662\n"
     ]
    },
    {
     "name": "stderr",
     "output_type": "stream",
     "text": [
      "regularization_factors, val_score: 0.976351:  60%|######    | 12/20 [00:02<00:01,  5.13it/s][I 2020-09-26 21:00:46,467] Finished trial#51 with value: 0.9746621621621622 with parameters: {'lambda_l1': 0.0019319629698637231, 'lambda_l2': 0.024006610356632454}. Best is trial#40 with value: 0.9763513513513513.\n",
      "regularization_factors, val_score: 0.976351:  60%|######    | 12/20 [00:02<00:01,  5.13it/s]"
     ]
    },
    {
     "name": "stdout",
     "output_type": "stream",
     "text": [
      "Training until validation scores don't improve for 100 rounds\n",
      "[50]\tvalid_0's auc: 0.966216\n",
      "[100]\tvalid_0's auc: 0.970439\n",
      "[150]\tvalid_0's auc: 0.967905\n",
      "Early stopping, best iteration is:\n",
      "[90]\tvalid_0's auc: 0.972973\n"
     ]
    },
    {
     "name": "stderr",
     "output_type": "stream",
     "text": [
      "regularization_factors, val_score: 0.976351:  65%|######5   | 13/20 [00:02<00:01,  5.40it/s][I 2020-09-26 21:00:46,639] Finished trial#52 with value: 0.972972972972973 with parameters: {'lambda_l1': 1.824421110660541e-05, 'lambda_l2': 0.010853766637848561}. Best is trial#40 with value: 0.9763513513513513.\n",
      "regularization_factors, val_score: 0.976351:  65%|######5   | 13/20 [00:02<00:01,  5.40it/s]"
     ]
    },
    {
     "name": "stdout",
     "output_type": "stream",
     "text": [
      "Training until validation scores don't improve for 100 rounds\n",
      "[50]\tvalid_0's auc: 0.966216\n",
      "[100]\tvalid_0's auc: 0.967905\n",
      "[150]\tvalid_0's auc: 0.966216\n",
      "Early stopping, best iteration is:\n",
      "[90]\tvalid_0's auc: 0.970439\n"
     ]
    },
    {
     "name": "stderr",
     "output_type": "stream",
     "text": [
      "regularization_factors, val_score: 0.976351:  70%|#######   | 14/20 [00:02<00:01,  5.54it/s][I 2020-09-26 21:00:46,800] Finished trial#53 with value: 0.9704391891891891 with parameters: {'lambda_l1': 0.01199207033582421, 'lambda_l2': 3.107035756349832e-06}. Best is trial#40 with value: 0.9763513513513513.\n",
      "regularization_factors, val_score: 0.976351:  70%|#######   | 14/20 [00:02<00:01,  5.54it/s]"
     ]
    },
    {
     "name": "stdout",
     "output_type": "stream",
     "text": [
      "Training until validation scores don't improve for 100 rounds\n",
      "[50]\tvalid_0's auc: 0.965372\n",
      "[100]\tvalid_0's auc: 0.970439\n",
      "[150]\tvalid_0's auc: 0.967905\n",
      "Early stopping, best iteration is:\n",
      "[90]\tvalid_0's auc: 0.972973\n"
     ]
    },
    {
     "name": "stderr",
     "output_type": "stream",
     "text": [
      "regularization_factors, val_score: 0.976351:  75%|#######5  | 15/20 [00:02<00:00,  5.75it/s][I 2020-09-26 21:00:46,957] Finished trial#54 with value: 0.972972972972973 with parameters: {'lambda_l1': 1.639639246321757e-05, 'lambda_l2': 0.014326093950841905}. Best is trial#40 with value: 0.9763513513513513.\n",
      "regularization_factors, val_score: 0.976351:  75%|#######5  | 15/20 [00:02<00:00,  5.75it/s]"
     ]
    },
    {
     "name": "stdout",
     "output_type": "stream",
     "text": [
      "Training until validation scores don't improve for 100 rounds\n",
      "[50]\tvalid_0's auc: 0.967061\n",
      "[100]\tvalid_0's auc: 0.967905\n",
      "[150]\tvalid_0's auc: 0.964527\n",
      "[200]\tvalid_0's auc: 0.967061\n",
      "Early stopping, best iteration is:\n",
      "[107]\tvalid_0's auc: 0.971284\n"
     ]
    },
    {
     "name": "stderr",
     "output_type": "stream",
     "text": [
      "regularization_factors, val_score: 0.976351:  80%|########  | 16/20 [00:02<00:00,  5.77it/s][I 2020-09-26 21:00:47,140] Finished trial#55 with value: 0.9712837837837838 with parameters: {'lambda_l1': 0.015084455375780398, 'lambda_l2': 1.2974438756034945e-08}. Best is trial#40 with value: 0.9763513513513513.\n",
      "regularization_factors, val_score: 0.976351:  80%|########  | 16/20 [00:02<00:00,  5.77it/s]"
     ]
    },
    {
     "name": "stdout",
     "output_type": "stream",
     "text": [
      "Training until validation scores don't improve for 100 rounds\n",
      "[50]\tvalid_0's auc: 0.965372\n",
      "[100]\tvalid_0's auc: 0.971284\n",
      "[150]\tvalid_0's auc: 0.970439\n",
      "[200]\tvalid_0's auc: 0.974662\n",
      "[250]\tvalid_0's auc: 0.974662\n",
      "[300]\tvalid_0's auc: 0.972973\n",
      "Early stopping, best iteration is:\n",
      "[232]\tvalid_0's auc: 0.976351\n"
     ]
    },
    {
     "name": "stderr",
     "output_type": "stream",
     "text": [
      "regularization_factors, val_score: 0.976351:  85%|########5 | 17/20 [00:03<00:00,  5.43it/s][I 2020-09-26 21:00:47,337] Finished trial#56 with value: 0.9763513513513513 with parameters: {'lambda_l1': 2.4982681150921868e-06, 'lambda_l2': 8.458489301107885e-06}. Best is trial#40 with value: 0.9763513513513513.\n",
      "regularization_factors, val_score: 0.976351:  85%|########5 | 17/20 [00:03<00:00,  5.43it/s]"
     ]
    },
    {
     "name": "stdout",
     "output_type": "stream",
     "text": [
      "Training until validation scores don't improve for 100 rounds\n",
      "[50]\tvalid_0's auc: 0.965372\n",
      "[100]\tvalid_0's auc: 0.967905\n",
      "[150]\tvalid_0's auc: 0.965372\n",
      "Early stopping, best iteration is:\n",
      "[90]\tvalid_0's auc: 0.972128\n"
     ]
    },
    {
     "name": "stderr",
     "output_type": "stream",
     "text": [
      "regularization_factors, val_score: 0.976351:  90%|######### | 18/20 [00:03<00:00,  5.69it/s][I 2020-09-26 21:00:47,498] Finished trial#57 with value: 0.9721283783783784 with parameters: {'lambda_l1': 1.1906589383292689e-08, 'lambda_l2': 7.258570728549105e-07}. Best is trial#40 with value: 0.9763513513513513.\n",
      "regularization_factors, val_score: 0.976351:  90%|######### | 18/20 [00:03<00:00,  5.69it/s]"
     ]
    },
    {
     "name": "stdout",
     "output_type": "stream",
     "text": [
      "Training until validation scores don't improve for 100 rounds\n",
      "[50]\tvalid_0's auc: 0.965372\n",
      "[100]\tvalid_0's auc: 0.971284\n",
      "[150]\tvalid_0's auc: 0.970439\n",
      "[200]\tvalid_0's auc: 0.974662\n",
      "[250]\tvalid_0's auc: 0.974662\n",
      "[300]\tvalid_0's auc: 0.972973\n",
      "Early stopping, best iteration is:\n",
      "[232]\tvalid_0's auc: 0.976351\n"
     ]
    },
    {
     "name": "stderr",
     "output_type": "stream",
     "text": [
      "regularization_factors, val_score: 0.976351:  95%|#########5| 19/20 [00:03<00:00,  5.42it/s][I 2020-09-26 21:00:47,704] Finished trial#58 with value: 0.9763513513513513 with parameters: {'lambda_l1': 1.2952427092061906e-08, 'lambda_l2': 1.0618916610593857e-08}. Best is trial#40 with value: 0.9763513513513513.\n",
      "regularization_factors, val_score: 0.976351:  95%|#########5| 19/20 [00:03<00:00,  5.42it/s]"
     ]
    },
    {
     "name": "stdout",
     "output_type": "stream",
     "text": [
      "Training until validation scores don't improve for 100 rounds\n",
      "[50]\tvalid_0's auc: 0.965372\n",
      "[100]\tvalid_0's auc: 0.967905\n",
      "[150]\tvalid_0's auc: 0.965372\n",
      "Early stopping, best iteration is:\n",
      "[90]\tvalid_0's auc: 0.972128\n"
     ]
    },
    {
     "name": "stderr",
     "output_type": "stream",
     "text": [
      "regularization_factors, val_score: 0.976351: 100%|##########| 20/20 [00:03<00:00,  5.64it/s][I 2020-09-26 21:00:47,860] Finished trial#59 with value: 0.9721283783783784 with parameters: {'lambda_l1': 1.2179986246656507e-06, 'lambda_l2': 6.719319452222476e-06}. Best is trial#40 with value: 0.9763513513513513.\n",
      "regularization_factors, val_score: 0.976351: 100%|##########| 20/20 [00:03<00:00,  5.54it/s]\n",
      "min_data_in_leaf, val_score: 0.976351:   0%|          | 0/5 [00:00<?, ?it/s]"
     ]
    },
    {
     "name": "stdout",
     "output_type": "stream",
     "text": [
      "Training until validation scores don't improve for 100 rounds\n",
      "[50]\tvalid_0's auc: 0.971284\n",
      "[100]\tvalid_0's auc: 0.974662\n",
      "[150]\tvalid_0's auc: 0.972973\n",
      "Early stopping, best iteration is:\n",
      "[68]\tvalid_0's auc: 0.978885\n"
     ]
    },
    {
     "name": "stderr",
     "output_type": "stream",
     "text": [
      "min_data_in_leaf, val_score: 0.978885:  20%|##        | 1/5 [00:00<00:00,  7.63it/s][I 2020-09-26 21:00:48,091] Finished trial#60 with value: 0.9788851351351351 with parameters: {'min_child_samples': 5}. Best is trial#60 with value: 0.9788851351351351.\n",
      "min_data_in_leaf, val_score: 0.978885:  20%|##        | 1/5 [00:00<00:00,  7.63it/s]"
     ]
    },
    {
     "name": "stdout",
     "output_type": "stream",
     "text": [
      "Training until validation scores don't improve for 100 rounds\n",
      "[50]\tvalid_0's auc: 0.955236\n",
      "[100]\tvalid_0's auc: 0.953547\n",
      "Early stopping, best iteration is:\n",
      "[23]\tvalid_0's auc: 0.956926\n"
     ]
    },
    {
     "name": "stderr",
     "output_type": "stream",
     "text": [
      "min_data_in_leaf, val_score: 0.978885:  40%|####      | 2/5 [00:00<00:00,  7.45it/s][I 2020-09-26 21:00:48,236] Finished trial#61 with value: 0.9569256756756757 with parameters: {'min_child_samples': 25}. Best is trial#60 with value: 0.9788851351351351.\n",
      "min_data_in_leaf, val_score: 0.978885:  40%|####      | 2/5 [00:00<00:00,  7.45it/s]"
     ]
    },
    {
     "name": "stdout",
     "output_type": "stream",
     "text": [
      "Training until validation scores don't improve for 100 rounds\n",
      "[50]\tvalid_0's auc: 0.5\n",
      "[100]\tvalid_0's auc: 0.5\n",
      "Early stopping, best iteration is:\n",
      "[1]\tvalid_0's auc: 0.5\n"
     ]
    },
    {
     "name": "stderr",
     "output_type": "stream",
     "text": [
      "min_data_in_leaf, val_score: 0.978885:  60%|######    | 3/5 [00:00<00:00,  7.47it/s][I 2020-09-26 21:00:48,365] Finished trial#62 with value: 0.5 with parameters: {'min_child_samples': 100}. Best is trial#60 with value: 0.9788851351351351.\n",
      "min_data_in_leaf, val_score: 0.978885:  60%|######    | 3/5 [00:00<00:00,  7.47it/s]"
     ]
    },
    {
     "name": "stdout",
     "output_type": "stream",
     "text": [
      "Training until validation scores don't improve for 100 rounds\n",
      "[50]\tvalid_0's auc: 0.955236\n",
      "[100]\tvalid_0's auc: 0.964527\n",
      "[150]\tvalid_0's auc: 0.958615\n",
      "Early stopping, best iteration is:\n",
      "[68]\tvalid_0's auc: 0.969595\n"
     ]
    },
    {
     "name": "stderr",
     "output_type": "stream",
     "text": [
      "min_data_in_leaf, val_score: 0.978885:  80%|########  | 4/5 [00:00<00:00,  6.73it/s][I 2020-09-26 21:00:48,539] Finished trial#63 with value: 0.9695945945945946 with parameters: {'min_child_samples': 10}. Best is trial#60 with value: 0.9788851351351351.\n",
      "min_data_in_leaf, val_score: 0.978885:  80%|########  | 4/5 [00:00<00:00,  6.73it/s]"
     ]
    },
    {
     "name": "stdout",
     "output_type": "stream",
     "text": [
      "Training until validation scores don't improve for 100 rounds\n",
      "[50]\tvalid_0's auc: 0.920608\n",
      "[100]\tvalid_0's auc: 0.928209\n",
      "[150]\tvalid_0's auc: 0.923142\n",
      "Early stopping, best iteration is:\n",
      "[76]\tvalid_0's auc: 0.930743\n"
     ]
    },
    {
     "name": "stderr",
     "output_type": "stream",
     "text": [
      "min_data_in_leaf, val_score: 0.978885: 100%|##########| 5/5 [00:00<00:00,  6.81it/s][I 2020-09-26 21:00:48,681] Finished trial#64 with value: 0.9307432432432432 with parameters: {'min_child_samples': 50}. Best is trial#60 with value: 0.9788851351351351.\n",
      "min_data_in_leaf, val_score: 0.978885: 100%|##########| 5/5 [00:00<00:00,  6.12it/s]\n"
     ]
    }
   ],
   "source": [
    "# 60_100歳代データ\n",
    "model_lgb_60_100 = lgb.train(params, train_set_60_100, valid_sets=val_set_60_100,\n",
    "                  verbose_eval=50,  # 50イテレーション毎に学習結果出力\n",
    "                  num_boost_round=1000,  # 最大イテレーション回数指定\n",
    "                  early_stopping_rounds=100\n",
    "                 )"
   ]
  },
  {
   "cell_type": "code",
   "execution_count": 44,
   "metadata": {},
   "outputs": [],
   "source": [
    "# 0_30歳代データ\n",
    "val_prob_0_30 = model_lgb_0_30.predict(X_test_0_30, num_iteration=model_lgb_0_30.best_iteration)\n",
    "val_pred_0_30 = np.round(val_prob_0_30)"
   ]
  },
  {
   "cell_type": "code",
   "execution_count": 45,
   "metadata": {},
   "outputs": [
    {
     "name": "stdout",
     "output_type": "stream",
     "text": [
      "正解率: 0.8490566037735849\n",
      "適合率: 0.7894736842105263\n",
      "再現率: 0.7894736842105263\n",
      "f1_score: 0.7894736842105263\n"
     ]
    }
   ],
   "source": [
    "# 誤差\n",
    "print(f\"正解率: {accuracy_score(y_test_0_30, val_pred_0_30)}\")\n",
    "print(f\"適合率: {precision_score(y_test_0_30, val_pred_0_30)}\")\n",
    "print(f\"再現率: {recall_score(y_test_0_30, val_pred_0_30)}\")\n",
    "print(f\"f1_score: {f1_score(y_test_0_30, val_pred_0_30)}\")"
   ]
  },
  {
   "cell_type": "code",
   "execution_count": 46,
   "metadata": {},
   "outputs": [],
   "source": [
    "# 30_45歳代データ\n",
    "val_prob_30_45 = model_lgb_30_45.predict(X_test_30_45, num_iteration=model_lgb_30_45.best_iteration)\n",
    "val_pred_30_45 = np.round(val_prob_30_45)"
   ]
  },
  {
   "cell_type": "code",
   "execution_count": 47,
   "metadata": {},
   "outputs": [
    {
     "name": "stdout",
     "output_type": "stream",
     "text": [
      "正解率: 0.5645161290322581\n",
      "適合率: 1.0\n",
      "再現率: 0.18181818181818182\n",
      "f1_score: 0.3076923076923077\n"
     ]
    }
   ],
   "source": [
    "# 誤差\n",
    "print(f\"正解率: {accuracy_score(y_test_30_45, val_pred_30_45)}\")\n",
    "print(f\"適合率: {precision_score(y_test_30_45, val_pred_30_45)}\")\n",
    "print(f\"再現率: {recall_score(y_test_30_45, val_pred_30_45)}\")\n",
    "print(f\"f1_score: {f1_score(y_test_30_45, val_pred_30_45)}\")"
   ]
  },
  {
   "cell_type": "code",
   "execution_count": 48,
   "metadata": {},
   "outputs": [],
   "source": [
    "# 45_60歳代データ\n",
    "val_prob_45_60 = model_lgb_45_60.predict(X_test_45_60, num_iteration=model_lgb_45_60.best_iteration)\n",
    "val_pred_45_60 = np.round(val_prob_45_60)"
   ]
  },
  {
   "cell_type": "code",
   "execution_count": 49,
   "metadata": {},
   "outputs": [
    {
     "name": "stdout",
     "output_type": "stream",
     "text": [
      "正解率: 0.8676470588235294\n",
      "適合率: 0.8\n",
      "再現率: 0.8888888888888888\n",
      "f1_score: 0.8421052631578948\n"
     ]
    }
   ],
   "source": [
    "# 誤差\n",
    "print(f\"正解率: {accuracy_score(y_test_45_60, val_pred_45_60)}\")\n",
    "print(f\"適合率: {precision_score(y_test_45_60, val_pred_45_60)}\")\n",
    "print(f\"再現率: {recall_score(y_test_45_60, val_pred_45_60)}\")\n",
    "print(f\"f1_score: {f1_score(y_test_45_60, val_pred_45_60)}\")"
   ]
  },
  {
   "cell_type": "code",
   "execution_count": 50,
   "metadata": {},
   "outputs": [],
   "source": [
    "# 60_100歳代データ\n",
    "val_prob_60_100 = model_lgb_60_100.predict(X_test_60_100, num_iteration=model_lgb_60_100.best_iteration)\n",
    "val_pred_60_100 = np.round(val_prob_60_100)"
   ]
  },
  {
   "cell_type": "code",
   "execution_count": 51,
   "metadata": {},
   "outputs": [
    {
     "name": "stdout",
     "output_type": "stream",
     "text": [
      "正解率: 0.8840579710144928\n",
      "適合率: 0.967741935483871\n",
      "再現率: 0.8108108108108109\n",
      "f1_score: 0.8823529411764706\n"
     ]
    }
   ],
   "source": [
    "# 誤差\n",
    "print(f\"正解率: {accuracy_score(y_test_60_100, val_pred_60_100)}\")\n",
    "print(f\"適合率: {precision_score(y_test_60_100, val_pred_60_100)}\")\n",
    "print(f\"再現率: {recall_score(y_test_60_100, val_pred_60_100)}\")\n",
    "print(f\"f1_score: {f1_score(y_test_60_100, val_pred_60_100)}\")"
   ]
  },
  {
   "cell_type": "code",
   "execution_count": null,
   "metadata": {},
   "outputs": [],
   "source": [
    "dgwre"
   ]
  },
  {
   "cell_type": "code",
   "execution_count": 52,
   "metadata": {},
   "outputs": [],
   "source": [
    "# 0_30歳代データ\n",
    "y_prob_0_30 = model_lgb_0_30.predict(test_0_30[features], num_iteration=model_lgb_0_30.best_iteration)\n",
    "y_pred_0_30 = np.round(y_prob_0_30)"
   ]
  },
  {
   "cell_type": "code",
   "execution_count": 53,
   "metadata": {},
   "outputs": [],
   "source": [
    "# 30_45歳代データ\n",
    "y_prob_30_45 = model_lgb_30_45.predict(test_30_45[features], num_iteration=model_lgb_30_45.best_iteration)\n",
    "y_pred_30_45 = np.round(y_prob_30_45)"
   ]
  },
  {
   "cell_type": "code",
   "execution_count": 54,
   "metadata": {},
   "outputs": [],
   "source": [
    "# 45_60歳代データ\n",
    "y_prob_45_60 = model_lgb_45_60.predict(test_45_60[features], num_iteration=model_lgb_45_60.best_iteration)\n",
    "y_pred_45_60 = np.round(y_prob_45_60)"
   ]
  },
  {
   "cell_type": "code",
   "execution_count": 55,
   "metadata": {},
   "outputs": [],
   "source": [
    "# 60_100歳代データ\n",
    "y_prob_60_100 = model_lgb_60_100.predict(test_60_100[features], num_iteration=model_lgb_60_100.best_iteration)\n",
    "y_pred_60_100 = np.round(y_prob_60_100)"
   ]
  },
  {
   "cell_type": "code",
   "execution_count": 56,
   "metadata": {},
   "outputs": [],
   "source": [
    "# 統合\n",
    "test_0_30[\"disease\"] = y_pred_0_30\n",
    "test_30_45[\"disease\"] = y_pred_30_45\n",
    "test_45_60[\"disease\"] = y_pred_45_60\n",
    "test_60_100[\"disease\"] = y_pred_60_100"
   ]
  },
  {
   "cell_type": "code",
   "execution_count": 57,
   "metadata": {},
   "outputs": [],
   "source": [
    "test_pred = pd.concat([test_0_30, test_30_45 ,test_45_60 ,test_60_100]).sort_values('No')"
   ]
  },
  {
   "cell_type": "code",
   "execution_count": 58,
   "metadata": {},
   "outputs": [],
   "source": [
    "y_pred = test_pred[\"disease\"]"
   ]
  },
  {
   "cell_type": "markdown",
   "metadata": {},
   "source": [
    "### データ出力"
   ]
  },
  {
   "cell_type": "code",
   "execution_count": 59,
   "metadata": {},
   "outputs": [],
   "source": [
    "ss = pd.read_csv('sample_submit.csv', header=None)"
   ]
  },
  {
   "cell_type": "code",
   "execution_count": 60,
   "metadata": {},
   "outputs": [],
   "source": [
    "ss[1] = y_pred\n",
    "ss.to_csv(\"lgb_submission.csv\", index=0, header=None)"
   ]
  }
 ],
 "metadata": {
  "kernelspec": {
   "display_name": "Python 3",
   "language": "python",
   "name": "python3"
  },
  "language_info": {
   "codemirror_mode": {
    "name": "ipython",
    "version": 3
   },
   "file_extension": ".py",
   "mimetype": "text/x-python",
   "name": "python",
   "nbconvert_exporter": "python",
   "pygments_lexer": "ipython3",
   "version": "3.7.7"
  }
 },
 "nbformat": 4,
 "nbformat_minor": 4
}
