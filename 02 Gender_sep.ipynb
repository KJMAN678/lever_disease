{
 "cells": [
  {
   "cell_type": "code",
   "execution_count": 1,
   "metadata": {},
   "outputs": [],
   "source": [
    "import pandas as pd\n",
    "import os\n",
    "import gc\n",
    "import numpy as np\n",
    "import matplotlib.pyplot as plt\n",
    "import seaborn as sns\n",
    "\n",
    "from sklearn import preprocessing\n",
    "\n",
    "from sklearn.model_selection import train_test_split\n",
    "\n",
    "import optuna.integration.lightgbm as lgb\n",
    "\n",
    "from IPython.display import display\n",
    "\n",
    "# 正解率\n",
    "from sklearn.metrics import accuracy_score\n",
    "\n",
    "# 適合率\n",
    "from sklearn.metrics import precision_score\n",
    "\n",
    "# 再現率\n",
    "from sklearn.metrics import recall_score\n",
    "\n",
    "# f1_score\n",
    "from sklearn.metrics import f1_score\n",
    "\n",
    "import warnings\n",
    "warnings.filterwarnings('ignore')\n",
    "\n",
    "# DataFrameの表示数を変更\n",
    "pd.set_option('max_columns', 500)\n",
    "pd.set_option('max_rows', 500)\n",
    "\n",
    "from sklearn.decomposition import PCA"
   ]
  },
  {
   "cell_type": "code",
   "execution_count": 2,
   "metadata": {},
   "outputs": [],
   "source": [
    "train = pd.read_csv('train.csv')\n",
    "test = pd.read_csv('test.csv')"
   ]
  },
  {
   "cell_type": "code",
   "execution_count": 3,
   "metadata": {},
   "outputs": [
    {
     "data": {
      "text/html": [
       "<div>\n",
       "<style scoped>\n",
       "    .dataframe tbody tr th:only-of-type {\n",
       "        vertical-align: middle;\n",
       "    }\n",
       "\n",
       "    .dataframe tbody tr th {\n",
       "        vertical-align: top;\n",
       "    }\n",
       "\n",
       "    .dataframe thead th {\n",
       "        text-align: right;\n",
       "    }\n",
       "</style>\n",
       "<table border=\"1\" class=\"dataframe\">\n",
       "  <thead>\n",
       "    <tr style=\"text-align: right;\">\n",
       "      <th></th>\n",
       "      <th>Age</th>\n",
       "      <th>Gender</th>\n",
       "      <th>T_Bil</th>\n",
       "      <th>D_Bil</th>\n",
       "      <th>ALP</th>\n",
       "      <th>ALT_GPT</th>\n",
       "      <th>AST_GOT</th>\n",
       "      <th>TP</th>\n",
       "      <th>Alb</th>\n",
       "      <th>AG_ratio</th>\n",
       "      <th>disease</th>\n",
       "    </tr>\n",
       "  </thead>\n",
       "  <tbody>\n",
       "    <tr>\n",
       "      <th>0</th>\n",
       "      <td>59</td>\n",
       "      <td>Male</td>\n",
       "      <td>0.786886</td>\n",
       "      <td>0.150498</td>\n",
       "      <td>220.178691</td>\n",
       "      <td>13.467617</td>\n",
       "      <td>21.729246</td>\n",
       "      <td>6.815731</td>\n",
       "      <td>3.112276</td>\n",
       "      <td>1.006802</td>\n",
       "      <td>0</td>\n",
       "    </tr>\n",
       "    <tr>\n",
       "      <th>1</th>\n",
       "      <td>69</td>\n",
       "      <td>Male</td>\n",
       "      <td>1.003987</td>\n",
       "      <td>0.195625</td>\n",
       "      <td>221.218413</td>\n",
       "      <td>51.033462</td>\n",
       "      <td>64.752323</td>\n",
       "      <td>6.889608</td>\n",
       "      <td>3.051521</td>\n",
       "      <td>0.751346</td>\n",
       "      <td>1</td>\n",
       "    </tr>\n",
       "    <tr>\n",
       "      <th>2</th>\n",
       "      <td>65</td>\n",
       "      <td>Male</td>\n",
       "      <td>0.657140</td>\n",
       "      <td>0.081287</td>\n",
       "      <td>320.770533</td>\n",
       "      <td>12.625011</td>\n",
       "      <td>30.613180</td>\n",
       "      <td>5.947767</td>\n",
       "      <td>2.489167</td>\n",
       "      <td>0.774952</td>\n",
       "      <td>0</td>\n",
       "    </tr>\n",
       "  </tbody>\n",
       "</table>\n",
       "</div>"
      ],
      "text/plain": [
       "   Age Gender     T_Bil     D_Bil         ALP    ALT_GPT    AST_GOT        TP  \\\n",
       "0   59   Male  0.786886  0.150498  220.178691  13.467617  21.729246  6.815731   \n",
       "1   69   Male  1.003987  0.195625  221.218413  51.033462  64.752323  6.889608   \n",
       "2   65   Male  0.657140  0.081287  320.770533  12.625011  30.613180  5.947767   \n",
       "\n",
       "        Alb  AG_ratio  disease  \n",
       "0  3.112276  1.006802        0  \n",
       "1  3.051521  0.751346        1  \n",
       "2  2.489167  0.774952        0  "
      ]
     },
     "metadata": {},
     "output_type": "display_data"
    },
    {
     "data": {
      "text/html": [
       "<div>\n",
       "<style scoped>\n",
       "    .dataframe tbody tr th:only-of-type {\n",
       "        vertical-align: middle;\n",
       "    }\n",
       "\n",
       "    .dataframe tbody tr th {\n",
       "        vertical-align: top;\n",
       "    }\n",
       "\n",
       "    .dataframe thead th {\n",
       "        text-align: right;\n",
       "    }\n",
       "</style>\n",
       "<table border=\"1\" class=\"dataframe\">\n",
       "  <thead>\n",
       "    <tr style=\"text-align: right;\">\n",
       "      <th></th>\n",
       "      <th>Age</th>\n",
       "      <th>Gender</th>\n",
       "      <th>T_Bil</th>\n",
       "      <th>D_Bil</th>\n",
       "      <th>ALP</th>\n",
       "      <th>ALT_GPT</th>\n",
       "      <th>AST_GOT</th>\n",
       "      <th>TP</th>\n",
       "      <th>Alb</th>\n",
       "      <th>AG_ratio</th>\n",
       "      <th>disease</th>\n",
       "    </tr>\n",
       "  </thead>\n",
       "  <tbody>\n",
       "    <tr>\n",
       "      <th>847</th>\n",
       "      <td>50</td>\n",
       "      <td>Male</td>\n",
       "      <td>0.826785</td>\n",
       "      <td>0.138898</td>\n",
       "      <td>230.340081</td>\n",
       "      <td>40.495102</td>\n",
       "      <td>49.620857</td>\n",
       "      <td>7.529840</td>\n",
       "      <td>3.724408</td>\n",
       "      <td>0.987033</td>\n",
       "      <td>1</td>\n",
       "    </tr>\n",
       "    <tr>\n",
       "      <th>848</th>\n",
       "      <td>32</td>\n",
       "      <td>Female</td>\n",
       "      <td>0.761972</td>\n",
       "      <td>0.137969</td>\n",
       "      <td>214.170393</td>\n",
       "      <td>18.048321</td>\n",
       "      <td>54.447774</td>\n",
       "      <td>5.944855</td>\n",
       "      <td>3.150978</td>\n",
       "      <td>1.220787</td>\n",
       "      <td>0</td>\n",
       "    </tr>\n",
       "    <tr>\n",
       "      <th>849</th>\n",
       "      <td>64</td>\n",
       "      <td>Male</td>\n",
       "      <td>0.762713</td>\n",
       "      <td>0.218435</td>\n",
       "      <td>214.720510</td>\n",
       "      <td>15.885571</td>\n",
       "      <td>24.789606</td>\n",
       "      <td>6.768439</td>\n",
       "      <td>3.686097</td>\n",
       "      <td>1.309895</td>\n",
       "      <td>0</td>\n",
       "    </tr>\n",
       "  </tbody>\n",
       "</table>\n",
       "</div>"
      ],
      "text/plain": [
       "     Age  Gender     T_Bil     D_Bil         ALP    ALT_GPT    AST_GOT  \\\n",
       "847   50    Male  0.826785  0.138898  230.340081  40.495102  49.620857   \n",
       "848   32  Female  0.761972  0.137969  214.170393  18.048321  54.447774   \n",
       "849   64    Male  0.762713  0.218435  214.720510  15.885571  24.789606   \n",
       "\n",
       "           TP       Alb  AG_ratio  disease  \n",
       "847  7.529840  3.724408  0.987033        1  \n",
       "848  5.944855  3.150978  1.220787        0  \n",
       "849  6.768439  3.686097  1.309895        0  "
      ]
     },
     "metadata": {},
     "output_type": "display_data"
    },
    {
     "data": {
      "text/plain": [
       "(850, 11)"
      ]
     },
     "metadata": {},
     "output_type": "display_data"
    },
    {
     "data": {
      "text/plain": [
       "Age           int64\n",
       "Gender       object\n",
       "T_Bil       float64\n",
       "D_Bil       float64\n",
       "ALP         float64\n",
       "ALT_GPT     float64\n",
       "AST_GOT     float64\n",
       "TP          float64\n",
       "Alb         float64\n",
       "AG_ratio    float64\n",
       "disease       int64\n",
       "dtype: object"
      ]
     },
     "metadata": {},
     "output_type": "display_data"
    }
   ],
   "source": [
    "display(train.head(3))\n",
    "display(train.tail(3))\n",
    "display(train.shape)\n",
    "display(train.dtypes)"
   ]
  },
  {
   "cell_type": "code",
   "execution_count": 4,
   "metadata": {},
   "outputs": [
    {
     "data": {
      "text/html": [
       "<div>\n",
       "<style scoped>\n",
       "    .dataframe tbody tr th:only-of-type {\n",
       "        vertical-align: middle;\n",
       "    }\n",
       "\n",
       "    .dataframe tbody tr th {\n",
       "        vertical-align: top;\n",
       "    }\n",
       "\n",
       "    .dataframe thead th {\n",
       "        text-align: right;\n",
       "    }\n",
       "</style>\n",
       "<table border=\"1\" class=\"dataframe\">\n",
       "  <thead>\n",
       "    <tr style=\"text-align: right;\">\n",
       "      <th></th>\n",
       "      <th>Age</th>\n",
       "      <th>Gender</th>\n",
       "      <th>T_Bil</th>\n",
       "      <th>D_Bil</th>\n",
       "      <th>ALP</th>\n",
       "      <th>ALT_GPT</th>\n",
       "      <th>AST_GOT</th>\n",
       "      <th>TP</th>\n",
       "      <th>Alb</th>\n",
       "      <th>AG_ratio</th>\n",
       "    </tr>\n",
       "  </thead>\n",
       "  <tbody>\n",
       "    <tr>\n",
       "      <th>0</th>\n",
       "      <td>25</td>\n",
       "      <td>Male</td>\n",
       "      <td>0.801797</td>\n",
       "      <td>0.186800</td>\n",
       "      <td>214.448679</td>\n",
       "      <td>15.260516</td>\n",
       "      <td>19.496649</td>\n",
       "      <td>6.817903</td>\n",
       "      <td>3.600752</td>\n",
       "      <td>1.288006</td>\n",
       "    </tr>\n",
       "    <tr>\n",
       "      <th>1</th>\n",
       "      <td>26</td>\n",
       "      <td>Female</td>\n",
       "      <td>0.834857</td>\n",
       "      <td>0.116426</td>\n",
       "      <td>234.136816</td>\n",
       "      <td>10.509159</td>\n",
       "      <td>16.733312</td>\n",
       "      <td>6.795433</td>\n",
       "      <td>3.111043</td>\n",
       "      <td>1.030562</td>\n",
       "    </tr>\n",
       "    <tr>\n",
       "      <th>2</th>\n",
       "      <td>64</td>\n",
       "      <td>Male</td>\n",
       "      <td>0.791830</td>\n",
       "      <td>0.197940</td>\n",
       "      <td>216.039909</td>\n",
       "      <td>14.578304</td>\n",
       "      <td>20.695866</td>\n",
       "      <td>7.524030</td>\n",
       "      <td>3.627621</td>\n",
       "      <td>1.278579</td>\n",
       "    </tr>\n",
       "  </tbody>\n",
       "</table>\n",
       "</div>"
      ],
      "text/plain": [
       "   Age  Gender     T_Bil     D_Bil         ALP    ALT_GPT    AST_GOT  \\\n",
       "0   25    Male  0.801797  0.186800  214.448679  15.260516  19.496649   \n",
       "1   26  Female  0.834857  0.116426  234.136816  10.509159  16.733312   \n",
       "2   64    Male  0.791830  0.197940  216.039909  14.578304  20.695866   \n",
       "\n",
       "         TP       Alb  AG_ratio  \n",
       "0  6.817903  3.600752  1.288006  \n",
       "1  6.795433  3.111043  1.030562  \n",
       "2  7.524030  3.627621  1.278579  "
      ]
     },
     "metadata": {},
     "output_type": "display_data"
    },
    {
     "data": {
      "text/html": [
       "<div>\n",
       "<style scoped>\n",
       "    .dataframe tbody tr th:only-of-type {\n",
       "        vertical-align: middle;\n",
       "    }\n",
       "\n",
       "    .dataframe tbody tr th {\n",
       "        vertical-align: top;\n",
       "    }\n",
       "\n",
       "    .dataframe thead th {\n",
       "        text-align: right;\n",
       "    }\n",
       "</style>\n",
       "<table border=\"1\" class=\"dataframe\">\n",
       "  <thead>\n",
       "    <tr style=\"text-align: right;\">\n",
       "      <th></th>\n",
       "      <th>Age</th>\n",
       "      <th>Gender</th>\n",
       "      <th>T_Bil</th>\n",
       "      <th>D_Bil</th>\n",
       "      <th>ALP</th>\n",
       "      <th>ALT_GPT</th>\n",
       "      <th>AST_GOT</th>\n",
       "      <th>TP</th>\n",
       "      <th>Alb</th>\n",
       "      <th>AG_ratio</th>\n",
       "    </tr>\n",
       "  </thead>\n",
       "  <tbody>\n",
       "    <tr>\n",
       "      <th>347</th>\n",
       "      <td>25</td>\n",
       "      <td>Male</td>\n",
       "      <td>0.787054</td>\n",
       "      <td>0.186129</td>\n",
       "      <td>214.167523</td>\n",
       "      <td>14.936585</td>\n",
       "      <td>20.589993</td>\n",
       "      <td>7.505128</td>\n",
       "      <td>3.619033</td>\n",
       "      <td>1.287256</td>\n",
       "    </tr>\n",
       "    <tr>\n",
       "      <th>348</th>\n",
       "      <td>64</td>\n",
       "      <td>Male</td>\n",
       "      <td>0.725194</td>\n",
       "      <td>0.191307</td>\n",
       "      <td>220.272862</td>\n",
       "      <td>17.532595</td>\n",
       "      <td>48.115014</td>\n",
       "      <td>7.559414</td>\n",
       "      <td>3.635871</td>\n",
       "      <td>1.263348</td>\n",
       "    </tr>\n",
       "    <tr>\n",
       "      <th>349</th>\n",
       "      <td>57</td>\n",
       "      <td>Male</td>\n",
       "      <td>0.869632</td>\n",
       "      <td>0.236444</td>\n",
       "      <td>367.364415</td>\n",
       "      <td>23.534291</td>\n",
       "      <td>48.729618</td>\n",
       "      <td>7.537565</td>\n",
       "      <td>3.629533</td>\n",
       "      <td>1.285716</td>\n",
       "    </tr>\n",
       "  </tbody>\n",
       "</table>\n",
       "</div>"
      ],
      "text/plain": [
       "     Age Gender     T_Bil     D_Bil         ALP    ALT_GPT    AST_GOT  \\\n",
       "347   25   Male  0.787054  0.186129  214.167523  14.936585  20.589993   \n",
       "348   64   Male  0.725194  0.191307  220.272862  17.532595  48.115014   \n",
       "349   57   Male  0.869632  0.236444  367.364415  23.534291  48.729618   \n",
       "\n",
       "           TP       Alb  AG_ratio  \n",
       "347  7.505128  3.619033  1.287256  \n",
       "348  7.559414  3.635871  1.263348  \n",
       "349  7.537565  3.629533  1.285716  "
      ]
     },
     "metadata": {},
     "output_type": "display_data"
    },
    {
     "data": {
      "text/plain": [
       "(350, 10)"
      ]
     },
     "metadata": {},
     "output_type": "display_data"
    },
    {
     "data": {
      "text/plain": [
       "Age           int64\n",
       "Gender       object\n",
       "T_Bil       float64\n",
       "D_Bil       float64\n",
       "ALP         float64\n",
       "ALT_GPT     float64\n",
       "AST_GOT     float64\n",
       "TP          float64\n",
       "Alb         float64\n",
       "AG_ratio    float64\n",
       "dtype: object"
      ]
     },
     "metadata": {},
     "output_type": "display_data"
    }
   ],
   "source": [
    "display(test.head(3))\n",
    "display(test.tail(3))\n",
    "display(test.shape)\n",
    "display(test.dtypes)"
   ]
  },
  {
   "cell_type": "markdown",
   "metadata": {},
   "source": [
    "0\tid\tint\tインデックスとして使用  \n",
    "1\tAge\tint\t年齢  \n",
    "2\tGender\tchar\t性別  \n",
    "3\tT_Bil\tfloat\t検査項目1： 総ビリルビン (Total Bilirubin)  \n",
    "4\tD_Bil\tfloat\t検査項目2： 直接ビリルビン (Direct Bilirubin)  \n",
    "5\tALP\tfloat\t検査項目3： アルカリフォスファター ゼ (Alkaline Phosphotase)  \n",
    "6\tALT_GPT\tfloat\t検査項目4： アラニンアミノトランスフェラーゼ (Alanine Transaminase)  \n",
    "7\tAST_GOT\tfloat\t検査項目5： アスパラギン酸アミノトランスフェラーゼ (Aspartate Aminotransferase)  \n",
    "8\tTP\tfloat\t検査項目6： 総タンパク (Total Protiens)  \n",
    "9\tAlb\tfloat\t検査項目7： アルブミン (Albumin)  \n",
    "10\tAG_ratio\tfloat\t検査項目8： アルブミン/グロブリン比  \n",
    "11\tdisease\tint\t肝疾患の有無（0:無, 1:有）  "
   ]
  },
  {
   "cell_type": "code",
   "execution_count": 5,
   "metadata": {},
   "outputs": [
    {
     "data": {
      "text/html": [
       "<div>\n",
       "<style scoped>\n",
       "    .dataframe tbody tr th:only-of-type {\n",
       "        vertical-align: middle;\n",
       "    }\n",
       "\n",
       "    .dataframe tbody tr th {\n",
       "        vertical-align: top;\n",
       "    }\n",
       "\n",
       "    .dataframe thead th {\n",
       "        text-align: right;\n",
       "    }\n",
       "</style>\n",
       "<table border=\"1\" class=\"dataframe\">\n",
       "  <thead>\n",
       "    <tr style=\"text-align: right;\">\n",
       "      <th></th>\n",
       "      <th>Age</th>\n",
       "      <th>T_Bil</th>\n",
       "      <th>D_Bil</th>\n",
       "      <th>ALP</th>\n",
       "      <th>ALT_GPT</th>\n",
       "      <th>AST_GOT</th>\n",
       "      <th>TP</th>\n",
       "      <th>Alb</th>\n",
       "      <th>AG_ratio</th>\n",
       "      <th>disease</th>\n",
       "    </tr>\n",
       "  </thead>\n",
       "  <tbody>\n",
       "    <tr>\n",
       "      <th>Age</th>\n",
       "      <td>1.000000</td>\n",
       "      <td>-0.001248</td>\n",
       "      <td>-0.014136</td>\n",
       "      <td>-0.023907</td>\n",
       "      <td>-0.037906</td>\n",
       "      <td>-0.008589</td>\n",
       "      <td>-0.037754</td>\n",
       "      <td>-0.087120</td>\n",
       "      <td>-0.033220</td>\n",
       "      <td>0.024216</td>\n",
       "    </tr>\n",
       "    <tr>\n",
       "      <th>T_Bil</th>\n",
       "      <td>-0.001248</td>\n",
       "      <td>1.000000</td>\n",
       "      <td>0.753227</td>\n",
       "      <td>0.148064</td>\n",
       "      <td>0.219784</td>\n",
       "      <td>0.248709</td>\n",
       "      <td>-0.060230</td>\n",
       "      <td>-0.162017</td>\n",
       "      <td>-0.206122</td>\n",
       "      <td>0.357653</td>\n",
       "    </tr>\n",
       "    <tr>\n",
       "      <th>D_Bil</th>\n",
       "      <td>-0.014136</td>\n",
       "      <td>0.753227</td>\n",
       "      <td>1.000000</td>\n",
       "      <td>0.091924</td>\n",
       "      <td>0.184403</td>\n",
       "      <td>0.201485</td>\n",
       "      <td>0.017750</td>\n",
       "      <td>-0.089132</td>\n",
       "      <td>-0.121481</td>\n",
       "      <td>0.282316</td>\n",
       "    </tr>\n",
       "    <tr>\n",
       "      <th>ALP</th>\n",
       "      <td>-0.023907</td>\n",
       "      <td>0.148064</td>\n",
       "      <td>0.091924</td>\n",
       "      <td>1.000000</td>\n",
       "      <td>-0.021187</td>\n",
       "      <td>0.019047</td>\n",
       "      <td>0.025728</td>\n",
       "      <td>-0.023041</td>\n",
       "      <td>-0.159614</td>\n",
       "      <td>0.211950</td>\n",
       "    </tr>\n",
       "    <tr>\n",
       "      <th>ALT_GPT</th>\n",
       "      <td>-0.037906</td>\n",
       "      <td>0.219784</td>\n",
       "      <td>0.184403</td>\n",
       "      <td>-0.021187</td>\n",
       "      <td>1.000000</td>\n",
       "      <td>0.655518</td>\n",
       "      <td>-0.100572</td>\n",
       "      <td>-0.087652</td>\n",
       "      <td>0.005806</td>\n",
       "      <td>0.199239</td>\n",
       "    </tr>\n",
       "    <tr>\n",
       "      <th>AST_GOT</th>\n",
       "      <td>-0.008589</td>\n",
       "      <td>0.248709</td>\n",
       "      <td>0.201485</td>\n",
       "      <td>0.019047</td>\n",
       "      <td>0.655518</td>\n",
       "      <td>1.000000</td>\n",
       "      <td>-0.071592</td>\n",
       "      <td>-0.086669</td>\n",
       "      <td>-0.022277</td>\n",
       "      <td>0.316456</td>\n",
       "    </tr>\n",
       "    <tr>\n",
       "      <th>TP</th>\n",
       "      <td>-0.037754</td>\n",
       "      <td>-0.060230</td>\n",
       "      <td>0.017750</td>\n",
       "      <td>0.025728</td>\n",
       "      <td>-0.100572</td>\n",
       "      <td>-0.071592</td>\n",
       "      <td>1.000000</td>\n",
       "      <td>0.727319</td>\n",
       "      <td>0.270246</td>\n",
       "      <td>-0.073766</td>\n",
       "    </tr>\n",
       "    <tr>\n",
       "      <th>Alb</th>\n",
       "      <td>-0.087120</td>\n",
       "      <td>-0.162017</td>\n",
       "      <td>-0.089132</td>\n",
       "      <td>-0.023041</td>\n",
       "      <td>-0.087652</td>\n",
       "      <td>-0.086669</td>\n",
       "      <td>0.727319</td>\n",
       "      <td>1.000000</td>\n",
       "      <td>0.607400</td>\n",
       "      <td>-0.176602</td>\n",
       "    </tr>\n",
       "    <tr>\n",
       "      <th>AG_ratio</th>\n",
       "      <td>-0.033220</td>\n",
       "      <td>-0.206122</td>\n",
       "      <td>-0.121481</td>\n",
       "      <td>-0.159614</td>\n",
       "      <td>0.005806</td>\n",
       "      <td>-0.022277</td>\n",
       "      <td>0.270246</td>\n",
       "      <td>0.607400</td>\n",
       "      <td>1.000000</td>\n",
       "      <td>-0.307895</td>\n",
       "    </tr>\n",
       "    <tr>\n",
       "      <th>disease</th>\n",
       "      <td>0.024216</td>\n",
       "      <td>0.357653</td>\n",
       "      <td>0.282316</td>\n",
       "      <td>0.211950</td>\n",
       "      <td>0.199239</td>\n",
       "      <td>0.316456</td>\n",
       "      <td>-0.073766</td>\n",
       "      <td>-0.176602</td>\n",
       "      <td>-0.307895</td>\n",
       "      <td>1.000000</td>\n",
       "    </tr>\n",
       "  </tbody>\n",
       "</table>\n",
       "</div>"
      ],
      "text/plain": [
       "               Age     T_Bil     D_Bil       ALP   ALT_GPT   AST_GOT  \\\n",
       "Age       1.000000 -0.001248 -0.014136 -0.023907 -0.037906 -0.008589   \n",
       "T_Bil    -0.001248  1.000000  0.753227  0.148064  0.219784  0.248709   \n",
       "D_Bil    -0.014136  0.753227  1.000000  0.091924  0.184403  0.201485   \n",
       "ALP      -0.023907  0.148064  0.091924  1.000000 -0.021187  0.019047   \n",
       "ALT_GPT  -0.037906  0.219784  0.184403 -0.021187  1.000000  0.655518   \n",
       "AST_GOT  -0.008589  0.248709  0.201485  0.019047  0.655518  1.000000   \n",
       "TP       -0.037754 -0.060230  0.017750  0.025728 -0.100572 -0.071592   \n",
       "Alb      -0.087120 -0.162017 -0.089132 -0.023041 -0.087652 -0.086669   \n",
       "AG_ratio -0.033220 -0.206122 -0.121481 -0.159614  0.005806 -0.022277   \n",
       "disease   0.024216  0.357653  0.282316  0.211950  0.199239  0.316456   \n",
       "\n",
       "                TP       Alb  AG_ratio   disease  \n",
       "Age      -0.037754 -0.087120 -0.033220  0.024216  \n",
       "T_Bil    -0.060230 -0.162017 -0.206122  0.357653  \n",
       "D_Bil     0.017750 -0.089132 -0.121481  0.282316  \n",
       "ALP       0.025728 -0.023041 -0.159614  0.211950  \n",
       "ALT_GPT  -0.100572 -0.087652  0.005806  0.199239  \n",
       "AST_GOT  -0.071592 -0.086669 -0.022277  0.316456  \n",
       "TP        1.000000  0.727319  0.270246 -0.073766  \n",
       "Alb       0.727319  1.000000  0.607400 -0.176602  \n",
       "AG_ratio  0.270246  0.607400  1.000000 -0.307895  \n",
       "disease  -0.073766 -0.176602 -0.307895  1.000000  "
      ]
     },
     "execution_count": 5,
     "metadata": {},
     "output_type": "execute_result"
    }
   ],
   "source": [
    "# 相関係数\n",
    "train.corr()"
   ]
  },
  {
   "cell_type": "code",
   "execution_count": 6,
   "metadata": {},
   "outputs": [
    {
     "data": {
      "text/plain": [
       "<AxesSubplot:>"
      ]
     },
     "execution_count": 6,
     "metadata": {},
     "output_type": "execute_result"
    },
    {
     "data": {
      "image/png": "[encoded data removed]",
      "text/plain": [
       "<Figure size 432x288 with 2 Axes>"
      ]
     },
     "metadata": {
      "needs_background": "light"
     },
     "output_type": "display_data"
    }
   ],
   "source": [
    "sns.heatmap(train.corr())"
   ]
  },
  {
   "cell_type": "markdown",
   "metadata": {},
   "source": [
    "### 外れ値処理"
   ]
  },
  {
   "cell_type": "code",
   "execution_count": 7,
   "metadata": {},
   "outputs": [
    {
     "data": {
      "text/plain": [
       "['Age', 'T_Bil', 'D_Bil', 'ALP', 'ALT_GPT', 'AST_GOT', 'TP', 'Alb', 'AG_ratio']"
      ]
     },
     "execution_count": 7,
     "metadata": {},
     "output_type": "execute_result"
    }
   ],
   "source": [
    "num_list = list(test.select_dtypes(exclude=object).columns)\n",
    "num_list"
   ]
  },
  {
   "cell_type": "code",
   "execution_count": 8,
   "metadata": {},
   "outputs": [
    {
     "data": {
      "image/png": "[encoded data removed]",
      "text/plain": [
       "<Figure size 720x2160 with 9 Axes>"
      ]
     },
     "metadata": {
      "needs_background": "light"
     },
     "output_type": "display_data"
    }
   ],
   "source": [
    "# diseaseごとの各カラムの散布図を見て外れ値を探す\n",
    "\n",
    "fig = plt.figure(figsize=(10,30))\n",
    "\n",
    "for i in range(len(num_list)):\n",
    "    plt.subplot(9, 1, i+1)\n",
    "    plt.title(num_list[i])\n",
    "    plt.scatter(train['disease'], train[num_list[i]])\n",
    "\n",
    "plt.tight_layout()"
   ]
  },
  {
   "cell_type": "code",
   "execution_count": 9,
   "metadata": {},
   "outputs": [
    {
     "data": {
      "text/html": [
       "<div>\n",
       "<style scoped>\n",
       "    .dataframe tbody tr th:only-of-type {\n",
       "        vertical-align: middle;\n",
       "    }\n",
       "\n",
       "    .dataframe tbody tr th {\n",
       "        vertical-align: top;\n",
       "    }\n",
       "\n",
       "    .dataframe thead th {\n",
       "        text-align: right;\n",
       "    }\n",
       "</style>\n",
       "<table border=\"1\" class=\"dataframe\">\n",
       "  <thead>\n",
       "    <tr style=\"text-align: right;\">\n",
       "      <th></th>\n",
       "      <th>Age</th>\n",
       "      <th>Gender</th>\n",
       "      <th>T_Bil</th>\n",
       "      <th>D_Bil</th>\n",
       "      <th>ALP</th>\n",
       "      <th>ALT_GPT</th>\n",
       "      <th>AST_GOT</th>\n",
       "      <th>TP</th>\n",
       "      <th>Alb</th>\n",
       "      <th>AG_ratio</th>\n",
       "      <th>disease</th>\n",
       "    </tr>\n",
       "  </thead>\n",
       "  <tbody>\n",
       "    <tr>\n",
       "      <th>268</th>\n",
       "      <td>78</td>\n",
       "      <td>Male</td>\n",
       "      <td>0.810486</td>\n",
       "      <td>0.197167</td>\n",
       "      <td>213.961347</td>\n",
       "      <td>15.247348</td>\n",
       "      <td>20.931720</td>\n",
       "      <td>7.530853</td>\n",
       "      <td>3.634814</td>\n",
       "      <td>1.285051</td>\n",
       "      <td>0</td>\n",
       "    </tr>\n",
       "    <tr>\n",
       "      <th>475</th>\n",
       "      <td>78</td>\n",
       "      <td>Male</td>\n",
       "      <td>0.717658</td>\n",
       "      <td>0.164531</td>\n",
       "      <td>207.302298</td>\n",
       "      <td>9.473956</td>\n",
       "      <td>21.145924</td>\n",
       "      <td>6.864853</td>\n",
       "      <td>3.600574</td>\n",
       "      <td>1.311394</td>\n",
       "      <td>0</td>\n",
       "    </tr>\n",
       "  </tbody>\n",
       "</table>\n",
       "</div>"
      ],
      "text/plain": [
       "     Age Gender     T_Bil     D_Bil         ALP    ALT_GPT    AST_GOT  \\\n",
       "268   78   Male  0.810486  0.197167  213.961347  15.247348  20.931720   \n",
       "475   78   Male  0.717658  0.164531  207.302298   9.473956  21.145924   \n",
       "\n",
       "           TP       Alb  AG_ratio  disease  \n",
       "268  7.530853  3.634814  1.285051        0  \n",
       "475  6.864853  3.600574  1.311394        0  "
      ]
     },
     "metadata": {},
     "output_type": "display_data"
    },
    {
     "data": {
      "text/html": [
       "<div>\n",
       "<style scoped>\n",
       "    .dataframe tbody tr th:only-of-type {\n",
       "        vertical-align: middle;\n",
       "    }\n",
       "\n",
       "    .dataframe tbody tr th {\n",
       "        vertical-align: top;\n",
       "    }\n",
       "\n",
       "    .dataframe thead th {\n",
       "        text-align: right;\n",
       "    }\n",
       "</style>\n",
       "<table border=\"1\" class=\"dataframe\">\n",
       "  <thead>\n",
       "    <tr style=\"text-align: right;\">\n",
       "      <th></th>\n",
       "      <th>Age</th>\n",
       "      <th>Gender</th>\n",
       "      <th>T_Bil</th>\n",
       "      <th>D_Bil</th>\n",
       "      <th>ALP</th>\n",
       "      <th>ALT_GPT</th>\n",
       "      <th>AST_GOT</th>\n",
       "      <th>TP</th>\n",
       "      <th>Alb</th>\n",
       "      <th>AG_ratio</th>\n",
       "      <th>disease</th>\n",
       "    </tr>\n",
       "  </thead>\n",
       "  <tbody>\n",
       "    <tr>\n",
       "      <th>402</th>\n",
       "      <td>10</td>\n",
       "      <td>Male</td>\n",
       "      <td>0.767137</td>\n",
       "      <td>0.173513</td>\n",
       "      <td>214.651243</td>\n",
       "      <td>13.132598</td>\n",
       "      <td>20.931029</td>\n",
       "      <td>7.536683</td>\n",
       "      <td>4.212869</td>\n",
       "      <td>1.288729</td>\n",
       "      <td>0</td>\n",
       "    </tr>\n",
       "  </tbody>\n",
       "</table>\n",
       "</div>"
      ],
      "text/plain": [
       "     Age Gender     T_Bil     D_Bil         ALP    ALT_GPT    AST_GOT  \\\n",
       "402   10   Male  0.767137  0.173513  214.651243  13.132598  20.931029   \n",
       "\n",
       "           TP       Alb  AG_ratio  disease  \n",
       "402  7.536683  4.212869  1.288729        0  "
      ]
     },
     "metadata": {},
     "output_type": "display_data"
    }
   ],
   "source": [
    "# Age 削除対象\n",
    "display(train[(train['Age']>75) & (train['disease']==0)])\n",
    "display(train[(train['Age']<12) & (train['disease']==0)])\n",
    "\n",
    "train = train.drop(train[(train['Age']>75) & (train['disease']==0)].index)\n",
    "train = train.drop(train[(train['Age']<12) & (train['disease']==0)].index)"
   ]
  },
  {
   "cell_type": "code",
   "execution_count": 10,
   "metadata": {},
   "outputs": [
    {
     "data": {
      "text/html": [
       "<div>\n",
       "<style scoped>\n",
       "    .dataframe tbody tr th:only-of-type {\n",
       "        vertical-align: middle;\n",
       "    }\n",
       "\n",
       "    .dataframe tbody tr th {\n",
       "        vertical-align: top;\n",
       "    }\n",
       "\n",
       "    .dataframe thead th {\n",
       "        text-align: right;\n",
       "    }\n",
       "</style>\n",
       "<table border=\"1\" class=\"dataframe\">\n",
       "  <thead>\n",
       "    <tr style=\"text-align: right;\">\n",
       "      <th></th>\n",
       "      <th>Age</th>\n",
       "      <th>Gender</th>\n",
       "      <th>T_Bil</th>\n",
       "      <th>D_Bil</th>\n",
       "      <th>ALP</th>\n",
       "      <th>ALT_GPT</th>\n",
       "      <th>AST_GOT</th>\n",
       "      <th>TP</th>\n",
       "      <th>Alb</th>\n",
       "      <th>AG_ratio</th>\n",
       "      <th>disease</th>\n",
       "    </tr>\n",
       "  </thead>\n",
       "  <tbody>\n",
       "    <tr>\n",
       "      <th>69</th>\n",
       "      <td>26</td>\n",
       "      <td>Male</td>\n",
       "      <td>23.017027</td>\n",
       "      <td>11.992452</td>\n",
       "      <td>214.777736</td>\n",
       "      <td>12.921732</td>\n",
       "      <td>98.892019</td>\n",
       "      <td>7.595521</td>\n",
       "      <td>3.585702</td>\n",
       "      <td>0.987575</td>\n",
       "      <td>1</td>\n",
       "    </tr>\n",
       "    <tr>\n",
       "      <th>240</th>\n",
       "      <td>50</td>\n",
       "      <td>Female</td>\n",
       "      <td>21.184706</td>\n",
       "      <td>17.264120</td>\n",
       "      <td>214.413921</td>\n",
       "      <td>16.616958</td>\n",
       "      <td>28.436753</td>\n",
       "      <td>8.639342</td>\n",
       "      <td>3.089583</td>\n",
       "      <td>1.225404</td>\n",
       "      <td>1</td>\n",
       "    </tr>\n",
       "    <tr>\n",
       "      <th>297</th>\n",
       "      <td>32</td>\n",
       "      <td>Male</td>\n",
       "      <td>23.013928</td>\n",
       "      <td>17.692164</td>\n",
       "      <td>206.635298</td>\n",
       "      <td>10.197751</td>\n",
       "      <td>22.378512</td>\n",
       "      <td>5.844967</td>\n",
       "      <td>3.136777</td>\n",
       "      <td>1.184554</td>\n",
       "      <td>1</td>\n",
       "    </tr>\n",
       "    <tr>\n",
       "      <th>468</th>\n",
       "      <td>32</td>\n",
       "      <td>Male</td>\n",
       "      <td>23.002653</td>\n",
       "      <td>11.978404</td>\n",
       "      <td>1861.148040</td>\n",
       "      <td>23.111268</td>\n",
       "      <td>62.911839</td>\n",
       "      <td>6.882093</td>\n",
       "      <td>3.203098</td>\n",
       "      <td>0.913798</td>\n",
       "      <td>1</td>\n",
       "    </tr>\n",
       "  </tbody>\n",
       "</table>\n",
       "</div>"
      ],
      "text/plain": [
       "     Age  Gender      T_Bil      D_Bil          ALP    ALT_GPT    AST_GOT  \\\n",
       "69    26    Male  23.017027  11.992452   214.777736  12.921732  98.892019   \n",
       "240   50  Female  21.184706  17.264120   214.413921  16.616958  28.436753   \n",
       "297   32    Male  23.013928  17.692164   206.635298  10.197751  22.378512   \n",
       "468   32    Male  23.002653  11.978404  1861.148040  23.111268  62.911839   \n",
       "\n",
       "           TP       Alb  AG_ratio  disease  \n",
       "69   7.595521  3.585702  0.987575        1  \n",
       "240  8.639342  3.089583  1.225404        1  \n",
       "297  5.844967  3.136777  1.184554        1  \n",
       "468  6.882093  3.203098  0.913798        1  "
      ]
     },
     "metadata": {},
     "output_type": "display_data"
    }
   ],
   "source": [
    "# T-Bil 削除対象\n",
    "display(train[train['T_Bil']>15])\n",
    "\n",
    "# 削除\n",
    "train = train.drop(train[train['T_Bil']>15].index)"
   ]
  },
  {
   "cell_type": "code",
   "execution_count": 11,
   "metadata": {},
   "outputs": [
    {
     "data": {
      "text/html": [
       "<div>\n",
       "<style scoped>\n",
       "    .dataframe tbody tr th:only-of-type {\n",
       "        vertical-align: middle;\n",
       "    }\n",
       "\n",
       "    .dataframe tbody tr th {\n",
       "        vertical-align: top;\n",
       "    }\n",
       "\n",
       "    .dataframe thead th {\n",
       "        text-align: right;\n",
       "    }\n",
       "</style>\n",
       "<table border=\"1\" class=\"dataframe\">\n",
       "  <thead>\n",
       "    <tr style=\"text-align: right;\">\n",
       "      <th></th>\n",
       "      <th>Age</th>\n",
       "      <th>Gender</th>\n",
       "      <th>T_Bil</th>\n",
       "      <th>D_Bil</th>\n",
       "      <th>ALP</th>\n",
       "      <th>ALT_GPT</th>\n",
       "      <th>AST_GOT</th>\n",
       "      <th>TP</th>\n",
       "      <th>Alb</th>\n",
       "      <th>AG_ratio</th>\n",
       "      <th>disease</th>\n",
       "    </tr>\n",
       "  </thead>\n",
       "  <tbody>\n",
       "    <tr>\n",
       "      <th>119</th>\n",
       "      <td>47</td>\n",
       "      <td>Male</td>\n",
       "      <td>0.874862</td>\n",
       "      <td>12.140346</td>\n",
       "      <td>212.041216</td>\n",
       "      <td>44.877908</td>\n",
       "      <td>104.234557</td>\n",
       "      <td>8.612374</td>\n",
       "      <td>3.520750</td>\n",
       "      <td>1.215675</td>\n",
       "      <td>1</td>\n",
       "    </tr>\n",
       "    <tr>\n",
       "      <th>130</th>\n",
       "      <td>42</td>\n",
       "      <td>Male</td>\n",
       "      <td>0.930668</td>\n",
       "      <td>11.935322</td>\n",
       "      <td>197.000997</td>\n",
       "      <td>10.514899</td>\n",
       "      <td>14.825766</td>\n",
       "      <td>7.581402</td>\n",
       "      <td>3.659571</td>\n",
       "      <td>1.024392</td>\n",
       "      <td>0</td>\n",
       "    </tr>\n",
       "    <tr>\n",
       "      <th>363</th>\n",
       "      <td>59</td>\n",
       "      <td>Male</td>\n",
       "      <td>0.972024</td>\n",
       "      <td>11.908908</td>\n",
       "      <td>217.020581</td>\n",
       "      <td>13.980081</td>\n",
       "      <td>59.748856</td>\n",
       "      <td>8.661666</td>\n",
       "      <td>3.663260</td>\n",
       "      <td>1.289892</td>\n",
       "      <td>1</td>\n",
       "    </tr>\n",
       "    <tr>\n",
       "      <th>766</th>\n",
       "      <td>65</td>\n",
       "      <td>Male</td>\n",
       "      <td>0.858532</td>\n",
       "      <td>12.033170</td>\n",
       "      <td>220.387128</td>\n",
       "      <td>17.155909</td>\n",
       "      <td>80.863658</td>\n",
       "      <td>7.629307</td>\n",
       "      <td>4.123316</td>\n",
       "      <td>1.184591</td>\n",
       "      <td>1</td>\n",
       "    </tr>\n",
       "    <tr>\n",
       "      <th>826</th>\n",
       "      <td>32</td>\n",
       "      <td>Male</td>\n",
       "      <td>0.983627</td>\n",
       "      <td>12.201824</td>\n",
       "      <td>218.317890</td>\n",
       "      <td>10.606974</td>\n",
       "      <td>75.159134</td>\n",
       "      <td>7.602828</td>\n",
       "      <td>3.685454</td>\n",
       "      <td>0.987741</td>\n",
       "      <td>1</td>\n",
       "    </tr>\n",
       "  </tbody>\n",
       "</table>\n",
       "</div>"
      ],
      "text/plain": [
       "     Age Gender     T_Bil      D_Bil         ALP    ALT_GPT     AST_GOT  \\\n",
       "119   47   Male  0.874862  12.140346  212.041216  44.877908  104.234557   \n",
       "130   42   Male  0.930668  11.935322  197.000997  10.514899   14.825766   \n",
       "363   59   Male  0.972024  11.908908  217.020581  13.980081   59.748856   \n",
       "766   65   Male  0.858532  12.033170  220.387128  17.155909   80.863658   \n",
       "826   32   Male  0.983627  12.201824  218.317890  10.606974   75.159134   \n",
       "\n",
       "           TP       Alb  AG_ratio  disease  \n",
       "119  8.612374  3.520750  1.215675        1  \n",
       "130  7.581402  3.659571  1.024392        0  \n",
       "363  8.661666  3.663260  1.289892        1  \n",
       "766  7.629307  4.123316  1.184591        1  \n",
       "826  7.602828  3.685454  0.987741        1  "
      ]
     },
     "metadata": {},
     "output_type": "display_data"
    }
   ],
   "source": [
    "# D-Bil 削除対象\n",
    "display(train[train['D_Bil']>10])\n",
    "\n",
    "train = train.drop(train[train['D_Bil']>10].index)"
   ]
  },
  {
   "cell_type": "code",
   "execution_count": 12,
   "metadata": {},
   "outputs": [
    {
     "data": {
      "text/html": [
       "<div>\n",
       "<style scoped>\n",
       "    .dataframe tbody tr th:only-of-type {\n",
       "        vertical-align: middle;\n",
       "    }\n",
       "\n",
       "    .dataframe tbody tr th {\n",
       "        vertical-align: top;\n",
       "    }\n",
       "\n",
       "    .dataframe thead th {\n",
       "        text-align: right;\n",
       "    }\n",
       "</style>\n",
       "<table border=\"1\" class=\"dataframe\">\n",
       "  <thead>\n",
       "    <tr style=\"text-align: right;\">\n",
       "      <th></th>\n",
       "      <th>Age</th>\n",
       "      <th>Gender</th>\n",
       "      <th>T_Bil</th>\n",
       "      <th>D_Bil</th>\n",
       "      <th>ALP</th>\n",
       "      <th>ALT_GPT</th>\n",
       "      <th>AST_GOT</th>\n",
       "      <th>TP</th>\n",
       "      <th>Alb</th>\n",
       "      <th>AG_ratio</th>\n",
       "      <th>disease</th>\n",
       "    </tr>\n",
       "  </thead>\n",
       "  <tbody>\n",
       "    <tr>\n",
       "      <th>662</th>\n",
       "      <td>75</td>\n",
       "      <td>Male</td>\n",
       "      <td>1.465158</td>\n",
       "      <td>0.767795</td>\n",
       "      <td>366.834104</td>\n",
       "      <td>116.407037</td>\n",
       "      <td>481.935324</td>\n",
       "      <td>8.631458</td>\n",
       "      <td>4.337368</td>\n",
       "      <td>1.262153</td>\n",
       "      <td>0</td>\n",
       "    </tr>\n",
       "  </tbody>\n",
       "</table>\n",
       "</div>"
      ],
      "text/plain": [
       "     Age Gender     T_Bil     D_Bil         ALP     ALT_GPT     AST_GOT  \\\n",
       "662   75   Male  1.465158  0.767795  366.834104  116.407037  481.935324   \n",
       "\n",
       "           TP       Alb  AG_ratio  disease  \n",
       "662  8.631458  4.337368  1.262153        0  "
      ]
     },
     "metadata": {},
     "output_type": "display_data"
    }
   ],
   "source": [
    "# AST-GOT 削除対象\n",
    "display(train[(train['AST_GOT']>400) & (train['disease']==0)])\n",
    "\n",
    "train = train.drop(train[(train['AST_GOT']>400) & (train['disease']==0)].index)"
   ]
  },
  {
   "cell_type": "code",
   "execution_count": 13,
   "metadata": {},
   "outputs": [
    {
     "data": {
      "image/png": "[encoded data removed]",
      "text/plain": [
       "<Figure size 720x2160 with 9 Axes>"
      ]
     },
     "metadata": {
      "needs_background": "light"
     },
     "output_type": "display_data"
    }
   ],
   "source": [
    "# Genderごとの各カラムの散布図を見て外れ値を探す\n",
    "\n",
    "fig = plt.figure(figsize=(10,30))\n",
    "\n",
    "for i in range(len(num_list)):\n",
    "    plt.subplot(9, 1, i+1)\n",
    "    plt.title(num_list[i])\n",
    "    plt.scatter(train['Gender'], train[num_list[i]])\n",
    "\n",
    "plt.tight_layout()"
   ]
  },
  {
   "cell_type": "code",
   "execution_count": 14,
   "metadata": {},
   "outputs": [
    {
     "data": {
      "text/html": [
       "<div>\n",
       "<style scoped>\n",
       "    .dataframe tbody tr th:only-of-type {\n",
       "        vertical-align: middle;\n",
       "    }\n",
       "\n",
       "    .dataframe tbody tr th {\n",
       "        vertical-align: top;\n",
       "    }\n",
       "\n",
       "    .dataframe thead th {\n",
       "        text-align: right;\n",
       "    }\n",
       "</style>\n",
       "<table border=\"1\" class=\"dataframe\">\n",
       "  <thead>\n",
       "    <tr style=\"text-align: right;\">\n",
       "      <th></th>\n",
       "      <th>Age</th>\n",
       "      <th>Gender</th>\n",
       "      <th>T_Bil</th>\n",
       "      <th>D_Bil</th>\n",
       "      <th>ALP</th>\n",
       "      <th>ALT_GPT</th>\n",
       "      <th>AST_GOT</th>\n",
       "      <th>TP</th>\n",
       "      <th>Alb</th>\n",
       "      <th>AG_ratio</th>\n",
       "      <th>disease</th>\n",
       "    </tr>\n",
       "  </thead>\n",
       "  <tbody>\n",
       "    <tr>\n",
       "      <th>715</th>\n",
       "      <td>75</td>\n",
       "      <td>Female</td>\n",
       "      <td>6.439106</td>\n",
       "      <td>2.458748</td>\n",
       "      <td>637.030089</td>\n",
       "      <td>24.12591</td>\n",
       "      <td>67.788687</td>\n",
       "      <td>6.037188</td>\n",
       "      <td>3.1055</td>\n",
       "      <td>1.021437</td>\n",
       "      <td>1</td>\n",
       "    </tr>\n",
       "  </tbody>\n",
       "</table>\n",
       "</div>"
      ],
      "text/plain": [
       "     Age  Gender     T_Bil     D_Bil         ALP   ALT_GPT    AST_GOT  \\\n",
       "715   75  Female  6.439106  2.458748  637.030089  24.12591  67.788687   \n",
       "\n",
       "           TP     Alb  AG_ratio  disease  \n",
       "715  6.037188  3.1055  1.021437        1  "
      ]
     },
     "metadata": {},
     "output_type": "display_data"
    }
   ],
   "source": [
    "# T-Bil 削除対象\n",
    "display(train[(train['T_Bil']>5) & (train['Gender']==\"Female\")])\n",
    "\n",
    "train = train.drop(train[(train['T_Bil']>5) & (train['Gender']==\"Female\")].index)"
   ]
  },
  {
   "cell_type": "code",
   "execution_count": 15,
   "metadata": {},
   "outputs": [
    {
     "data": {
      "text/html": [
       "<div>\n",
       "<style scoped>\n",
       "    .dataframe tbody tr th:only-of-type {\n",
       "        vertical-align: middle;\n",
       "    }\n",
       "\n",
       "    .dataframe tbody tr th {\n",
       "        vertical-align: top;\n",
       "    }\n",
       "\n",
       "    .dataframe thead th {\n",
       "        text-align: right;\n",
       "    }\n",
       "</style>\n",
       "<table border=\"1\" class=\"dataframe\">\n",
       "  <thead>\n",
       "    <tr style=\"text-align: right;\">\n",
       "      <th></th>\n",
       "      <th>Age</th>\n",
       "      <th>Gender</th>\n",
       "      <th>T_Bil</th>\n",
       "      <th>D_Bil</th>\n",
       "      <th>ALP</th>\n",
       "      <th>ALT_GPT</th>\n",
       "      <th>AST_GOT</th>\n",
       "      <th>TP</th>\n",
       "      <th>Alb</th>\n",
       "      <th>AG_ratio</th>\n",
       "      <th>disease</th>\n",
       "    </tr>\n",
       "  </thead>\n",
       "  <tbody>\n",
       "  </tbody>\n",
       "</table>\n",
       "</div>"
      ],
      "text/plain": [
       "Empty DataFrame\n",
       "Columns: [Age, Gender, T_Bil, D_Bil, ALP, ALT_GPT, AST_GOT, TP, Alb, AG_ratio, disease]\n",
       "Index: []"
      ]
     },
     "metadata": {},
     "output_type": "display_data"
    }
   ],
   "source": [
    "# D-Bil 削除対象\n",
    "display(train[(train['D_Bil']>1) & (train['Gender']==\"Female\")])\n",
    "\n",
    "train = train.drop(train[(train['D_Bil']>1) & (train['Gender']==\"Female\")].index)"
   ]
  },
  {
   "cell_type": "code",
   "execution_count": 16,
   "metadata": {},
   "outputs": [
    {
     "data": {
      "text/html": [
       "<div>\n",
       "<style scoped>\n",
       "    .dataframe tbody tr th:only-of-type {\n",
       "        vertical-align: middle;\n",
       "    }\n",
       "\n",
       "    .dataframe tbody tr th {\n",
       "        vertical-align: top;\n",
       "    }\n",
       "\n",
       "    .dataframe thead th {\n",
       "        text-align: right;\n",
       "    }\n",
       "</style>\n",
       "<table border=\"1\" class=\"dataframe\">\n",
       "  <thead>\n",
       "    <tr style=\"text-align: right;\">\n",
       "      <th></th>\n",
       "      <th>Age</th>\n",
       "      <th>Gender</th>\n",
       "      <th>T_Bil</th>\n",
       "      <th>D_Bil</th>\n",
       "      <th>ALP</th>\n",
       "      <th>ALT_GPT</th>\n",
       "      <th>AST_GOT</th>\n",
       "      <th>TP</th>\n",
       "      <th>Alb</th>\n",
       "      <th>AG_ratio</th>\n",
       "      <th>disease</th>\n",
       "    </tr>\n",
       "  </thead>\n",
       "  <tbody>\n",
       "    <tr>\n",
       "      <th>4</th>\n",
       "      <td>22</td>\n",
       "      <td>Female</td>\n",
       "      <td>1.734959</td>\n",
       "      <td>0.197706</td>\n",
       "      <td>222.782025</td>\n",
       "      <td>20.572891</td>\n",
       "      <td>170.010177</td>\n",
       "      <td>5.837537</td>\n",
       "      <td>3.068697</td>\n",
       "      <td>1.026654</td>\n",
       "      <td>0</td>\n",
       "    </tr>\n",
       "    <tr>\n",
       "      <th>37</th>\n",
       "      <td>26</td>\n",
       "      <td>Female</td>\n",
       "      <td>0.936711</td>\n",
       "      <td>0.157125</td>\n",
       "      <td>201.977549</td>\n",
       "      <td>29.518400</td>\n",
       "      <td>169.029000</td>\n",
       "      <td>6.960239</td>\n",
       "      <td>2.901342</td>\n",
       "      <td>1.264539</td>\n",
       "      <td>1</td>\n",
       "    </tr>\n",
       "    <tr>\n",
       "      <th>88</th>\n",
       "      <td>34</td>\n",
       "      <td>Female</td>\n",
       "      <td>0.710537</td>\n",
       "      <td>0.055281</td>\n",
       "      <td>192.260651</td>\n",
       "      <td>71.357581</td>\n",
       "      <td>164.134919</td>\n",
       "      <td>6.918934</td>\n",
       "      <td>3.558867</td>\n",
       "      <td>1.279367</td>\n",
       "      <td>0</td>\n",
       "    </tr>\n",
       "    <tr>\n",
       "      <th>481</th>\n",
       "      <td>75</td>\n",
       "      <td>Female</td>\n",
       "      <td>0.960339</td>\n",
       "      <td>0.284536</td>\n",
       "      <td>207.307424</td>\n",
       "      <td>33.103655</td>\n",
       "      <td>797.829706</td>\n",
       "      <td>6.898645</td>\n",
       "      <td>3.624944</td>\n",
       "      <td>1.268522</td>\n",
       "      <td>1</td>\n",
       "    </tr>\n",
       "  </tbody>\n",
       "</table>\n",
       "</div>"
      ],
      "text/plain": [
       "     Age  Gender     T_Bil     D_Bil         ALP    ALT_GPT     AST_GOT  \\\n",
       "4     22  Female  1.734959  0.197706  222.782025  20.572891  170.010177   \n",
       "37    26  Female  0.936711  0.157125  201.977549  29.518400  169.029000   \n",
       "88    34  Female  0.710537  0.055281  192.260651  71.357581  164.134919   \n",
       "481   75  Female  0.960339  0.284536  207.307424  33.103655  797.829706   \n",
       "\n",
       "           TP       Alb  AG_ratio  disease  \n",
       "4    5.837537  3.068697  1.026654        0  \n",
       "37   6.960239  2.901342  1.264539        1  \n",
       "88   6.918934  3.558867  1.279367        0  \n",
       "481  6.898645  3.624944  1.268522        1  "
      ]
     },
     "metadata": {},
     "output_type": "display_data"
    }
   ],
   "source": [
    "# AST_GOT 削除対象\n",
    "display(train[(train['AST_GOT']>150) & (train['Gender']==\"Female\")])\n",
    "\n",
    "train = train.drop(train[(train['AST_GOT']>150) & (train['Gender']==\"Female\")].index)"
   ]
  },
  {
   "cell_type": "markdown",
   "metadata": {},
   "source": [
    "### カテゴリデータの可視化"
   ]
  },
  {
   "cell_type": "code",
   "execution_count": 17,
   "metadata": {},
   "outputs": [
    {
     "data": {
      "text/plain": [
       "<AxesSubplot:title={'center':'train Gender'}, xlabel='Gender'>"
      ]
     },
     "execution_count": 17,
     "metadata": {},
     "output_type": "execute_result"
    },
    {
     "data": {
      "image/png": "[encoded data removed]",
      "text/plain": [
       "<Figure size 432x288 with 1 Axes>"
      ]
     },
     "metadata": {
      "needs_background": "light"
     },
     "output_type": "display_data"
    }
   ],
   "source": [
    "train.groupby(\"Gender\")[\"Gender\"].count().sort_values(ascending=False).plot(kind=\"bar\", title=\"train Gender\")"
   ]
  },
  {
   "cell_type": "code",
   "execution_count": 18,
   "metadata": {},
   "outputs": [
    {
     "data": {
      "text/plain": [
       "<AxesSubplot:title={'center':'test Gender'}, xlabel='Gender'>"
      ]
     },
     "execution_count": 18,
     "metadata": {},
     "output_type": "execute_result"
    },
    {
     "data": {
      "image/png": "[encoded data removed]",
      "text/plain": [
       "<Figure size 432x288 with 1 Axes>"
      ]
     },
     "metadata": {
      "needs_background": "light"
     },
     "output_type": "display_data"
    }
   ],
   "source": [
    "test.groupby(\"Gender\")[\"Gender\"].count().sort_values(ascending=False).plot(kind=\"bar\", title=\"test Gender\")"
   ]
  },
  {
   "cell_type": "markdown",
   "metadata": {},
   "source": [
    "### 欠損値処理"
   ]
  },
  {
   "cell_type": "code",
   "execution_count": 19,
   "metadata": {},
   "outputs": [
    {
     "data": {
      "text/plain": [
       "Age         0\n",
       "Gender      0\n",
       "T_Bil       0\n",
       "D_Bil       0\n",
       "ALP         0\n",
       "ALT_GPT     0\n",
       "AST_GOT     0\n",
       "TP          0\n",
       "Alb         0\n",
       "AG_ratio    0\n",
       "disease     0\n",
       "dtype: int64"
      ]
     },
     "metadata": {},
     "output_type": "display_data"
    },
    {
     "data": {
      "text/plain": [
       "Age         0\n",
       "Gender      0\n",
       "T_Bil       0\n",
       "D_Bil       0\n",
       "ALP         0\n",
       "ALT_GPT     0\n",
       "AST_GOT     0\n",
       "TP          0\n",
       "Alb         0\n",
       "AG_ratio    0\n",
       "dtype: int64"
      ]
     },
     "metadata": {},
     "output_type": "display_data"
    }
   ],
   "source": [
    "display(train.isnull().sum())\n",
    "display(test.isnull().sum())"
   ]
  },
  {
   "cell_type": "markdown",
   "metadata": {},
   "source": [
    "### ラベルエンコーディング"
   ]
  },
  {
   "cell_type": "code",
   "execution_count": 20,
   "metadata": {},
   "outputs": [],
   "source": [
    "lbl = preprocessing.LabelEncoder()"
   ]
  },
  {
   "cell_type": "code",
   "execution_count": 21,
   "metadata": {},
   "outputs": [],
   "source": [
    "train[\"Gender\"] = lbl.fit_transform(train[\"Gender\"])\n",
    "test[\"Gender\"] = lbl.fit_transform(test[\"Gender\"])"
   ]
  },
  {
   "cell_type": "markdown",
   "metadata": {},
   "source": [
    "### 特徴量選択"
   ]
  },
  {
   "cell_type": "code",
   "execution_count": 22,
   "metadata": {},
   "outputs": [],
   "source": [
    "features = ['Age', 'Gender', 'T_Bil', 'D_Bil', 'ALP', 'ALT_GPT', 'AST_GOT', 'TP', 'Alb', 'AG_ratio']"
   ]
  },
  {
   "cell_type": "markdown",
   "metadata": {},
   "source": [
    "### Filter Method"
   ]
  },
  {
   "cell_type": "code",
   "execution_count": 23,
   "metadata": {},
   "outputs": [
    {
     "data": {
      "text/plain": [
       "Age         0.025275\n",
       "Gender      0.113480\n",
       "T_Bil       0.390291\n",
       "D_Bil       0.383841\n",
       "ALP         0.212064\n",
       "ALT_GPT     0.203443\n",
       "AST_GOT     0.326141\n",
       "TP         -0.079979\n",
       "Alb        -0.174318\n",
       "AG_ratio   -0.310132\n",
       "disease     1.000000\n",
       "Name: disease, dtype: float64"
      ]
     },
     "execution_count": 23,
     "metadata": {},
     "output_type": "execute_result"
    }
   ],
   "source": [
    "train.corr()[\"disease\"]"
   ]
  },
  {
   "cell_type": "code",
   "execution_count": 24,
   "metadata": {},
   "outputs": [
    {
     "data": {
      "text/html": [
       "<div>\n",
       "<style scoped>\n",
       "    .dataframe tbody tr th:only-of-type {\n",
       "        vertical-align: middle;\n",
       "    }\n",
       "\n",
       "    .dataframe tbody tr th {\n",
       "        vertical-align: top;\n",
       "    }\n",
       "\n",
       "    .dataframe thead th {\n",
       "        text-align: right;\n",
       "    }\n",
       "</style>\n",
       "<table border=\"1\" class=\"dataframe\">\n",
       "  <thead>\n",
       "    <tr style=\"text-align: right;\">\n",
       "      <th></th>\n",
       "      <th>Age</th>\n",
       "      <th>Gender</th>\n",
       "      <th>T_Bil</th>\n",
       "      <th>D_Bil</th>\n",
       "      <th>ALP</th>\n",
       "      <th>ALT_GPT</th>\n",
       "      <th>AST_GOT</th>\n",
       "      <th>TP</th>\n",
       "      <th>Alb</th>\n",
       "      <th>AG_ratio</th>\n",
       "      <th>disease</th>\n",
       "    </tr>\n",
       "  </thead>\n",
       "  <tbody>\n",
       "    <tr>\n",
       "      <th>Age</th>\n",
       "      <td>1.0</td>\n",
       "      <td>NaN</td>\n",
       "      <td>NaN</td>\n",
       "      <td>NaN</td>\n",
       "      <td>NaN</td>\n",
       "      <td>NaN</td>\n",
       "      <td>NaN</td>\n",
       "      <td>NaN</td>\n",
       "      <td>NaN</td>\n",
       "      <td>NaN</td>\n",
       "      <td>NaN</td>\n",
       "    </tr>\n",
       "    <tr>\n",
       "      <th>Gender</th>\n",
       "      <td>NaN</td>\n",
       "      <td>1.0</td>\n",
       "      <td>NaN</td>\n",
       "      <td>NaN</td>\n",
       "      <td>NaN</td>\n",
       "      <td>NaN</td>\n",
       "      <td>NaN</td>\n",
       "      <td>NaN</td>\n",
       "      <td>NaN</td>\n",
       "      <td>NaN</td>\n",
       "      <td>NaN</td>\n",
       "    </tr>\n",
       "    <tr>\n",
       "      <th>T_Bil</th>\n",
       "      <td>NaN</td>\n",
       "      <td>NaN</td>\n",
       "      <td>1.000000</td>\n",
       "      <td>0.930068</td>\n",
       "      <td>NaN</td>\n",
       "      <td>NaN</td>\n",
       "      <td>NaN</td>\n",
       "      <td>NaN</td>\n",
       "      <td>NaN</td>\n",
       "      <td>NaN</td>\n",
       "      <td>NaN</td>\n",
       "    </tr>\n",
       "    <tr>\n",
       "      <th>D_Bil</th>\n",
       "      <td>NaN</td>\n",
       "      <td>NaN</td>\n",
       "      <td>0.930068</td>\n",
       "      <td>1.000000</td>\n",
       "      <td>NaN</td>\n",
       "      <td>NaN</td>\n",
       "      <td>NaN</td>\n",
       "      <td>NaN</td>\n",
       "      <td>NaN</td>\n",
       "      <td>NaN</td>\n",
       "      <td>NaN</td>\n",
       "    </tr>\n",
       "    <tr>\n",
       "      <th>ALP</th>\n",
       "      <td>NaN</td>\n",
       "      <td>NaN</td>\n",
       "      <td>NaN</td>\n",
       "      <td>NaN</td>\n",
       "      <td>1.0</td>\n",
       "      <td>NaN</td>\n",
       "      <td>NaN</td>\n",
       "      <td>NaN</td>\n",
       "      <td>NaN</td>\n",
       "      <td>NaN</td>\n",
       "      <td>NaN</td>\n",
       "    </tr>\n",
       "    <tr>\n",
       "      <th>ALT_GPT</th>\n",
       "      <td>NaN</td>\n",
       "      <td>NaN</td>\n",
       "      <td>NaN</td>\n",
       "      <td>NaN</td>\n",
       "      <td>NaN</td>\n",
       "      <td>1.0</td>\n",
       "      <td>NaN</td>\n",
       "      <td>NaN</td>\n",
       "      <td>NaN</td>\n",
       "      <td>NaN</td>\n",
       "      <td>NaN</td>\n",
       "    </tr>\n",
       "    <tr>\n",
       "      <th>AST_GOT</th>\n",
       "      <td>NaN</td>\n",
       "      <td>NaN</td>\n",
       "      <td>NaN</td>\n",
       "      <td>NaN</td>\n",
       "      <td>NaN</td>\n",
       "      <td>NaN</td>\n",
       "      <td>1.0</td>\n",
       "      <td>NaN</td>\n",
       "      <td>NaN</td>\n",
       "      <td>NaN</td>\n",
       "      <td>NaN</td>\n",
       "    </tr>\n",
       "    <tr>\n",
       "      <th>TP</th>\n",
       "      <td>NaN</td>\n",
       "      <td>NaN</td>\n",
       "      <td>NaN</td>\n",
       "      <td>NaN</td>\n",
       "      <td>NaN</td>\n",
       "      <td>NaN</td>\n",
       "      <td>NaN</td>\n",
       "      <td>1.0</td>\n",
       "      <td>NaN</td>\n",
       "      <td>NaN</td>\n",
       "      <td>NaN</td>\n",
       "    </tr>\n",
       "    <tr>\n",
       "      <th>Alb</th>\n",
       "      <td>NaN</td>\n",
       "      <td>NaN</td>\n",
       "      <td>NaN</td>\n",
       "      <td>NaN</td>\n",
       "      <td>NaN</td>\n",
       "      <td>NaN</td>\n",
       "      <td>NaN</td>\n",
       "      <td>NaN</td>\n",
       "      <td>1.0</td>\n",
       "      <td>NaN</td>\n",
       "      <td>NaN</td>\n",
       "    </tr>\n",
       "    <tr>\n",
       "      <th>AG_ratio</th>\n",
       "      <td>NaN</td>\n",
       "      <td>NaN</td>\n",
       "      <td>NaN</td>\n",
       "      <td>NaN</td>\n",
       "      <td>NaN</td>\n",
       "      <td>NaN</td>\n",
       "      <td>NaN</td>\n",
       "      <td>NaN</td>\n",
       "      <td>NaN</td>\n",
       "      <td>1.0</td>\n",
       "      <td>NaN</td>\n",
       "    </tr>\n",
       "    <tr>\n",
       "      <th>disease</th>\n",
       "      <td>NaN</td>\n",
       "      <td>NaN</td>\n",
       "      <td>NaN</td>\n",
       "      <td>NaN</td>\n",
       "      <td>NaN</td>\n",
       "      <td>NaN</td>\n",
       "      <td>NaN</td>\n",
       "      <td>NaN</td>\n",
       "      <td>NaN</td>\n",
       "      <td>NaN</td>\n",
       "      <td>1.0</td>\n",
       "    </tr>\n",
       "  </tbody>\n",
       "</table>\n",
       "</div>"
      ],
      "text/plain": [
       "          Age  Gender     T_Bil     D_Bil  ALP  ALT_GPT  AST_GOT   TP  Alb  \\\n",
       "Age       1.0     NaN       NaN       NaN  NaN      NaN      NaN  NaN  NaN   \n",
       "Gender    NaN     1.0       NaN       NaN  NaN      NaN      NaN  NaN  NaN   \n",
       "T_Bil     NaN     NaN  1.000000  0.930068  NaN      NaN      NaN  NaN  NaN   \n",
       "D_Bil     NaN     NaN  0.930068  1.000000  NaN      NaN      NaN  NaN  NaN   \n",
       "ALP       NaN     NaN       NaN       NaN  1.0      NaN      NaN  NaN  NaN   \n",
       "ALT_GPT   NaN     NaN       NaN       NaN  NaN      1.0      NaN  NaN  NaN   \n",
       "AST_GOT   NaN     NaN       NaN       NaN  NaN      NaN      1.0  NaN  NaN   \n",
       "TP        NaN     NaN       NaN       NaN  NaN      NaN      NaN  1.0  NaN   \n",
       "Alb       NaN     NaN       NaN       NaN  NaN      NaN      NaN  NaN  1.0   \n",
       "AG_ratio  NaN     NaN       NaN       NaN  NaN      NaN      NaN  NaN  NaN   \n",
       "disease   NaN     NaN       NaN       NaN  NaN      NaN      NaN  NaN  NaN   \n",
       "\n",
       "          AG_ratio  disease  \n",
       "Age            NaN      NaN  \n",
       "Gender         NaN      NaN  \n",
       "T_Bil          NaN      NaN  \n",
       "D_Bil          NaN      NaN  \n",
       "ALP            NaN      NaN  \n",
       "ALT_GPT        NaN      NaN  \n",
       "AST_GOT        NaN      NaN  \n",
       "TP             NaN      NaN  \n",
       "Alb            NaN      NaN  \n",
       "AG_ratio       1.0      NaN  \n",
       "disease        NaN      1.0  "
      ]
     },
     "execution_count": 24,
     "metadata": {},
     "output_type": "execute_result"
    }
   ],
   "source": [
    "# D_Bil\tT_Bil 0.930493\n",
    "\n",
    "# disease T_Bil 0.390951\n",
    "# disease D_Bil 0.384931 -> こちらを削除\n",
    "train.corr()[abs(train.corr()) > 0.8]"
   ]
  },
  {
   "cell_type": "code",
   "execution_count": 25,
   "metadata": {},
   "outputs": [],
   "source": [
    "features = ['Age', 'Gender', 'T_Bil', 'ALP', 'ALT_GPT', 'AST_GOT', 'TP', 'Alb', 'AG_ratio']"
   ]
  },
  {
   "cell_type": "markdown",
   "metadata": {},
   "source": [
    "### データの分割"
   ]
  },
  {
   "cell_type": "code",
   "execution_count": 26,
   "metadata": {},
   "outputs": [],
   "source": [
    "# testデータに復元用のNo.を振る\n",
    "serial_num = pd.RangeIndex(start=1, stop=test.shape[0]+1, step=1)\n",
    "test['No'] = serial_num"
   ]
  },
  {
   "cell_type": "code",
   "execution_count": 27,
   "metadata": {},
   "outputs": [],
   "source": [
    "# 男性データ\n",
    "train_M = train[train[\"Gender\"] == 1]\n",
    "test_M = test[test[\"Gender\"] == 1]\n",
    "\n",
    "# 女性データ\n",
    "train_F = train[train[\"Gender\"] == 0]\n",
    "test_F = test[test[\"Gender\"] == 0]"
   ]
  },
  {
   "cell_type": "code",
   "execution_count": 28,
   "metadata": {},
   "outputs": [
    {
     "data": {
      "image/png": "[encoded data removed]",
      "text/plain": [
       "<Figure size 720x2160 with 9 Axes>"
      ]
     },
     "metadata": {
      "needs_background": "light"
     },
     "output_type": "display_data"
    }
   ],
   "source": [
    "# 男性データ\n",
    "\n",
    "fig = plt.figure(figsize=(10,30))\n",
    "\n",
    "for i in range(len(num_list)):\n",
    "    plt.subplot(9, 1, i+1)\n",
    "    plt.title(num_list[i])\n",
    "    plt.scatter(train_M['disease'], train_M[num_list[i]])\n",
    "\n",
    "plt.tight_layout()"
   ]
  },
  {
   "cell_type": "code",
   "execution_count": 29,
   "metadata": {},
   "outputs": [
    {
     "data": {
      "image/png": "[encoded data removed]",
      "text/plain": [
       "<Figure size 720x2160 with 9 Axes>"
      ]
     },
     "metadata": {
      "needs_background": "light"
     },
     "output_type": "display_data"
    }
   ],
   "source": [
    "# 女性データ\n",
    "\n",
    "fig = plt.figure(figsize=(10,30))\n",
    "\n",
    "for i in range(len(num_list)):\n",
    "    plt.subplot(9, 1, i+1)\n",
    "    plt.title(num_list[i])\n",
    "    plt.scatter(train_F['disease'], train_F[num_list[i]])\n",
    "\n",
    "plt.tight_layout()"
   ]
  },
  {
   "cell_type": "code",
   "execution_count": 30,
   "metadata": {},
   "outputs": [
    {
     "data": {
      "text/html": [
       "<div>\n",
       "<style scoped>\n",
       "    .dataframe tbody tr th:only-of-type {\n",
       "        vertical-align: middle;\n",
       "    }\n",
       "\n",
       "    .dataframe tbody tr th {\n",
       "        vertical-align: top;\n",
       "    }\n",
       "\n",
       "    .dataframe thead th {\n",
       "        text-align: right;\n",
       "    }\n",
       "</style>\n",
       "<table border=\"1\" class=\"dataframe\">\n",
       "  <thead>\n",
       "    <tr style=\"text-align: right;\">\n",
       "      <th></th>\n",
       "      <th>Age</th>\n",
       "      <th>Gender</th>\n",
       "      <th>T_Bil</th>\n",
       "      <th>D_Bil</th>\n",
       "      <th>ALP</th>\n",
       "      <th>ALT_GPT</th>\n",
       "      <th>AST_GOT</th>\n",
       "      <th>TP</th>\n",
       "      <th>Alb</th>\n",
       "      <th>AG_ratio</th>\n",
       "      <th>disease</th>\n",
       "    </tr>\n",
       "  </thead>\n",
       "  <tbody>\n",
       "    <tr>\n",
       "      <th>245</th>\n",
       "      <td>34</td>\n",
       "      <td>0</td>\n",
       "      <td>0.779795</td>\n",
       "      <td>0.778945</td>\n",
       "      <td>199.738489</td>\n",
       "      <td>7.030325</td>\n",
       "      <td>22.454672</td>\n",
       "      <td>7.296740</td>\n",
       "      <td>3.543444</td>\n",
       "      <td>1.323986</td>\n",
       "      <td>0</td>\n",
       "    </tr>\n",
       "    <tr>\n",
       "      <th>463</th>\n",
       "      <td>29</td>\n",
       "      <td>0</td>\n",
       "      <td>0.640436</td>\n",
       "      <td>0.414276</td>\n",
       "      <td>227.812485</td>\n",
       "      <td>24.221439</td>\n",
       "      <td>32.898855</td>\n",
       "      <td>6.633787</td>\n",
       "      <td>3.099435</td>\n",
       "      <td>0.959628</td>\n",
       "      <td>0</td>\n",
       "    </tr>\n",
       "    <tr>\n",
       "      <th>551</th>\n",
       "      <td>65</td>\n",
       "      <td>0</td>\n",
       "      <td>0.871189</td>\n",
       "      <td>0.375350</td>\n",
       "      <td>213.984334</td>\n",
       "      <td>20.436720</td>\n",
       "      <td>49.749406</td>\n",
       "      <td>7.564694</td>\n",
       "      <td>3.618911</td>\n",
       "      <td>1.251209</td>\n",
       "      <td>0</td>\n",
       "    </tr>\n",
       "    <tr>\n",
       "      <th>839</th>\n",
       "      <td>36</td>\n",
       "      <td>0</td>\n",
       "      <td>0.767723</td>\n",
       "      <td>0.380726</td>\n",
       "      <td>230.579746</td>\n",
       "      <td>28.375602</td>\n",
       "      <td>29.227216</td>\n",
       "      <td>5.954977</td>\n",
       "      <td>3.145970</td>\n",
       "      <td>1.251669</td>\n",
       "      <td>0</td>\n",
       "    </tr>\n",
       "  </tbody>\n",
       "</table>\n",
       "</div>"
      ],
      "text/plain": [
       "     Age  Gender     T_Bil     D_Bil         ALP    ALT_GPT    AST_GOT  \\\n",
       "245   34       0  0.779795  0.778945  199.738489   7.030325  22.454672   \n",
       "463   29       0  0.640436  0.414276  227.812485  24.221439  32.898855   \n",
       "551   65       0  0.871189  0.375350  213.984334  20.436720  49.749406   \n",
       "839   36       0  0.767723  0.380726  230.579746  28.375602  29.227216   \n",
       "\n",
       "           TP       Alb  AG_ratio  disease  \n",
       "245  7.296740  3.543444  1.323986        0  \n",
       "463  6.633787  3.099435  0.959628        0  \n",
       "551  7.564694  3.618911  1.251209        0  \n",
       "839  5.954977  3.145970  1.251669        0  "
      ]
     },
     "metadata": {},
     "output_type": "display_data"
    },
    {
     "data": {
      "text/html": [
       "<div>\n",
       "<style scoped>\n",
       "    .dataframe tbody tr th:only-of-type {\n",
       "        vertical-align: middle;\n",
       "    }\n",
       "\n",
       "    .dataframe tbody tr th {\n",
       "        vertical-align: top;\n",
       "    }\n",
       "\n",
       "    .dataframe thead th {\n",
       "        text-align: right;\n",
       "    }\n",
       "</style>\n",
       "<table border=\"1\" class=\"dataframe\">\n",
       "  <thead>\n",
       "    <tr style=\"text-align: right;\">\n",
       "      <th></th>\n",
       "      <th>Age</th>\n",
       "      <th>Gender</th>\n",
       "      <th>T_Bil</th>\n",
       "      <th>D_Bil</th>\n",
       "      <th>ALP</th>\n",
       "      <th>ALT_GPT</th>\n",
       "      <th>AST_GOT</th>\n",
       "      <th>TP</th>\n",
       "      <th>Alb</th>\n",
       "      <th>AG_ratio</th>\n",
       "      <th>disease</th>\n",
       "    </tr>\n",
       "  </thead>\n",
       "  <tbody>\n",
       "    <tr>\n",
       "      <th>133</th>\n",
       "      <td>32</td>\n",
       "      <td>0</td>\n",
       "      <td>0.766545</td>\n",
       "      <td>0.498794</td>\n",
       "      <td>230.257096</td>\n",
       "      <td>26.590234</td>\n",
       "      <td>27.378936</td>\n",
       "      <td>6.814849</td>\n",
       "      <td>3.142696</td>\n",
       "      <td>0.995753</td>\n",
       "      <td>1</td>\n",
       "    </tr>\n",
       "  </tbody>\n",
       "</table>\n",
       "</div>"
      ],
      "text/plain": [
       "     Age  Gender     T_Bil     D_Bil         ALP    ALT_GPT    AST_GOT  \\\n",
       "133   32       0  0.766545  0.498794  230.257096  26.590234  27.378936   \n",
       "\n",
       "           TP       Alb  AG_ratio  disease  \n",
       "133  6.814849  3.142696  0.995753        1  "
      ]
     },
     "metadata": {},
     "output_type": "display_data"
    }
   ],
   "source": [
    "# D-Bil 削除対象\n",
    "display(train_F[(train['D_Bil']>0.3) & (train['disease']==0)])\n",
    "\n",
    "train_F = train_F.drop(train_F[(train['D_Bil']>0.3) & (train['disease']==0)].index)\n",
    "\n",
    "display(train_F[(train['D_Bil']>0.4) & (train['disease']==1)])\n",
    "\n",
    "train_F = train_F.drop(train_F[(train['D_Bil']>0.4) & (train['disease']==1)].index)"
   ]
  },
  {
   "cell_type": "code",
   "execution_count": 31,
   "metadata": {},
   "outputs": [
    {
     "data": {
      "text/html": [
       "<div>\n",
       "<style scoped>\n",
       "    .dataframe tbody tr th:only-of-type {\n",
       "        vertical-align: middle;\n",
       "    }\n",
       "\n",
       "    .dataframe tbody tr th {\n",
       "        vertical-align: top;\n",
       "    }\n",
       "\n",
       "    .dataframe thead th {\n",
       "        text-align: right;\n",
       "    }\n",
       "</style>\n",
       "<table border=\"1\" class=\"dataframe\">\n",
       "  <thead>\n",
       "    <tr style=\"text-align: right;\">\n",
       "      <th></th>\n",
       "      <th>Age</th>\n",
       "      <th>Gender</th>\n",
       "      <th>T_Bil</th>\n",
       "      <th>D_Bil</th>\n",
       "      <th>ALP</th>\n",
       "      <th>ALT_GPT</th>\n",
       "      <th>AST_GOT</th>\n",
       "      <th>TP</th>\n",
       "      <th>Alb</th>\n",
       "      <th>AG_ratio</th>\n",
       "      <th>disease</th>\n",
       "    </tr>\n",
       "  </thead>\n",
       "  <tbody>\n",
       "    <tr>\n",
       "      <th>531</th>\n",
       "      <td>51</td>\n",
       "      <td>0</td>\n",
       "      <td>0.763286</td>\n",
       "      <td>0.188452</td>\n",
       "      <td>2032.29066</td>\n",
       "      <td>43.7834</td>\n",
       "      <td>68.801471</td>\n",
       "      <td>8.593563</td>\n",
       "      <td>3.641546</td>\n",
       "      <td>1.000775</td>\n",
       "      <td>1</td>\n",
       "    </tr>\n",
       "  </tbody>\n",
       "</table>\n",
       "</div>"
      ],
      "text/plain": [
       "     Age  Gender     T_Bil     D_Bil         ALP  ALT_GPT    AST_GOT  \\\n",
       "531   51       0  0.763286  0.188452  2032.29066  43.7834  68.801471   \n",
       "\n",
       "           TP       Alb  AG_ratio  disease  \n",
       "531  8.593563  3.641546  1.000775        1  "
      ]
     },
     "metadata": {},
     "output_type": "display_data"
    }
   ],
   "source": [
    "# ALT_GPT 削除対象\n",
    "display(train_F[(train['ALT_GPT']>40) & (train['disease']==1)])\n",
    "\n",
    "train_F = train_F.drop(train_F[(train['ALT_GPT']>40) & (train['disease']==1)].index)"
   ]
  },
  {
   "cell_type": "code",
   "execution_count": 32,
   "metadata": {},
   "outputs": [
    {
     "data": {
      "text/html": [
       "<div>\n",
       "<style scoped>\n",
       "    .dataframe tbody tr th:only-of-type {\n",
       "        vertical-align: middle;\n",
       "    }\n",
       "\n",
       "    .dataframe tbody tr th {\n",
       "        vertical-align: top;\n",
       "    }\n",
       "\n",
       "    .dataframe thead th {\n",
       "        text-align: right;\n",
       "    }\n",
       "</style>\n",
       "<table border=\"1\" class=\"dataframe\">\n",
       "  <thead>\n",
       "    <tr style=\"text-align: right;\">\n",
       "      <th></th>\n",
       "      <th>Age</th>\n",
       "      <th>Gender</th>\n",
       "      <th>T_Bil</th>\n",
       "      <th>D_Bil</th>\n",
       "      <th>ALP</th>\n",
       "      <th>ALT_GPT</th>\n",
       "      <th>AST_GOT</th>\n",
       "      <th>TP</th>\n",
       "      <th>Alb</th>\n",
       "      <th>AG_ratio</th>\n",
       "      <th>disease</th>\n",
       "    </tr>\n",
       "  </thead>\n",
       "  <tbody>\n",
       "    <tr>\n",
       "      <th>742</th>\n",
       "      <td>65</td>\n",
       "      <td>0</td>\n",
       "      <td>0.874874</td>\n",
       "      <td>0.129171</td>\n",
       "      <td>223.130109</td>\n",
       "      <td>9.358009</td>\n",
       "      <td>24.40372</td>\n",
       "      <td>5.84459</td>\n",
       "      <td>2.594056</td>\n",
       "      <td>0.732968</td>\n",
       "      <td>0</td>\n",
       "    </tr>\n",
       "  </tbody>\n",
       "</table>\n",
       "</div>"
      ],
      "text/plain": [
       "     Age  Gender     T_Bil     D_Bil         ALP   ALT_GPT   AST_GOT       TP  \\\n",
       "742   65       0  0.874874  0.129171  223.130109  9.358009  24.40372  5.84459   \n",
       "\n",
       "          Alb  AG_ratio  disease  \n",
       "742  2.594056  0.732968        0  "
      ]
     },
     "metadata": {},
     "output_type": "display_data"
    },
    {
     "data": {
      "text/html": [
       "<div>\n",
       "<style scoped>\n",
       "    .dataframe tbody tr th:only-of-type {\n",
       "        vertical-align: middle;\n",
       "    }\n",
       "\n",
       "    .dataframe tbody tr th {\n",
       "        vertical-align: top;\n",
       "    }\n",
       "\n",
       "    .dataframe thead th {\n",
       "        text-align: right;\n",
       "    }\n",
       "</style>\n",
       "<table border=\"1\" class=\"dataframe\">\n",
       "  <thead>\n",
       "    <tr style=\"text-align: right;\">\n",
       "      <th></th>\n",
       "      <th>Age</th>\n",
       "      <th>Gender</th>\n",
       "      <th>T_Bil</th>\n",
       "      <th>D_Bil</th>\n",
       "      <th>ALP</th>\n",
       "      <th>ALT_GPT</th>\n",
       "      <th>AST_GOT</th>\n",
       "      <th>TP</th>\n",
       "      <th>Alb</th>\n",
       "      <th>AG_ratio</th>\n",
       "      <th>disease</th>\n",
       "    </tr>\n",
       "  </thead>\n",
       "  <tbody>\n",
       "    <tr>\n",
       "      <th>122</th>\n",
       "      <td>26</td>\n",
       "      <td>0</td>\n",
       "      <td>0.929387</td>\n",
       "      <td>0.219455</td>\n",
       "      <td>221.638808</td>\n",
       "      <td>18.849006</td>\n",
       "      <td>28.203091</td>\n",
       "      <td>6.733713</td>\n",
       "      <td>4.146694</td>\n",
       "      <td>1.666130</td>\n",
       "      <td>1</td>\n",
       "    </tr>\n",
       "    <tr>\n",
       "      <th>147</th>\n",
       "      <td>26</td>\n",
       "      <td>0</td>\n",
       "      <td>1.040998</td>\n",
       "      <td>0.246085</td>\n",
       "      <td>638.268972</td>\n",
       "      <td>21.303000</td>\n",
       "      <td>25.181641</td>\n",
       "      <td>6.889561</td>\n",
       "      <td>4.161659</td>\n",
       "      <td>1.648163</td>\n",
       "      <td>1</td>\n",
       "    </tr>\n",
       "  </tbody>\n",
       "</table>\n",
       "</div>"
      ],
      "text/plain": [
       "     Age  Gender     T_Bil     D_Bil         ALP    ALT_GPT    AST_GOT  \\\n",
       "122   26       0  0.929387  0.219455  221.638808  18.849006  28.203091   \n",
       "147   26       0  1.040998  0.246085  638.268972  21.303000  25.181641   \n",
       "\n",
       "           TP       Alb  AG_ratio  disease  \n",
       "122  6.733713  4.146694  1.666130        1  \n",
       "147  6.889561  4.161659  1.648163        1  "
      ]
     },
     "metadata": {},
     "output_type": "display_data"
    }
   ],
   "source": [
    "# AG_ratio 削除対象\n",
    "display(train_F[(train['AG_ratio']<0.8) & (train['disease']==0)])\n",
    "\n",
    "train_F = train_F.drop(train_F[(train['AG_ratio']<0.8) & (train['disease']==0)].index)\n",
    "\n",
    "display(train_F[(train['AG_ratio']>1.5) & (train['disease']==1)])\n",
    "\n",
    "train_F = train_F.drop(train_F[(train['AG_ratio']>1.5) & (train['disease']==1)].index)"
   ]
  },
  {
   "cell_type": "markdown",
   "metadata": {},
   "source": [
    "### ホールドアウト法"
   ]
  },
  {
   "cell_type": "code",
   "execution_count": 33,
   "metadata": {},
   "outputs": [],
   "source": [
    "# 男性データ\n",
    "X_train_M, X_test_M, y_train_M, y_test_M = train_test_split(train_M[features], \n",
    "                                                    train_M[\"disease\"], test_size=0.3, random_state=42)"
   ]
  },
  {
   "cell_type": "code",
   "execution_count": 34,
   "metadata": {},
   "outputs": [],
   "source": [
    "# 女性データ\n",
    "X_train_F, X_test_F, y_train_F, y_test_F = train_test_split(train_F[features], \n",
    "                                                    train_F[\"disease\"], test_size=0.3, random_state=42)"
   ]
  },
  {
   "cell_type": "markdown",
   "metadata": {},
   "source": [
    "### 学習"
   ]
  },
  {
   "cell_type": "markdown",
   "metadata": {},
   "source": [
    "#### lightGBM"
   ]
  },
  {
   "cell_type": "code",
   "execution_count": 35,
   "metadata": {},
   "outputs": [],
   "source": [
    "# 男性データ\n",
    "train_set_M = lgb.Dataset(X_train_M, y_train_M)\n",
    "val_set_M = lgb.Dataset(X_test_M, y_test_M, reference=train_set_M)"
   ]
  },
  {
   "cell_type": "code",
   "execution_count": 36,
   "metadata": {},
   "outputs": [],
   "source": [
    "# 女性データ\n",
    "train_set_F = lgb.Dataset(X_train_F, y_train_F)\n",
    "val_set_F = lgb.Dataset(X_test_F, y_test_F, reference=train_set_F)"
   ]
  },
  {
   "cell_type": "code",
   "execution_count": 37,
   "metadata": {},
   "outputs": [],
   "source": [
    "params = {\n",
    "    'boosting_type': 'gbdt',\n",
    "    'metric': 'auc',\n",
    "    'objective': 'binary',\n",
    "    'verbosity': -1,\n",
    "    'seed': 42,\n",
    "    'learning_rate': 0.1,\n",
    "    'bagging_fraction': 0.75,\n",
    "    'bagging_freq': 10, \n",
    "    'colsample_bytree': 0.75,\n",
    "}"
   ]
  },
  {
   "cell_type": "code",
   "execution_count": 38,
   "metadata": {
    "collapsed": true,
    "jupyter": {
     "outputs_hidden": true
    }
   },
   "outputs": [
    {
     "name": "stderr",
     "output_type": "stream",
     "text": [
      "feature_fraction, val_score: -inf:   0%|          | 0/7 [00:00<?, ?it/s]"
     ]
    },
    {
     "name": "stdout",
     "output_type": "stream",
     "text": [
      "Training until validation scores don't improve for 100 rounds\n",
      "[50]\tvalid_0's auc: 0.956832\n",
      "[100]\tvalid_0's auc: 0.952233\n",
      "Early stopping, best iteration is:\n",
      "[44]\tvalid_0's auc: 0.958896\n"
     ]
    },
    {
     "name": "stderr",
     "output_type": "stream",
     "text": [
      "feature_fraction, val_score: 0.958896:  14%|#4        | 1/7 [00:00<00:02,  2.35it/s][I 2020-09-26 19:26:25,241] Finished trial#0 with value: 0.9588963963963963 with parameters: {'feature_fraction': 0.8999999999999999}. Best is trial#0 with value: 0.9588963963963963.\n",
      "feature_fraction, val_score: 0.958896:  14%|#4        | 1/7 [00:00<00:02,  2.35it/s]"
     ]
    },
    {
     "name": "stdout",
     "output_type": "stream",
     "text": [
      "Training until validation scores don't improve for 100 rounds\n",
      "[50]\tvalid_0's auc: 0.946227\n",
      "[100]\tvalid_0's auc: 0.949794\n",
      "[150]\tvalid_0's auc: 0.948104\n",
      "[200]\tvalid_0's auc: 0.947447\n",
      "Early stopping, best iteration is:\n",
      "[131]\tvalid_0's auc: 0.951014\n"
     ]
    },
    {
     "name": "stderr",
     "output_type": "stream",
     "text": [
      "feature_fraction, val_score: 0.958896:  29%|##8       | 2/7 [00:01<00:02,  2.09it/s][I 2020-09-26 19:26:25,852] Finished trial#1 with value: 0.9510135135135135 with parameters: {'feature_fraction': 0.4}. Best is trial#0 with value: 0.9588963963963963.\n",
      "feature_fraction, val_score: 0.958896:  29%|##8       | 2/7 [00:01<00:02,  2.09it/s]"
     ]
    },
    {
     "name": "stdout",
     "output_type": "stream",
     "text": [
      "Training until validation scores don't improve for 100 rounds\n",
      "[50]\tvalid_0's auc: 0.95045\n",
      "[100]\tvalid_0's auc: 0.951295\n",
      "Early stopping, best iteration is:\n",
      "[16]\tvalid_0's auc: 0.952937\n"
     ]
    },
    {
     "name": "stderr",
     "output_type": "stream",
     "text": [
      "feature_fraction, val_score: 0.958896:  43%|####2     | 3/7 [00:01<00:01,  2.24it/s][I 2020-09-26 19:26:26,223] Finished trial#2 with value: 0.9529373123123123 with parameters: {'feature_fraction': 1.0}. Best is trial#0 with value: 0.9588963963963963.\n",
      "feature_fraction, val_score: 0.958896:  43%|####2     | 3/7 [00:01<00:01,  2.24it/s]"
     ]
    },
    {
     "name": "stdout",
     "output_type": "stream",
     "text": [
      "Training until validation scores don't improve for 100 rounds\n",
      "[50]\tvalid_0's auc: 0.948574\n",
      "[100]\tvalid_0's auc: 0.951764\n",
      "Early stopping, best iteration is:\n",
      "[20]\tvalid_0's auc: 0.954767\n"
     ]
    },
    {
     "name": "stderr",
     "output_type": "stream",
     "text": [
      "feature_fraction, val_score: 0.958896:  57%|#####7    | 4/7 [00:01<00:01,  2.36it/s][I 2020-09-26 19:26:26,595] Finished trial#3 with value: 0.9547672672672672 with parameters: {'feature_fraction': 0.6}. Best is trial#0 with value: 0.9588963963963963.\n",
      "feature_fraction, val_score: 0.958896:  57%|#####7    | 4/7 [00:01<00:01,  2.36it/s]"
     ]
    },
    {
     "name": "stdout",
     "output_type": "stream",
     "text": [
      "Training until validation scores don't improve for 100 rounds\n",
      "[50]\tvalid_0's auc: 0.951107\n",
      "[100]\tvalid_0's auc: 0.95092\n",
      "[150]\tvalid_0's auc: 0.957113\n",
      "[200]\tvalid_0's auc: 0.954017\n",
      "[250]\tvalid_0's auc: 0.954204\n",
      "Early stopping, best iteration is:\n",
      "[152]\tvalid_0's auc: 0.957864\n"
     ]
    },
    {
     "name": "stderr",
     "output_type": "stream",
     "text": [
      "feature_fraction, val_score: 0.958896:  71%|#######1  | 5/7 [00:02<00:00,  2.07it/s][I 2020-09-26 19:26:27,207] Finished trial#4 with value: 0.9578641141141141 with parameters: {'feature_fraction': 0.7}. Best is trial#0 with value: 0.9588963963963963.\n",
      "feature_fraction, val_score: 0.958896:  71%|#######1  | 5/7 [00:02<00:00,  2.07it/s]"
     ]
    },
    {
     "name": "stdout",
     "output_type": "stream",
     "text": [
      "Training until validation scores don't improve for 100 rounds\n",
      "[50]\tvalid_0's auc: 0.951107\n",
      "[100]\tvalid_0's auc: 0.95092\n",
      "[150]\tvalid_0's auc: 0.957113\n",
      "[200]\tvalid_0's auc: 0.954017\n",
      "[250]\tvalid_0's auc: 0.954204\n",
      "Early stopping, best iteration is:\n",
      "[152]\tvalid_0's auc: 0.957864\n"
     ]
    },
    {
     "name": "stderr",
     "output_type": "stream",
     "text": [
      "feature_fraction, val_score: 0.958896:  86%|########5 | 6/7 [00:03<00:00,  1.90it/s][I 2020-09-26 19:26:27,846] Finished trial#5 with value: 0.9578641141141141 with parameters: {'feature_fraction': 0.8}. Best is trial#0 with value: 0.9588963963963963.\n",
      "feature_fraction, val_score: 0.958896:  86%|########5 | 6/7 [00:03<00:00,  1.90it/s]"
     ]
    },
    {
     "name": "stdout",
     "output_type": "stream",
     "text": [
      "Training until validation scores don't improve for 100 rounds\n",
      "[50]\tvalid_0's auc: 0.940128\n",
      "[100]\tvalid_0's auc: 0.943131\n",
      "[150]\tvalid_0's auc: 0.938626\n",
      "Early stopping, best iteration is:\n",
      "[99]\tvalid_0's auc: 0.943881\n"
     ]
    },
    {
     "name": "stderr",
     "output_type": "stream",
     "text": [
      "feature_fraction, val_score: 0.958896: 100%|##########| 7/7 [00:03<00:00,  1.83it/s][I 2020-09-26 19:26:28,446] Finished trial#6 with value: 0.9438813813813813 with parameters: {'feature_fraction': 0.5}. Best is trial#0 with value: 0.9588963963963963.\n",
      "feature_fraction, val_score: 0.958896: 100%|##########| 7/7 [00:03<00:00,  1.86it/s]\n",
      "num_leaves, val_score: 0.958896:   0%|          | 0/20 [00:00<?, ?it/s]"
     ]
    },
    {
     "name": "stdout",
     "output_type": "stream",
     "text": [
      "Training until validation scores don't improve for 100 rounds\n",
      "[50]\tvalid_0's auc: 0.956832\n",
      "[100]\tvalid_0's auc: 0.952233\n",
      "Early stopping, best iteration is:\n",
      "[44]\tvalid_0's auc: 0.958896\n"
     ]
    },
    {
     "name": "stderr",
     "output_type": "stream",
     "text": [
      "num_leaves, val_score: 0.958896:   5%|5         | 1/20 [00:00<00:07,  2.45it/s][I 2020-09-26 19:26:29,018] Finished trial#7 with value: 0.9588963963963963 with parameters: {'num_leaves': 195}. Best is trial#7 with value: 0.9588963963963963.\n",
      "num_leaves, val_score: 0.958896:   5%|5         | 1/20 [00:00<00:07,  2.45it/s]"
     ]
    },
    {
     "name": "stdout",
     "output_type": "stream",
     "text": [
      "Training until validation scores don't improve for 100 rounds\n",
      "[50]\tvalid_0's auc: 0.956832\n",
      "[100]\tvalid_0's auc: 0.952233\n",
      "Early stopping, best iteration is:\n",
      "[44]\tvalid_0's auc: 0.958896\n"
     ]
    },
    {
     "name": "stderr",
     "output_type": "stream",
     "text": [
      "num_leaves, val_score: 0.958896:  10%|#         | 2/20 [00:00<00:07,  2.44it/s][I 2020-09-26 19:26:29,428] Finished trial#8 with value: 0.9588963963963963 with parameters: {'num_leaves': 226}. Best is trial#7 with value: 0.9588963963963963.\n",
      "num_leaves, val_score: 0.958896:  10%|#         | 2/20 [00:00<00:07,  2.44it/s]"
     ]
    },
    {
     "name": "stdout",
     "output_type": "stream",
     "text": [
      "Training until validation scores don't improve for 100 rounds\n",
      "[50]\tvalid_0's auc: 0.956832\n",
      "[100]\tvalid_0's auc: 0.952233\n",
      "Early stopping, best iteration is:\n",
      "[44]\tvalid_0's auc: 0.958896\n"
     ]
    },
    {
     "name": "stderr",
     "output_type": "stream",
     "text": [
      "num_leaves, val_score: 0.958896:  15%|#5        | 3/20 [00:01<00:06,  2.46it/s][I 2020-09-26 19:26:29,832] Finished trial#9 with value: 0.9588963963963963 with parameters: {'num_leaves': 158}. Best is trial#7 with value: 0.9588963963963963.\n",
      "num_leaves, val_score: 0.958896:  15%|#5        | 3/20 [00:01<00:06,  2.46it/s]"
     ]
    },
    {
     "name": "stdout",
     "output_type": "stream",
     "text": [
      "Training until validation scores don't improve for 100 rounds\n",
      "[50]\tvalid_0's auc: 0.955424\n",
      "[100]\tvalid_0's auc: 0.949137\n",
      "[150]\tvalid_0's auc: 0.954392\n",
      "Early stopping, best iteration is:\n",
      "[51]\tvalid_0's auc: 0.956738\n"
     ]
    },
    {
     "name": "stderr",
     "output_type": "stream",
     "text": [
      "num_leaves, val_score: 0.958896:  20%|##        | 4/20 [00:01<00:06,  2.53it/s][I 2020-09-26 19:26:30,202] Finished trial#10 with value: 0.956737987987988 with parameters: {'num_leaves': 8}. Best is trial#7 with value: 0.9588963963963963.\n",
      "num_leaves, val_score: 0.958896:  20%|##        | 4/20 [00:01<00:06,  2.53it/s]"
     ]
    },
    {
     "name": "stdout",
     "output_type": "stream",
     "text": [
      "Training until validation scores don't improve for 100 rounds\n",
      "[50]\tvalid_0's auc: 0.956832\n",
      "[100]\tvalid_0's auc: 0.952233\n",
      "Early stopping, best iteration is:\n",
      "[44]\tvalid_0's auc: 0.958896\n"
     ]
    },
    {
     "name": "stderr",
     "output_type": "stream",
     "text": [
      "num_leaves, val_score: 0.958896:  25%|##5       | 5/20 [00:01<00:05,  2.52it/s][I 2020-09-26 19:26:30,599] Finished trial#11 with value: 0.9588963963963963 with parameters: {'num_leaves': 33}. Best is trial#7 with value: 0.9588963963963963.\n",
      "num_leaves, val_score: 0.958896:  25%|##5       | 5/20 [00:02<00:05,  2.52it/s]"
     ]
    },
    {
     "name": "stdout",
     "output_type": "stream",
     "text": [
      "Training until validation scores don't improve for 100 rounds\n",
      "[50]\tvalid_0's auc: 0.956832\n",
      "[100]\tvalid_0's auc: 0.952233\n",
      "Early stopping, best iteration is:\n",
      "[44]\tvalid_0's auc: 0.958896\n"
     ]
    },
    {
     "name": "stderr",
     "output_type": "stream",
     "text": [
      "num_leaves, val_score: 0.958896:  30%|###       | 6/20 [00:02<00:05,  2.44it/s][I 2020-09-26 19:26:31,038] Finished trial#12 with value: 0.9588963963963963 with parameters: {'num_leaves': 35}. Best is trial#7 with value: 0.9588963963963963.\n",
      "num_leaves, val_score: 0.958896:  30%|###       | 6/20 [00:02<00:05,  2.44it/s]"
     ]
    },
    {
     "name": "stdout",
     "output_type": "stream",
     "text": [
      "Training until validation scores don't improve for 100 rounds\n",
      "[50]\tvalid_0's auc: 0.956832\n",
      "[100]\tvalid_0's auc: 0.952233\n",
      "Early stopping, best iteration is:\n",
      "[44]\tvalid_0's auc: 0.958896\n"
     ]
    },
    {
     "name": "stderr",
     "output_type": "stream",
     "text": [
      "num_leaves, val_score: 0.958896:  35%|###5      | 7/20 [00:02<00:05,  2.42it/s][I 2020-09-26 19:26:31,459] Finished trial#13 with value: 0.9588963963963963 with parameters: {'num_leaves': 123}. Best is trial#7 with value: 0.9588963963963963.\n",
      "num_leaves, val_score: 0.958896:  35%|###5      | 7/20 [00:02<00:05,  2.42it/s]"
     ]
    },
    {
     "name": "stdout",
     "output_type": "stream",
     "text": [
      "Training until validation scores don't improve for 100 rounds\n",
      "[50]\tvalid_0's auc: 0.956832\n",
      "[100]\tvalid_0's auc: 0.952233\n",
      "Early stopping, best iteration is:\n",
      "[44]\tvalid_0's auc: 0.958896\n"
     ]
    },
    {
     "name": "stderr",
     "output_type": "stream",
     "text": [
      "num_leaves, val_score: 0.958896:  40%|####      | 8/20 [00:03<00:04,  2.41it/s][I 2020-09-26 19:26:31,882] Finished trial#14 with value: 0.9588963963963963 with parameters: {'num_leaves': 62}. Best is trial#7 with value: 0.9588963963963963.\n",
      "num_leaves, val_score: 0.958896:  40%|####      | 8/20 [00:03<00:04,  2.41it/s]"
     ]
    },
    {
     "name": "stdout",
     "output_type": "stream",
     "text": [
      "Training until validation scores don't improve for 100 rounds\n",
      "[50]\tvalid_0's auc: 0.956832\n",
      "[100]\tvalid_0's auc: 0.952233\n",
      "Early stopping, best iteration is:\n",
      "[44]\tvalid_0's auc: 0.958896\n"
     ]
    },
    {
     "name": "stderr",
     "output_type": "stream",
     "text": [
      "num_leaves, val_score: 0.958896:  45%|####5     | 9/20 [00:03<00:04,  2.40it/s][I 2020-09-26 19:26:32,301] Finished trial#15 with value: 0.9588963963963963 with parameters: {'num_leaves': 49}. Best is trial#7 with value: 0.9588963963963963.\n",
      "num_leaves, val_score: 0.958896:  45%|####5     | 9/20 [00:03<00:04,  2.40it/s]"
     ]
    },
    {
     "name": "stdout",
     "output_type": "stream",
     "text": [
      "Training until validation scores don't improve for 100 rounds\n",
      "[50]\tvalid_0's auc: 0.956832\n",
      "[100]\tvalid_0's auc: 0.952233\n",
      "Early stopping, best iteration is:\n",
      "[44]\tvalid_0's auc: 0.958896\n"
     ]
    },
    {
     "name": "stderr",
     "output_type": "stream",
     "text": [
      "num_leaves, val_score: 0.958896:  50%|#####     | 10/20 [00:04<00:04,  2.29it/s][I 2020-09-26 19:26:32,783] Finished trial#16 with value: 0.9588963963963963 with parameters: {'num_leaves': 17}. Best is trial#7 with value: 0.9588963963963963.\n",
      "num_leaves, val_score: 0.958896:  50%|#####     | 10/20 [00:04<00:04,  2.29it/s]"
     ]
    },
    {
     "name": "stdout",
     "output_type": "stream",
     "text": [
      "Training until validation scores don't improve for 100 rounds\n",
      "[50]\tvalid_0's auc: 0.956832\n",
      "[100]\tvalid_0's auc: 0.952233\n",
      "Early stopping, best iteration is:\n",
      "[44]\tvalid_0's auc: 0.958896\n"
     ]
    },
    {
     "name": "stderr",
     "output_type": "stream",
     "text": [
      "num_leaves, val_score: 0.958896:  55%|#####5    | 11/20 [00:04<00:03,  2.26it/s][I 2020-09-26 19:26:33,242] Finished trial#17 with value: 0.9588963963963963 with parameters: {'num_leaves': 256}. Best is trial#7 with value: 0.9588963963963963.\n",
      "num_leaves, val_score: 0.958896:  55%|#####5    | 11/20 [00:04<00:03,  2.26it/s]"
     ]
    },
    {
     "name": "stdout",
     "output_type": "stream",
     "text": [
      "Training until validation scores don't improve for 100 rounds\n",
      "[50]\tvalid_0's auc: 0.956832\n",
      "[100]\tvalid_0's auc: 0.952233\n",
      "Early stopping, best iteration is:\n",
      "[44]\tvalid_0's auc: 0.958896\n"
     ]
    },
    {
     "name": "stderr",
     "output_type": "stream",
     "text": [
      "num_leaves, val_score: 0.958896:  60%|######    | 12/20 [00:05<00:03,  2.24it/s][I 2020-09-26 19:26:33,694] Finished trial#18 with value: 0.9588963963963963 with parameters: {'num_leaves': 240}. Best is trial#7 with value: 0.9588963963963963.\n",
      "num_leaves, val_score: 0.958896:  60%|######    | 12/20 [00:05<00:03,  2.24it/s]"
     ]
    },
    {
     "name": "stdout",
     "output_type": "stream",
     "text": [
      "Training until validation scores don't improve for 100 rounds\n",
      "[50]\tvalid_0's auc: 0.956832\n",
      "[100]\tvalid_0's auc: 0.952233\n",
      "Early stopping, best iteration is:\n",
      "[44]\tvalid_0's auc: 0.958896\n"
     ]
    },
    {
     "name": "stderr",
     "output_type": "stream",
     "text": [
      "num_leaves, val_score: 0.958896:  65%|######5   | 13/20 [00:05<00:03,  2.23it/s][I 2020-09-26 19:26:34,142] Finished trial#19 with value: 0.9588963963963963 with parameters: {'num_leaves': 202}. Best is trial#7 with value: 0.9588963963963963.\n",
      "num_leaves, val_score: 0.958896:  65%|######5   | 13/20 [00:05<00:03,  2.23it/s]"
     ]
    },
    {
     "name": "stdout",
     "output_type": "stream",
     "text": [
      "Training until validation scores don't improve for 100 rounds\n",
      "[50]\tvalid_0's auc: 0.956832\n",
      "[100]\tvalid_0's auc: 0.952233\n",
      "Early stopping, best iteration is:\n",
      "[44]\tvalid_0's auc: 0.958896\n"
     ]
    },
    {
     "name": "stderr",
     "output_type": "stream",
     "text": [
      "num_leaves, val_score: 0.958896:  70%|#######   | 14/20 [00:06<00:02,  2.10it/s][I 2020-09-26 19:26:34,696] Finished trial#20 with value: 0.9588963963963963 with parameters: {'num_leaves': 198}. Best is trial#7 with value: 0.9588963963963963.\n",
      "num_leaves, val_score: 0.958896:  70%|#######   | 14/20 [00:06<00:02,  2.10it/s]"
     ]
    },
    {
     "name": "stdout",
     "output_type": "stream",
     "text": [
      "Training until validation scores don't improve for 100 rounds\n",
      "[50]\tvalid_0's auc: 0.956832\n",
      "[100]\tvalid_0's auc: 0.952233\n",
      "Early stopping, best iteration is:\n",
      "[44]\tvalid_0's auc: 0.958896\n"
     ]
    },
    {
     "name": "stderr",
     "output_type": "stream",
     "text": [
      "num_leaves, val_score: 0.958896:  75%|#######5  | 15/20 [00:06<00:02,  2.09it/s][I 2020-09-26 19:26:35,179] Finished trial#21 with value: 0.9588963963963963 with parameters: {'num_leaves': 213}. Best is trial#7 with value: 0.9588963963963963.\n",
      "num_leaves, val_score: 0.958896:  75%|#######5  | 15/20 [00:06<00:02,  2.09it/s]"
     ]
    },
    {
     "name": "stdout",
     "output_type": "stream",
     "text": [
      "Training until validation scores don't improve for 100 rounds\n",
      "[50]\tvalid_0's auc: 0.956832\n",
      "[100]\tvalid_0's auc: 0.952233\n",
      "Early stopping, best iteration is:\n",
      "[44]\tvalid_0's auc: 0.958896\n"
     ]
    },
    {
     "name": "stderr",
     "output_type": "stream",
     "text": [
      "num_leaves, val_score: 0.958896:  80%|########  | 16/20 [00:07<00:01,  2.04it/s][I 2020-09-26 19:26:35,688] Finished trial#22 with value: 0.9588963963963963 with parameters: {'num_leaves': 156}. Best is trial#7 with value: 0.9588963963963963.\n",
      "num_leaves, val_score: 0.958896:  80%|########  | 16/20 [00:07<00:01,  2.04it/s]"
     ]
    },
    {
     "name": "stdout",
     "output_type": "stream",
     "text": [
      "Training until validation scores don't improve for 100 rounds\n",
      "[50]\tvalid_0's auc: 0.956832\n",
      "[100]\tvalid_0's auc: 0.952233\n",
      "Early stopping, best iteration is:\n",
      "[44]\tvalid_0's auc: 0.958896\n"
     ]
    },
    {
     "name": "stderr",
     "output_type": "stream",
     "text": [
      "num_leaves, val_score: 0.958896:  85%|########5 | 17/20 [00:07<00:01,  2.05it/s][I 2020-09-26 19:26:36,166] Finished trial#23 with value: 0.9588963963963963 with parameters: {'num_leaves': 230}. Best is trial#7 with value: 0.9588963963963963.\n",
      "num_leaves, val_score: 0.958896:  85%|########5 | 17/20 [00:07<00:01,  2.05it/s]"
     ]
    },
    {
     "name": "stdout",
     "output_type": "stream",
     "text": [
      "Training until validation scores don't improve for 100 rounds\n",
      "[50]\tvalid_0's auc: 0.956832\n",
      "[100]\tvalid_0's auc: 0.952233\n",
      "Early stopping, best iteration is:\n",
      "[44]\tvalid_0's auc: 0.958896\n"
     ]
    },
    {
     "name": "stderr",
     "output_type": "stream",
     "text": [
      "num_leaves, val_score: 0.958896:  90%|######### | 18/20 [00:08<00:00,  2.09it/s][I 2020-09-26 19:26:36,627] Finished trial#24 with value: 0.9588963963963963 with parameters: {'num_leaves': 180}. Best is trial#7 with value: 0.9588963963963963.\n",
      "num_leaves, val_score: 0.958896:  90%|######### | 18/20 [00:08<00:00,  2.09it/s]"
     ]
    },
    {
     "name": "stdout",
     "output_type": "stream",
     "text": [
      "Training until validation scores don't improve for 100 rounds\n",
      "[50]\tvalid_0's auc: 0.956832\n",
      "[100]\tvalid_0's auc: 0.952233\n",
      "Early stopping, best iteration is:\n",
      "[44]\tvalid_0's auc: 0.958896\n"
     ]
    },
    {
     "name": "stderr",
     "output_type": "stream",
     "text": [
      "num_leaves, val_score: 0.958896:  95%|#########5| 19/20 [00:08<00:00,  2.06it/s][I 2020-09-26 19:26:37,132] Finished trial#25 with value: 0.9588963963963963 with parameters: {'num_leaves': 137}. Best is trial#7 with value: 0.9588963963963963.\n",
      "num_leaves, val_score: 0.958896:  95%|#########5| 19/20 [00:08<00:00,  2.06it/s]"
     ]
    },
    {
     "name": "stdout",
     "output_type": "stream",
     "text": [
      "Training until validation scores don't improve for 100 rounds\n",
      "[50]\tvalid_0's auc: 0.956832\n",
      "[100]\tvalid_0's auc: 0.952233\n",
      "Early stopping, best iteration is:\n",
      "[44]\tvalid_0's auc: 0.958896\n"
     ]
    },
    {
     "name": "stderr",
     "output_type": "stream",
     "text": [
      "num_leaves, val_score: 0.958896: 100%|##########| 20/20 [00:08<00:00,  2.09it/s][I 2020-09-26 19:26:37,594] Finished trial#26 with value: 0.9588963963963963 with parameters: {'num_leaves': 254}. Best is trial#7 with value: 0.9588963963963963.\n",
      "num_leaves, val_score: 0.958896: 100%|##########| 20/20 [00:09<00:00,  2.19it/s]\n",
      "bagging, val_score: 0.958896:   0%|          | 0/10 [00:00<?, ?it/s]"
     ]
    },
    {
     "name": "stdout",
     "output_type": "stream",
     "text": [
      "Training until validation scores don't improve for 100 rounds\n",
      "[50]\tvalid_0's auc: 0.953547\n",
      "[100]\tvalid_0's auc: 0.94726\n",
      "Early stopping, best iteration is:\n",
      "[29]\tvalid_0's auc: 0.956738\n"
     ]
    },
    {
     "name": "stderr",
     "output_type": "stream",
     "text": [
      "bagging, val_score: 0.958896:  10%|#         | 1/10 [00:00<00:01,  5.45it/s][I 2020-09-26 19:26:37,931] Finished trial#27 with value: 0.956737987987988 with parameters: {'bagging_fraction': 0.484176453343227, 'bagging_freq': 4}. Best is trial#27 with value: 0.956737987987988.\n",
      "bagging, val_score: 0.958896:  10%|#         | 1/10 [00:00<00:01,  5.45it/s]"
     ]
    },
    {
     "name": "stdout",
     "output_type": "stream",
     "text": [
      "Training until validation scores don't improve for 100 rounds\n",
      "[50]\tvalid_0's auc: 0.95167\n",
      "[100]\tvalid_0's auc: 0.957207\n",
      "[150]\tvalid_0's auc: 0.955049\n",
      "Early stopping, best iteration is:\n",
      "[90]\tvalid_0's auc: 0.959084\n"
     ]
    },
    {
     "name": "stderr",
     "output_type": "stream",
     "text": [
      "bagging, val_score: 0.959084:  20%|##        | 2/10 [00:00<00:02,  3.51it/s][I 2020-09-26 19:26:38,456] Finished trial#28 with value: 0.9590840840840841 with parameters: {'bagging_fraction': 0.7464750460410758, 'bagging_freq': 2}. Best is trial#28 with value: 0.9590840840840841.\n",
      "bagging, val_score: 0.959084:  20%|##        | 2/10 [00:00<00:02,  3.51it/s]"
     ]
    },
    {
     "name": "stdout",
     "output_type": "stream",
     "text": [
      "Training until validation scores don't improve for 100 rounds\n",
      "[50]\tvalid_0's auc: 0.957395\n",
      "[100]\tvalid_0's auc: 0.957301\n",
      "Early stopping, best iteration is:\n",
      "[38]\tvalid_0's auc: 0.95899\n"
     ]
    },
    {
     "name": "stderr",
     "output_type": "stream",
     "text": [
      "bagging, val_score: 0.959084:  30%|###       | 3/10 [00:01<00:02,  3.09it/s][I 2020-09-26 19:26:38,876] Finished trial#29 with value: 0.9589902402402403 with parameters: {'bagging_fraction': 0.7183281020961525, 'bagging_freq': 4}. Best is trial#28 with value: 0.9590840840840841.\n",
      "bagging, val_score: 0.959084:  30%|###       | 3/10 [00:01<00:02,  3.09it/s]"
     ]
    },
    {
     "name": "stdout",
     "output_type": "stream",
     "text": [
      "Training until validation scores don't improve for 100 rounds\n",
      "[50]\tvalid_0's auc: 0.953266\n",
      "[100]\tvalid_0's auc: 0.957113\n",
      "[150]\tvalid_0's auc: 0.95289\n",
      "Early stopping, best iteration is:\n",
      "[95]\tvalid_0's auc: 0.959929\n"
     ]
    },
    {
     "name": "stderr",
     "output_type": "stream",
     "text": [
      "bagging, val_score: 0.959929:  40%|####      | 4/10 [00:01<00:02,  2.81it/s][I 2020-09-26 19:26:39,306] Finished trial#30 with value: 0.9599286786786787 with parameters: {'bagging_fraction': 0.4334913081080033, 'bagging_freq': 6}. Best is trial#30 with value: 0.9599286786786787.\n",
      "bagging, val_score: 0.959929:  40%|####      | 4/10 [00:01<00:02,  2.81it/s]"
     ]
    },
    {
     "name": "stdout",
     "output_type": "stream",
     "text": [
      "Training until validation scores don't improve for 100 rounds\n",
      "[50]\tvalid_0's auc: 0.95214\n",
      "[100]\tvalid_0's auc: 0.94848\n",
      "[150]\tvalid_0's auc: 0.946978\n",
      "Early stopping, best iteration is:\n",
      "[52]\tvalid_0's auc: 0.95289\n"
     ]
    },
    {
     "name": "stderr",
     "output_type": "stream",
     "text": [
      "bagging, val_score: 0.959929:  50%|#####     | 5/10 [00:01<00:01,  2.72it/s][I 2020-09-26 19:26:39,701] Finished trial#31 with value: 0.9528903903903904 with parameters: {'bagging_fraction': 0.5344872716074379, 'bagging_freq': 7}. Best is trial#30 with value: 0.9599286786786787.\n",
      "bagging, val_score: 0.959929:  50%|#####     | 5/10 [00:02<00:01,  2.72it/s]"
     ]
    },
    {
     "name": "stdout",
     "output_type": "stream",
     "text": [
      "Training until validation scores don't improve for 100 rounds\n",
      "[50]\tvalid_0's auc: 0.951952\n",
      "[100]\tvalid_0's auc: 0.953641\n",
      "[150]\tvalid_0's auc: 0.95458\n",
      "[200]\tvalid_0's auc: 0.955518\n",
      "[250]\tvalid_0's auc: 0.954955\n",
      "[300]\tvalid_0's auc: 0.954767\n",
      "Early stopping, best iteration is:\n",
      "[215]\tvalid_0's auc: 0.95702\n"
     ]
    },
    {
     "name": "stderr",
     "output_type": "stream",
     "text": [
      "bagging, val_score: 0.959929:  60%|######    | 6/10 [00:02<00:02,  1.81it/s][I 2020-09-26 19:26:40,657] Finished trial#32 with value: 0.9570195195195195 with parameters: {'bagging_fraction': 0.9955354205868996, 'bagging_freq': 4}. Best is trial#30 with value: 0.9599286786786787.\n",
      "bagging, val_score: 0.959929:  60%|######    | 6/10 [00:03<00:02,  1.81it/s]"
     ]
    },
    {
     "name": "stdout",
     "output_type": "stream",
     "text": [
      "Training until validation scores don't improve for 100 rounds\n",
      "[50]\tvalid_0's auc: 0.951858\n",
      "[100]\tvalid_0's auc: 0.957395\n",
      "[150]\tvalid_0's auc: 0.953266\n",
      "Early stopping, best iteration is:\n",
      "[94]\tvalid_0's auc: 0.957676\n"
     ]
    },
    {
     "name": "stderr",
     "output_type": "stream",
     "text": [
      "bagging, val_score: 0.959929:  70%|#######   | 7/10 [00:03<00:01,  2.05it/s][I 2020-09-26 19:26:40,990] Finished trial#33 with value: 0.9576764264264265 with parameters: {'bagging_fraction': 0.7181501641245105, 'bagging_freq': 5}. Best is trial#30 with value: 0.9599286786786787.\n",
      "bagging, val_score: 0.959929:  70%|#######   | 7/10 [00:03<00:01,  2.05it/s]"
     ]
    },
    {
     "name": "stdout",
     "output_type": "stream",
     "text": [
      "Training until validation scores don't improve for 100 rounds\n",
      "[50]\tvalid_0's auc: 0.950169\n",
      "[100]\tvalid_0's auc: 0.95533\n",
      "[150]\tvalid_0's auc: 0.950638\n",
      "Early stopping, best iteration is:\n",
      "[91]\tvalid_0's auc: 0.957676\n"
     ]
    },
    {
     "name": "stderr",
     "output_type": "stream",
     "text": [
      "bagging, val_score: 0.959929:  80%|########  | 8/10 [00:03<00:00,  2.18it/s][I 2020-09-26 19:26:41,380] Finished trial#34 with value: 0.9576764264264265 with parameters: {'bagging_fraction': 0.6925955692916279, 'bagging_freq': 7}. Best is trial#30 with value: 0.9599286786786787.\n",
      "bagging, val_score: 0.959929:  80%|########  | 8/10 [00:03<00:00,  2.18it/s]"
     ]
    },
    {
     "name": "stdout",
     "output_type": "stream",
     "text": [
      "Training until validation scores don't improve for 100 rounds\n",
      "[50]\tvalid_0's auc: 0.958146\n",
      "[100]\tvalid_0's auc: 0.95655\n",
      "Early stopping, best iteration is:\n",
      "[42]\tvalid_0's auc: 0.95899\n"
     ]
    },
    {
     "name": "stderr",
     "output_type": "stream",
     "text": [
      "bagging, val_score: 0.959929:  90%|######### | 9/10 [00:03<00:00,  2.44it/s][I 2020-09-26 19:26:41,673] Finished trial#35 with value: 0.9589902402402403 with parameters: {'bagging_fraction': 0.6715149676244913, 'bagging_freq': 6}. Best is trial#30 with value: 0.9599286786786787.\n",
      "bagging, val_score: 0.959929:  90%|######### | 9/10 [00:04<00:00,  2.44it/s]"
     ]
    },
    {
     "name": "stdout",
     "output_type": "stream",
     "text": [
      "Training until validation scores don't improve for 100 rounds\n",
      "[50]\tvalid_0's auc: 0.947166\n",
      "[100]\tvalid_0's auc: 0.944632\n",
      "Early stopping, best iteration is:\n",
      "[41]\tvalid_0's auc: 0.951577\n"
     ]
    },
    {
     "name": "stderr",
     "output_type": "stream",
     "text": [
      "bagging, val_score: 0.959929: 100%|##########| 10/10 [00:04<00:00,  2.63it/s][I 2020-09-26 19:26:42,009] Finished trial#36 with value: 0.9515765765765766 with parameters: {'bagging_fraction': 0.5396767148135452, 'bagging_freq': 5}. Best is trial#30 with value: 0.9599286786786787.\n",
      "bagging, val_score: 0.959929: 100%|##########| 10/10 [00:04<00:00,  2.27it/s]\n",
      "feature_fraction_stage2, val_score: 0.959929:   0%|          | 0/6 [00:00<?, ?it/s]"
     ]
    },
    {
     "name": "stdout",
     "output_type": "stream",
     "text": [
      "Training until validation scores don't improve for 100 rounds\n",
      "[50]\tvalid_0's auc: 0.953266\n",
      "[100]\tvalid_0's auc: 0.957113\n",
      "[150]\tvalid_0's auc: 0.95289\n",
      "Early stopping, best iteration is:\n",
      "[95]\tvalid_0's auc: 0.959929\n"
     ]
    },
    {
     "name": "stderr",
     "output_type": "stream",
     "text": [
      "feature_fraction_stage2, val_score: 0.959929:  17%|#6        | 1/6 [00:00<00:01,  4.07it/s][I 2020-09-26 19:26:42,414] Finished trial#37 with value: 0.9599286786786787 with parameters: {'feature_fraction': 0.9159999999999999}. Best is trial#37 with value: 0.9599286786786787.\n",
      "feature_fraction_stage2, val_score: 0.959929:  17%|#6        | 1/6 [00:00<00:01,  4.07it/s]"
     ]
    },
    {
     "name": "stdout",
     "output_type": "stream",
     "text": [
      "Training until validation scores don't improve for 100 rounds\n",
      "[50]\tvalid_0's auc: 0.953266\n",
      "[100]\tvalid_0's auc: 0.957113\n",
      "[150]\tvalid_0's auc: 0.95289\n",
      "Early stopping, best iteration is:\n",
      "[95]\tvalid_0's auc: 0.959929\n"
     ]
    },
    {
     "name": "stderr",
     "output_type": "stream",
     "text": [
      "feature_fraction_stage2, val_score: 0.959929:  33%|###3      | 2/6 [00:00<00:01,  3.45it/s][I 2020-09-26 19:26:42,797] Finished trial#38 with value: 0.9599286786786787 with parameters: {'feature_fraction': 0.852}. Best is trial#37 with value: 0.9599286786786787.\n",
      "feature_fraction_stage2, val_score: 0.959929:  33%|###3      | 2/6 [00:00<00:01,  3.45it/s]"
     ]
    },
    {
     "name": "stdout",
     "output_type": "stream",
     "text": [
      "Training until validation scores don't improve for 100 rounds\n",
      "[50]\tvalid_0's auc: 0.953266\n",
      "[100]\tvalid_0's auc: 0.957113\n",
      "[150]\tvalid_0's auc: 0.95289\n",
      "Early stopping, best iteration is:\n",
      "[95]\tvalid_0's auc: 0.959929\n"
     ]
    },
    {
     "name": "stderr",
     "output_type": "stream",
     "text": [
      "feature_fraction_stage2, val_score: 0.959929:  50%|#####     | 3/6 [00:01<00:00,  3.13it/s][I 2020-09-26 19:26:43,190] Finished trial#39 with value: 0.9599286786786787 with parameters: {'feature_fraction': 0.8839999999999999}. Best is trial#37 with value: 0.9599286786786787.\n",
      "feature_fraction_stage2, val_score: 0.959929:  50%|#####     | 3/6 [00:01<00:00,  3.13it/s]"
     ]
    },
    {
     "name": "stdout",
     "output_type": "stream",
     "text": [
      "Training until validation scores don't improve for 100 rounds\n",
      "[50]\tvalid_0's auc: 0.954486\n",
      "[100]\tvalid_0's auc: 0.955143\n",
      "[150]\tvalid_0's auc: 0.947729\n",
      "Early stopping, best iteration is:\n",
      "[70]\tvalid_0's auc: 0.958615\n"
     ]
    },
    {
     "name": "stderr",
     "output_type": "stream",
     "text": [
      "feature_fraction_stage2, val_score: 0.959929:  67%|######6   | 4/6 [00:01<00:00,  2.97it/s][I 2020-09-26 19:26:43,575] Finished trial#40 with value: 0.9586148648648649 with parameters: {'feature_fraction': 0.9799999999999999}. Best is trial#37 with value: 0.9599286786786787.\n",
      "feature_fraction_stage2, val_score: 0.959929:  67%|######6   | 4/6 [00:01<00:00,  2.97it/s]"
     ]
    },
    {
     "name": "stdout",
     "output_type": "stream",
     "text": [
      "Training until validation scores don't improve for 100 rounds\n",
      "[50]\tvalid_0's auc: 0.953266\n",
      "[100]\tvalid_0's auc: 0.957113\n",
      "[150]\tvalid_0's auc: 0.95289\n",
      "Early stopping, best iteration is:\n",
      "[95]\tvalid_0's auc: 0.959929\n"
     ]
    },
    {
     "name": "stderr",
     "output_type": "stream",
     "text": [
      "feature_fraction_stage2, val_score: 0.959929:  83%|########3 | 5/6 [00:01<00:00,  2.83it/s][I 2020-09-26 19:26:43,957] Finished trial#41 with value: 0.9599286786786787 with parameters: {'feature_fraction': 0.82}. Best is trial#37 with value: 0.9599286786786787.\n",
      "feature_fraction_stage2, val_score: 0.959929:  83%|########3 | 5/6 [00:01<00:00,  2.83it/s]"
     ]
    },
    {
     "name": "stdout",
     "output_type": "stream",
     "text": [
      "Training until validation scores don't improve for 100 rounds\n",
      "[50]\tvalid_0's auc: 0.954486\n",
      "[100]\tvalid_0's auc: 0.955143\n",
      "[150]\tvalid_0's auc: 0.947729\n",
      "Early stopping, best iteration is:\n",
      "[70]\tvalid_0's auc: 0.958615\n"
     ]
    },
    {
     "name": "stderr",
     "output_type": "stream",
     "text": [
      "feature_fraction_stage2, val_score: 0.959929: 100%|##########| 6/6 [00:02<00:00,  2.75it/s][I 2020-09-26 19:26:44,347] Finished trial#42 with value: 0.9586148648648649 with parameters: {'feature_fraction': 0.948}. Best is trial#37 with value: 0.9599286786786787.\n",
      "feature_fraction_stage2, val_score: 0.959929: 100%|##########| 6/6 [00:02<00:00,  2.58it/s]\n",
      "regularization_factors, val_score: 0.959929:   0%|          | 0/20 [00:00<?, ?it/s]"
     ]
    },
    {
     "name": "stdout",
     "output_type": "stream",
     "text": [
      "Training until validation scores don't improve for 100 rounds\n",
      "[50]\tvalid_0's auc: 0.954861\n",
      "[100]\tvalid_0's auc: 0.956926\n",
      "[150]\tvalid_0's auc: 0.954017\n",
      "Early stopping, best iteration is:\n",
      "[88]\tvalid_0's auc: 0.961618\n"
     ]
    },
    {
     "name": "stderr",
     "output_type": "stream",
     "text": [
      "regularization_factors, val_score: 0.961618:   5%|5         | 1/20 [00:00<00:04,  4.16it/s][I 2020-09-26 19:26:44,742] Finished trial#43 with value: 0.9616178678678678 with parameters: {'lambda_l1': 0.053695164723595014, 'lambda_l2': 2.531141691467375e-07}. Best is trial#43 with value: 0.9616178678678678.\n",
      "regularization_factors, val_score: 0.961618:   5%|5         | 1/20 [00:00<00:04,  4.16it/s]"
     ]
    },
    {
     "name": "stdout",
     "output_type": "stream",
     "text": [
      "Training until validation scores don't improve for 100 rounds\n",
      "[50]\tvalid_0's auc: 0.953266\n",
      "[100]\tvalid_0's auc: 0.957113\n",
      "[150]\tvalid_0's auc: 0.952797\n",
      "Early stopping, best iteration is:\n",
      "[95]\tvalid_0's auc: 0.959929\n"
     ]
    },
    {
     "name": "stderr",
     "output_type": "stream",
     "text": [
      "regularization_factors, val_score: 0.961618:  10%|#         | 2/20 [00:00<00:05,  3.37it/s][I 2020-09-26 19:26:45,177] Finished trial#44 with value: 0.9599286786786787 with parameters: {'lambda_l1': 1.1130379431567029e-05, 'lambda_l2': 1.2241136182040298e-06}. Best is trial#43 with value: 0.9616178678678678.\n",
      "regularization_factors, val_score: 0.961618:  10%|#         | 2/20 [00:00<00:05,  3.37it/s]"
     ]
    },
    {
     "name": "stdout",
     "output_type": "stream",
     "text": [
      "Training until validation scores don't improve for 100 rounds\n",
      "[50]\tvalid_0's auc: 0.950544\n",
      "[100]\tvalid_0's auc: 0.960116\n",
      "[150]\tvalid_0's auc: 0.958052\n",
      "Early stopping, best iteration is:\n",
      "[94]\tvalid_0's auc: 0.962087\n"
     ]
    },
    {
     "name": "stderr",
     "output_type": "stream",
     "text": [
      "regularization_factors, val_score: 0.962087:  15%|#5        | 3/20 [00:01<00:05,  3.09it/s][I 2020-09-26 19:26:45,560] Finished trial#45 with value: 0.9620870870870871 with parameters: {'lambda_l1': 0.067332569100086, 'lambda_l2': 0.00960572392293989}. Best is trial#45 with value: 0.9620870870870871.\n",
      "regularization_factors, val_score: 0.962087:  15%|#5        | 3/20 [00:01<00:05,  3.09it/s]"
     ]
    },
    {
     "name": "stdout",
     "output_type": "stream",
     "text": [
      "Training until validation scores don't improve for 100 rounds\n",
      "[50]\tvalid_0's auc: 0.953266\n",
      "[100]\tvalid_0's auc: 0.957113\n",
      "[150]\tvalid_0's auc: 0.95289\n",
      "Early stopping, best iteration is:\n",
      "[95]\tvalid_0's auc: 0.959929\n"
     ]
    },
    {
     "name": "stderr",
     "output_type": "stream",
     "text": [
      "regularization_factors, val_score: 0.962087:  20%|##        | 4/20 [00:01<00:05,  2.93it/s][I 2020-09-26 19:26:45,948] Finished trial#46 with value: 0.9599286786786787 with parameters: {'lambda_l1': 1.8319071570553048e-08, 'lambda_l2': 1.4438111135470093e-08}. Best is trial#45 with value: 0.9620870870870871.\n",
      "regularization_factors, val_score: 0.962087:  20%|##        | 4/20 [00:01<00:05,  2.93it/s]"
     ]
    },
    {
     "name": "stdout",
     "output_type": "stream",
     "text": [
      "Training until validation scores don't improve for 100 rounds\n",
      "[50]\tvalid_0's auc: 0.954767\n",
      "[100]\tvalid_0's auc: 0.953923\n",
      "[150]\tvalid_0's auc: 0.952327\n",
      "Early stopping, best iteration is:\n",
      "[69]\tvalid_0's auc: 0.959459\n"
     ]
    },
    {
     "name": "stderr",
     "output_type": "stream",
     "text": [
      "regularization_factors, val_score: 0.962087:  25%|##5       | 5/20 [00:01<00:05,  2.86it/s][I 2020-09-26 19:26:46,322] Finished trial#47 with value: 0.9594594594594594 with parameters: {'lambda_l1': 0.004362859383447557, 'lambda_l2': 1.8116864154968483e-07}. Best is trial#45 with value: 0.9620870870870871.\n",
      "regularization_factors, val_score: 0.962087:  25%|##5       | 5/20 [00:01<00:05,  2.86it/s]"
     ]
    },
    {
     "name": "stdout",
     "output_type": "stream",
     "text": [
      "Training until validation scores don't improve for 100 rounds\n",
      "[50]\tvalid_0's auc: 0.951201\n",
      "[100]\tvalid_0's auc: 0.954298\n",
      "[150]\tvalid_0's auc: 0.954486\n",
      "[200]\tvalid_0's auc: 0.957676\n",
      "[250]\tvalid_0's auc: 0.95655\n",
      "Early stopping, best iteration is:\n",
      "[186]\tvalid_0's auc: 0.961055\n"
     ]
    },
    {
     "name": "stderr",
     "output_type": "stream",
     "text": [
      "regularization_factors, val_score: 0.962087:  30%|###       | 6/20 [00:02<00:05,  2.49it/s][I 2020-09-26 19:26:46,844] Finished trial#48 with value: 0.9610548048048048 with parameters: {'lambda_l1': 0.10733204699828819, 'lambda_l2': 2.7718452454892852e-05}. Best is trial#45 with value: 0.9620870870870871.\n",
      "regularization_factors, val_score: 0.962087:  30%|###       | 6/20 [00:02<00:05,  2.49it/s]"
     ]
    },
    {
     "name": "stdout",
     "output_type": "stream",
     "text": [
      "Training until validation scores don't improve for 100 rounds\n",
      "[50]\tvalid_0's auc: 0.951858\n",
      "[100]\tvalid_0's auc: 0.954204\n",
      "[150]\tvalid_0's auc: 0.953735\n",
      "Early stopping, best iteration is:\n",
      "[92]\tvalid_0's auc: 0.959647\n"
     ]
    },
    {
     "name": "stderr",
     "output_type": "stream",
     "text": [
      "regularization_factors, val_score: 0.962087:  35%|###5      | 7/20 [00:02<00:05,  2.45it/s][I 2020-09-26 19:26:47,266] Finished trial#49 with value: 0.9596471471471472 with parameters: {'lambda_l1': 0.0048983575213361686, 'lambda_l2': 0.023786291681281525}. Best is trial#45 with value: 0.9620870870870871.\n",
      "regularization_factors, val_score: 0.962087:  35%|###5      | 7/20 [00:02<00:05,  2.45it/s]"
     ]
    },
    {
     "name": "stdout",
     "output_type": "stream",
     "text": [
      "Training until validation scores don't improve for 100 rounds\n",
      "[50]\tvalid_0's auc: 0.953172\n",
      "[100]\tvalid_0's auc: 0.955893\n",
      "[150]\tvalid_0's auc: 0.950638\n",
      "Early stopping, best iteration is:\n",
      "[86]\tvalid_0's auc: 0.959647\n"
     ]
    },
    {
     "name": "stderr",
     "output_type": "stream",
     "text": [
      "regularization_factors, val_score: 0.962087:  40%|####      | 8/20 [00:03<00:04,  2.47it/s][I 2020-09-26 19:26:47,660] Finished trial#50 with value: 0.9596471471471472 with parameters: {'lambda_l1': 0.09294690517954797, 'lambda_l2': 0.0007540262750256715}. Best is trial#45 with value: 0.9620870870870871.\n",
      "regularization_factors, val_score: 0.962087:  40%|####      | 8/20 [00:03<00:04,  2.47it/s]"
     ]
    },
    {
     "name": "stdout",
     "output_type": "stream",
     "text": [
      "Training until validation scores don't improve for 100 rounds\n",
      "[50]\tvalid_0's auc: 0.954767\n",
      "[100]\tvalid_0's auc: 0.953735\n",
      "[150]\tvalid_0's auc: 0.951858\n",
      "Early stopping, best iteration is:\n",
      "[58]\tvalid_0's auc: 0.957583\n"
     ]
    },
    {
     "name": "stderr",
     "output_type": "stream",
     "text": [
      "regularization_factors, val_score: 0.962087:  45%|####5     | 9/20 [00:03<00:04,  2.53it/s][I 2020-09-26 19:26:48,027] Finished trial#51 with value: 0.9575825825825826 with parameters: {'lambda_l1': 0.007021378066556122, 'lambda_l2': 0.0018877795061337714}. Best is trial#45 with value: 0.9620870870870871.\n",
      "regularization_factors, val_score: 0.962087:  45%|####5     | 9/20 [00:03<00:04,  2.53it/s]"
     ]
    },
    {
     "name": "stdout",
     "output_type": "stream",
     "text": [
      "Training until validation scores don't improve for 100 rounds\n",
      "[50]\tvalid_0's auc: 0.95411\n",
      "[100]\tvalid_0's auc: 0.957207\n",
      "[150]\tvalid_0's auc: 0.953078\n",
      "Early stopping, best iteration is:\n",
      "[94]\tvalid_0's auc: 0.959835\n"
     ]
    },
    {
     "name": "stderr",
     "output_type": "stream",
     "text": [
      "regularization_factors, val_score: 0.962087:  50%|#####     | 10/20 [00:03<00:03,  2.51it/s][I 2020-09-26 19:26:48,435] Finished trial#52 with value: 0.9598348348348348 with parameters: {'lambda_l1': 0.0001279099274020991, 'lambda_l2': 0.020782391654697845}. Best is trial#45 with value: 0.9620870870870871.\n",
      "regularization_factors, val_score: 0.962087:  50%|#####     | 10/20 [00:04<00:03,  2.51it/s]"
     ]
    },
    {
     "name": "stdout",
     "output_type": "stream",
     "text": [
      "Training until validation scores don't improve for 100 rounds\n",
      "[50]\tvalid_0's auc: 0.941488\n",
      "[100]\tvalid_0's auc: 0.941958\n",
      "[150]\tvalid_0's auc: 0.941958\n",
      "Early stopping, best iteration is:\n",
      "[63]\tvalid_0's auc: 0.942802\n"
     ]
    },
    {
     "name": "stderr",
     "output_type": "stream",
     "text": [
      "regularization_factors, val_score: 0.962087:  55%|#####5    | 11/20 [00:04<00:03,  2.74it/s][I 2020-09-26 19:26:48,732] Finished trial#53 with value: 0.9428021771771772 with parameters: {'lambda_l1': 8.074032931488333, 'lambda_l2': 7.776613319867034}. Best is trial#45 with value: 0.9620870870870871.\n",
      "regularization_factors, val_score: 0.962087:  55%|#####5    | 11/20 [00:04<00:03,  2.74it/s]"
     ]
    },
    {
     "name": "stdout",
     "output_type": "stream",
     "text": [
      "Training until validation scores don't improve for 100 rounds\n",
      "[50]\tvalid_0's auc: 0.941441\n",
      "[100]\tvalid_0's auc: 0.942661\n",
      "[150]\tvalid_0's auc: 0.942661\n",
      "Early stopping, best iteration is:\n",
      "[67]\tvalid_0's auc: 0.942755\n"
     ]
    },
    {
     "name": "stderr",
     "output_type": "stream",
     "text": [
      "regularization_factors, val_score: 0.962087:  60%|######    | 12/20 [00:04<00:02,  2.87it/s][I 2020-09-26 19:26:49,031] Finished trial#54 with value: 0.9427552552552553 with parameters: {'lambda_l1': 5.341746586400954, 'lambda_l2': 5.321033570535867}. Best is trial#45 with value: 0.9620870870870871.\n",
      "regularization_factors, val_score: 0.962087:  60%|######    | 12/20 [00:04<00:02,  2.87it/s]"
     ]
    },
    {
     "name": "stdout",
     "output_type": "stream",
     "text": [
      "Training until validation scores don't improve for 100 rounds\n",
      "[50]\tvalid_0's auc: 0.948198\n",
      "[100]\tvalid_0's auc: 0.954673\n",
      "[150]\tvalid_0's auc: 0.954017\n",
      "[200]\tvalid_0's auc: 0.952703\n",
      "[250]\tvalid_0's auc: 0.947166\n",
      "Early stopping, best iteration is:\n",
      "[181]\tvalid_0's auc: 0.957113\n"
     ]
    },
    {
     "name": "stderr",
     "output_type": "stream",
     "text": [
      "regularization_factors, val_score: 0.962087:  65%|######5   | 13/20 [00:05<00:02,  2.54it/s][I 2020-09-26 19:26:49,534] Finished trial#55 with value: 0.9571133633633634 with parameters: {'lambda_l1': 0.4527362070785877, 'lambda_l2': 0.2085211702231065}. Best is trial#45 with value: 0.9620870870870871.\n",
      "regularization_factors, val_score: 0.962087:  65%|######5   | 13/20 [00:05<00:02,  2.54it/s]"
     ]
    },
    {
     "name": "stdout",
     "output_type": "stream",
     "text": [
      "Training until validation scores don't improve for 100 rounds\n",
      "[50]\tvalid_0's auc: 0.953266\n",
      "[100]\tvalid_0's auc: 0.957113\n",
      "[150]\tvalid_0's auc: 0.952797\n",
      "Early stopping, best iteration is:\n",
      "[95]\tvalid_0's auc: 0.959929\n"
     ]
    },
    {
     "name": "stderr",
     "output_type": "stream",
     "text": [
      "regularization_factors, val_score: 0.962087:  70%|#######   | 14/20 [00:05<00:02,  2.49it/s][I 2020-09-26 19:26:49,950] Finished trial#56 with value: 0.9599286786786787 with parameters: {'lambda_l1': 8.186325469054305e-06, 'lambda_l2': 1.9660582345614982e-05}. Best is trial#45 with value: 0.9620870870870871.\n",
      "regularization_factors, val_score: 0.962087:  70%|#######   | 14/20 [00:05<00:02,  2.49it/s]"
     ]
    },
    {
     "name": "stdout",
     "output_type": "stream",
     "text": [
      "Training until validation scores don't improve for 100 rounds\n",
      "[50]\tvalid_0's auc: 0.94848\n",
      "[100]\tvalid_0's auc: 0.953735\n",
      "[150]\tvalid_0's auc: 0.951483\n",
      "[200]\tvalid_0's auc: 0.950826\n",
      "[250]\tvalid_0's auc: 0.947917\n",
      "Early stopping, best iteration is:\n",
      "[175]\tvalid_0's auc: 0.955612\n"
     ]
    },
    {
     "name": "stderr",
     "output_type": "stream",
     "text": [
      "regularization_factors, val_score: 0.962087:  75%|#######5  | 15/20 [00:06<00:02,  2.07it/s][I 2020-09-26 19:26:50,623] Finished trial#57 with value: 0.9556118618618619 with parameters: {'lambda_l1': 0.7526000732995524, 'lambda_l2': 1.2906504487480675e-08}. Best is trial#45 with value: 0.9620870870870871.\n",
      "regularization_factors, val_score: 0.962087:  75%|#######5  | 15/20 [00:06<00:02,  2.07it/s]"
     ]
    },
    {
     "name": "stdout",
     "output_type": "stream",
     "text": [
      "Training until validation scores don't improve for 100 rounds\n",
      "[50]\tvalid_0's auc: 0.953266\n",
      "[100]\tvalid_0's auc: 0.957301\n",
      "[150]\tvalid_0's auc: 0.953078\n",
      "Early stopping, best iteration is:\n",
      "[95]\tvalid_0's auc: 0.959835\n"
     ]
    },
    {
     "name": "stderr",
     "output_type": "stream",
     "text": [
      "regularization_factors, val_score: 0.962087:  80%|########  | 16/20 [00:06<00:01,  2.18it/s][I 2020-09-26 19:26:51,029] Finished trial#58 with value: 0.9598348348348348 with parameters: {'lambda_l1': 0.0010101904868254766, 'lambda_l2': 4.8178225691562185e-05}. Best is trial#45 with value: 0.9620870870870871.\n",
      "regularization_factors, val_score: 0.962087:  80%|########  | 16/20 [00:06<00:01,  2.18it/s]"
     ]
    },
    {
     "name": "stdout",
     "output_type": "stream",
     "text": [
      "Training until validation scores don't improve for 100 rounds\n",
      "[50]\tvalid_0's auc: 0.954486\n",
      "[100]\tvalid_0's auc: 0.958896\n",
      "[150]\tvalid_0's auc: 0.955987\n",
      "[200]\tvalid_0's auc: 0.959084\n",
      "[250]\tvalid_0's auc: 0.956738\n",
      "Early stopping, best iteration is:\n",
      "[185]\tvalid_0's auc: 0.963119\n"
     ]
    },
    {
     "name": "stderr",
     "output_type": "stream",
     "text": [
      "regularization_factors, val_score: 0.963119:  85%|########5 | 17/20 [00:07<00:01,  2.08it/s][I 2020-09-26 19:26:51,557] Finished trial#59 with value: 0.9631193693693694 with parameters: {'lambda_l1': 0.05441150376933866, 'lambda_l2': 0.3543562566089764}. Best is trial#59 with value: 0.9631193693693694.\n",
      "regularization_factors, val_score: 0.963119:  85%|########5 | 17/20 [00:07<00:01,  2.08it/s]"
     ]
    },
    {
     "name": "stdout",
     "output_type": "stream",
     "text": [
      "Training until validation scores don't improve for 100 rounds\n",
      "[50]\tvalid_0's auc: 0.95336\n",
      "[100]\tvalid_0's auc: 0.95702\n",
      "[150]\tvalid_0's auc: 0.95167\n",
      "Early stopping, best iteration is:\n",
      "[89]\tvalid_0's auc: 0.960023\n"
     ]
    },
    {
     "name": "stderr",
     "output_type": "stream",
     "text": [
      "regularization_factors, val_score: 0.963119:  90%|######### | 18/20 [00:07<00:00,  2.20it/s][I 2020-09-26 19:26:51,953] Finished trial#60 with value: 0.9600225225225225 with parameters: {'lambda_l1': 0.0002428988327395452, 'lambda_l2': 0.5303787290591151}. Best is trial#59 with value: 0.9631193693693694.\n",
      "regularization_factors, val_score: 0.963119:  90%|######### | 18/20 [00:07<00:00,  2.20it/s]"
     ]
    },
    {
     "name": "stdout",
     "output_type": "stream",
     "text": [
      "Training until validation scores don't improve for 100 rounds\n",
      "[50]\tvalid_0's auc: 0.951014\n",
      "[100]\tvalid_0's auc: 0.953735\n",
      "[150]\tvalid_0's auc: 0.952515\n",
      "[200]\tvalid_0's auc: 0.953078\n",
      "[250]\tvalid_0's auc: 0.951295\n",
      "Early stopping, best iteration is:\n",
      "[170]\tvalid_0's auc: 0.95655\n"
     ]
    },
    {
     "name": "stderr",
     "output_type": "stream",
     "text": [
      "regularization_factors, val_score: 0.963119:  95%|#########5| 19/20 [00:07<00:00,  2.21it/s][I 2020-09-26 19:26:52,395] Finished trial#61 with value: 0.9565503003003003 with parameters: {'lambda_l1': 1.3278849846699978, 'lambda_l2': 0.017214143163344547}. Best is trial#59 with value: 0.9631193693693694.\n",
      "regularization_factors, val_score: 0.963119:  95%|#########5| 19/20 [00:08<00:00,  2.21it/s]"
     ]
    },
    {
     "name": "stdout",
     "output_type": "stream",
     "text": [
      "Training until validation scores don't improve for 100 rounds\n",
      "[50]\tvalid_0's auc: 0.95092\n",
      "[100]\tvalid_0's auc: 0.953641\n",
      "[150]\tvalid_0's auc: 0.951483\n",
      "Early stopping, best iteration is:\n",
      "[92]\tvalid_0's auc: 0.956269\n"
     ]
    },
    {
     "name": "stderr",
     "output_type": "stream",
     "text": [
      "regularization_factors, val_score: 0.963119: 100%|##########| 20/20 [00:08<00:00,  2.35it/s][I 2020-09-26 19:26:52,762] Finished trial#62 with value: 0.9562687687687688 with parameters: {'lambda_l1': 2.2145566683368805e-05, 'lambda_l2': 0.6570958662938924}. Best is trial#59 with value: 0.9631193693693694.\n",
      "regularization_factors, val_score: 0.963119: 100%|##########| 20/20 [00:08<00:00,  2.38it/s]\n",
      "min_data_in_leaf, val_score: 0.963119:   0%|          | 0/5 [00:00<?, ?it/s]"
     ]
    },
    {
     "name": "stdout",
     "output_type": "stream",
     "text": [
      "Training until validation scores don't improve for 100 rounds\n",
      "[50]\tvalid_0's auc: 0.9497\n",
      "[100]\tvalid_0's auc: 0.949794\n",
      "[150]\tvalid_0's auc: 0.949324\n",
      "Early stopping, best iteration is:\n",
      "[66]\tvalid_0's auc: 0.954767\n"
     ]
    },
    {
     "name": "stderr",
     "output_type": "stream",
     "text": [
      "min_data_in_leaf, val_score: 0.963119:  20%|##        | 1/5 [00:00<00:01,  2.61it/s][I 2020-09-26 19:26:53,303] Finished trial#63 with value: 0.9547672672672672 with parameters: {'min_child_samples': 5}. Best is trial#63 with value: 0.9547672672672672.\n",
      "min_data_in_leaf, val_score: 0.963119:  20%|##        | 1/5 [00:00<00:01,  2.61it/s]"
     ]
    },
    {
     "name": "stdout",
     "output_type": "stream",
     "text": [
      "Training until validation scores don't improve for 100 rounds\n",
      "[50]\tvalid_0's auc: 0.956175\n",
      "[100]\tvalid_0's auc: 0.954673\n",
      "Early stopping, best iteration is:\n",
      "[42]\tvalid_0's auc: 0.958052\n"
     ]
    },
    {
     "name": "stderr",
     "output_type": "stream",
     "text": [
      "min_data_in_leaf, val_score: 0.963119:  40%|####      | 2/5 [00:00<00:01,  2.62it/s][I 2020-09-26 19:26:53,675] Finished trial#64 with value: 0.9580518018018018 with parameters: {'min_child_samples': 10}. Best is trial#64 with value: 0.9580518018018018.\n",
      "min_data_in_leaf, val_score: 0.963119:  40%|####      | 2/5 [00:00<00:01,  2.62it/s]"
     ]
    },
    {
     "name": "stdout",
     "output_type": "stream",
     "text": [
      "Training until validation scores don't improve for 100 rounds\n",
      "[50]\tvalid_0's auc: 0.946791\n",
      "[100]\tvalid_0's auc: 0.952609\n",
      "[150]\tvalid_0's auc: 0.954298\n",
      "[200]\tvalid_0's auc: 0.952327\n",
      "Early stopping, best iteration is:\n",
      "[129]\tvalid_0's auc: 0.959741\n"
     ]
    },
    {
     "name": "stderr",
     "output_type": "stream",
     "text": [
      "min_data_in_leaf, val_score: 0.963119:  60%|######    | 3/5 [00:01<00:00,  2.70it/s][I 2020-09-26 19:26:54,029] Finished trial#65 with value: 0.959740990990991 with parameters: {'min_child_samples': 50}. Best is trial#65 with value: 0.959740990990991.\n",
      "min_data_in_leaf, val_score: 0.963119:  60%|######    | 3/5 [00:01<00:00,  2.70it/s]"
     ]
    },
    {
     "name": "stdout",
     "output_type": "stream",
     "text": [
      "Training until validation scores don't improve for 100 rounds\n",
      "[50]\tvalid_0's auc: 0.928209\n",
      "[100]\tvalid_0's auc: 0.936186\n",
      "[150]\tvalid_0's auc: 0.927928\n",
      "Early stopping, best iteration is:\n",
      "[94]\tvalid_0's auc: 0.936843\n"
     ]
    },
    {
     "name": "stderr",
     "output_type": "stream",
     "text": [
      "min_data_in_leaf, val_score: 0.963119:  80%|########  | 4/5 [00:01<00:00,  2.83it/s][I 2020-09-26 19:26:54,343] Finished trial#66 with value: 0.9368430930930931 with parameters: {'min_child_samples': 100}. Best is trial#65 with value: 0.959740990990991.\n",
      "min_data_in_leaf, val_score: 0.963119:  80%|########  | 4/5 [00:01<00:00,  2.83it/s]"
     ]
    },
    {
     "name": "stdout",
     "output_type": "stream",
     "text": [
      "Training until validation scores don't improve for 100 rounds\n",
      "[50]\tvalid_0's auc: 0.95092\n",
      "[100]\tvalid_0's auc: 0.951577\n",
      "[150]\tvalid_0's auc: 0.949418\n",
      "Early stopping, best iteration is:\n",
      "[65]\tvalid_0's auc: 0.956081\n"
     ]
    },
    {
     "name": "stderr",
     "output_type": "stream",
     "text": [
      "min_data_in_leaf, val_score: 0.963119: 100%|##########| 5/5 [00:01<00:00,  2.79it/s][I 2020-09-26 19:26:54,704] Finished trial#67 with value: 0.956081081081081 with parameters: {'min_child_samples': 25}. Best is trial#65 with value: 0.959740990990991.\n",
      "min_data_in_leaf, val_score: 0.963119: 100%|##########| 5/5 [00:01<00:00,  2.59it/s]\n"
     ]
    }
   ],
   "source": [
    "# 男性用学習モデル\n",
    "model_lgb_M = lgb.train(params, train_set_M, valid_sets=val_set_M,\n",
    "                  verbose_eval=50,  # 50イテレーション毎に学習結果出力\n",
    "                  num_boost_round=1000,  # 最大イテレーション回数指定\n",
    "                  early_stopping_rounds=100\n",
    "                 )"
   ]
  },
  {
   "cell_type": "code",
   "execution_count": 39,
   "metadata": {
    "collapsed": true,
    "jupyter": {
     "outputs_hidden": true
    }
   },
   "outputs": [
    {
     "name": "stderr",
     "output_type": "stream",
     "text": [
      "feature_fraction, val_score: -inf:   0%|          | 0/7 [00:00<?, ?it/s]"
     ]
    },
    {
     "name": "stdout",
     "output_type": "stream",
     "text": [
      "Training until validation scores don't improve for 100 rounds\n",
      "[50]\tvalid_0's auc: 0.786834\n",
      "[100]\tvalid_0's auc: 0.786834\n",
      "Early stopping, best iteration is:\n",
      "[19]\tvalid_0's auc: 0.874608\n"
     ]
    },
    {
     "name": "stderr",
     "output_type": "stream",
     "text": [
      "feature_fraction, val_score: 0.874608:  14%|#4        | 1/7 [00:00<00:00,  7.48it/s][I 2020-09-26 19:26:55,027] Finished trial#0 with value: 0.8746081504702194 with parameters: {'feature_fraction': 1.0}. Best is trial#0 with value: 0.8746081504702194.\n",
      "feature_fraction, val_score: 0.874608:  14%|#4        | 1/7 [00:00<00:00,  7.48it/s]"
     ]
    },
    {
     "name": "stdout",
     "output_type": "stream",
     "text": [
      "Training until validation scores don't improve for 100 rounds\n",
      "[50]\tvalid_0's auc: 0.793103\n",
      "[100]\tvalid_0's auc: 0.793103\n",
      "Early stopping, best iteration is:\n",
      "[16]\tvalid_0's auc: 0.888715\n"
     ]
    },
    {
     "name": "stderr",
     "output_type": "stream",
     "text": [
      "feature_fraction, val_score: 0.888715:  29%|##8       | 2/7 [00:00<00:00,  5.70it/s][I 2020-09-26 19:26:55,296] Finished trial#1 with value: 0.8887147335423198 with parameters: {'feature_fraction': 0.8999999999999999}. Best is trial#1 with value: 0.8887147335423198.\n",
      "feature_fraction, val_score: 0.888715:  29%|##8       | 2/7 [00:00<00:00,  5.70it/s]"
     ]
    },
    {
     "name": "stdout",
     "output_type": "stream",
     "text": [
      "Training until validation scores don't improve for 100 rounds\n",
      "[50]\tvalid_0's auc: 0.789969\n",
      "[100]\tvalid_0's auc: 0.783699\n",
      "Early stopping, best iteration is:\n",
      "[19]\tvalid_0's auc: 0.855799\n"
     ]
    },
    {
     "name": "stderr",
     "output_type": "stream",
     "text": [
      "feature_fraction, val_score: 0.888715:  43%|####2     | 3/7 [00:00<00:00,  5.12it/s][I 2020-09-26 19:26:55,526] Finished trial#2 with value: 0.8557993730407524 with parameters: {'feature_fraction': 0.6}. Best is trial#1 with value: 0.8887147335423198.\n",
      "feature_fraction, val_score: 0.888715:  43%|####2     | 3/7 [00:00<00:00,  5.12it/s]"
     ]
    },
    {
     "name": "stdout",
     "output_type": "stream",
     "text": [
      "Training until validation scores don't improve for 100 rounds\n",
      "[50]\tvalid_0's auc: 0.830721\n",
      "[100]\tvalid_0's auc: 0.799373\n",
      "Early stopping, best iteration is:\n",
      "[18]\tvalid_0's auc: 0.890282\n"
     ]
    },
    {
     "name": "stderr",
     "output_type": "stream",
     "text": [
      "feature_fraction, val_score: 0.890282:  57%|#####7    | 4/7 [00:00<00:00,  4.76it/s][I 2020-09-26 19:26:55,773] Finished trial#3 with value: 0.890282131661442 with parameters: {'feature_fraction': 0.7}. Best is trial#3 with value: 0.890282131661442.\n",
      "feature_fraction, val_score: 0.890282:  57%|#####7    | 4/7 [00:01<00:00,  4.76it/s]"
     ]
    },
    {
     "name": "stdout",
     "output_type": "stream",
     "text": [
      "Training until validation scores don't improve for 100 rounds\n",
      "[50]\tvalid_0's auc: 0.846395\n",
      "[100]\tvalid_0's auc: 0.808777\n",
      "Early stopping, best iteration is:\n",
      "[24]\tvalid_0's auc: 0.893417\n"
     ]
    },
    {
     "name": "stderr",
     "output_type": "stream",
     "text": [
      "feature_fraction, val_score: 0.893417:  71%|#######1  | 5/7 [00:01<00:00,  4.42it/s][I 2020-09-26 19:26:56,033] Finished trial#4 with value: 0.8934169278996865 with parameters: {'feature_fraction': 0.4}. Best is trial#4 with value: 0.8934169278996865.\n",
      "feature_fraction, val_score: 0.893417:  71%|#######1  | 5/7 [00:01<00:00,  4.42it/s]"
     ]
    },
    {
     "name": "stdout",
     "output_type": "stream",
     "text": [
      "Training until validation scores don't improve for 100 rounds\n",
      "[50]\tvalid_0's auc: 0.830721\n",
      "[100]\tvalid_0's auc: 0.799373\n",
      "Early stopping, best iteration is:\n",
      "[18]\tvalid_0's auc: 0.890282\n"
     ]
    },
    {
     "name": "stderr",
     "output_type": "stream",
     "text": [
      "feature_fraction, val_score: 0.893417:  86%|########5 | 6/7 [00:01<00:00,  4.26it/s][I 2020-09-26 19:26:56,288] Finished trial#5 with value: 0.890282131661442 with parameters: {'feature_fraction': 0.8}. Best is trial#4 with value: 0.8934169278996865.\n",
      "feature_fraction, val_score: 0.893417:  86%|########5 | 6/7 [00:01<00:00,  4.26it/s]"
     ]
    },
    {
     "name": "stdout",
     "output_type": "stream",
     "text": [
      "Training until validation scores don't improve for 100 rounds\n",
      "[50]\tvalid_0's auc: 0.824451\n",
      "[100]\tvalid_0's auc: 0.84953\n",
      "Early stopping, best iteration is:\n",
      "[20]\tvalid_0's auc: 0.901254\n"
     ]
    },
    {
     "name": "stderr",
     "output_type": "stream",
     "text": [
      "feature_fraction, val_score: 0.901254: 100%|##########| 7/7 [00:01<00:00,  4.26it/s][I 2020-09-26 19:26:56,509] Finished trial#6 with value: 0.9012539184952978 with parameters: {'feature_fraction': 0.5}. Best is trial#6 with value: 0.9012539184952978.\n",
      "feature_fraction, val_score: 0.901254: 100%|##########| 7/7 [00:01<00:00,  3.97it/s]\n",
      "num_leaves, val_score: 0.901254:   0%|          | 0/20 [00:00<?, ?it/s]"
     ]
    },
    {
     "name": "stdout",
     "output_type": "stream",
     "text": [
      "Training until validation scores don't improve for 100 rounds\n",
      "[50]\tvalid_0's auc: 0.824451\n",
      "[100]\tvalid_0's auc: 0.84953\n",
      "Early stopping, best iteration is:\n",
      "[20]\tvalid_0's auc: 0.901254\n"
     ]
    },
    {
     "name": "stderr",
     "output_type": "stream",
     "text": [
      "num_leaves, val_score: 0.901254:   0%|          | 0/20 [00:00<?, ?it/s][I 2020-09-26 19:26:56,666] Finished trial#7 with value: 0.9012539184952978 with parameters: {'num_leaves': 70}. Best is trial#7 with value: 0.9012539184952978.\n",
      "num_leaves, val_score: 0.901254:   5%|5         | 1/20 [00:00<00:02,  6.78it/s]"
     ]
    },
    {
     "name": "stdout",
     "output_type": "stream",
     "text": [
      "Training until validation scores don't improve for 100 rounds\n",
      "[50]\tvalid_0's auc: 0.824451\n",
      "[100]\tvalid_0's auc: 0.84953\n",
      "Early stopping, best iteration is:\n",
      "[20]\tvalid_0's auc: 0.901254\n"
     ]
    },
    {
     "name": "stderr",
     "output_type": "stream",
     "text": [
      "num_leaves, val_score: 0.901254:  10%|#         | 2/20 [00:00<00:01,  9.18it/s][I 2020-09-26 19:26:56,845] Finished trial#8 with value: 0.9012539184952978 with parameters: {'num_leaves': 35}. Best is trial#7 with value: 0.9012539184952978.\n",
      "num_leaves, val_score: 0.901254:  10%|#         | 2/20 [00:00<00:01,  9.18it/s]"
     ]
    },
    {
     "name": "stdout",
     "output_type": "stream",
     "text": [
      "Training until validation scores don't improve for 100 rounds\n",
      "[50]\tvalid_0's auc: 0.824451\n",
      "[100]\tvalid_0's auc: 0.84953\n",
      "Early stopping, best iteration is:\n",
      "[20]\tvalid_0's auc: 0.901254\n"
     ]
    },
    {
     "name": "stderr",
     "output_type": "stream",
     "text": [
      "num_leaves, val_score: 0.901254:  15%|#5        | 3/20 [00:00<00:02,  7.59it/s][I 2020-09-26 19:26:57,054] Finished trial#9 with value: 0.9012539184952978 with parameters: {'num_leaves': 235}. Best is trial#7 with value: 0.9012539184952978.\n",
      "num_leaves, val_score: 0.901254:  15%|#5        | 3/20 [00:00<00:02,  7.59it/s]"
     ]
    },
    {
     "name": "stdout",
     "output_type": "stream",
     "text": [
      "Training until validation scores don't improve for 100 rounds\n",
      "[50]\tvalid_0's auc: 0.824451\n",
      "[100]\tvalid_0's auc: 0.84953\n",
      "Early stopping, best iteration is:\n",
      "[20]\tvalid_0's auc: 0.901254\n"
     ]
    },
    {
     "name": "stderr",
     "output_type": "stream",
     "text": [
      "num_leaves, val_score: 0.901254:  20%|##        | 4/20 [00:00<00:02,  6.14it/s][I 2020-09-26 19:26:57,257] Finished trial#10 with value: 0.9012539184952978 with parameters: {'num_leaves': 89}. Best is trial#7 with value: 0.9012539184952978.\n",
      "num_leaves, val_score: 0.901254:  20%|##        | 4/20 [00:00<00:02,  6.14it/s]"
     ]
    },
    {
     "name": "stdout",
     "output_type": "stream",
     "text": [
      "Training until validation scores don't improve for 100 rounds\n",
      "[50]\tvalid_0's auc: 0.824451\n",
      "[100]\tvalid_0's auc: 0.84953\n",
      "Early stopping, best iteration is:\n",
      "[20]\tvalid_0's auc: 0.901254\n"
     ]
    },
    {
     "name": "stderr",
     "output_type": "stream",
     "text": [
      "num_leaves, val_score: 0.901254:  25%|##5       | 5/20 [00:00<00:02,  6.05it/s][I 2020-09-26 19:26:57,432] Finished trial#11 with value: 0.9012539184952978 with parameters: {'num_leaves': 147}. Best is trial#7 with value: 0.9012539184952978.\n",
      "num_leaves, val_score: 0.901254:  25%|##5       | 5/20 [00:00<00:02,  6.05it/s]"
     ]
    },
    {
     "name": "stdout",
     "output_type": "stream",
     "text": [
      "Training until validation scores don't improve for 100 rounds\n",
      "[50]\tvalid_0's auc: 0.824451\n",
      "[100]\tvalid_0's auc: 0.84953\n",
      "Early stopping, best iteration is:\n",
      "[20]\tvalid_0's auc: 0.901254\n"
     ]
    },
    {
     "name": "stderr",
     "output_type": "stream",
     "text": [
      "num_leaves, val_score: 0.901254:  30%|###       | 6/20 [00:01<00:02,  5.75it/s][I 2020-09-26 19:26:57,639] Finished trial#12 with value: 0.9012539184952978 with parameters: {'num_leaves': 146}. Best is trial#7 with value: 0.9012539184952978.\n",
      "num_leaves, val_score: 0.901254:  30%|###       | 6/20 [00:01<00:02,  5.75it/s]"
     ]
    },
    {
     "name": "stdout",
     "output_type": "stream",
     "text": [
      "Training until validation scores don't improve for 100 rounds\n",
      "[50]\tvalid_0's auc: 0.824451\n",
      "[100]\tvalid_0's auc: 0.84953\n",
      "Early stopping, best iteration is:\n",
      "[20]\tvalid_0's auc: 0.901254\n"
     ]
    },
    {
     "name": "stderr",
     "output_type": "stream",
     "text": [
      "num_leaves, val_score: 0.901254:  35%|###5      | 7/20 [00:01<00:02,  5.37it/s][I 2020-09-26 19:26:57,866] Finished trial#13 with value: 0.9012539184952978 with parameters: {'num_leaves': 104}. Best is trial#7 with value: 0.9012539184952978.\n",
      "num_leaves, val_score: 0.901254:  35%|###5      | 7/20 [00:01<00:02,  5.37it/s]"
     ]
    },
    {
     "name": "stdout",
     "output_type": "stream",
     "text": [
      "Training until validation scores don't improve for 100 rounds\n",
      "[50]\tvalid_0's auc: 0.824451\n",
      "[100]\tvalid_0's auc: 0.84953\n",
      "Early stopping, best iteration is:\n",
      "[20]\tvalid_0's auc: 0.901254\n"
     ]
    },
    {
     "name": "stderr",
     "output_type": "stream",
     "text": [
      "num_leaves, val_score: 0.901254:  40%|####      | 8/20 [00:01<00:02,  5.00it/s][I 2020-09-26 19:26:58,097] Finished trial#14 with value: 0.9012539184952978 with parameters: {'num_leaves': 140}. Best is trial#7 with value: 0.9012539184952978.\n",
      "num_leaves, val_score: 0.901254:  40%|####      | 8/20 [00:01<00:02,  5.00it/s]"
     ]
    },
    {
     "name": "stdout",
     "output_type": "stream",
     "text": [
      "Training until validation scores don't improve for 100 rounds\n",
      "[50]\tvalid_0's auc: 0.824451\n",
      "[100]\tvalid_0's auc: 0.84953\n",
      "Early stopping, best iteration is:\n",
      "[20]\tvalid_0's auc: 0.901254\n"
     ]
    },
    {
     "name": "stderr",
     "output_type": "stream",
     "text": [
      "num_leaves, val_score: 0.901254:  45%|####5     | 9/20 [00:01<00:02,  4.87it/s][I 2020-09-26 19:26:58,329] Finished trial#15 with value: 0.9012539184952978 with parameters: {'num_leaves': 93}. Best is trial#7 with value: 0.9012539184952978.\n",
      "num_leaves, val_score: 0.901254:  45%|####5     | 9/20 [00:01<00:02,  4.87it/s]"
     ]
    },
    {
     "name": "stdout",
     "output_type": "stream",
     "text": [
      "Training until validation scores don't improve for 100 rounds\n",
      "[50]\tvalid_0's auc: 0.824451\n",
      "[100]\tvalid_0's auc: 0.84953\n",
      "Early stopping, best iteration is:\n",
      "[20]\tvalid_0's auc: 0.901254\n"
     ]
    },
    {
     "name": "stderr",
     "output_type": "stream",
     "text": [
      "num_leaves, val_score: 0.901254:  50%|#####     | 10/20 [00:01<00:02,  4.36it/s][I 2020-09-26 19:26:58,577] Finished trial#16 with value: 0.9012539184952978 with parameters: {'num_leaves': 145}. Best is trial#7 with value: 0.9012539184952978.\n",
      "num_leaves, val_score: 0.901254:  50%|#####     | 10/20 [00:02<00:02,  4.36it/s]"
     ]
    },
    {
     "name": "stdout",
     "output_type": "stream",
     "text": [
      "Training until validation scores don't improve for 100 rounds\n",
      "[50]\tvalid_0's auc: 0.824451\n",
      "[100]\tvalid_0's auc: 0.84953\n",
      "Early stopping, best iteration is:\n",
      "[20]\tvalid_0's auc: 0.901254\n"
     ]
    },
    {
     "name": "stderr",
     "output_type": "stream",
     "text": [
      "num_leaves, val_score: 0.901254:  55%|#####5    | 11/20 [00:02<00:01,  4.78it/s][I 2020-09-26 19:26:58,734] Finished trial#17 with value: 0.9012539184952978 with parameters: {'num_leaves': 9}. Best is trial#7 with value: 0.9012539184952978.\n",
      "num_leaves, val_score: 0.901254:  55%|#####5    | 11/20 [00:02<00:01,  4.78it/s]"
     ]
    },
    {
     "name": "stdout",
     "output_type": "stream",
     "text": [
      "Training until validation scores don't improve for 100 rounds\n",
      "[50]\tvalid_0's auc: 0.824451\n",
      "[100]\tvalid_0's auc: 0.84953\n",
      "Early stopping, best iteration is:\n",
      "[20]\tvalid_0's auc: 0.901254\n"
     ]
    },
    {
     "name": "stderr",
     "output_type": "stream",
     "text": [
      "num_leaves, val_score: 0.901254:  60%|######    | 12/20 [00:02<00:01,  5.20it/s][I 2020-09-26 19:26:58,950] Finished trial#18 with value: 0.9012539184952978 with parameters: {'num_leaves': 19}. Best is trial#7 with value: 0.9012539184952978.\n",
      "num_leaves, val_score: 0.901254:  60%|######    | 12/20 [00:02<00:01,  5.20it/s]"
     ]
    },
    {
     "name": "stdout",
     "output_type": "stream",
     "text": [
      "Training until validation scores don't improve for 100 rounds\n",
      "[50]\tvalid_0's auc: 0.824451\n",
      "[100]\tvalid_0's auc: 0.84953\n",
      "Early stopping, best iteration is:\n",
      "[20]\tvalid_0's auc: 0.901254\n"
     ]
    },
    {
     "name": "stderr",
     "output_type": "stream",
     "text": [
      "num_leaves, val_score: 0.901254:  65%|######5   | 13/20 [00:02<00:01,  4.68it/s][I 2020-09-26 19:26:59,155] Finished trial#19 with value: 0.9012539184952978 with parameters: {'num_leaves': 42}. Best is trial#7 with value: 0.9012539184952978.\n",
      "num_leaves, val_score: 0.901254:  65%|######5   | 13/20 [00:02<00:01,  4.68it/s]"
     ]
    },
    {
     "name": "stdout",
     "output_type": "stream",
     "text": [
      "Training until validation scores don't improve for 100 rounds\n",
      "[50]\tvalid_0's auc: 0.824451\n",
      "[100]\tvalid_0's auc: 0.84953\n",
      "Early stopping, best iteration is:\n",
      "[20]\tvalid_0's auc: 0.901254\n"
     ]
    },
    {
     "name": "stderr",
     "output_type": "stream",
     "text": [
      "num_leaves, val_score: 0.901254:  70%|#######   | 14/20 [00:02<00:01,  4.91it/s][I 2020-09-26 19:26:59,338] Finished trial#20 with value: 0.9012539184952978 with parameters: {'num_leaves': 54}. Best is trial#7 with value: 0.9012539184952978.\n",
      "num_leaves, val_score: 0.901254:  70%|#######   | 14/20 [00:02<00:01,  4.91it/s]"
     ]
    },
    {
     "name": "stdout",
     "output_type": "stream",
     "text": [
      "Training until validation scores don't improve for 100 rounds\n",
      "[50]\tvalid_0's auc: 0.824451\n",
      "[100]\tvalid_0's auc: 0.84953\n",
      "Early stopping, best iteration is:\n",
      "[20]\tvalid_0's auc: 0.901254\n"
     ]
    },
    {
     "name": "stderr",
     "output_type": "stream",
     "text": [
      "num_leaves, val_score: 0.901254:  75%|#######5  | 15/20 [00:02<00:00,  5.19it/s][I 2020-09-26 19:26:59,503] Finished trial#21 with value: 0.9012539184952978 with parameters: {'num_leaves': 62}. Best is trial#7 with value: 0.9012539184952978.\n",
      "num_leaves, val_score: 0.901254:  75%|#######5  | 15/20 [00:02<00:00,  5.19it/s]"
     ]
    },
    {
     "name": "stdout",
     "output_type": "stream",
     "text": [
      "Training until validation scores don't improve for 100 rounds\n",
      "[50]\tvalid_0's auc: 0.824451\n",
      "[100]\tvalid_0's auc: 0.84953\n",
      "Early stopping, best iteration is:\n",
      "[20]\tvalid_0's auc: 0.901254\n"
     ]
    },
    {
     "name": "stderr",
     "output_type": "stream",
     "text": [
      "num_leaves, val_score: 0.901254:  80%|########  | 16/20 [00:03<00:00,  5.00it/s][I 2020-09-26 19:26:59,731] Finished trial#22 with value: 0.9012539184952978 with parameters: {'num_leaves': 187}. Best is trial#7 with value: 0.9012539184952978.\n",
      "num_leaves, val_score: 0.901254:  80%|########  | 16/20 [00:03<00:00,  5.00it/s]"
     ]
    },
    {
     "name": "stdout",
     "output_type": "stream",
     "text": [
      "Training until validation scores don't improve for 100 rounds\n",
      "[50]\tvalid_0's auc: 0.824451\n",
      "[100]\tvalid_0's auc: 0.84953\n",
      "Early stopping, best iteration is:\n",
      "[20]\tvalid_0's auc: 0.901254\n"
     ]
    },
    {
     "name": "stderr",
     "output_type": "stream",
     "text": [
      "num_leaves, val_score: 0.901254:  85%|########5 | 17/20 [00:03<00:00,  4.98it/s][I 2020-09-26 19:26:59,953] Finished trial#23 with value: 0.9012539184952978 with parameters: {'num_leaves': 28}. Best is trial#7 with value: 0.9012539184952978.\n",
      "num_leaves, val_score: 0.901254:  85%|########5 | 17/20 [00:03<00:00,  4.98it/s]"
     ]
    },
    {
     "name": "stdout",
     "output_type": "stream",
     "text": [
      "Training until validation scores don't improve for 100 rounds\n",
      "[50]\tvalid_0's auc: 0.824451\n",
      "[100]\tvalid_0's auc: 0.84953\n",
      "Early stopping, best iteration is:\n",
      "[20]\tvalid_0's auc: 0.901254\n"
     ]
    },
    {
     "name": "stderr",
     "output_type": "stream",
     "text": [
      "num_leaves, val_score: 0.901254:  90%|######### | 18/20 [00:03<00:00,  4.70it/s][I 2020-09-26 19:27:00,194] Finished trial#24 with value: 0.9012539184952978 with parameters: {'num_leaves': 64}. Best is trial#7 with value: 0.9012539184952978.\n",
      "num_leaves, val_score: 0.901254:  90%|######### | 18/20 [00:03<00:00,  4.70it/s]"
     ]
    },
    {
     "name": "stdout",
     "output_type": "stream",
     "text": [
      "Training until validation scores don't improve for 100 rounds\n",
      "[50]\tvalid_0's auc: 0.824451\n",
      "[100]\tvalid_0's auc: 0.84953\n",
      "Early stopping, best iteration is:\n",
      "[20]\tvalid_0's auc: 0.901254\n"
     ]
    },
    {
     "name": "stderr",
     "output_type": "stream",
     "text": [
      "num_leaves, val_score: 0.901254:  95%|#########5| 19/20 [00:03<00:00,  4.59it/s][I 2020-09-26 19:27:00,420] Finished trial#25 with value: 0.9012539184952978 with parameters: {'num_leaves': 199}. Best is trial#7 with value: 0.9012539184952978.\n",
      "num_leaves, val_score: 0.901254:  95%|#########5| 19/20 [00:03<00:00,  4.59it/s]"
     ]
    },
    {
     "name": "stdout",
     "output_type": "stream",
     "text": [
      "Training until validation scores don't improve for 100 rounds\n",
      "[50]\tvalid_0's auc: 0.824451\n",
      "[100]\tvalid_0's auc: 0.84953\n",
      "Early stopping, best iteration is:\n",
      "[20]\tvalid_0's auc: 0.901254\n"
     ]
    },
    {
     "name": "stderr",
     "output_type": "stream",
     "text": [
      "num_leaves, val_score: 0.901254: 100%|##########| 20/20 [00:03<00:00,  4.51it/s][I 2020-09-26 19:27:00,631] Finished trial#26 with value: 0.9012539184952978 with parameters: {'num_leaves': 16}. Best is trial#7 with value: 0.9012539184952978.\n",
      "num_leaves, val_score: 0.901254: 100%|##########| 20/20 [00:04<00:00,  4.86it/s]\n",
      "bagging, val_score: 0.901254:   0%|          | 0/10 [00:00<?, ?it/s]"
     ]
    },
    {
     "name": "stdout",
     "output_type": "stream",
     "text": [
      "Training until validation scores don't improve for 100 rounds\n",
      "[50]\tvalid_0's auc: 0.815047\n",
      "[100]\tvalid_0's auc: 0.777429\n",
      "Early stopping, best iteration is:\n",
      "[8]\tvalid_0's auc: 0.832288\n"
     ]
    },
    {
     "name": "stderr",
     "output_type": "stream",
     "text": [
      "bagging, val_score: 0.901254:   0%|          | 0/10 [00:00<?, ?it/s][I 2020-09-26 19:27:00,805] Finished trial#27 with value: 0.8322884012539185 with parameters: {'bagging_fraction': 0.9744496109362195, 'bagging_freq': 3}. Best is trial#27 with value: 0.8322884012539185.\n",
      "bagging, val_score: 0.901254:  10%|#         | 1/10 [00:00<00:01,  6.22it/s]"
     ]
    },
    {
     "name": "stdout",
     "output_type": "stream",
     "text": [
      "Training until validation scores don't improve for 100 rounds\n",
      "[50]\tvalid_0's auc: 0.786834\n",
      "[100]\tvalid_0's auc: 0.793103\n",
      "Early stopping, best iteration is:\n",
      "[20]\tvalid_0's auc: 0.810345\n"
     ]
    },
    {
     "name": "stderr",
     "output_type": "stream",
     "text": [
      "bagging, val_score: 0.901254:  20%|##        | 2/10 [00:00<00:00,  9.00it/s][I 2020-09-26 19:27:00,969] Finished trial#28 with value: 0.8103448275862069 with parameters: {'bagging_fraction': 0.6778470083219792, 'bagging_freq': 6}. Best is trial#27 with value: 0.8322884012539185.\n",
      "bagging, val_score: 0.901254:  20%|##        | 2/10 [00:00<00:00,  9.00it/s]"
     ]
    },
    {
     "name": "stdout",
     "output_type": "stream",
     "text": [
      "Training until validation scores don't improve for 100 rounds\n",
      "[50]\tvalid_0's auc: 0.818182\n",
      "[100]\tvalid_0's auc: 0.796238\n",
      "Early stopping, best iteration is:\n",
      "[17]\tvalid_0's auc: 0.838558\n"
     ]
    },
    {
     "name": "stderr",
     "output_type": "stream",
     "text": [
      "bagging, val_score: 0.901254:  30%|###       | 3/10 [00:00<00:00,  7.93it/s][I 2020-09-26 19:27:01,142] Finished trial#29 with value: 0.8385579937304075 with parameters: {'bagging_fraction': 0.5701534829281739, 'bagging_freq': 2}. Best is trial#29 with value: 0.8385579937304075.\n",
      "bagging, val_score: 0.901254:  30%|###       | 3/10 [00:00<00:00,  7.93it/s]"
     ]
    },
    {
     "name": "stdout",
     "output_type": "stream",
     "text": [
      "Training until validation scores don't improve for 100 rounds\n",
      "[50]\tvalid_0's auc: 0.846395\n",
      "[100]\tvalid_0's auc: 0.836991\n",
      "Early stopping, best iteration is:\n",
      "[19]\tvalid_0's auc: 0.855799\n"
     ]
    },
    {
     "name": "stderr",
     "output_type": "stream",
     "text": [
      "bagging, val_score: 0.901254:  40%|####      | 4/10 [00:00<00:00,  6.60it/s][I 2020-09-26 19:27:01,340] Finished trial#30 with value: 0.8557993730407524 with parameters: {'bagging_fraction': 0.6957721453747876, 'bagging_freq': 2}. Best is trial#30 with value: 0.8557993730407524.\n",
      "bagging, val_score: 0.901254:  40%|####      | 4/10 [00:00<00:00,  6.60it/s]"
     ]
    },
    {
     "name": "stdout",
     "output_type": "stream",
     "text": [
      "Training until validation scores don't improve for 100 rounds\n",
      "[50]\tvalid_0's auc: 0.830721\n",
      "[100]\tvalid_0's auc: 0.811912\n",
      "Early stopping, best iteration is:\n",
      "[18]\tvalid_0's auc: 0.865204\n"
     ]
    },
    {
     "name": "stderr",
     "output_type": "stream",
     "text": [
      "bagging, val_score: 0.901254:  50%|#####     | 5/10 [00:00<00:00,  6.40it/s][I 2020-09-26 19:27:01,524] Finished trial#31 with value: 0.8652037617554859 with parameters: {'bagging_fraction': 0.8354154964396321, 'bagging_freq': 3}. Best is trial#31 with value: 0.8652037617554859.\n",
      "bagging, val_score: 0.901254:  50%|#####     | 5/10 [00:00<00:00,  6.40it/s]"
     ]
    },
    {
     "name": "stdout",
     "output_type": "stream",
     "text": [
      "Training until validation scores don't improve for 100 rounds\n",
      "[50]\tvalid_0's auc: 0.808777\n",
      "[100]\tvalid_0's auc: 0.799373\n",
      "[150]\tvalid_0's auc: 0.805643\n",
      "Early stopping, best iteration is:\n",
      "[67]\tvalid_0's auc: 0.833856\n"
     ]
    },
    {
     "name": "stderr",
     "output_type": "stream",
     "text": [
      "bagging, val_score: 0.901254:  60%|######    | 6/10 [00:00<00:00,  5.74it/s][I 2020-09-26 19:27:01,730] Finished trial#32 with value: 0.8338557993730408 with parameters: {'bagging_fraction': 0.5155953455170555, 'bagging_freq': 3}. Best is trial#31 with value: 0.8652037617554859.\n",
      "bagging, val_score: 0.901254:  60%|######    | 6/10 [00:01<00:00,  5.74it/s]"
     ]
    },
    {
     "name": "stdout",
     "output_type": "stream",
     "text": [
      "Training until validation scores don't improve for 100 rounds\n",
      "[50]\tvalid_0's auc: 0.811912\n",
      "[100]\tvalid_0's auc: 0.799373\n",
      "Early stopping, best iteration is:\n",
      "[33]\tvalid_0's auc: 0.822884\n"
     ]
    },
    {
     "name": "stderr",
     "output_type": "stream",
     "text": [
      "bagging, val_score: 0.901254:  70%|#######   | 7/10 [00:01<00:00,  5.76it/s][I 2020-09-26 19:27:01,909] Finished trial#33 with value: 0.822884012539185 with parameters: {'bagging_fraction': 0.606545327054689, 'bagging_freq': 3}. Best is trial#31 with value: 0.8652037617554859.\n",
      "bagging, val_score: 0.901254:  70%|#######   | 7/10 [00:01<00:00,  5.76it/s]"
     ]
    },
    {
     "name": "stdout",
     "output_type": "stream",
     "text": [
      "Training until validation scores don't improve for 100 rounds\n",
      "[50]\tvalid_0's auc: 0.811912\n",
      "[100]\tvalid_0's auc: 0.802508\n",
      "Early stopping, best iteration is:\n",
      "[13]\tvalid_0's auc: 0.841693\n"
     ]
    },
    {
     "name": "stderr",
     "output_type": "stream",
     "text": [
      "bagging, val_score: 0.901254:  80%|########  | 8/10 [00:01<00:00,  5.24it/s][I 2020-09-26 19:27:02,169] Finished trial#34 with value: 0.841692789968652 with parameters: {'bagging_fraction': 0.7097171464237402, 'bagging_freq': 6}. Best is trial#31 with value: 0.8652037617554859.\n",
      "bagging, val_score: 0.901254:  80%|########  | 8/10 [00:01<00:00,  5.24it/s]"
     ]
    },
    {
     "name": "stdout",
     "output_type": "stream",
     "text": [
      "Training until validation scores don't improve for 100 rounds\n",
      "[50]\tvalid_0's auc: 0.5\n",
      "[100]\tvalid_0's auc: 0.5\n",
      "Early stopping, best iteration is:\n",
      "[1]\tvalid_0's auc: 0.5\n"
     ]
    },
    {
     "name": "stderr",
     "output_type": "stream",
     "text": [
      "bagging, val_score: 0.901254:  90%|######### | 9/10 [00:01<00:00,  5.05it/s][I 2020-09-26 19:27:02,378] Finished trial#35 with value: 0.5 with parameters: {'bagging_fraction': 0.4055625537891783, 'bagging_freq': 4}. Best is trial#31 with value: 0.8652037617554859.\n",
      "bagging, val_score: 0.901254:  90%|######### | 9/10 [00:01<00:00,  5.05it/s]"
     ]
    },
    {
     "name": "stdout",
     "output_type": "stream",
     "text": [
      "Training until validation scores don't improve for 100 rounds\n",
      "[50]\tvalid_0's auc: 0.836991\n",
      "[100]\tvalid_0's auc: 0.811912\n",
      "Early stopping, best iteration is:\n",
      "[6]\tvalid_0's auc: 0.862069\n"
     ]
    },
    {
     "name": "stderr",
     "output_type": "stream",
     "text": [
      "bagging, val_score: 0.901254: 100%|##########| 10/10 [00:01<00:00,  4.85it/s][I 2020-09-26 19:27:02,600] Finished trial#36 with value: 0.8620689655172413 with parameters: {'bagging_fraction': 0.8959426008297644, 'bagging_freq': 4}. Best is trial#31 with value: 0.8652037617554859.\n",
      "bagging, val_score: 0.901254: 100%|##########| 10/10 [00:01<00:00,  5.09it/s]\n",
      "feature_fraction_stage2, val_score: 0.901254:   0%|          | 0/6 [00:00<?, ?it/s]"
     ]
    },
    {
     "name": "stdout",
     "output_type": "stream",
     "text": [
      "Training until validation scores don't improve for 100 rounds\n",
      "[50]\tvalid_0's auc: 0.846395\n",
      "[100]\tvalid_0's auc: 0.808777\n",
      "Early stopping, best iteration is:\n",
      "[24]\tvalid_0's auc: 0.893417\n"
     ]
    },
    {
     "name": "stderr",
     "output_type": "stream",
     "text": [
      "feature_fraction_stage2, val_score: 0.901254:   0%|          | 0/6 [00:00<?, ?it/s][I 2020-09-26 19:27:02,858] Finished trial#37 with value: 0.8934169278996865 with parameters: {'feature_fraction': 0.42}. Best is trial#37 with value: 0.8934169278996865.\n",
      "feature_fraction_stage2, val_score: 0.901254:  17%|#6        | 1/6 [00:00<00:01,  3.93it/s]"
     ]
    },
    {
     "name": "stdout",
     "output_type": "stream",
     "text": [
      "Training until validation scores don't improve for 100 rounds\n",
      "[50]\tvalid_0's auc: 0.789969\n",
      "[100]\tvalid_0's auc: 0.783699\n",
      "Early stopping, best iteration is:\n",
      "[19]\tvalid_0's auc: 0.855799\n"
     ]
    },
    {
     "name": "stderr",
     "output_type": "stream",
     "text": [
      "feature_fraction_stage2, val_score: 0.901254:  33%|###3      | 2/6 [00:00<00:00,  5.92it/s][I 2020-09-26 19:27:03,099] Finished trial#38 with value: 0.8557993730407524 with parameters: {'feature_fraction': 0.58}. Best is trial#37 with value: 0.8934169278996865.\n",
      "feature_fraction_stage2, val_score: 0.901254:  33%|###3      | 2/6 [00:00<00:00,  5.92it/s]"
     ]
    },
    {
     "name": "stdout",
     "output_type": "stream",
     "text": [
      "Training until validation scores don't improve for 100 rounds\n",
      "[50]\tvalid_0's auc: 0.824451\n",
      "[100]\tvalid_0's auc: 0.84953\n",
      "Early stopping, best iteration is:\n",
      "[20]\tvalid_0's auc: 0.901254\n"
     ]
    },
    {
     "name": "stderr",
     "output_type": "stream",
     "text": [
      "feature_fraction_stage2, val_score: 0.901254:  50%|#####     | 3/6 [00:00<00:00,  5.28it/s][I 2020-09-26 19:27:03,335] Finished trial#39 with value: 0.9012539184952978 with parameters: {'feature_fraction': 0.45199999999999996}. Best is trial#39 with value: 0.9012539184952978.\n",
      "feature_fraction_stage2, val_score: 0.901254:  50%|#####     | 3/6 [00:00<00:00,  5.28it/s]"
     ]
    },
    {
     "name": "stdout",
     "output_type": "stream",
     "text": [
      "Training until validation scores don't improve for 100 rounds\n",
      "[50]\tvalid_0's auc: 0.824451\n",
      "[100]\tvalid_0's auc: 0.84953\n",
      "Early stopping, best iteration is:\n",
      "[20]\tvalid_0's auc: 0.901254\n"
     ]
    },
    {
     "name": "stderr",
     "output_type": "stream",
     "text": [
      "feature_fraction_stage2, val_score: 0.901254:  67%|######6   | 4/6 [00:00<00:00,  4.86it/s][I 2020-09-26 19:27:03,579] Finished trial#40 with value: 0.9012539184952978 with parameters: {'feature_fraction': 0.5479999999999999}. Best is trial#39 with value: 0.9012539184952978.\n",
      "feature_fraction_stage2, val_score: 0.901254:  67%|######6   | 4/6 [00:00<00:00,  4.86it/s]"
     ]
    },
    {
     "name": "stdout",
     "output_type": "stream",
     "text": [
      "Training until validation scores don't improve for 100 rounds\n",
      "[50]\tvalid_0's auc: 0.824451\n",
      "[100]\tvalid_0's auc: 0.84953\n",
      "Early stopping, best iteration is:\n",
      "[20]\tvalid_0's auc: 0.901254\n"
     ]
    },
    {
     "name": "stderr",
     "output_type": "stream",
     "text": [
      "feature_fraction_stage2, val_score: 0.901254:  83%|########3 | 5/6 [00:01<00:00,  4.63it/s][I 2020-09-26 19:27:03,818] Finished trial#41 with value: 0.9012539184952978 with parameters: {'feature_fraction': 0.484}. Best is trial#39 with value: 0.9012539184952978.\n",
      "feature_fraction_stage2, val_score: 0.901254:  83%|########3 | 5/6 [00:01<00:00,  4.63it/s]"
     ]
    },
    {
     "name": "stdout",
     "output_type": "stream",
     "text": [
      "Training until validation scores don't improve for 100 rounds\n",
      "[50]\tvalid_0's auc: 0.824451\n",
      "[100]\tvalid_0's auc: 0.84953\n",
      "Early stopping, best iteration is:\n",
      "[20]\tvalid_0's auc: 0.901254\n"
     ]
    },
    {
     "name": "stderr",
     "output_type": "stream",
     "text": [
      "feature_fraction_stage2, val_score: 0.901254: 100%|##########| 6/6 [00:01<00:00,  4.48it/s][I 2020-09-26 19:27:04,052] Finished trial#42 with value: 0.9012539184952978 with parameters: {'feature_fraction': 0.516}. Best is trial#39 with value: 0.9012539184952978.\n",
      "feature_fraction_stage2, val_score: 0.901254: 100%|##########| 6/6 [00:01<00:00,  4.16it/s]\n",
      "regularization_factors, val_score: 0.901254:   0%|          | 0/20 [00:00<?, ?it/s]"
     ]
    },
    {
     "name": "stdout",
     "output_type": "stream",
     "text": [
      "Training until validation scores don't improve for 100 rounds\n",
      "[50]\tvalid_0's auc: 0.824451\n",
      "[100]\tvalid_0's auc: 0.84953\n",
      "Early stopping, best iteration is:\n",
      "[20]\tvalid_0's auc: 0.901254\n"
     ]
    },
    {
     "name": "stderr",
     "output_type": "stream",
     "text": [
      "regularization_factors, val_score: 0.901254:   5%|5         | 1/20 [00:00<00:02,  6.59it/s][I 2020-09-26 19:27:04,358] Finished trial#43 with value: 0.9012539184952978 with parameters: {'lambda_l1': 2.149825293739814e-07, 'lambda_l2': 7.096559015027336e-07}. Best is trial#43 with value: 0.9012539184952978.\n",
      "regularization_factors, val_score: 0.901254:   5%|5         | 1/20 [00:00<00:02,  6.59it/s]"
     ]
    },
    {
     "name": "stdout",
     "output_type": "stream",
     "text": [
      "Training until validation scores don't improve for 100 rounds\n",
      "[50]\tvalid_0's auc: 0.824451\n",
      "[100]\tvalid_0's auc: 0.84953\n",
      "Early stopping, best iteration is:\n",
      "[20]\tvalid_0's auc: 0.901254\n"
     ]
    },
    {
     "name": "stderr",
     "output_type": "stream",
     "text": [
      "regularization_factors, val_score: 0.901254:  10%|#         | 2/20 [00:00<00:04,  3.76it/s][I 2020-09-26 19:27:04,876] Finished trial#44 with value: 0.9012539184952978 with parameters: {'lambda_l1': 0.00038543091034871094, 'lambda_l2': 1.5183855778161062e-05}. Best is trial#43 with value: 0.9012539184952978.\n",
      "regularization_factors, val_score: 0.901254:  10%|#         | 2/20 [00:00<00:04,  3.76it/s]"
     ]
    },
    {
     "name": "stdout",
     "output_type": "stream",
     "text": [
      "Training until validation scores don't improve for 100 rounds\n",
      "[50]\tvalid_0's auc: 0.824451\n",
      "[100]\tvalid_0's auc: 0.84953\n",
      "Early stopping, best iteration is:\n",
      "[20]\tvalid_0's auc: 0.901254\n"
     ]
    },
    {
     "name": "stderr",
     "output_type": "stream",
     "text": [
      "regularization_factors, val_score: 0.901254:  15%|#5        | 3/20 [00:01<00:04,  3.55it/s][I 2020-09-26 19:27:05,203] Finished trial#45 with value: 0.9012539184952978 with parameters: {'lambda_l1': 1.7083454456068076e-05, 'lambda_l2': 0.000854396366990608}. Best is trial#43 with value: 0.9012539184952978.\n",
      "regularization_factors, val_score: 0.901254:  15%|#5        | 3/20 [00:01<00:04,  3.55it/s]"
     ]
    },
    {
     "name": "stdout",
     "output_type": "stream",
     "text": [
      "Training until validation scores don't improve for 100 rounds\n",
      "[50]\tvalid_0's auc: 0.824451\n",
      "[100]\tvalid_0's auc: 0.84953\n",
      "Early stopping, best iteration is:\n",
      "[20]\tvalid_0's auc: 0.901254\n"
     ]
    },
    {
     "name": "stderr",
     "output_type": "stream",
     "text": [
      "regularization_factors, val_score: 0.901254:  20%|##        | 4/20 [00:01<00:04,  3.73it/s][I 2020-09-26 19:27:05,450] Finished trial#46 with value: 0.9012539184952978 with parameters: {'lambda_l1': 1.1933410990351561e-05, 'lambda_l2': 0.009753995460831966}. Best is trial#43 with value: 0.9012539184952978.\n",
      "regularization_factors, val_score: 0.901254:  20%|##        | 4/20 [00:01<00:04,  3.73it/s]"
     ]
    },
    {
     "name": "stdout",
     "output_type": "stream",
     "text": [
      "Training until validation scores don't improve for 100 rounds\n",
      "[50]\tvalid_0's auc: 0.824451\n",
      "[100]\tvalid_0's auc: 0.84953\n",
      "Early stopping, best iteration is:\n",
      "[20]\tvalid_0's auc: 0.901254\n"
     ]
    },
    {
     "name": "stderr",
     "output_type": "stream",
     "text": [
      "regularization_factors, val_score: 0.901254:  25%|##5       | 5/20 [00:01<00:03,  3.80it/s][I 2020-09-26 19:27:05,663] Finished trial#47 with value: 0.9012539184952978 with parameters: {'lambda_l1': 0.004179776583776405, 'lambda_l2': 5.8294375406893025e-08}. Best is trial#43 with value: 0.9012539184952978.\n",
      "regularization_factors, val_score: 0.901254:  25%|##5       | 5/20 [00:01<00:03,  3.80it/s]"
     ]
    },
    {
     "name": "stdout",
     "output_type": "stream",
     "text": [
      "Training until validation scores don't improve for 100 rounds\n",
      "[50]\tvalid_0's auc: 0.824451\n",
      "[100]\tvalid_0's auc: 0.84953\n",
      "Early stopping, best iteration is:\n",
      "[20]\tvalid_0's auc: 0.901254\n"
     ]
    },
    {
     "name": "stderr",
     "output_type": "stream",
     "text": [
      "regularization_factors, val_score: 0.901254:  30%|###       | 6/20 [00:01<00:03,  4.26it/s][I 2020-09-26 19:27:05,839] Finished trial#48 with value: 0.9012539184952978 with parameters: {'lambda_l1': 8.2675862820626e-06, 'lambda_l2': 2.801489292219665e-07}. Best is trial#43 with value: 0.9012539184952978.\n",
      "regularization_factors, val_score: 0.901254:  30%|###       | 6/20 [00:01<00:03,  4.26it/s]"
     ]
    },
    {
     "name": "stdout",
     "output_type": "stream",
     "text": [
      "Training until validation scores don't improve for 100 rounds\n",
      "[50]\tvalid_0's auc: 0.824451\n",
      "[100]\tvalid_0's auc: 0.84953\n",
      "Early stopping, best iteration is:\n",
      "[20]\tvalid_0's auc: 0.901254\n"
     ]
    },
    {
     "name": "stderr",
     "output_type": "stream",
     "text": [
      "regularization_factors, val_score: 0.901254:  35%|###5      | 7/20 [00:01<00:02,  4.61it/s][I 2020-09-26 19:27:06,010] Finished trial#49 with value: 0.9012539184952978 with parameters: {'lambda_l1': 7.0145070998832495e-06, 'lambda_l2': 2.3329501157925605e-08}. Best is trial#43 with value: 0.9012539184952978.\n",
      "regularization_factors, val_score: 0.901254:  35%|###5      | 7/20 [00:01<00:02,  4.61it/s]"
     ]
    },
    {
     "name": "stdout",
     "output_type": "stream",
     "text": [
      "Training until validation scores don't improve for 100 rounds\n",
      "[50]\tvalid_0's auc: 0.824451\n",
      "[100]\tvalid_0's auc: 0.84953\n",
      "Early stopping, best iteration is:\n",
      "[20]\tvalid_0's auc: 0.901254\n"
     ]
    },
    {
     "name": "stderr",
     "output_type": "stream",
     "text": [
      "regularization_factors, val_score: 0.901254:  40%|####      | 8/20 [00:02<00:02,  4.85it/s][I 2020-09-26 19:27:06,222] Finished trial#50 with value: 0.9012539184952978 with parameters: {'lambda_l1': 3.4791931847577924e-06, 'lambda_l2': 2.2719715912040155e-06}. Best is trial#43 with value: 0.9012539184952978.\n",
      "regularization_factors, val_score: 0.901254:  40%|####      | 8/20 [00:02<00:02,  4.85it/s]"
     ]
    },
    {
     "name": "stdout",
     "output_type": "stream",
     "text": [
      "Training until validation scores don't improve for 100 rounds\n",
      "[50]\tvalid_0's auc: 0.821317\n",
      "[100]\tvalid_0's auc: 0.830721\n",
      "Early stopping, best iteration is:\n",
      "[23]\tvalid_0's auc: 0.89185\n"
     ]
    },
    {
     "name": "stderr",
     "output_type": "stream",
     "text": [
      "regularization_factors, val_score: 0.901254:  45%|####5     | 9/20 [00:02<00:02,  4.72it/s][I 2020-09-26 19:27:06,451] Finished trial#51 with value: 0.8918495297805643 with parameters: {'lambda_l1': 0.05847115016624609, 'lambda_l2': 0.028058969723909442}. Best is trial#43 with value: 0.9012539184952978.\n",
      "regularization_factors, val_score: 0.901254:  45%|####5     | 9/20 [00:02<00:02,  4.72it/s]"
     ]
    },
    {
     "name": "stdout",
     "output_type": "stream",
     "text": [
      "Training until validation scores don't improve for 100 rounds\n",
      "[50]\tvalid_0's auc: 0.799373\n",
      "[100]\tvalid_0's auc: 0.811912\n",
      "[150]\tvalid_0's auc: 0.824451\n",
      "[200]\tvalid_0's auc: 0.833856\n",
      "[250]\tvalid_0's auc: 0.833856\n",
      "Early stopping, best iteration is:\n",
      "[154]\tvalid_0's auc: 0.833856\n"
     ]
    },
    {
     "name": "stderr",
     "output_type": "stream",
     "text": [
      "regularization_factors, val_score: 0.901254:  50%|#####     | 10/20 [00:02<00:02,  4.28it/s][I 2020-09-26 19:27:06,691] Finished trial#52 with value: 0.8338557993730408 with parameters: {'lambda_l1': 5.690633629183723, 'lambda_l2': 0.7577646945756296}. Best is trial#43 with value: 0.9012539184952978.\n",
      "regularization_factors, val_score: 0.901254:  50%|#####     | 10/20 [00:02<00:02,  4.28it/s]"
     ]
    },
    {
     "name": "stdout",
     "output_type": "stream",
     "text": [
      "Training until validation scores don't improve for 100 rounds\n",
      "[50]\tvalid_0's auc: 0.824451\n",
      "[100]\tvalid_0's auc: 0.84953\n",
      "Early stopping, best iteration is:\n",
      "[20]\tvalid_0's auc: 0.901254\n"
     ]
    },
    {
     "name": "stderr",
     "output_type": "stream",
     "text": [
      "regularization_factors, val_score: 0.901254:  55%|#####5    | 11/20 [00:02<00:01,  4.63it/s][I 2020-09-26 19:27:06,903] Finished trial#53 with value: 0.9012539184952978 with parameters: {'lambda_l1': 1.021628109646799e-08, 'lambda_l2': 2.1152454516988608e-05}. Best is trial#43 with value: 0.9012539184952978.\n",
      "regularization_factors, val_score: 0.901254:  55%|#####5    | 11/20 [00:02<00:01,  4.63it/s]"
     ]
    },
    {
     "name": "stdout",
     "output_type": "stream",
     "text": [
      "Training until validation scores don't improve for 100 rounds\n",
      "[50]\tvalid_0's auc: 0.824451\n",
      "[100]\tvalid_0's auc: 0.84953\n",
      "Early stopping, best iteration is:\n",
      "[20]\tvalid_0's auc: 0.901254\n"
     ]
    },
    {
     "name": "stderr",
     "output_type": "stream",
     "text": [
      "regularization_factors, val_score: 0.901254:  60%|######    | 12/20 [00:02<00:01,  4.53it/s][I 2020-09-26 19:27:07,139] Finished trial#54 with value: 0.9012539184952978 with parameters: {'lambda_l1': 1.4449926965304371e-08, 'lambda_l2': 3.610128061086785e-05}. Best is trial#43 with value: 0.9012539184952978.\n",
      "regularization_factors, val_score: 0.901254:  60%|######    | 12/20 [00:03<00:01,  4.53it/s]"
     ]
    },
    {
     "name": "stdout",
     "output_type": "stream",
     "text": [
      "Training until validation scores don't improve for 100 rounds\n",
      "[50]\tvalid_0's auc: 0.824451\n",
      "[100]\tvalid_0's auc: 0.84953\n",
      "Early stopping, best iteration is:\n",
      "[20]\tvalid_0's auc: 0.901254\n"
     ]
    },
    {
     "name": "stderr",
     "output_type": "stream",
     "text": [
      "regularization_factors, val_score: 0.901254:  65%|######5   | 13/20 [00:03<00:01,  4.45it/s][I 2020-09-26 19:27:07,378] Finished trial#55 with value: 0.9012539184952978 with parameters: {'lambda_l1': 0.0011989851631577799, 'lambda_l2': 1.4744646952219931e-06}. Best is trial#43 with value: 0.9012539184952978.\n",
      "regularization_factors, val_score: 0.901254:  65%|######5   | 13/20 [00:03<00:01,  4.45it/s]"
     ]
    },
    {
     "name": "stdout",
     "output_type": "stream",
     "text": [
      "Training until validation scores don't improve for 100 rounds\n",
      "[50]\tvalid_0's auc: 0.824451\n",
      "[100]\tvalid_0's auc: 0.84953\n",
      "Early stopping, best iteration is:\n",
      "[20]\tvalid_0's auc: 0.901254\n"
     ]
    },
    {
     "name": "stderr",
     "output_type": "stream",
     "text": [
      "regularization_factors, val_score: 0.901254:  70%|#######   | 14/20 [00:03<00:01,  4.37it/s][I 2020-09-26 19:27:07,603] Finished trial#56 with value: 0.9012539184952978 with parameters: {'lambda_l1': 3.366005298066998e-07, 'lambda_l2': 4.7102826158716854e-05}. Best is trial#43 with value: 0.9012539184952978.\n",
      "regularization_factors, val_score: 0.901254:  70%|#######   | 14/20 [00:03<00:01,  4.37it/s]"
     ]
    },
    {
     "name": "stdout",
     "output_type": "stream",
     "text": [
      "Training until validation scores don't improve for 100 rounds\n",
      "[50]\tvalid_0's auc: 0.821317\n",
      "[100]\tvalid_0's auc: 0.830721\n",
      "Early stopping, best iteration is:\n",
      "[23]\tvalid_0's auc: 0.89185\n"
     ]
    },
    {
     "name": "stderr",
     "output_type": "stream",
     "text": [
      "regularization_factors, val_score: 0.901254:  75%|#######5  | 15/20 [00:03<00:01,  4.28it/s][I 2020-09-26 19:27:07,825] Finished trial#57 with value: 0.8918495297805643 with parameters: {'lambda_l1': 0.01877245347212245, 'lambda_l2': 1.2287233296389521e-08}. Best is trial#43 with value: 0.9012539184952978.\n",
      "regularization_factors, val_score: 0.901254:  75%|#######5  | 15/20 [00:03<00:01,  4.28it/s]"
     ]
    },
    {
     "name": "stdout",
     "output_type": "stream",
     "text": [
      "Training until validation scores don't improve for 100 rounds\n",
      "[50]\tvalid_0's auc: 0.824451\n",
      "[100]\tvalid_0's auc: 0.84953\n",
      "Early stopping, best iteration is:\n",
      "[20]\tvalid_0's auc: 0.901254\n"
     ]
    },
    {
     "name": "stderr",
     "output_type": "stream",
     "text": [
      "regularization_factors, val_score: 0.901254:  80%|########  | 16/20 [00:03<00:00,  4.57it/s][I 2020-09-26 19:27:08,033] Finished trial#58 with value: 0.9012539184952978 with parameters: {'lambda_l1': 0.0002898888126443766, 'lambda_l2': 1.7008023217260306e-06}. Best is trial#43 with value: 0.9012539184952978.\n",
      "regularization_factors, val_score: 0.901254:  80%|########  | 16/20 [00:03<00:00,  4.57it/s]"
     ]
    },
    {
     "name": "stdout",
     "output_type": "stream",
     "text": [
      "Training until validation scores don't improve for 100 rounds\n",
      "[50]\tvalid_0's auc: 0.824451\n",
      "[100]\tvalid_0's auc: 0.84953\n",
      "Early stopping, best iteration is:\n",
      "[20]\tvalid_0's auc: 0.901254\n"
     ]
    },
    {
     "name": "stderr",
     "output_type": "stream",
     "text": [
      "regularization_factors, val_score: 0.901254:  85%|########5 | 17/20 [00:04<00:00,  4.43it/s][I 2020-09-26 19:27:08,250] Finished trial#59 with value: 0.9012539184952978 with parameters: {'lambda_l1': 1.1475973024497936e-07, 'lambda_l2': 0.0005687143353003275}. Best is trial#43 with value: 0.9012539184952978.\n",
      "regularization_factors, val_score: 0.901254:  85%|########5 | 17/20 [00:04<00:00,  4.43it/s]"
     ]
    },
    {
     "name": "stdout",
     "output_type": "stream",
     "text": [
      "Training until validation scores don't improve for 100 rounds\n",
      "[50]\tvalid_0's auc: 0.824451\n",
      "[100]\tvalid_0's auc: 0.84953\n",
      "Early stopping, best iteration is:\n",
      "[20]\tvalid_0's auc: 0.901254\n"
     ]
    },
    {
     "name": "stderr",
     "output_type": "stream",
     "text": [
      "regularization_factors, val_score: 0.901254:  90%|######### | 18/20 [00:04<00:00,  4.62it/s][I 2020-09-26 19:27:08,469] Finished trial#60 with value: 0.9012539184952978 with parameters: {'lambda_l1': 1.2958894944289043e-07, 'lambda_l2': 9.52702858628507e-05}. Best is trial#43 with value: 0.9012539184952978.\n",
      "regularization_factors, val_score: 0.901254:  90%|######### | 18/20 [00:04<00:00,  4.62it/s]"
     ]
    },
    {
     "name": "stdout",
     "output_type": "stream",
     "text": [
      "Training until validation scores don't improve for 100 rounds\n",
      "[50]\tvalid_0's auc: 0.846395\n",
      "[100]\tvalid_0's auc: 0.780564\n",
      "Early stopping, best iteration is:\n",
      "[24]\tvalid_0's auc: 0.890282\n"
     ]
    },
    {
     "name": "stderr",
     "output_type": "stream",
     "text": [
      "regularization_factors, val_score: 0.901254:  95%|#########5| 19/20 [00:04<00:00,  4.53it/s][I 2020-09-26 19:27:08,703] Finished trial#61 with value: 0.890282131661442 with parameters: {'lambda_l1': 0.9138696727235849, 'lambda_l2': 4.5410138651450133e-07}. Best is trial#43 with value: 0.9012539184952978.\n",
      "regularization_factors, val_score: 0.901254:  95%|#########5| 19/20 [00:04<00:00,  4.53it/s]"
     ]
    },
    {
     "name": "stdout",
     "output_type": "stream",
     "text": [
      "Training until validation scores don't improve for 100 rounds\n",
      "[50]\tvalid_0's auc: 0.824451\n",
      "[100]\tvalid_0's auc: 0.84953\n",
      "Early stopping, best iteration is:\n",
      "[20]\tvalid_0's auc: 0.901254\n"
     ]
    },
    {
     "name": "stderr",
     "output_type": "stream",
     "text": [
      "regularization_factors, val_score: 0.901254: 100%|##########| 20/20 [00:04<00:00,  4.44it/s][I 2020-09-26 19:27:08,937] Finished trial#62 with value: 0.9012539184952978 with parameters: {'lambda_l1': 3.6893501067176544e-07, 'lambda_l2': 0.005836486390139228}. Best is trial#43 with value: 0.9012539184952978.\n",
      "regularization_factors, val_score: 0.901254: 100%|##########| 20/20 [00:04<00:00,  4.10it/s]\n",
      "min_data_in_leaf, val_score: 0.901254:   0%|          | 0/5 [00:00<?, ?it/s]"
     ]
    },
    {
     "name": "stdout",
     "output_type": "stream",
     "text": [
      "Training until validation scores don't improve for 100 rounds\n",
      "[50]\tvalid_0's auc: 0.830721\n",
      "[100]\tvalid_0's auc: 0.799373\n",
      "Early stopping, best iteration is:\n",
      "[22]\tvalid_0's auc: 0.836991\n"
     ]
    },
    {
     "name": "stderr",
     "output_type": "stream",
     "text": [
      "min_data_in_leaf, val_score: 0.901254:  20%|##        | 1/5 [00:00<00:00,  9.78it/s][I 2020-09-26 19:27:09,189] Finished trial#63 with value: 0.8369905956112853 with parameters: {'min_child_samples': 25}. Best is trial#63 with value: 0.8369905956112853.\n",
      "min_data_in_leaf, val_score: 0.901254:  20%|##        | 1/5 [00:00<00:00,  9.78it/s]"
     ]
    },
    {
     "name": "stdout",
     "output_type": "stream",
     "text": [
      "Training until validation scores don't improve for 100 rounds\n",
      "[50]\tvalid_0's auc: 0.5\n",
      "[100]\tvalid_0's auc: 0.5\n",
      "Early stopping, best iteration is:\n",
      "[1]\tvalid_0's auc: 0.5\n"
     ]
    },
    {
     "name": "stderr",
     "output_type": "stream",
     "text": [
      "min_data_in_leaf, val_score: 0.901254:  40%|####      | 2/5 [00:00<00:00,  7.35it/s][I 2020-09-26 19:27:09,407] Finished trial#64 with value: 0.5 with parameters: {'min_child_samples': 50}. Best is trial#63 with value: 0.8369905956112853.\n",
      "min_data_in_leaf, val_score: 0.901254:  40%|####      | 2/5 [00:00<00:00,  7.35it/s]"
     ]
    },
    {
     "name": "stdout",
     "output_type": "stream",
     "text": [
      "Training until validation scores don't improve for 100 rounds\n",
      "[50]\tvalid_0's auc: 0.752351\n",
      "[100]\tvalid_0's auc: 0.733542\n",
      "Early stopping, best iteration is:\n",
      "[16]\tvalid_0's auc: 0.829154\n"
     ]
    },
    {
     "name": "stderr",
     "output_type": "stream",
     "text": [
      "min_data_in_leaf, val_score: 0.901254:  60%|######    | 3/5 [00:00<00:00,  5.51it/s][I 2020-09-26 19:27:09,697] Finished trial#65 with value: 0.829153605015674 with parameters: {'min_child_samples': 10}. Best is trial#63 with value: 0.8369905956112853.\n",
      "min_data_in_leaf, val_score: 0.901254:  60%|######    | 3/5 [00:00<00:00,  5.51it/s]"
     ]
    },
    {
     "name": "stdout",
     "output_type": "stream",
     "text": [
      "Training until validation scores don't improve for 100 rounds\n",
      "[50]\tvalid_0's auc: 0.758621\n",
      "[100]\tvalid_0's auc: 0.761755\n",
      "Early stopping, best iteration is:\n",
      "[4]\tvalid_0's auc: 0.821317\n"
     ]
    },
    {
     "name": "stderr",
     "output_type": "stream",
     "text": [
      "min_data_in_leaf, val_score: 0.901254:  80%|########  | 4/5 [00:00<00:00,  4.79it/s][I 2020-09-26 19:27:09,957] Finished trial#66 with value: 0.8213166144200627 with parameters: {'min_child_samples': 5}. Best is trial#63 with value: 0.8369905956112853.\n",
      "min_data_in_leaf, val_score: 0.901254:  80%|########  | 4/5 [00:01<00:00,  4.79it/s]"
     ]
    },
    {
     "name": "stdout",
     "output_type": "stream",
     "text": [
      "Training until validation scores don't improve for 100 rounds\n",
      "[50]\tvalid_0's auc: 0.5\n",
      "[100]\tvalid_0's auc: 0.5\n",
      "Early stopping, best iteration is:\n",
      "[1]\tvalid_0's auc: 0.5\n"
     ]
    },
    {
     "name": "stderr",
     "output_type": "stream",
     "text": [
      "min_data_in_leaf, val_score: 0.901254: 100%|##########| 5/5 [00:01<00:00,  4.69it/s][I 2020-09-26 19:27:10,187] Finished trial#67 with value: 0.5 with parameters: {'min_child_samples': 100}. Best is trial#63 with value: 0.8369905956112853.\n",
      "min_data_in_leaf, val_score: 0.901254: 100%|##########| 5/5 [00:01<00:00,  4.03it/s]\n"
     ]
    }
   ],
   "source": [
    "model_lgb_F = lgb.train(params, train_set_F, valid_sets=val_set_F,\n",
    "                  verbose_eval=50,  # 50イテレーション毎に学習結果出力\n",
    "                  num_boost_round=1000,  # 最大イテレーション回数指定\n",
    "                  early_stopping_rounds=100\n",
    "                 )"
   ]
  },
  {
   "cell_type": "code",
   "execution_count": 40,
   "metadata": {},
   "outputs": [],
   "source": [
    "# 男性データ\n",
    "val_prob_M = model_lgb_M.predict(X_test_M, num_iteration=model_lgb_M.best_iteration)\n",
    "val_pred_M = np.round(val_prob_M)"
   ]
  },
  {
   "cell_type": "code",
   "execution_count": 41,
   "metadata": {},
   "outputs": [
    {
     "name": "stdout",
     "output_type": "stream",
     "text": [
      "正解率: 0.9082125603864735\n",
      "適合率: 0.9139784946236559\n",
      "再現率: 0.8854166666666666\n",
      "f1_score: 0.8994708994708994\n"
     ]
    }
   ],
   "source": [
    "# 誤差\n",
    "print(f\"正解率: {accuracy_score(y_test_M, val_pred_M)}\")\n",
    "print(f\"適合率: {precision_score(y_test_M, val_pred_M)}\")\n",
    "print(f\"再現率: {recall_score(y_test_M, val_pred_M)}\")\n",
    "print(f\"f1_score: {f1_score(y_test_M, val_pred_M)}\")"
   ]
  },
  {
   "cell_type": "code",
   "execution_count": 42,
   "metadata": {},
   "outputs": [],
   "source": [
    "# 女性データ\n",
    "val_prob_F = model_lgb_F.predict(X_test_F, num_iteration=model_lgb_F.best_iteration)\n",
    "val_pred_F = np.round(val_prob_F)"
   ]
  },
  {
   "cell_type": "code",
   "execution_count": 43,
   "metadata": {},
   "outputs": [
    {
     "name": "stdout",
     "output_type": "stream",
     "text": [
      "正解率: 0.85\n",
      "適合率: 0.8571428571428571\n",
      "再現率: 0.5454545454545454\n",
      "f1_score: 0.6666666666666665\n"
     ]
    }
   ],
   "source": [
    "# 誤差\n",
    "print(f\"正解率: {accuracy_score(y_test_F, val_pred_F)}\")\n",
    "print(f\"適合率: {precision_score(y_test_F, val_pred_F)}\")\n",
    "print(f\"再現率: {recall_score(y_test_F, val_pred_F)}\")\n",
    "print(f\"f1_score: {f1_score(y_test_F, val_pred_F)}\")"
   ]
  },
  {
   "cell_type": "code",
   "execution_count": 44,
   "metadata": {},
   "outputs": [],
   "source": [
    "# 男性用データ\n",
    "y_prob_M = model_lgb_M.predict(test_M[features], num_iteration=model_lgb_M.best_iteration)\n",
    "y_pred_M = np.round(y_prob_M)"
   ]
  },
  {
   "cell_type": "code",
   "execution_count": 45,
   "metadata": {},
   "outputs": [],
   "source": [
    "# 女性用データ\n",
    "y_prob_F = model_lgb_F.predict(test_F[features], num_iteration=model_lgb_F.best_iteration)\n",
    "y_pred_F = np.round(y_prob_F)"
   ]
  },
  {
   "cell_type": "code",
   "execution_count": 46,
   "metadata": {},
   "outputs": [],
   "source": [
    "# 統合\n",
    "test_M[\"disease\"] = y_pred_M\n",
    "test_F[\"disease\"] = y_pred_F"
   ]
  },
  {
   "cell_type": "code",
   "execution_count": 47,
   "metadata": {},
   "outputs": [],
   "source": [
    "test_pred = pd.concat([test_M, test_F]).sort_values('No')"
   ]
  },
  {
   "cell_type": "code",
   "execution_count": 48,
   "metadata": {},
   "outputs": [],
   "source": [
    "y_pred = test_pred[\"disease\"]"
   ]
  },
  {
   "cell_type": "markdown",
   "metadata": {},
   "source": [
    "### データ出力"
   ]
  },
  {
   "cell_type": "code",
   "execution_count": 49,
   "metadata": {},
   "outputs": [],
   "source": [
    "ss = pd.read_csv('sample_submit.csv', header=None)"
   ]
  },
  {
   "cell_type": "code",
   "execution_count": 50,
   "metadata": {},
   "outputs": [],
   "source": [
    "ss[1] = y_pred\n",
    "ss.to_csv(\"lgb_submission.csv\", index=0, header=None)"
   ]
  }
 ],
 "metadata": {
  "kernelspec": {
   "display_name": "Python 3",
   "language": "python",
   "name": "python3"
  },
  "language_info": {
   "codemirror_mode": {
    "name": "ipython",
    "version": 3
   },
   "file_extension": ".py",
   "mimetype": "text/x-python",
   "name": "python",
   "nbconvert_exporter": "python",
   "pygments_lexer": "ipython3",
   "version": "3.7.7"
  }
 },
 "nbformat": 4,
 "nbformat_minor": 4
}
